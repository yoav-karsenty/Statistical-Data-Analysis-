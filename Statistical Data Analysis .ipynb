{
 "cells": [
  {
   "cell_type": "markdown",
   "metadata": {},
   "source": [
    "#                                      MEGALINE PROJECT"
   ]
  },
  {
   "cell_type": "markdown",
   "metadata": {},
   "source": [
    "In this project, i will investigate data for the telecom operator Megaline. The company offers its clients two prepaid plans, Surf and Ultimate. The commercial department wants to know which of the plans brings in more revenue in order to adjust the advertising budget.\n",
    "I am going to carry out a preliminary analysis of the plans based on a relatively small client selection. I have the data on 500 Megaline clients: who the clients are, where they're from, which plan they use, and the number of calls they made and text messages they sent in 2018. In the project, I will  analyze clients' behavior and determine which prepaid plan brings in more revenue.\n"
   ]
  },
  {
   "cell_type": "markdown",
   "metadata": {},
   "source": [
    "### Data Exploring"
   ]
  },
  {
   "cell_type": "code",
   "execution_count": 8,
   "metadata": {},
   "outputs": [],
   "source": [
    "# Loading all the libraries i will use:\n",
    "import pandas as pd\n",
    "import numpy as np\n",
    "import matplotlib.pyplot as plt\n",
    "import datetime\n",
    "import seaborn as sns\n",
    "import math \n",
    "from functools import reduce\n",
    "from scipy import stats as st\n",
    "import warnings\n",
    "warnings.filterwarnings(\"ignore\")\n",
    "import warnings\n",
    "import requests\n",
    "import io"
   ]
  },
  {
   "cell_type": "code",
   "execution_count": 10,
   "metadata": {},
   "outputs": [],
   "source": [
    "url_calls = \"https://raw.githubusercontent.com/yoav-karsenty/Statistical-Data-Analysis-/main/megaline_calls.csv\" \n",
    "\n",
    "url_messages = \"https://raw.githubusercontent.com/yoav-karsenty/Statistical-Data-Analysis-/main/megaline_messages.csv\" \n",
    "\n",
    "url_plans = \"https://raw.githubusercontent.com/yoav-karsenty/Statistical-Data-Analysis-/main/megaline_plans.csv\" \n",
    "\n",
    "\n",
    "download_calls = requests.get(url_calls).content\n",
    "download_internet = requests.get(url_internet).content\n",
    "download_users = requests.get(url_users).content\n",
    "download_messages = requests.get(url_messages).content\n",
    "download_plans = requests.get(url_plans).content\n",
    "\n",
    "# Reading the downloaded content and turning it into a pandas dataframe\n",
    "#saving the data frames as variables\n",
    "calls = pd.read_csv(io.StringIO(download_calls.decode('utf-8')))\n",
    "internet =pd.read_csv(io.StringIO(download_internet.decode('utf-8')))\n",
    "messages = pd.read_csv(io.StringIO(download_messages.decode('utf-8')))\n",
    "plans = pd.read_csv(io.StringIO(download_plans.decode('utf-8')))\n",
    "users = pd.read_csv(io.StringIO(download_users.decode('utf-8')))\n",
    "\n"
   ]
  },
  {
   "cell_type": "markdown",
   "metadata": {},
   "source": [
    "Next, i wil explore the datasets:"
   ]
  },
  {
   "cell_type": "code",
   "execution_count": 11,
   "metadata": {},
   "outputs": [
    {
     "name": "stdout",
     "output_type": "stream",
     "text": [
      "<class 'pandas.core.frame.DataFrame'>\n",
      "RangeIndex: 500 entries, 0 to 499\n",
      "Data columns (total 8 columns):\n",
      " #   Column      Non-Null Count  Dtype \n",
      "---  ------      --------------  ----- \n",
      " 0   user_id     500 non-null    int64 \n",
      " 1   first_name  500 non-null    object\n",
      " 2   last_name   500 non-null    object\n",
      " 3   age         500 non-null    int64 \n",
      " 4   city        500 non-null    object\n",
      " 5   reg_date    500 non-null    object\n",
      " 6   plan        500 non-null    object\n",
      " 7   churn_date  34 non-null     object\n",
      "dtypes: int64(2), object(6)\n",
      "memory usage: 31.4+ KB\n"
     ]
    }
   ],
   "source": [
    "users.info()"
   ]
  },
  {
   "cell_type": "code",
   "execution_count": 12,
   "metadata": {
    "scrolled": false
   },
   "outputs": [
    {
     "name": "stdout",
     "output_type": "stream",
     "text": [
      "<class 'pandas.core.frame.DataFrame'>\n",
      "RangeIndex: 137735 entries, 0 to 137734\n",
      "Data columns (total 4 columns):\n",
      " #   Column     Non-Null Count   Dtype  \n",
      "---  ------     --------------   -----  \n",
      " 0   id         137735 non-null  object \n",
      " 1   user_id    137735 non-null  int64  \n",
      " 2   call_date  137735 non-null  object \n",
      " 3   duration   137735 non-null  float64\n",
      "dtypes: float64(1), int64(1), object(2)\n",
      "memory usage: 4.2+ MB\n"
     ]
    }
   ],
   "source": [
    "calls.info()"
   ]
  },
  {
   "cell_type": "code",
   "execution_count": 13,
   "metadata": {},
   "outputs": [
    {
     "name": "stdout",
     "output_type": "stream",
     "text": [
      "<class 'pandas.core.frame.DataFrame'>\n",
      "RangeIndex: 76051 entries, 0 to 76050\n",
      "Data columns (total 3 columns):\n",
      " #   Column        Non-Null Count  Dtype \n",
      "---  ------        --------------  ----- \n",
      " 0   id            76051 non-null  object\n",
      " 1   user_id       76051 non-null  int64 \n",
      " 2   message_date  76051 non-null  object\n",
      "dtypes: int64(1), object(2)\n",
      "memory usage: 1.7+ MB\n"
     ]
    }
   ],
   "source": [
    "messages.info()"
   ]
  },
  {
   "cell_type": "code",
   "execution_count": 14,
   "metadata": {},
   "outputs": [
    {
     "name": "stdout",
     "output_type": "stream",
     "text": [
      "<class 'pandas.core.frame.DataFrame'>\n",
      "RangeIndex: 104825 entries, 0 to 104824\n",
      "Data columns (total 4 columns):\n",
      " #   Column        Non-Null Count   Dtype  \n",
      "---  ------        --------------   -----  \n",
      " 0   id            104825 non-null  object \n",
      " 1   user_id       104825 non-null  int64  \n",
      " 2   session_date  104825 non-null  object \n",
      " 3   mb_used       104825 non-null  float64\n",
      "dtypes: float64(1), int64(1), object(2)\n",
      "memory usage: 3.2+ MB\n"
     ]
    }
   ],
   "source": [
    "internet.info()"
   ]
  },
  {
   "cell_type": "code",
   "execution_count": 15,
   "metadata": {
    "scrolled": true
   },
   "outputs": [
    {
     "name": "stdout",
     "output_type": "stream",
     "text": [
      "<class 'pandas.core.frame.DataFrame'>\n",
      "RangeIndex: 2 entries, 0 to 1\n",
      "Data columns (total 8 columns):\n",
      " #   Column                 Non-Null Count  Dtype  \n",
      "---  ------                 --------------  -----  \n",
      " 0   messages_included      2 non-null      int64  \n",
      " 1   mb_per_month_included  2 non-null      int64  \n",
      " 2   minutes_included       2 non-null      int64  \n",
      " 3   usd_monthly_pay        2 non-null      int64  \n",
      " 4   usd_per_gb             2 non-null      int64  \n",
      " 5   usd_per_message        2 non-null      float64\n",
      " 6   usd_per_minute         2 non-null      float64\n",
      " 7   plan_name              2 non-null      object \n",
      "dtypes: float64(2), int64(5), object(1)\n",
      "memory usage: 256.0+ bytes\n"
     ]
    }
   ],
   "source": [
    "plans.info()"
   ]
  },
  {
   "cell_type": "code",
   "execution_count": 16,
   "metadata": {},
   "outputs": [
    {
     "data": {
      "text/html": [
       "<div>\n",
       "<style scoped>\n",
       "    .dataframe tbody tr th:only-of-type {\n",
       "        vertical-align: middle;\n",
       "    }\n",
       "\n",
       "    .dataframe tbody tr th {\n",
       "        vertical-align: top;\n",
       "    }\n",
       "\n",
       "    .dataframe thead th {\n",
       "        text-align: right;\n",
       "    }\n",
       "</style>\n",
       "<table border=\"1\" class=\"dataframe\">\n",
       "  <thead>\n",
       "    <tr style=\"text-align: right;\">\n",
       "      <th></th>\n",
       "      <th>id</th>\n",
       "      <th>user_id</th>\n",
       "      <th>call_date</th>\n",
       "      <th>duration</th>\n",
       "    </tr>\n",
       "  </thead>\n",
       "  <tbody>\n",
       "    <tr>\n",
       "      <th>0</th>\n",
       "      <td>1000_93</td>\n",
       "      <td>1000</td>\n",
       "      <td>2018-12-27</td>\n",
       "      <td>8.52</td>\n",
       "    </tr>\n",
       "    <tr>\n",
       "      <th>1</th>\n",
       "      <td>1000_145</td>\n",
       "      <td>1000</td>\n",
       "      <td>2018-12-27</td>\n",
       "      <td>13.66</td>\n",
       "    </tr>\n",
       "    <tr>\n",
       "      <th>2</th>\n",
       "      <td>1000_247</td>\n",
       "      <td>1000</td>\n",
       "      <td>2018-12-27</td>\n",
       "      <td>14.48</td>\n",
       "    </tr>\n",
       "    <tr>\n",
       "      <th>3</th>\n",
       "      <td>1000_309</td>\n",
       "      <td>1000</td>\n",
       "      <td>2018-12-28</td>\n",
       "      <td>5.76</td>\n",
       "    </tr>\n",
       "    <tr>\n",
       "      <th>4</th>\n",
       "      <td>1000_380</td>\n",
       "      <td>1000</td>\n",
       "      <td>2018-12-30</td>\n",
       "      <td>4.22</td>\n",
       "    </tr>\n",
       "    <tr>\n",
       "      <th>5</th>\n",
       "      <td>1000_388</td>\n",
       "      <td>1000</td>\n",
       "      <td>2018-12-31</td>\n",
       "      <td>2.20</td>\n",
       "    </tr>\n",
       "    <tr>\n",
       "      <th>6</th>\n",
       "      <td>1000_510</td>\n",
       "      <td>1000</td>\n",
       "      <td>2018-12-27</td>\n",
       "      <td>5.75</td>\n",
       "    </tr>\n",
       "    <tr>\n",
       "      <th>7</th>\n",
       "      <td>1000_521</td>\n",
       "      <td>1000</td>\n",
       "      <td>2018-12-28</td>\n",
       "      <td>14.18</td>\n",
       "    </tr>\n",
       "    <tr>\n",
       "      <th>8</th>\n",
       "      <td>1000_530</td>\n",
       "      <td>1000</td>\n",
       "      <td>2018-12-28</td>\n",
       "      <td>5.77</td>\n",
       "    </tr>\n",
       "    <tr>\n",
       "      <th>9</th>\n",
       "      <td>1000_544</td>\n",
       "      <td>1000</td>\n",
       "      <td>2018-12-26</td>\n",
       "      <td>4.40</td>\n",
       "    </tr>\n",
       "  </tbody>\n",
       "</table>\n",
       "</div>"
      ],
      "text/plain": [
       "         id  user_id   call_date  duration\n",
       "0   1000_93     1000  2018-12-27      8.52\n",
       "1  1000_145     1000  2018-12-27     13.66\n",
       "2  1000_247     1000  2018-12-27     14.48\n",
       "3  1000_309     1000  2018-12-28      5.76\n",
       "4  1000_380     1000  2018-12-30      4.22\n",
       "5  1000_388     1000  2018-12-31      2.20\n",
       "6  1000_510     1000  2018-12-27      5.75\n",
       "7  1000_521     1000  2018-12-28     14.18\n",
       "8  1000_530     1000  2018-12-28      5.77\n",
       "9  1000_544     1000  2018-12-26      4.40"
      ]
     },
     "execution_count": 16,
     "metadata": {},
     "output_type": "execute_result"
    }
   ],
   "source": [
    "calls.head(10)"
   ]
  },
  {
   "cell_type": "code",
   "execution_count": 17,
   "metadata": {
    "scrolled": false
   },
   "outputs": [
    {
     "data": {
      "text/html": [
       "<div>\n",
       "<style scoped>\n",
       "    .dataframe tbody tr th:only-of-type {\n",
       "        vertical-align: middle;\n",
       "    }\n",
       "\n",
       "    .dataframe tbody tr th {\n",
       "        vertical-align: top;\n",
       "    }\n",
       "\n",
       "    .dataframe thead th {\n",
       "        text-align: right;\n",
       "    }\n",
       "</style>\n",
       "<table border=\"1\" class=\"dataframe\">\n",
       "  <thead>\n",
       "    <tr style=\"text-align: right;\">\n",
       "      <th></th>\n",
       "      <th>id</th>\n",
       "      <th>user_id</th>\n",
       "      <th>call_date</th>\n",
       "      <th>duration</th>\n",
       "    </tr>\n",
       "  </thead>\n",
       "  <tbody>\n",
       "    <tr>\n",
       "      <th>19</th>\n",
       "      <td>1001_4</td>\n",
       "      <td>1001</td>\n",
       "      <td>2018-12-05</td>\n",
       "      <td>0.0</td>\n",
       "    </tr>\n",
       "    <tr>\n",
       "      <th>25</th>\n",
       "      <td>1001_13</td>\n",
       "      <td>1001</td>\n",
       "      <td>2018-12-24</td>\n",
       "      <td>0.0</td>\n",
       "    </tr>\n",
       "    <tr>\n",
       "      <th>31</th>\n",
       "      <td>1001_30</td>\n",
       "      <td>1001</td>\n",
       "      <td>2018-10-17</td>\n",
       "      <td>0.0</td>\n",
       "    </tr>\n",
       "    <tr>\n",
       "      <th>32</th>\n",
       "      <td>1001_31</td>\n",
       "      <td>1001</td>\n",
       "      <td>2018-11-03</td>\n",
       "      <td>0.0</td>\n",
       "    </tr>\n",
       "    <tr>\n",
       "      <th>34</th>\n",
       "      <td>1001_35</td>\n",
       "      <td>1001</td>\n",
       "      <td>2018-12-21</td>\n",
       "      <td>0.0</td>\n",
       "    </tr>\n",
       "    <tr>\n",
       "      <th>...</th>\n",
       "      <td>...</td>\n",
       "      <td>...</td>\n",
       "      <td>...</td>\n",
       "      <td>...</td>\n",
       "    </tr>\n",
       "    <tr>\n",
       "      <th>137714</th>\n",
       "      <td>1499_183</td>\n",
       "      <td>1499</td>\n",
       "      <td>2018-11-10</td>\n",
       "      <td>0.0</td>\n",
       "    </tr>\n",
       "    <tr>\n",
       "      <th>137715</th>\n",
       "      <td>1499_184</td>\n",
       "      <td>1499</td>\n",
       "      <td>2018-09-15</td>\n",
       "      <td>0.0</td>\n",
       "    </tr>\n",
       "    <tr>\n",
       "      <th>137720</th>\n",
       "      <td>1499_189</td>\n",
       "      <td>1499</td>\n",
       "      <td>2018-12-27</td>\n",
       "      <td>0.0</td>\n",
       "    </tr>\n",
       "    <tr>\n",
       "      <th>137722</th>\n",
       "      <td>1499_191</td>\n",
       "      <td>1499</td>\n",
       "      <td>2018-12-24</td>\n",
       "      <td>0.0</td>\n",
       "    </tr>\n",
       "    <tr>\n",
       "      <th>137725</th>\n",
       "      <td>1499_194</td>\n",
       "      <td>1499</td>\n",
       "      <td>2018-10-31</td>\n",
       "      <td>0.0</td>\n",
       "    </tr>\n",
       "  </tbody>\n",
       "</table>\n",
       "<p>26834 rows × 4 columns</p>\n",
       "</div>"
      ],
      "text/plain": [
       "              id  user_id   call_date  duration\n",
       "19        1001_4     1001  2018-12-05       0.0\n",
       "25       1001_13     1001  2018-12-24       0.0\n",
       "31       1001_30     1001  2018-10-17       0.0\n",
       "32       1001_31     1001  2018-11-03       0.0\n",
       "34       1001_35     1001  2018-12-21       0.0\n",
       "...          ...      ...         ...       ...\n",
       "137714  1499_183     1499  2018-11-10       0.0\n",
       "137715  1499_184     1499  2018-09-15       0.0\n",
       "137720  1499_189     1499  2018-12-27       0.0\n",
       "137722  1499_191     1499  2018-12-24       0.0\n",
       "137725  1499_194     1499  2018-10-31       0.0\n",
       "\n",
       "[26834 rows x 4 columns]"
      ]
     },
     "execution_count": 17,
     "metadata": {},
     "output_type": "execute_result"
    }
   ],
   "source": [
    "#checking if there are calls that lasted 0 seconds (unanswered calls or misdials)\n",
    "calls[calls.duration == 0]"
   ]
  },
  {
   "cell_type": "code",
   "execution_count": 18,
   "metadata": {},
   "outputs": [
    {
     "data": {
      "text/plain": [
       "0.1948233927469416"
      ]
     },
     "execution_count": 18,
     "metadata": {},
     "output_type": "execute_result"
    }
   ],
   "source": [
    "calls[calls.duration == 0].shape[0] / calls.shape[0]"
   ]
  },
  {
   "cell_type": "markdown",
   "metadata": {},
   "source": [
    "I see that the percentage of 0 seconds calls is pretty high and removing those rows will distort the data. \n",
    "On the other hand, i know the clients are charged by minutes and not by number of calls, so i can just leave those rows be.\n"
   ]
  },
  {
   "cell_type": "markdown",
   "metadata": {},
   "source": [
    "### Data Preparation "
   ]
  },
  {
   "cell_type": "markdown",
   "metadata": {},
   "source": [
    "Next, i want to add a 'month' column so i could calculate the revenue from each client for eac month. in order to do that i will check that all of our data is from the same year, and then i will write a function that could help me add the 'month' column in other datasets too."
   ]
  },
  {
   "cell_type": "code",
   "execution_count": 19,
   "metadata": {},
   "outputs": [
    {
     "data": {
      "text/plain": [
       "id             1000_145\n",
       "user_id            1000\n",
       "call_date    2018-01-15\n",
       "duration            0.0\n",
       "dtype: object"
      ]
     },
     "execution_count": 19,
     "metadata": {},
     "output_type": "execute_result"
    }
   ],
   "source": [
    "calls.min()"
   ]
  },
  {
   "cell_type": "code",
   "execution_count": 20,
   "metadata": {},
   "outputs": [
    {
     "data": {
      "text/plain": [
       "id              1499_99\n",
       "user_id            1499\n",
       "call_date    2018-12-31\n",
       "duration           37.6\n",
       "dtype: object"
      ]
     },
     "execution_count": 20,
     "metadata": {},
     "output_type": "execute_result"
    }
   ],
   "source": [
    "calls.max()"
   ]
  },
  {
   "cell_type": "code",
   "execution_count": 21,
   "metadata": {},
   "outputs": [],
   "source": [
    "def add_month(df,col):\n",
    "    df[col] = pd.to_datetime(df[col], format = '%Y-%m-%d' ) \n",
    "    df['month'] = pd.DatetimeIndex(df[col]).month\n",
    "    "
   ]
  },
  {
   "cell_type": "code",
   "execution_count": 22,
   "metadata": {},
   "outputs": [],
   "source": [
    "add_month(calls,'call_date')"
   ]
  },
  {
   "cell_type": "markdown",
   "metadata": {},
   "source": [
    "I know that Megaline rounds seconds up to minutes, and megabytes to gigabytes. For calls, each individual call is rounded up:if the call lasted one second or more , it will be counted as one minute. For web traffic, individual web sessions are not rounded up. Instead, the total for the month is rounded up. If someone uses 1025 megabytes this month, they will be charged for 2 gigabytes."
   ]
  },
  {
   "cell_type": "code",
   "execution_count": 23,
   "metadata": {},
   "outputs": [],
   "source": [
    "#Rounding up the calls\n",
    "calls['duration']=calls['duration'].apply(np.ceil)\n"
   ]
  },
  {
   "cell_type": "code",
   "execution_count": 24,
   "metadata": {},
   "outputs": [
    {
     "data": {
      "text/html": [
       "<div>\n",
       "<style scoped>\n",
       "    .dataframe tbody tr th:only-of-type {\n",
       "        vertical-align: middle;\n",
       "    }\n",
       "\n",
       "    .dataframe tbody tr th {\n",
       "        vertical-align: top;\n",
       "    }\n",
       "\n",
       "    .dataframe thead th {\n",
       "        text-align: right;\n",
       "    }\n",
       "</style>\n",
       "<table border=\"1\" class=\"dataframe\">\n",
       "  <thead>\n",
       "    <tr style=\"text-align: right;\">\n",
       "      <th></th>\n",
       "      <th>user_id</th>\n",
       "      <th>month</th>\n",
       "      <th>calls</th>\n",
       "      <th>duration</th>\n",
       "    </tr>\n",
       "  </thead>\n",
       "  <tbody>\n",
       "    <tr>\n",
       "      <th>0</th>\n",
       "      <td>1000</td>\n",
       "      <td>12</td>\n",
       "      <td>16</td>\n",
       "      <td>124.0</td>\n",
       "    </tr>\n",
       "    <tr>\n",
       "      <th>1</th>\n",
       "      <td>1001</td>\n",
       "      <td>8</td>\n",
       "      <td>27</td>\n",
       "      <td>182.0</td>\n",
       "    </tr>\n",
       "    <tr>\n",
       "      <th>2</th>\n",
       "      <td>1001</td>\n",
       "      <td>9</td>\n",
       "      <td>49</td>\n",
       "      <td>315.0</td>\n",
       "    </tr>\n",
       "    <tr>\n",
       "      <th>3</th>\n",
       "      <td>1001</td>\n",
       "      <td>10</td>\n",
       "      <td>65</td>\n",
       "      <td>393.0</td>\n",
       "    </tr>\n",
       "    <tr>\n",
       "      <th>4</th>\n",
       "      <td>1001</td>\n",
       "      <td>11</td>\n",
       "      <td>64</td>\n",
       "      <td>426.0</td>\n",
       "    </tr>\n",
       "  </tbody>\n",
       "</table>\n",
       "</div>"
      ],
      "text/plain": [
       "   user_id  month  calls  duration\n",
       "0     1000     12     16     124.0\n",
       "1     1001      8     27     182.0\n",
       "2     1001      9     49     315.0\n",
       "3     1001     10     65     393.0\n",
       "4     1001     11     64     426.0"
      ]
     },
     "execution_count": 24,
     "metadata": {},
     "output_type": "execute_result"
    }
   ],
   "source": [
    "#creating a pivot table that will calculate the number of calls and their duration per month.\n",
    "calls_sum_count = calls.pivot_table(\n",
    "    index = ('user_id','month'), \n",
    "    values = 'duration', \n",
    "    aggfunc = ('count','sum')).reset_index()\n",
    "calls_sum_count.columns = ['user_id','month','calls','duration']\n",
    "calls_sum_count.head()"
   ]
  },
  {
   "cell_type": "markdown",
   "metadata": {
    "scrolled": false
   },
   "source": [
    "Next i am going to do the exact same process with the messages dataset and the internet dataset:"
   ]
  },
  {
   "cell_type": "code",
   "execution_count": 25,
   "metadata": {},
   "outputs": [
    {
     "data": {
      "text/html": [
       "<div>\n",
       "<style scoped>\n",
       "    .dataframe tbody tr th:only-of-type {\n",
       "        vertical-align: middle;\n",
       "    }\n",
       "\n",
       "    .dataframe tbody tr th {\n",
       "        vertical-align: top;\n",
       "    }\n",
       "\n",
       "    .dataframe thead th {\n",
       "        text-align: right;\n",
       "    }\n",
       "</style>\n",
       "<table border=\"1\" class=\"dataframe\">\n",
       "  <thead>\n",
       "    <tr style=\"text-align: right;\">\n",
       "      <th></th>\n",
       "      <th>user_id</th>\n",
       "      <th>month</th>\n",
       "      <th>messages</th>\n",
       "    </tr>\n",
       "  </thead>\n",
       "  <tbody>\n",
       "    <tr>\n",
       "      <th>0</th>\n",
       "      <td>1000</td>\n",
       "      <td>12</td>\n",
       "      <td>11</td>\n",
       "    </tr>\n",
       "    <tr>\n",
       "      <th>1</th>\n",
       "      <td>1001</td>\n",
       "      <td>8</td>\n",
       "      <td>30</td>\n",
       "    </tr>\n",
       "    <tr>\n",
       "      <th>2</th>\n",
       "      <td>1001</td>\n",
       "      <td>9</td>\n",
       "      <td>44</td>\n",
       "    </tr>\n",
       "    <tr>\n",
       "      <th>3</th>\n",
       "      <td>1001</td>\n",
       "      <td>10</td>\n",
       "      <td>53</td>\n",
       "    </tr>\n",
       "    <tr>\n",
       "      <th>4</th>\n",
       "      <td>1001</td>\n",
       "      <td>11</td>\n",
       "      <td>36</td>\n",
       "    </tr>\n",
       "  </tbody>\n",
       "</table>\n",
       "</div>"
      ],
      "text/plain": [
       "   user_id  month  messages\n",
       "0     1000     12        11\n",
       "1     1001      8        30\n",
       "2     1001      9        44\n",
       "3     1001     10        53\n",
       "4     1001     11        36"
      ]
     },
     "execution_count": 25,
     "metadata": {},
     "output_type": "execute_result"
    }
   ],
   "source": [
    "#applyng the add_month functio and creating a pivot table:\n",
    "add_month(messages,'message_date')\n",
    "\n",
    "messages_count = messages.pivot_table(\n",
    "    index = ('user_id','month'), \n",
    "    values = 'id', \n",
    "    aggfunc = ('count')).reset_index()\n",
    "messages_count.head()\n",
    "messages_count.columns = ['user_id','month','messages']\n",
    "messages_count.head()\n"
   ]
  },
  {
   "cell_type": "code",
   "execution_count": 26,
   "metadata": {},
   "outputs": [
    {
     "data": {
      "text/html": [
       "<div>\n",
       "<style scoped>\n",
       "    .dataframe tbody tr th:only-of-type {\n",
       "        vertical-align: middle;\n",
       "    }\n",
       "\n",
       "    .dataframe tbody tr th {\n",
       "        vertical-align: top;\n",
       "    }\n",
       "\n",
       "    .dataframe thead th {\n",
       "        text-align: right;\n",
       "    }\n",
       "</style>\n",
       "<table border=\"1\" class=\"dataframe\">\n",
       "  <thead>\n",
       "    <tr style=\"text-align: right;\">\n",
       "      <th></th>\n",
       "      <th>user_id</th>\n",
       "      <th>month</th>\n",
       "      <th>mb_used</th>\n",
       "      <th>gigas</th>\n",
       "    </tr>\n",
       "  </thead>\n",
       "  <tbody>\n",
       "    <tr>\n",
       "      <th>0</th>\n",
       "      <td>1000</td>\n",
       "      <td>12</td>\n",
       "      <td>1901.47</td>\n",
       "      <td>2.0</td>\n",
       "    </tr>\n",
       "    <tr>\n",
       "      <th>1</th>\n",
       "      <td>1001</td>\n",
       "      <td>8</td>\n",
       "      <td>6919.15</td>\n",
       "      <td>7.0</td>\n",
       "    </tr>\n",
       "    <tr>\n",
       "      <th>2</th>\n",
       "      <td>1001</td>\n",
       "      <td>9</td>\n",
       "      <td>13314.82</td>\n",
       "      <td>14.0</td>\n",
       "    </tr>\n",
       "    <tr>\n",
       "      <th>3</th>\n",
       "      <td>1001</td>\n",
       "      <td>10</td>\n",
       "      <td>22330.49</td>\n",
       "      <td>23.0</td>\n",
       "    </tr>\n",
       "    <tr>\n",
       "      <th>4</th>\n",
       "      <td>1001</td>\n",
       "      <td>11</td>\n",
       "      <td>18504.30</td>\n",
       "      <td>19.0</td>\n",
       "    </tr>\n",
       "  </tbody>\n",
       "</table>\n",
       "</div>"
      ],
      "text/plain": [
       "   user_id  month   mb_used  gigas\n",
       "0     1000     12   1901.47    2.0\n",
       "1     1001      8   6919.15    7.0\n",
       "2     1001      9  13314.82   14.0\n",
       "3     1001     10  22330.49   23.0\n",
       "4     1001     11  18504.30   19.0"
      ]
     },
     "execution_count": 26,
     "metadata": {},
     "output_type": "execute_result"
    }
   ],
   "source": [
    "#applyng the add_month functio and creating a pivot table:\n",
    "\n",
    "add_month(internet,'session_date')\n",
    "internet_sum = internet.pivot_table(\n",
    "    index = ('user_id','month'), \n",
    "    values = 'mb_used', \n",
    "    aggfunc = ('sum')).reset_index()\n",
    "internet_sum['gigas'] = internet_sum['mb_used'] / 1000\n",
    "internet_sum['gigas'] = np.ceil(internet_sum['gigas'])\n",
    "internet_sum.head()"
   ]
  },
  {
   "cell_type": "markdown",
   "metadata": {},
   "source": [
    "Next, i will merge the datasets to i could have all the information in one dataframe:\n"
   ]
  },
  {
   "cell_type": "code",
   "execution_count": 27,
   "metadata": {},
   "outputs": [],
   "source": [
    "dfs = [calls_sum_count,messages_count,internet_sum]\n",
    "total_telecom = reduce(lambda  left,right:pd.merge(left,right,on = ['user_id','month'],how = 'outer'),dfs)"
   ]
  },
  {
   "cell_type": "code",
   "execution_count": 28,
   "metadata": {},
   "outputs": [
    {
     "data": {
      "text/html": [
       "<div>\n",
       "<style scoped>\n",
       "    .dataframe tbody tr th:only-of-type {\n",
       "        vertical-align: middle;\n",
       "    }\n",
       "\n",
       "    .dataframe tbody tr th {\n",
       "        vertical-align: top;\n",
       "    }\n",
       "\n",
       "    .dataframe thead th {\n",
       "        text-align: right;\n",
       "    }\n",
       "</style>\n",
       "<table border=\"1\" class=\"dataframe\">\n",
       "  <thead>\n",
       "    <tr style=\"text-align: right;\">\n",
       "      <th></th>\n",
       "      <th>user_id</th>\n",
       "      <th>month</th>\n",
       "      <th>calls</th>\n",
       "      <th>duration</th>\n",
       "      <th>messages</th>\n",
       "      <th>mb_used</th>\n",
       "      <th>gigas</th>\n",
       "    </tr>\n",
       "  </thead>\n",
       "  <tbody>\n",
       "    <tr>\n",
       "      <th>0</th>\n",
       "      <td>1000</td>\n",
       "      <td>12</td>\n",
       "      <td>16.0</td>\n",
       "      <td>124.0</td>\n",
       "      <td>11.0</td>\n",
       "      <td>1901.47</td>\n",
       "      <td>2.0</td>\n",
       "    </tr>\n",
       "    <tr>\n",
       "      <th>1</th>\n",
       "      <td>1001</td>\n",
       "      <td>8</td>\n",
       "      <td>27.0</td>\n",
       "      <td>182.0</td>\n",
       "      <td>30.0</td>\n",
       "      <td>6919.15</td>\n",
       "      <td>7.0</td>\n",
       "    </tr>\n",
       "    <tr>\n",
       "      <th>2</th>\n",
       "      <td>1001</td>\n",
       "      <td>9</td>\n",
       "      <td>49.0</td>\n",
       "      <td>315.0</td>\n",
       "      <td>44.0</td>\n",
       "      <td>13314.82</td>\n",
       "      <td>14.0</td>\n",
       "    </tr>\n",
       "    <tr>\n",
       "      <th>3</th>\n",
       "      <td>1001</td>\n",
       "      <td>10</td>\n",
       "      <td>65.0</td>\n",
       "      <td>393.0</td>\n",
       "      <td>53.0</td>\n",
       "      <td>22330.49</td>\n",
       "      <td>23.0</td>\n",
       "    </tr>\n",
       "    <tr>\n",
       "      <th>4</th>\n",
       "      <td>1001</td>\n",
       "      <td>11</td>\n",
       "      <td>64.0</td>\n",
       "      <td>426.0</td>\n",
       "      <td>36.0</td>\n",
       "      <td>18504.30</td>\n",
       "      <td>19.0</td>\n",
       "    </tr>\n",
       "  </tbody>\n",
       "</table>\n",
       "</div>"
      ],
      "text/plain": [
       "   user_id  month  calls  duration  messages   mb_used  gigas\n",
       "0     1000     12   16.0     124.0      11.0   1901.47    2.0\n",
       "1     1001      8   27.0     182.0      30.0   6919.15    7.0\n",
       "2     1001      9   49.0     315.0      44.0  13314.82   14.0\n",
       "3     1001     10   65.0     393.0      53.0  22330.49   23.0\n",
       "4     1001     11   64.0     426.0      36.0  18504.30   19.0"
      ]
     },
     "execution_count": 28,
     "metadata": {},
     "output_type": "execute_result"
    }
   ],
   "source": [
    "total_telecom.head()"
   ]
  },
  {
   "cell_type": "code",
   "execution_count": 29,
   "metadata": {},
   "outputs": [],
   "source": [
    "total_telecom = total_telecom.merge(right = users, on = 'user_id',how = 'outer' )"
   ]
  },
  {
   "cell_type": "code",
   "execution_count": 30,
   "metadata": {},
   "outputs": [
    {
     "data": {
      "text/html": [
       "<div>\n",
       "<style scoped>\n",
       "    .dataframe tbody tr th:only-of-type {\n",
       "        vertical-align: middle;\n",
       "    }\n",
       "\n",
       "    .dataframe tbody tr th {\n",
       "        vertical-align: top;\n",
       "    }\n",
       "\n",
       "    .dataframe thead th {\n",
       "        text-align: right;\n",
       "    }\n",
       "</style>\n",
       "<table border=\"1\" class=\"dataframe\">\n",
       "  <thead>\n",
       "    <tr style=\"text-align: right;\">\n",
       "      <th></th>\n",
       "      <th>user_id</th>\n",
       "      <th>month</th>\n",
       "      <th>calls</th>\n",
       "      <th>duration</th>\n",
       "      <th>messages</th>\n",
       "      <th>mb_used</th>\n",
       "      <th>gigas</th>\n",
       "      <th>first_name</th>\n",
       "      <th>last_name</th>\n",
       "      <th>age</th>\n",
       "      <th>city</th>\n",
       "      <th>reg_date</th>\n",
       "      <th>plan</th>\n",
       "      <th>churn_date</th>\n",
       "    </tr>\n",
       "  </thead>\n",
       "  <tbody>\n",
       "    <tr>\n",
       "      <th>0</th>\n",
       "      <td>1000</td>\n",
       "      <td>12.0</td>\n",
       "      <td>16.0</td>\n",
       "      <td>124.0</td>\n",
       "      <td>11.0</td>\n",
       "      <td>1901.47</td>\n",
       "      <td>2.0</td>\n",
       "      <td>Anamaria</td>\n",
       "      <td>Bauer</td>\n",
       "      <td>45</td>\n",
       "      <td>Atlanta-Sandy Springs-Roswell, GA MSA</td>\n",
       "      <td>2018-12-24</td>\n",
       "      <td>ultimate</td>\n",
       "      <td>NaN</td>\n",
       "    </tr>\n",
       "    <tr>\n",
       "      <th>1</th>\n",
       "      <td>1001</td>\n",
       "      <td>8.0</td>\n",
       "      <td>27.0</td>\n",
       "      <td>182.0</td>\n",
       "      <td>30.0</td>\n",
       "      <td>6919.15</td>\n",
       "      <td>7.0</td>\n",
       "      <td>Mickey</td>\n",
       "      <td>Wilkerson</td>\n",
       "      <td>28</td>\n",
       "      <td>Seattle-Tacoma-Bellevue, WA MSA</td>\n",
       "      <td>2018-08-13</td>\n",
       "      <td>surf</td>\n",
       "      <td>NaN</td>\n",
       "    </tr>\n",
       "    <tr>\n",
       "      <th>2</th>\n",
       "      <td>1001</td>\n",
       "      <td>9.0</td>\n",
       "      <td>49.0</td>\n",
       "      <td>315.0</td>\n",
       "      <td>44.0</td>\n",
       "      <td>13314.82</td>\n",
       "      <td>14.0</td>\n",
       "      <td>Mickey</td>\n",
       "      <td>Wilkerson</td>\n",
       "      <td>28</td>\n",
       "      <td>Seattle-Tacoma-Bellevue, WA MSA</td>\n",
       "      <td>2018-08-13</td>\n",
       "      <td>surf</td>\n",
       "      <td>NaN</td>\n",
       "    </tr>\n",
       "    <tr>\n",
       "      <th>3</th>\n",
       "      <td>1001</td>\n",
       "      <td>10.0</td>\n",
       "      <td>65.0</td>\n",
       "      <td>393.0</td>\n",
       "      <td>53.0</td>\n",
       "      <td>22330.49</td>\n",
       "      <td>23.0</td>\n",
       "      <td>Mickey</td>\n",
       "      <td>Wilkerson</td>\n",
       "      <td>28</td>\n",
       "      <td>Seattle-Tacoma-Bellevue, WA MSA</td>\n",
       "      <td>2018-08-13</td>\n",
       "      <td>surf</td>\n",
       "      <td>NaN</td>\n",
       "    </tr>\n",
       "    <tr>\n",
       "      <th>4</th>\n",
       "      <td>1001</td>\n",
       "      <td>11.0</td>\n",
       "      <td>64.0</td>\n",
       "      <td>426.0</td>\n",
       "      <td>36.0</td>\n",
       "      <td>18504.30</td>\n",
       "      <td>19.0</td>\n",
       "      <td>Mickey</td>\n",
       "      <td>Wilkerson</td>\n",
       "      <td>28</td>\n",
       "      <td>Seattle-Tacoma-Bellevue, WA MSA</td>\n",
       "      <td>2018-08-13</td>\n",
       "      <td>surf</td>\n",
       "      <td>NaN</td>\n",
       "    </tr>\n",
       "  </tbody>\n",
       "</table>\n",
       "</div>"
      ],
      "text/plain": [
       "   user_id  month  calls  duration  messages   mb_used  gigas first_name  \\\n",
       "0     1000   12.0   16.0     124.0      11.0   1901.47    2.0   Anamaria   \n",
       "1     1001    8.0   27.0     182.0      30.0   6919.15    7.0     Mickey   \n",
       "2     1001    9.0   49.0     315.0      44.0  13314.82   14.0     Mickey   \n",
       "3     1001   10.0   65.0     393.0      53.0  22330.49   23.0     Mickey   \n",
       "4     1001   11.0   64.0     426.0      36.0  18504.30   19.0     Mickey   \n",
       "\n",
       "   last_name  age                                   city    reg_date  \\\n",
       "0      Bauer   45  Atlanta-Sandy Springs-Roswell, GA MSA  2018-12-24   \n",
       "1  Wilkerson   28        Seattle-Tacoma-Bellevue, WA MSA  2018-08-13   \n",
       "2  Wilkerson   28        Seattle-Tacoma-Bellevue, WA MSA  2018-08-13   \n",
       "3  Wilkerson   28        Seattle-Tacoma-Bellevue, WA MSA  2018-08-13   \n",
       "4  Wilkerson   28        Seattle-Tacoma-Bellevue, WA MSA  2018-08-13   \n",
       "\n",
       "       plan churn_date  \n",
       "0  ultimate        NaN  \n",
       "1      surf        NaN  \n",
       "2      surf        NaN  \n",
       "3      surf        NaN  \n",
       "4      surf        NaN  "
      ]
     },
     "execution_count": 30,
     "metadata": {},
     "output_type": "execute_result"
    }
   ],
   "source": [
    "total_telecom.head()"
   ]
  },
  {
   "cell_type": "markdown",
   "metadata": {},
   "source": [
    "I have just one  problem with the dataframe i created: it only contains information on actions the clients made.I need to include data about users that assigned for plan but didn't use service ( they still need to pay monthly fee). in order to do that, i will check if this is a real issue, and if it is, i will add them to the dataframe."
   ]
  },
  {
   "cell_type": "code",
   "execution_count": 31,
   "metadata": {
    "scrolled": true
   },
   "outputs": [
    {
     "data": {
      "text/html": [
       "<div>\n",
       "<style scoped>\n",
       "    .dataframe tbody tr th:only-of-type {\n",
       "        vertical-align: middle;\n",
       "    }\n",
       "\n",
       "    .dataframe tbody tr th {\n",
       "        vertical-align: top;\n",
       "    }\n",
       "\n",
       "    .dataframe thead th {\n",
       "        text-align: right;\n",
       "    }\n",
       "</style>\n",
       "<table border=\"1\" class=\"dataframe\">\n",
       "  <thead>\n",
       "    <tr style=\"text-align: right;\">\n",
       "      <th></th>\n",
       "      <th>user_id</th>\n",
       "      <th>month</th>\n",
       "      <th>calls</th>\n",
       "      <th>duration</th>\n",
       "      <th>messages</th>\n",
       "      <th>mb_used</th>\n",
       "      <th>gigas</th>\n",
       "      <th>first_name</th>\n",
       "      <th>last_name</th>\n",
       "      <th>age</th>\n",
       "      <th>city</th>\n",
       "      <th>reg_date</th>\n",
       "      <th>plan</th>\n",
       "      <th>churn_date</th>\n",
       "    </tr>\n",
       "  </thead>\n",
       "  <tbody>\n",
       "    <tr>\n",
       "      <th>2293</th>\n",
       "      <td>1025</td>\n",
       "      <td>NaN</td>\n",
       "      <td>NaN</td>\n",
       "      <td>NaN</td>\n",
       "      <td>NaN</td>\n",
       "      <td>NaN</td>\n",
       "      <td>NaN</td>\n",
       "      <td>Jess</td>\n",
       "      <td>Wilkinson</td>\n",
       "      <td>64</td>\n",
       "      <td>Atlanta-Sandy Springs-Roswell, GA MSA</td>\n",
       "      <td>2018-10-28</td>\n",
       "      <td>ultimate</td>\n",
       "      <td>NaN</td>\n",
       "    </tr>\n",
       "    <tr>\n",
       "      <th>2294</th>\n",
       "      <td>1129</td>\n",
       "      <td>NaN</td>\n",
       "      <td>NaN</td>\n",
       "      <td>NaN</td>\n",
       "      <td>NaN</td>\n",
       "      <td>NaN</td>\n",
       "      <td>NaN</td>\n",
       "      <td>Marin</td>\n",
       "      <td>Bolton</td>\n",
       "      <td>70</td>\n",
       "      <td>Baton Rouge, LA MSA</td>\n",
       "      <td>2018-11-10</td>\n",
       "      <td>surf</td>\n",
       "      <td>2018-12-27</td>\n",
       "    </tr>\n",
       "    <tr>\n",
       "      <th>2295</th>\n",
       "      <td>1143</td>\n",
       "      <td>NaN</td>\n",
       "      <td>NaN</td>\n",
       "      <td>NaN</td>\n",
       "      <td>NaN</td>\n",
       "      <td>NaN</td>\n",
       "      <td>NaN</td>\n",
       "      <td>Lorina</td>\n",
       "      <td>Stevens</td>\n",
       "      <td>69</td>\n",
       "      <td>Cincinnati, OH-KY-IN MSA</td>\n",
       "      <td>2018-10-26</td>\n",
       "      <td>surf</td>\n",
       "      <td>NaN</td>\n",
       "    </tr>\n",
       "    <tr>\n",
       "      <th>2296</th>\n",
       "      <td>1269</td>\n",
       "      <td>NaN</td>\n",
       "      <td>NaN</td>\n",
       "      <td>NaN</td>\n",
       "      <td>NaN</td>\n",
       "      <td>NaN</td>\n",
       "      <td>NaN</td>\n",
       "      <td>Irving</td>\n",
       "      <td>Thompson</td>\n",
       "      <td>39</td>\n",
       "      <td>Dallas-Fort Worth-Arlington, TX MSA</td>\n",
       "      <td>2018-09-13</td>\n",
       "      <td>ultimate</td>\n",
       "      <td>2018-12-15</td>\n",
       "    </tr>\n",
       "    <tr>\n",
       "      <th>2297</th>\n",
       "      <td>1275</td>\n",
       "      <td>NaN</td>\n",
       "      <td>NaN</td>\n",
       "      <td>NaN</td>\n",
       "      <td>NaN</td>\n",
       "      <td>NaN</td>\n",
       "      <td>NaN</td>\n",
       "      <td>Elvie</td>\n",
       "      <td>Velazquez</td>\n",
       "      <td>33</td>\n",
       "      <td>New York-Newark-Jersey City, NY-NJ-PA MSA</td>\n",
       "      <td>2018-11-29</td>\n",
       "      <td>ultimate</td>\n",
       "      <td>NaN</td>\n",
       "    </tr>\n",
       "    <tr>\n",
       "      <th>2298</th>\n",
       "      <td>1307</td>\n",
       "      <td>NaN</td>\n",
       "      <td>NaN</td>\n",
       "      <td>NaN</td>\n",
       "      <td>NaN</td>\n",
       "      <td>NaN</td>\n",
       "      <td>NaN</td>\n",
       "      <td>Kristopher</td>\n",
       "      <td>Lang</td>\n",
       "      <td>28</td>\n",
       "      <td>Boston-Cambridge-Newton, MA-NH MSA</td>\n",
       "      <td>2018-12-31</td>\n",
       "      <td>surf</td>\n",
       "      <td>NaN</td>\n",
       "    </tr>\n",
       "    <tr>\n",
       "      <th>2299</th>\n",
       "      <td>1319</td>\n",
       "      <td>NaN</td>\n",
       "      <td>NaN</td>\n",
       "      <td>NaN</td>\n",
       "      <td>NaN</td>\n",
       "      <td>NaN</td>\n",
       "      <td>NaN</td>\n",
       "      <td>Eliseo</td>\n",
       "      <td>Carson</td>\n",
       "      <td>21</td>\n",
       "      <td>Colorado Springs, CO MSA</td>\n",
       "      <td>2018-06-17</td>\n",
       "      <td>surf</td>\n",
       "      <td>NaN</td>\n",
       "    </tr>\n",
       "    <tr>\n",
       "      <th>2300</th>\n",
       "      <td>1378</td>\n",
       "      <td>NaN</td>\n",
       "      <td>NaN</td>\n",
       "      <td>NaN</td>\n",
       "      <td>NaN</td>\n",
       "      <td>NaN</td>\n",
       "      <td>NaN</td>\n",
       "      <td>Mckinley</td>\n",
       "      <td>Clayton</td>\n",
       "      <td>22</td>\n",
       "      <td>Denver-Aurora-Lakewood, CO MSA</td>\n",
       "      <td>2018-12-17</td>\n",
       "      <td>surf</td>\n",
       "      <td>NaN</td>\n",
       "    </tr>\n",
       "    <tr>\n",
       "      <th>2301</th>\n",
       "      <td>1463</td>\n",
       "      <td>NaN</td>\n",
       "      <td>NaN</td>\n",
       "      <td>NaN</td>\n",
       "      <td>NaN</td>\n",
       "      <td>NaN</td>\n",
       "      <td>NaN</td>\n",
       "      <td>Dinorah</td>\n",
       "      <td>Simmons</td>\n",
       "      <td>30</td>\n",
       "      <td>Atlanta-Sandy Springs-Roswell, GA MSA</td>\n",
       "      <td>2018-11-27</td>\n",
       "      <td>ultimate</td>\n",
       "      <td>NaN</td>\n",
       "    </tr>\n",
       "    <tr>\n",
       "      <th>2302</th>\n",
       "      <td>1473</td>\n",
       "      <td>NaN</td>\n",
       "      <td>NaN</td>\n",
       "      <td>NaN</td>\n",
       "      <td>NaN</td>\n",
       "      <td>NaN</td>\n",
       "      <td>NaN</td>\n",
       "      <td>Kirk</td>\n",
       "      <td>Velez</td>\n",
       "      <td>61</td>\n",
       "      <td>Louisville/Jefferson County, KY-IN MSA</td>\n",
       "      <td>2018-12-31</td>\n",
       "      <td>surf</td>\n",
       "      <td>NaN</td>\n",
       "    </tr>\n",
       "  </tbody>\n",
       "</table>\n",
       "</div>"
      ],
      "text/plain": [
       "      user_id  month  calls  duration  messages  mb_used  gigas  first_name  \\\n",
       "2293     1025    NaN    NaN       NaN       NaN      NaN    NaN        Jess   \n",
       "2294     1129    NaN    NaN       NaN       NaN      NaN    NaN       Marin   \n",
       "2295     1143    NaN    NaN       NaN       NaN      NaN    NaN      Lorina   \n",
       "2296     1269    NaN    NaN       NaN       NaN      NaN    NaN      Irving   \n",
       "2297     1275    NaN    NaN       NaN       NaN      NaN    NaN       Elvie   \n",
       "2298     1307    NaN    NaN       NaN       NaN      NaN    NaN  Kristopher   \n",
       "2299     1319    NaN    NaN       NaN       NaN      NaN    NaN      Eliseo   \n",
       "2300     1378    NaN    NaN       NaN       NaN      NaN    NaN    Mckinley   \n",
       "2301     1463    NaN    NaN       NaN       NaN      NaN    NaN     Dinorah   \n",
       "2302     1473    NaN    NaN       NaN       NaN      NaN    NaN        Kirk   \n",
       "\n",
       "      last_name  age                                       city    reg_date  \\\n",
       "2293  Wilkinson   64      Atlanta-Sandy Springs-Roswell, GA MSA  2018-10-28   \n",
       "2294     Bolton   70                        Baton Rouge, LA MSA  2018-11-10   \n",
       "2295    Stevens   69                   Cincinnati, OH-KY-IN MSA  2018-10-26   \n",
       "2296   Thompson   39        Dallas-Fort Worth-Arlington, TX MSA  2018-09-13   \n",
       "2297  Velazquez   33  New York-Newark-Jersey City, NY-NJ-PA MSA  2018-11-29   \n",
       "2298       Lang   28         Boston-Cambridge-Newton, MA-NH MSA  2018-12-31   \n",
       "2299     Carson   21                   Colorado Springs, CO MSA  2018-06-17   \n",
       "2300    Clayton   22             Denver-Aurora-Lakewood, CO MSA  2018-12-17   \n",
       "2301    Simmons   30      Atlanta-Sandy Springs-Roswell, GA MSA  2018-11-27   \n",
       "2302      Velez   61     Louisville/Jefferson County, KY-IN MSA  2018-12-31   \n",
       "\n",
       "          plan  churn_date  \n",
       "2293  ultimate         NaN  \n",
       "2294      surf  2018-12-27  \n",
       "2295      surf         NaN  \n",
       "2296  ultimate  2018-12-15  \n",
       "2297  ultimate         NaN  \n",
       "2298      surf         NaN  \n",
       "2299      surf         NaN  \n",
       "2300      surf         NaN  \n",
       "2301  ultimate         NaN  \n",
       "2302      surf         NaN  "
      ]
     },
     "execution_count": 31,
     "metadata": {},
     "output_type": "execute_result"
    }
   ],
   "source": [
    "lost_users = total_telecom[(total_telecom['mb_used'].isnull()) & (total_telecom['messages'].isnull()) &(total_telecom['calls'].isnull()) ]\n",
    "lost_users"
   ]
  },
  {
   "cell_type": "code",
   "execution_count": 32,
   "metadata": {},
   "outputs": [
    {
     "data": {
      "text/html": [
       "<div>\n",
       "<style scoped>\n",
       "    .dataframe tbody tr th:only-of-type {\n",
       "        vertical-align: middle;\n",
       "    }\n",
       "\n",
       "    .dataframe tbody tr th {\n",
       "        vertical-align: top;\n",
       "    }\n",
       "\n",
       "    .dataframe thead th {\n",
       "        text-align: right;\n",
       "    }\n",
       "</style>\n",
       "<table border=\"1\" class=\"dataframe\">\n",
       "  <thead>\n",
       "    <tr style=\"text-align: right;\">\n",
       "      <th></th>\n",
       "      <th>user_id</th>\n",
       "      <th>month</th>\n",
       "      <th>calls</th>\n",
       "      <th>duration</th>\n",
       "      <th>messages</th>\n",
       "      <th>mb_used</th>\n",
       "      <th>gigas</th>\n",
       "      <th>first_name</th>\n",
       "      <th>last_name</th>\n",
       "      <th>age</th>\n",
       "      <th>city</th>\n",
       "      <th>reg_date</th>\n",
       "      <th>plan</th>\n",
       "      <th>churn_date</th>\n",
       "      <th>months_usage</th>\n",
       "    </tr>\n",
       "  </thead>\n",
       "  <tbody>\n",
       "    <tr>\n",
       "      <th>2293</th>\n",
       "      <td>1025</td>\n",
       "      <td>NaN</td>\n",
       "      <td>NaN</td>\n",
       "      <td>NaN</td>\n",
       "      <td>NaN</td>\n",
       "      <td>NaN</td>\n",
       "      <td>NaN</td>\n",
       "      <td>Jess</td>\n",
       "      <td>Wilkinson</td>\n",
       "      <td>64</td>\n",
       "      <td>Atlanta-Sandy Springs-Roswell, GA MSA</td>\n",
       "      <td>2018-10-28</td>\n",
       "      <td>ultimate</td>\n",
       "      <td>2018-12-31</td>\n",
       "      <td>3</td>\n",
       "    </tr>\n",
       "    <tr>\n",
       "      <th>2294</th>\n",
       "      <td>1129</td>\n",
       "      <td>NaN</td>\n",
       "      <td>NaN</td>\n",
       "      <td>NaN</td>\n",
       "      <td>NaN</td>\n",
       "      <td>NaN</td>\n",
       "      <td>NaN</td>\n",
       "      <td>Marin</td>\n",
       "      <td>Bolton</td>\n",
       "      <td>70</td>\n",
       "      <td>Baton Rouge, LA MSA</td>\n",
       "      <td>2018-11-10</td>\n",
       "      <td>surf</td>\n",
       "      <td>2018-12-27</td>\n",
       "      <td>2</td>\n",
       "    </tr>\n",
       "    <tr>\n",
       "      <th>2295</th>\n",
       "      <td>1143</td>\n",
       "      <td>NaN</td>\n",
       "      <td>NaN</td>\n",
       "      <td>NaN</td>\n",
       "      <td>NaN</td>\n",
       "      <td>NaN</td>\n",
       "      <td>NaN</td>\n",
       "      <td>Lorina</td>\n",
       "      <td>Stevens</td>\n",
       "      <td>69</td>\n",
       "      <td>Cincinnati, OH-KY-IN MSA</td>\n",
       "      <td>2018-10-26</td>\n",
       "      <td>surf</td>\n",
       "      <td>2018-12-31</td>\n",
       "      <td>3</td>\n",
       "    </tr>\n",
       "    <tr>\n",
       "      <th>2296</th>\n",
       "      <td>1269</td>\n",
       "      <td>NaN</td>\n",
       "      <td>NaN</td>\n",
       "      <td>NaN</td>\n",
       "      <td>NaN</td>\n",
       "      <td>NaN</td>\n",
       "      <td>NaN</td>\n",
       "      <td>Irving</td>\n",
       "      <td>Thompson</td>\n",
       "      <td>39</td>\n",
       "      <td>Dallas-Fort Worth-Arlington, TX MSA</td>\n",
       "      <td>2018-09-13</td>\n",
       "      <td>ultimate</td>\n",
       "      <td>2018-12-15</td>\n",
       "      <td>4</td>\n",
       "    </tr>\n",
       "    <tr>\n",
       "      <th>2297</th>\n",
       "      <td>1275</td>\n",
       "      <td>NaN</td>\n",
       "      <td>NaN</td>\n",
       "      <td>NaN</td>\n",
       "      <td>NaN</td>\n",
       "      <td>NaN</td>\n",
       "      <td>NaN</td>\n",
       "      <td>Elvie</td>\n",
       "      <td>Velazquez</td>\n",
       "      <td>33</td>\n",
       "      <td>New York-Newark-Jersey City, NY-NJ-PA MSA</td>\n",
       "      <td>2018-11-29</td>\n",
       "      <td>ultimate</td>\n",
       "      <td>2018-12-31</td>\n",
       "      <td>2</td>\n",
       "    </tr>\n",
       "    <tr>\n",
       "      <th>2298</th>\n",
       "      <td>1307</td>\n",
       "      <td>NaN</td>\n",
       "      <td>NaN</td>\n",
       "      <td>NaN</td>\n",
       "      <td>NaN</td>\n",
       "      <td>NaN</td>\n",
       "      <td>NaN</td>\n",
       "      <td>Kristopher</td>\n",
       "      <td>Lang</td>\n",
       "      <td>28</td>\n",
       "      <td>Boston-Cambridge-Newton, MA-NH MSA</td>\n",
       "      <td>2018-12-31</td>\n",
       "      <td>surf</td>\n",
       "      <td>2018-12-31</td>\n",
       "      <td>1</td>\n",
       "    </tr>\n",
       "    <tr>\n",
       "      <th>2299</th>\n",
       "      <td>1319</td>\n",
       "      <td>NaN</td>\n",
       "      <td>NaN</td>\n",
       "      <td>NaN</td>\n",
       "      <td>NaN</td>\n",
       "      <td>NaN</td>\n",
       "      <td>NaN</td>\n",
       "      <td>Eliseo</td>\n",
       "      <td>Carson</td>\n",
       "      <td>21</td>\n",
       "      <td>Colorado Springs, CO MSA</td>\n",
       "      <td>2018-06-17</td>\n",
       "      <td>surf</td>\n",
       "      <td>2018-12-31</td>\n",
       "      <td>7</td>\n",
       "    </tr>\n",
       "    <tr>\n",
       "      <th>2300</th>\n",
       "      <td>1378</td>\n",
       "      <td>NaN</td>\n",
       "      <td>NaN</td>\n",
       "      <td>NaN</td>\n",
       "      <td>NaN</td>\n",
       "      <td>NaN</td>\n",
       "      <td>NaN</td>\n",
       "      <td>Mckinley</td>\n",
       "      <td>Clayton</td>\n",
       "      <td>22</td>\n",
       "      <td>Denver-Aurora-Lakewood, CO MSA</td>\n",
       "      <td>2018-12-17</td>\n",
       "      <td>surf</td>\n",
       "      <td>2018-12-31</td>\n",
       "      <td>1</td>\n",
       "    </tr>\n",
       "    <tr>\n",
       "      <th>2301</th>\n",
       "      <td>1463</td>\n",
       "      <td>NaN</td>\n",
       "      <td>NaN</td>\n",
       "      <td>NaN</td>\n",
       "      <td>NaN</td>\n",
       "      <td>NaN</td>\n",
       "      <td>NaN</td>\n",
       "      <td>Dinorah</td>\n",
       "      <td>Simmons</td>\n",
       "      <td>30</td>\n",
       "      <td>Atlanta-Sandy Springs-Roswell, GA MSA</td>\n",
       "      <td>2018-11-27</td>\n",
       "      <td>ultimate</td>\n",
       "      <td>2018-12-31</td>\n",
       "      <td>2</td>\n",
       "    </tr>\n",
       "    <tr>\n",
       "      <th>2302</th>\n",
       "      <td>1473</td>\n",
       "      <td>NaN</td>\n",
       "      <td>NaN</td>\n",
       "      <td>NaN</td>\n",
       "      <td>NaN</td>\n",
       "      <td>NaN</td>\n",
       "      <td>NaN</td>\n",
       "      <td>Kirk</td>\n",
       "      <td>Velez</td>\n",
       "      <td>61</td>\n",
       "      <td>Louisville/Jefferson County, KY-IN MSA</td>\n",
       "      <td>2018-12-31</td>\n",
       "      <td>surf</td>\n",
       "      <td>2018-12-31</td>\n",
       "      <td>1</td>\n",
       "    </tr>\n",
       "  </tbody>\n",
       "</table>\n",
       "</div>"
      ],
      "text/plain": [
       "      user_id  month  calls  duration  messages  mb_used  gigas  first_name  \\\n",
       "2293     1025    NaN    NaN       NaN       NaN      NaN    NaN        Jess   \n",
       "2294     1129    NaN    NaN       NaN       NaN      NaN    NaN       Marin   \n",
       "2295     1143    NaN    NaN       NaN       NaN      NaN    NaN      Lorina   \n",
       "2296     1269    NaN    NaN       NaN       NaN      NaN    NaN      Irving   \n",
       "2297     1275    NaN    NaN       NaN       NaN      NaN    NaN       Elvie   \n",
       "2298     1307    NaN    NaN       NaN       NaN      NaN    NaN  Kristopher   \n",
       "2299     1319    NaN    NaN       NaN       NaN      NaN    NaN      Eliseo   \n",
       "2300     1378    NaN    NaN       NaN       NaN      NaN    NaN    Mckinley   \n",
       "2301     1463    NaN    NaN       NaN       NaN      NaN    NaN     Dinorah   \n",
       "2302     1473    NaN    NaN       NaN       NaN      NaN    NaN        Kirk   \n",
       "\n",
       "      last_name  age                                       city    reg_date  \\\n",
       "2293  Wilkinson   64      Atlanta-Sandy Springs-Roswell, GA MSA  2018-10-28   \n",
       "2294     Bolton   70                        Baton Rouge, LA MSA  2018-11-10   \n",
       "2295    Stevens   69                   Cincinnati, OH-KY-IN MSA  2018-10-26   \n",
       "2296   Thompson   39        Dallas-Fort Worth-Arlington, TX MSA  2018-09-13   \n",
       "2297  Velazquez   33  New York-Newark-Jersey City, NY-NJ-PA MSA  2018-11-29   \n",
       "2298       Lang   28         Boston-Cambridge-Newton, MA-NH MSA  2018-12-31   \n",
       "2299     Carson   21                   Colorado Springs, CO MSA  2018-06-17   \n",
       "2300    Clayton   22             Denver-Aurora-Lakewood, CO MSA  2018-12-17   \n",
       "2301    Simmons   30      Atlanta-Sandy Springs-Roswell, GA MSA  2018-11-27   \n",
       "2302      Velez   61     Louisville/Jefferson County, KY-IN MSA  2018-12-31   \n",
       "\n",
       "          plan  churn_date  months_usage  \n",
       "2293  ultimate  2018-12-31             3  \n",
       "2294      surf  2018-12-27             2  \n",
       "2295      surf  2018-12-31             3  \n",
       "2296  ultimate  2018-12-15             4  \n",
       "2297  ultimate  2018-12-31             2  \n",
       "2298      surf  2018-12-31             1  \n",
       "2299      surf  2018-12-31             7  \n",
       "2300      surf  2018-12-31             1  \n",
       "2301  ultimate  2018-12-31             2  \n",
       "2302      surf  2018-12-31             1  "
      ]
     },
     "execution_count": 32,
     "metadata": {},
     "output_type": "execute_result"
    }
   ],
   "source": [
    "#calculating the number of month they used, assuming that we need it till the end of 2018\n",
    "lost_users['churn_date']=lost_users['churn_date'].fillna('2018-12-31')\n",
    "lost_users['months_usage']=(pd.to_datetime(lost_users['churn_date'])-pd.to_datetime(lost_users['reg_date']))\n",
    "lost_users['months_usage']=lost_users['months_usage'].apply(lambda x: int(x/np.timedelta64(1, 'M'))+1)\n",
    "lost_users"
   ]
  },
  {
   "cell_type": "code",
   "execution_count": 33,
   "metadata": {},
   "outputs": [
    {
     "data": {
      "text/html": [
       "<div>\n",
       "<style scoped>\n",
       "    .dataframe tbody tr th:only-of-type {\n",
       "        vertical-align: middle;\n",
       "    }\n",
       "\n",
       "    .dataframe tbody tr th {\n",
       "        vertical-align: top;\n",
       "    }\n",
       "\n",
       "    .dataframe thead th {\n",
       "        text-align: right;\n",
       "    }\n",
       "</style>\n",
       "<table border=\"1\" class=\"dataframe\">\n",
       "  <thead>\n",
       "    <tr style=\"text-align: right;\">\n",
       "      <th></th>\n",
       "      <th>user_id</th>\n",
       "      <th>month</th>\n",
       "      <th>calls</th>\n",
       "      <th>duration</th>\n",
       "      <th>messages</th>\n",
       "      <th>mb_used</th>\n",
       "      <th>gigas</th>\n",
       "      <th>first_name</th>\n",
       "      <th>last_name</th>\n",
       "      <th>age</th>\n",
       "      <th>city</th>\n",
       "      <th>reg_date</th>\n",
       "      <th>plan</th>\n",
       "      <th>churn_date</th>\n",
       "      <th>months_usage</th>\n",
       "      <th>months_count</th>\n",
       "    </tr>\n",
       "  </thead>\n",
       "  <tbody>\n",
       "    <tr>\n",
       "      <th>2293</th>\n",
       "      <td>1025</td>\n",
       "      <td>NaN</td>\n",
       "      <td>NaN</td>\n",
       "      <td>NaN</td>\n",
       "      <td>NaN</td>\n",
       "      <td>NaN</td>\n",
       "      <td>NaN</td>\n",
       "      <td>Jess</td>\n",
       "      <td>Wilkinson</td>\n",
       "      <td>64</td>\n",
       "      <td>Atlanta-Sandy Springs-Roswell, GA MSA</td>\n",
       "      <td>2018-10-28</td>\n",
       "      <td>ultimate</td>\n",
       "      <td>2018-12-31</td>\n",
       "      <td>3</td>\n",
       "      <td>1</td>\n",
       "    </tr>\n",
       "    <tr>\n",
       "      <th>2294</th>\n",
       "      <td>1129</td>\n",
       "      <td>NaN</td>\n",
       "      <td>NaN</td>\n",
       "      <td>NaN</td>\n",
       "      <td>NaN</td>\n",
       "      <td>NaN</td>\n",
       "      <td>NaN</td>\n",
       "      <td>Marin</td>\n",
       "      <td>Bolton</td>\n",
       "      <td>70</td>\n",
       "      <td>Baton Rouge, LA MSA</td>\n",
       "      <td>2018-11-10</td>\n",
       "      <td>surf</td>\n",
       "      <td>2018-12-27</td>\n",
       "      <td>2</td>\n",
       "      <td>1</td>\n",
       "    </tr>\n",
       "    <tr>\n",
       "      <th>2295</th>\n",
       "      <td>1143</td>\n",
       "      <td>NaN</td>\n",
       "      <td>NaN</td>\n",
       "      <td>NaN</td>\n",
       "      <td>NaN</td>\n",
       "      <td>NaN</td>\n",
       "      <td>NaN</td>\n",
       "      <td>Lorina</td>\n",
       "      <td>Stevens</td>\n",
       "      <td>69</td>\n",
       "      <td>Cincinnati, OH-KY-IN MSA</td>\n",
       "      <td>2018-10-26</td>\n",
       "      <td>surf</td>\n",
       "      <td>2018-12-31</td>\n",
       "      <td>3</td>\n",
       "      <td>1</td>\n",
       "    </tr>\n",
       "    <tr>\n",
       "      <th>2296</th>\n",
       "      <td>1269</td>\n",
       "      <td>NaN</td>\n",
       "      <td>NaN</td>\n",
       "      <td>NaN</td>\n",
       "      <td>NaN</td>\n",
       "      <td>NaN</td>\n",
       "      <td>NaN</td>\n",
       "      <td>Irving</td>\n",
       "      <td>Thompson</td>\n",
       "      <td>39</td>\n",
       "      <td>Dallas-Fort Worth-Arlington, TX MSA</td>\n",
       "      <td>2018-09-13</td>\n",
       "      <td>ultimate</td>\n",
       "      <td>2018-12-15</td>\n",
       "      <td>4</td>\n",
       "      <td>1</td>\n",
       "    </tr>\n",
       "    <tr>\n",
       "      <th>2297</th>\n",
       "      <td>1275</td>\n",
       "      <td>NaN</td>\n",
       "      <td>NaN</td>\n",
       "      <td>NaN</td>\n",
       "      <td>NaN</td>\n",
       "      <td>NaN</td>\n",
       "      <td>NaN</td>\n",
       "      <td>Elvie</td>\n",
       "      <td>Velazquez</td>\n",
       "      <td>33</td>\n",
       "      <td>New York-Newark-Jersey City, NY-NJ-PA MSA</td>\n",
       "      <td>2018-11-29</td>\n",
       "      <td>ultimate</td>\n",
       "      <td>2018-12-31</td>\n",
       "      <td>2</td>\n",
       "      <td>1</td>\n",
       "    </tr>\n",
       "    <tr>\n",
       "      <th>2298</th>\n",
       "      <td>1307</td>\n",
       "      <td>NaN</td>\n",
       "      <td>NaN</td>\n",
       "      <td>NaN</td>\n",
       "      <td>NaN</td>\n",
       "      <td>NaN</td>\n",
       "      <td>NaN</td>\n",
       "      <td>Kristopher</td>\n",
       "      <td>Lang</td>\n",
       "      <td>28</td>\n",
       "      <td>Boston-Cambridge-Newton, MA-NH MSA</td>\n",
       "      <td>2018-12-31</td>\n",
       "      <td>surf</td>\n",
       "      <td>2018-12-31</td>\n",
       "      <td>1</td>\n",
       "      <td>1</td>\n",
       "    </tr>\n",
       "    <tr>\n",
       "      <th>2299</th>\n",
       "      <td>1319</td>\n",
       "      <td>NaN</td>\n",
       "      <td>NaN</td>\n",
       "      <td>NaN</td>\n",
       "      <td>NaN</td>\n",
       "      <td>NaN</td>\n",
       "      <td>NaN</td>\n",
       "      <td>Eliseo</td>\n",
       "      <td>Carson</td>\n",
       "      <td>21</td>\n",
       "      <td>Colorado Springs, CO MSA</td>\n",
       "      <td>2018-06-17</td>\n",
       "      <td>surf</td>\n",
       "      <td>2018-12-31</td>\n",
       "      <td>7</td>\n",
       "      <td>1</td>\n",
       "    </tr>\n",
       "    <tr>\n",
       "      <th>2300</th>\n",
       "      <td>1378</td>\n",
       "      <td>NaN</td>\n",
       "      <td>NaN</td>\n",
       "      <td>NaN</td>\n",
       "      <td>NaN</td>\n",
       "      <td>NaN</td>\n",
       "      <td>NaN</td>\n",
       "      <td>Mckinley</td>\n",
       "      <td>Clayton</td>\n",
       "      <td>22</td>\n",
       "      <td>Denver-Aurora-Lakewood, CO MSA</td>\n",
       "      <td>2018-12-17</td>\n",
       "      <td>surf</td>\n",
       "      <td>2018-12-31</td>\n",
       "      <td>1</td>\n",
       "      <td>1</td>\n",
       "    </tr>\n",
       "    <tr>\n",
       "      <th>2301</th>\n",
       "      <td>1463</td>\n",
       "      <td>NaN</td>\n",
       "      <td>NaN</td>\n",
       "      <td>NaN</td>\n",
       "      <td>NaN</td>\n",
       "      <td>NaN</td>\n",
       "      <td>NaN</td>\n",
       "      <td>Dinorah</td>\n",
       "      <td>Simmons</td>\n",
       "      <td>30</td>\n",
       "      <td>Atlanta-Sandy Springs-Roswell, GA MSA</td>\n",
       "      <td>2018-11-27</td>\n",
       "      <td>ultimate</td>\n",
       "      <td>2018-12-31</td>\n",
       "      <td>2</td>\n",
       "      <td>1</td>\n",
       "    </tr>\n",
       "    <tr>\n",
       "      <th>2302</th>\n",
       "      <td>1473</td>\n",
       "      <td>NaN</td>\n",
       "      <td>NaN</td>\n",
       "      <td>NaN</td>\n",
       "      <td>NaN</td>\n",
       "      <td>NaN</td>\n",
       "      <td>NaN</td>\n",
       "      <td>Kirk</td>\n",
       "      <td>Velez</td>\n",
       "      <td>61</td>\n",
       "      <td>Louisville/Jefferson County, KY-IN MSA</td>\n",
       "      <td>2018-12-31</td>\n",
       "      <td>surf</td>\n",
       "      <td>2018-12-31</td>\n",
       "      <td>1</td>\n",
       "      <td>1</td>\n",
       "    </tr>\n",
       "  </tbody>\n",
       "</table>\n",
       "</div>"
      ],
      "text/plain": [
       "      user_id  month  calls  duration  messages  mb_used  gigas  first_name  \\\n",
       "2293     1025    NaN    NaN       NaN       NaN      NaN    NaN        Jess   \n",
       "2294     1129    NaN    NaN       NaN       NaN      NaN    NaN       Marin   \n",
       "2295     1143    NaN    NaN       NaN       NaN      NaN    NaN      Lorina   \n",
       "2296     1269    NaN    NaN       NaN       NaN      NaN    NaN      Irving   \n",
       "2297     1275    NaN    NaN       NaN       NaN      NaN    NaN       Elvie   \n",
       "2298     1307    NaN    NaN       NaN       NaN      NaN    NaN  Kristopher   \n",
       "2299     1319    NaN    NaN       NaN       NaN      NaN    NaN      Eliseo   \n",
       "2300     1378    NaN    NaN       NaN       NaN      NaN    NaN    Mckinley   \n",
       "2301     1463    NaN    NaN       NaN       NaN      NaN    NaN     Dinorah   \n",
       "2302     1473    NaN    NaN       NaN       NaN      NaN    NaN        Kirk   \n",
       "\n",
       "      last_name  age                                       city    reg_date  \\\n",
       "2293  Wilkinson   64      Atlanta-Sandy Springs-Roswell, GA MSA  2018-10-28   \n",
       "2294     Bolton   70                        Baton Rouge, LA MSA  2018-11-10   \n",
       "2295    Stevens   69                   Cincinnati, OH-KY-IN MSA  2018-10-26   \n",
       "2296   Thompson   39        Dallas-Fort Worth-Arlington, TX MSA  2018-09-13   \n",
       "2297  Velazquez   33  New York-Newark-Jersey City, NY-NJ-PA MSA  2018-11-29   \n",
       "2298       Lang   28         Boston-Cambridge-Newton, MA-NH MSA  2018-12-31   \n",
       "2299     Carson   21                   Colorado Springs, CO MSA  2018-06-17   \n",
       "2300    Clayton   22             Denver-Aurora-Lakewood, CO MSA  2018-12-17   \n",
       "2301    Simmons   30      Atlanta-Sandy Springs-Roswell, GA MSA  2018-11-27   \n",
       "2302      Velez   61     Louisville/Jefferson County, KY-IN MSA  2018-12-31   \n",
       "\n",
       "          plan  churn_date  months_usage  months_count  \n",
       "2293  ultimate  2018-12-31             3             1  \n",
       "2294      surf  2018-12-27             2             1  \n",
       "2295      surf  2018-12-31             3             1  \n",
       "2296  ultimate  2018-12-15             4             1  \n",
       "2297  ultimate  2018-12-31             2             1  \n",
       "2298      surf  2018-12-31             1             1  \n",
       "2299      surf  2018-12-31             7             1  \n",
       "2300      surf  2018-12-31             1             1  \n",
       "2301  ultimate  2018-12-31             2             1  \n",
       "2302      surf  2018-12-31             1             1  "
      ]
     },
     "execution_count": 33,
     "metadata": {},
     "output_type": "execute_result"
    }
   ],
   "source": [
    "#creating a month count column i will later use:\n",
    "lost_users['months_count']=lost_users['plan'].apply(lambda x: 1 )\n",
    "lost_users"
   ]
  },
  {
   "cell_type": "code",
   "execution_count": 34,
   "metadata": {
    "scrolled": true
   },
   "outputs": [
    {
     "data": {
      "text/html": [
       "<div>\n",
       "<style scoped>\n",
       "    .dataframe tbody tr th:only-of-type {\n",
       "        vertical-align: middle;\n",
       "    }\n",
       "\n",
       "    .dataframe tbody tr th {\n",
       "        vertical-align: top;\n",
       "    }\n",
       "\n",
       "    .dataframe thead th {\n",
       "        text-align: right;\n",
       "    }\n",
       "</style>\n",
       "<table border=\"1\" class=\"dataframe\">\n",
       "  <thead>\n",
       "    <tr style=\"text-align: right;\">\n",
       "      <th></th>\n",
       "      <th>user_id</th>\n",
       "      <th>month</th>\n",
       "      <th>calls</th>\n",
       "      <th>duration</th>\n",
       "      <th>messages</th>\n",
       "      <th>mb_used</th>\n",
       "      <th>gigas</th>\n",
       "      <th>first_name</th>\n",
       "      <th>last_name</th>\n",
       "      <th>age</th>\n",
       "      <th>city</th>\n",
       "      <th>reg_date</th>\n",
       "      <th>plan</th>\n",
       "      <th>churn_date</th>\n",
       "      <th>months_usage</th>\n",
       "      <th>months_count</th>\n",
       "      <th>list_count</th>\n",
       "    </tr>\n",
       "  </thead>\n",
       "  <tbody>\n",
       "    <tr>\n",
       "      <th>2293</th>\n",
       "      <td>1025</td>\n",
       "      <td>NaN</td>\n",
       "      <td>NaN</td>\n",
       "      <td>NaN</td>\n",
       "      <td>NaN</td>\n",
       "      <td>NaN</td>\n",
       "      <td>NaN</td>\n",
       "      <td>Jess</td>\n",
       "      <td>Wilkinson</td>\n",
       "      <td>64</td>\n",
       "      <td>Atlanta-Sandy Springs-Roswell, GA MSA</td>\n",
       "      <td>2018-10-28</td>\n",
       "      <td>ultimate</td>\n",
       "      <td>2018-12-31</td>\n",
       "      <td>3</td>\n",
       "      <td>1</td>\n",
       "      <td>[1, 1, 1]</td>\n",
       "    </tr>\n",
       "    <tr>\n",
       "      <th>2294</th>\n",
       "      <td>1129</td>\n",
       "      <td>NaN</td>\n",
       "      <td>NaN</td>\n",
       "      <td>NaN</td>\n",
       "      <td>NaN</td>\n",
       "      <td>NaN</td>\n",
       "      <td>NaN</td>\n",
       "      <td>Marin</td>\n",
       "      <td>Bolton</td>\n",
       "      <td>70</td>\n",
       "      <td>Baton Rouge, LA MSA</td>\n",
       "      <td>2018-11-10</td>\n",
       "      <td>surf</td>\n",
       "      <td>2018-12-27</td>\n",
       "      <td>2</td>\n",
       "      <td>1</td>\n",
       "      <td>[1, 1]</td>\n",
       "    </tr>\n",
       "    <tr>\n",
       "      <th>2295</th>\n",
       "      <td>1143</td>\n",
       "      <td>NaN</td>\n",
       "      <td>NaN</td>\n",
       "      <td>NaN</td>\n",
       "      <td>NaN</td>\n",
       "      <td>NaN</td>\n",
       "      <td>NaN</td>\n",
       "      <td>Lorina</td>\n",
       "      <td>Stevens</td>\n",
       "      <td>69</td>\n",
       "      <td>Cincinnati, OH-KY-IN MSA</td>\n",
       "      <td>2018-10-26</td>\n",
       "      <td>surf</td>\n",
       "      <td>2018-12-31</td>\n",
       "      <td>3</td>\n",
       "      <td>1</td>\n",
       "      <td>[1, 1, 1]</td>\n",
       "    </tr>\n",
       "    <tr>\n",
       "      <th>2296</th>\n",
       "      <td>1269</td>\n",
       "      <td>NaN</td>\n",
       "      <td>NaN</td>\n",
       "      <td>NaN</td>\n",
       "      <td>NaN</td>\n",
       "      <td>NaN</td>\n",
       "      <td>NaN</td>\n",
       "      <td>Irving</td>\n",
       "      <td>Thompson</td>\n",
       "      <td>39</td>\n",
       "      <td>Dallas-Fort Worth-Arlington, TX MSA</td>\n",
       "      <td>2018-09-13</td>\n",
       "      <td>ultimate</td>\n",
       "      <td>2018-12-15</td>\n",
       "      <td>4</td>\n",
       "      <td>1</td>\n",
       "      <td>[1, 1, 1, 1]</td>\n",
       "    </tr>\n",
       "    <tr>\n",
       "      <th>2297</th>\n",
       "      <td>1275</td>\n",
       "      <td>NaN</td>\n",
       "      <td>NaN</td>\n",
       "      <td>NaN</td>\n",
       "      <td>NaN</td>\n",
       "      <td>NaN</td>\n",
       "      <td>NaN</td>\n",
       "      <td>Elvie</td>\n",
       "      <td>Velazquez</td>\n",
       "      <td>33</td>\n",
       "      <td>New York-Newark-Jersey City, NY-NJ-PA MSA</td>\n",
       "      <td>2018-11-29</td>\n",
       "      <td>ultimate</td>\n",
       "      <td>2018-12-31</td>\n",
       "      <td>2</td>\n",
       "      <td>1</td>\n",
       "      <td>[1, 1]</td>\n",
       "    </tr>\n",
       "    <tr>\n",
       "      <th>2298</th>\n",
       "      <td>1307</td>\n",
       "      <td>NaN</td>\n",
       "      <td>NaN</td>\n",
       "      <td>NaN</td>\n",
       "      <td>NaN</td>\n",
       "      <td>NaN</td>\n",
       "      <td>NaN</td>\n",
       "      <td>Kristopher</td>\n",
       "      <td>Lang</td>\n",
       "      <td>28</td>\n",
       "      <td>Boston-Cambridge-Newton, MA-NH MSA</td>\n",
       "      <td>2018-12-31</td>\n",
       "      <td>surf</td>\n",
       "      <td>2018-12-31</td>\n",
       "      <td>1</td>\n",
       "      <td>1</td>\n",
       "      <td>[1]</td>\n",
       "    </tr>\n",
       "    <tr>\n",
       "      <th>2299</th>\n",
       "      <td>1319</td>\n",
       "      <td>NaN</td>\n",
       "      <td>NaN</td>\n",
       "      <td>NaN</td>\n",
       "      <td>NaN</td>\n",
       "      <td>NaN</td>\n",
       "      <td>NaN</td>\n",
       "      <td>Eliseo</td>\n",
       "      <td>Carson</td>\n",
       "      <td>21</td>\n",
       "      <td>Colorado Springs, CO MSA</td>\n",
       "      <td>2018-06-17</td>\n",
       "      <td>surf</td>\n",
       "      <td>2018-12-31</td>\n",
       "      <td>7</td>\n",
       "      <td>1</td>\n",
       "      <td>[1, 1, 1, 1, 1, 1, 1]</td>\n",
       "    </tr>\n",
       "    <tr>\n",
       "      <th>2300</th>\n",
       "      <td>1378</td>\n",
       "      <td>NaN</td>\n",
       "      <td>NaN</td>\n",
       "      <td>NaN</td>\n",
       "      <td>NaN</td>\n",
       "      <td>NaN</td>\n",
       "      <td>NaN</td>\n",
       "      <td>Mckinley</td>\n",
       "      <td>Clayton</td>\n",
       "      <td>22</td>\n",
       "      <td>Denver-Aurora-Lakewood, CO MSA</td>\n",
       "      <td>2018-12-17</td>\n",
       "      <td>surf</td>\n",
       "      <td>2018-12-31</td>\n",
       "      <td>1</td>\n",
       "      <td>1</td>\n",
       "      <td>[1]</td>\n",
       "    </tr>\n",
       "    <tr>\n",
       "      <th>2301</th>\n",
       "      <td>1463</td>\n",
       "      <td>NaN</td>\n",
       "      <td>NaN</td>\n",
       "      <td>NaN</td>\n",
       "      <td>NaN</td>\n",
       "      <td>NaN</td>\n",
       "      <td>NaN</td>\n",
       "      <td>Dinorah</td>\n",
       "      <td>Simmons</td>\n",
       "      <td>30</td>\n",
       "      <td>Atlanta-Sandy Springs-Roswell, GA MSA</td>\n",
       "      <td>2018-11-27</td>\n",
       "      <td>ultimate</td>\n",
       "      <td>2018-12-31</td>\n",
       "      <td>2</td>\n",
       "      <td>1</td>\n",
       "      <td>[1, 1]</td>\n",
       "    </tr>\n",
       "    <tr>\n",
       "      <th>2302</th>\n",
       "      <td>1473</td>\n",
       "      <td>NaN</td>\n",
       "      <td>NaN</td>\n",
       "      <td>NaN</td>\n",
       "      <td>NaN</td>\n",
       "      <td>NaN</td>\n",
       "      <td>NaN</td>\n",
       "      <td>Kirk</td>\n",
       "      <td>Velez</td>\n",
       "      <td>61</td>\n",
       "      <td>Louisville/Jefferson County, KY-IN MSA</td>\n",
       "      <td>2018-12-31</td>\n",
       "      <td>surf</td>\n",
       "      <td>2018-12-31</td>\n",
       "      <td>1</td>\n",
       "      <td>1</td>\n",
       "      <td>[1]</td>\n",
       "    </tr>\n",
       "  </tbody>\n",
       "</table>\n",
       "</div>"
      ],
      "text/plain": [
       "      user_id  month  calls  duration  messages  mb_used  gigas  first_name  \\\n",
       "2293     1025    NaN    NaN       NaN       NaN      NaN    NaN        Jess   \n",
       "2294     1129    NaN    NaN       NaN       NaN      NaN    NaN       Marin   \n",
       "2295     1143    NaN    NaN       NaN       NaN      NaN    NaN      Lorina   \n",
       "2296     1269    NaN    NaN       NaN       NaN      NaN    NaN      Irving   \n",
       "2297     1275    NaN    NaN       NaN       NaN      NaN    NaN       Elvie   \n",
       "2298     1307    NaN    NaN       NaN       NaN      NaN    NaN  Kristopher   \n",
       "2299     1319    NaN    NaN       NaN       NaN      NaN    NaN      Eliseo   \n",
       "2300     1378    NaN    NaN       NaN       NaN      NaN    NaN    Mckinley   \n",
       "2301     1463    NaN    NaN       NaN       NaN      NaN    NaN     Dinorah   \n",
       "2302     1473    NaN    NaN       NaN       NaN      NaN    NaN        Kirk   \n",
       "\n",
       "      last_name  age                                       city    reg_date  \\\n",
       "2293  Wilkinson   64      Atlanta-Sandy Springs-Roswell, GA MSA  2018-10-28   \n",
       "2294     Bolton   70                        Baton Rouge, LA MSA  2018-11-10   \n",
       "2295    Stevens   69                   Cincinnati, OH-KY-IN MSA  2018-10-26   \n",
       "2296   Thompson   39        Dallas-Fort Worth-Arlington, TX MSA  2018-09-13   \n",
       "2297  Velazquez   33  New York-Newark-Jersey City, NY-NJ-PA MSA  2018-11-29   \n",
       "2298       Lang   28         Boston-Cambridge-Newton, MA-NH MSA  2018-12-31   \n",
       "2299     Carson   21                   Colorado Springs, CO MSA  2018-06-17   \n",
       "2300    Clayton   22             Denver-Aurora-Lakewood, CO MSA  2018-12-17   \n",
       "2301    Simmons   30      Atlanta-Sandy Springs-Roswell, GA MSA  2018-11-27   \n",
       "2302      Velez   61     Louisville/Jefferson County, KY-IN MSA  2018-12-31   \n",
       "\n",
       "          plan  churn_date  months_usage  months_count             list_count  \n",
       "2293  ultimate  2018-12-31             3             1              [1, 1, 1]  \n",
       "2294      surf  2018-12-27             2             1                 [1, 1]  \n",
       "2295      surf  2018-12-31             3             1              [1, 1, 1]  \n",
       "2296  ultimate  2018-12-15             4             1           [1, 1, 1, 1]  \n",
       "2297  ultimate  2018-12-31             2             1                 [1, 1]  \n",
       "2298      surf  2018-12-31             1             1                    [1]  \n",
       "2299      surf  2018-12-31             7             1  [1, 1, 1, 1, 1, 1, 1]  \n",
       "2300      surf  2018-12-31             1             1                    [1]  \n",
       "2301  ultimate  2018-12-31             2             1                 [1, 1]  \n",
       "2302      surf  2018-12-31             1             1                    [1]  "
      ]
     },
     "execution_count": 34,
     "metadata": {},
     "output_type": "execute_result"
    }
   ],
   "source": [
    "#creating a list of \"counts\" depending on the number of months, so that we'd be able\n",
    "#to generate  rows  for each month and add it to our calculation \n",
    "lost_users['list_count']=lost_users.apply(lambda row: [(row.months_count)]*(row.months_usage), axis=1 )\n",
    "lost_users"
   ]
  },
  {
   "cell_type": "code",
   "execution_count": 35,
   "metadata": {},
   "outputs": [],
   "source": [
    "#generate those additional rows\n",
    "lost_users = lost_users.explode('list_count')\n"
   ]
  },
  {
   "cell_type": "code",
   "execution_count": 36,
   "metadata": {},
   "outputs": [],
   "source": [
    "#filling the issing values so i wont get errors later\n",
    "lost_users.fillna(0,inplace = True)"
   ]
  },
  {
   "cell_type": "code",
   "execution_count": 37,
   "metadata": {},
   "outputs": [
    {
     "data": {
      "text/html": [
       "<div>\n",
       "<style scoped>\n",
       "    .dataframe tbody tr th:only-of-type {\n",
       "        vertical-align: middle;\n",
       "    }\n",
       "\n",
       "    .dataframe tbody tr th {\n",
       "        vertical-align: top;\n",
       "    }\n",
       "\n",
       "    .dataframe thead th {\n",
       "        text-align: right;\n",
       "    }\n",
       "</style>\n",
       "<table border=\"1\" class=\"dataframe\">\n",
       "  <thead>\n",
       "    <tr style=\"text-align: right;\">\n",
       "      <th></th>\n",
       "      <th>user_id</th>\n",
       "      <th>month</th>\n",
       "      <th>calls</th>\n",
       "      <th>duration</th>\n",
       "      <th>messages</th>\n",
       "      <th>mb_used</th>\n",
       "      <th>gigas</th>\n",
       "      <th>first_name</th>\n",
       "      <th>last_name</th>\n",
       "      <th>age</th>\n",
       "      <th>city</th>\n",
       "      <th>reg_date</th>\n",
       "      <th>plan</th>\n",
       "      <th>churn_date</th>\n",
       "      <th>months_usage</th>\n",
       "      <th>months_count</th>\n",
       "      <th>list_count</th>\n",
       "    </tr>\n",
       "  </thead>\n",
       "  <tbody>\n",
       "    <tr>\n",
       "      <th>2293</th>\n",
       "      <td>1025</td>\n",
       "      <td>0.0</td>\n",
       "      <td>0.0</td>\n",
       "      <td>0.0</td>\n",
       "      <td>0.0</td>\n",
       "      <td>0.0</td>\n",
       "      <td>0.0</td>\n",
       "      <td>Jess</td>\n",
       "      <td>Wilkinson</td>\n",
       "      <td>64</td>\n",
       "      <td>Atlanta-Sandy Springs-Roswell, GA MSA</td>\n",
       "      <td>2018-10-28</td>\n",
       "      <td>ultimate</td>\n",
       "      <td>2018-12-31</td>\n",
       "      <td>3</td>\n",
       "      <td>1</td>\n",
       "      <td>1</td>\n",
       "    </tr>\n",
       "    <tr>\n",
       "      <th>2293</th>\n",
       "      <td>1025</td>\n",
       "      <td>0.0</td>\n",
       "      <td>0.0</td>\n",
       "      <td>0.0</td>\n",
       "      <td>0.0</td>\n",
       "      <td>0.0</td>\n",
       "      <td>0.0</td>\n",
       "      <td>Jess</td>\n",
       "      <td>Wilkinson</td>\n",
       "      <td>64</td>\n",
       "      <td>Atlanta-Sandy Springs-Roswell, GA MSA</td>\n",
       "      <td>2018-10-28</td>\n",
       "      <td>ultimate</td>\n",
       "      <td>2018-12-31</td>\n",
       "      <td>3</td>\n",
       "      <td>1</td>\n",
       "      <td>1</td>\n",
       "    </tr>\n",
       "    <tr>\n",
       "      <th>2293</th>\n",
       "      <td>1025</td>\n",
       "      <td>0.0</td>\n",
       "      <td>0.0</td>\n",
       "      <td>0.0</td>\n",
       "      <td>0.0</td>\n",
       "      <td>0.0</td>\n",
       "      <td>0.0</td>\n",
       "      <td>Jess</td>\n",
       "      <td>Wilkinson</td>\n",
       "      <td>64</td>\n",
       "      <td>Atlanta-Sandy Springs-Roswell, GA MSA</td>\n",
       "      <td>2018-10-28</td>\n",
       "      <td>ultimate</td>\n",
       "      <td>2018-12-31</td>\n",
       "      <td>3</td>\n",
       "      <td>1</td>\n",
       "      <td>1</td>\n",
       "    </tr>\n",
       "    <tr>\n",
       "      <th>2294</th>\n",
       "      <td>1129</td>\n",
       "      <td>0.0</td>\n",
       "      <td>0.0</td>\n",
       "      <td>0.0</td>\n",
       "      <td>0.0</td>\n",
       "      <td>0.0</td>\n",
       "      <td>0.0</td>\n",
       "      <td>Marin</td>\n",
       "      <td>Bolton</td>\n",
       "      <td>70</td>\n",
       "      <td>Baton Rouge, LA MSA</td>\n",
       "      <td>2018-11-10</td>\n",
       "      <td>surf</td>\n",
       "      <td>2018-12-27</td>\n",
       "      <td>2</td>\n",
       "      <td>1</td>\n",
       "      <td>1</td>\n",
       "    </tr>\n",
       "    <tr>\n",
       "      <th>2294</th>\n",
       "      <td>1129</td>\n",
       "      <td>0.0</td>\n",
       "      <td>0.0</td>\n",
       "      <td>0.0</td>\n",
       "      <td>0.0</td>\n",
       "      <td>0.0</td>\n",
       "      <td>0.0</td>\n",
       "      <td>Marin</td>\n",
       "      <td>Bolton</td>\n",
       "      <td>70</td>\n",
       "      <td>Baton Rouge, LA MSA</td>\n",
       "      <td>2018-11-10</td>\n",
       "      <td>surf</td>\n",
       "      <td>2018-12-27</td>\n",
       "      <td>2</td>\n",
       "      <td>1</td>\n",
       "      <td>1</td>\n",
       "    </tr>\n",
       "    <tr>\n",
       "      <th>2295</th>\n",
       "      <td>1143</td>\n",
       "      <td>0.0</td>\n",
       "      <td>0.0</td>\n",
       "      <td>0.0</td>\n",
       "      <td>0.0</td>\n",
       "      <td>0.0</td>\n",
       "      <td>0.0</td>\n",
       "      <td>Lorina</td>\n",
       "      <td>Stevens</td>\n",
       "      <td>69</td>\n",
       "      <td>Cincinnati, OH-KY-IN MSA</td>\n",
       "      <td>2018-10-26</td>\n",
       "      <td>surf</td>\n",
       "      <td>2018-12-31</td>\n",
       "      <td>3</td>\n",
       "      <td>1</td>\n",
       "      <td>1</td>\n",
       "    </tr>\n",
       "    <tr>\n",
       "      <th>2295</th>\n",
       "      <td>1143</td>\n",
       "      <td>0.0</td>\n",
       "      <td>0.0</td>\n",
       "      <td>0.0</td>\n",
       "      <td>0.0</td>\n",
       "      <td>0.0</td>\n",
       "      <td>0.0</td>\n",
       "      <td>Lorina</td>\n",
       "      <td>Stevens</td>\n",
       "      <td>69</td>\n",
       "      <td>Cincinnati, OH-KY-IN MSA</td>\n",
       "      <td>2018-10-26</td>\n",
       "      <td>surf</td>\n",
       "      <td>2018-12-31</td>\n",
       "      <td>3</td>\n",
       "      <td>1</td>\n",
       "      <td>1</td>\n",
       "    </tr>\n",
       "    <tr>\n",
       "      <th>2295</th>\n",
       "      <td>1143</td>\n",
       "      <td>0.0</td>\n",
       "      <td>0.0</td>\n",
       "      <td>0.0</td>\n",
       "      <td>0.0</td>\n",
       "      <td>0.0</td>\n",
       "      <td>0.0</td>\n",
       "      <td>Lorina</td>\n",
       "      <td>Stevens</td>\n",
       "      <td>69</td>\n",
       "      <td>Cincinnati, OH-KY-IN MSA</td>\n",
       "      <td>2018-10-26</td>\n",
       "      <td>surf</td>\n",
       "      <td>2018-12-31</td>\n",
       "      <td>3</td>\n",
       "      <td>1</td>\n",
       "      <td>1</td>\n",
       "    </tr>\n",
       "    <tr>\n",
       "      <th>2296</th>\n",
       "      <td>1269</td>\n",
       "      <td>0.0</td>\n",
       "      <td>0.0</td>\n",
       "      <td>0.0</td>\n",
       "      <td>0.0</td>\n",
       "      <td>0.0</td>\n",
       "      <td>0.0</td>\n",
       "      <td>Irving</td>\n",
       "      <td>Thompson</td>\n",
       "      <td>39</td>\n",
       "      <td>Dallas-Fort Worth-Arlington, TX MSA</td>\n",
       "      <td>2018-09-13</td>\n",
       "      <td>ultimate</td>\n",
       "      <td>2018-12-15</td>\n",
       "      <td>4</td>\n",
       "      <td>1</td>\n",
       "      <td>1</td>\n",
       "    </tr>\n",
       "    <tr>\n",
       "      <th>2296</th>\n",
       "      <td>1269</td>\n",
       "      <td>0.0</td>\n",
       "      <td>0.0</td>\n",
       "      <td>0.0</td>\n",
       "      <td>0.0</td>\n",
       "      <td>0.0</td>\n",
       "      <td>0.0</td>\n",
       "      <td>Irving</td>\n",
       "      <td>Thompson</td>\n",
       "      <td>39</td>\n",
       "      <td>Dallas-Fort Worth-Arlington, TX MSA</td>\n",
       "      <td>2018-09-13</td>\n",
       "      <td>ultimate</td>\n",
       "      <td>2018-12-15</td>\n",
       "      <td>4</td>\n",
       "      <td>1</td>\n",
       "      <td>1</td>\n",
       "    </tr>\n",
       "    <tr>\n",
       "      <th>2296</th>\n",
       "      <td>1269</td>\n",
       "      <td>0.0</td>\n",
       "      <td>0.0</td>\n",
       "      <td>0.0</td>\n",
       "      <td>0.0</td>\n",
       "      <td>0.0</td>\n",
       "      <td>0.0</td>\n",
       "      <td>Irving</td>\n",
       "      <td>Thompson</td>\n",
       "      <td>39</td>\n",
       "      <td>Dallas-Fort Worth-Arlington, TX MSA</td>\n",
       "      <td>2018-09-13</td>\n",
       "      <td>ultimate</td>\n",
       "      <td>2018-12-15</td>\n",
       "      <td>4</td>\n",
       "      <td>1</td>\n",
       "      <td>1</td>\n",
       "    </tr>\n",
       "    <tr>\n",
       "      <th>2296</th>\n",
       "      <td>1269</td>\n",
       "      <td>0.0</td>\n",
       "      <td>0.0</td>\n",
       "      <td>0.0</td>\n",
       "      <td>0.0</td>\n",
       "      <td>0.0</td>\n",
       "      <td>0.0</td>\n",
       "      <td>Irving</td>\n",
       "      <td>Thompson</td>\n",
       "      <td>39</td>\n",
       "      <td>Dallas-Fort Worth-Arlington, TX MSA</td>\n",
       "      <td>2018-09-13</td>\n",
       "      <td>ultimate</td>\n",
       "      <td>2018-12-15</td>\n",
       "      <td>4</td>\n",
       "      <td>1</td>\n",
       "      <td>1</td>\n",
       "    </tr>\n",
       "    <tr>\n",
       "      <th>2297</th>\n",
       "      <td>1275</td>\n",
       "      <td>0.0</td>\n",
       "      <td>0.0</td>\n",
       "      <td>0.0</td>\n",
       "      <td>0.0</td>\n",
       "      <td>0.0</td>\n",
       "      <td>0.0</td>\n",
       "      <td>Elvie</td>\n",
       "      <td>Velazquez</td>\n",
       "      <td>33</td>\n",
       "      <td>New York-Newark-Jersey City, NY-NJ-PA MSA</td>\n",
       "      <td>2018-11-29</td>\n",
       "      <td>ultimate</td>\n",
       "      <td>2018-12-31</td>\n",
       "      <td>2</td>\n",
       "      <td>1</td>\n",
       "      <td>1</td>\n",
       "    </tr>\n",
       "    <tr>\n",
       "      <th>2297</th>\n",
       "      <td>1275</td>\n",
       "      <td>0.0</td>\n",
       "      <td>0.0</td>\n",
       "      <td>0.0</td>\n",
       "      <td>0.0</td>\n",
       "      <td>0.0</td>\n",
       "      <td>0.0</td>\n",
       "      <td>Elvie</td>\n",
       "      <td>Velazquez</td>\n",
       "      <td>33</td>\n",
       "      <td>New York-Newark-Jersey City, NY-NJ-PA MSA</td>\n",
       "      <td>2018-11-29</td>\n",
       "      <td>ultimate</td>\n",
       "      <td>2018-12-31</td>\n",
       "      <td>2</td>\n",
       "      <td>1</td>\n",
       "      <td>1</td>\n",
       "    </tr>\n",
       "    <tr>\n",
       "      <th>2298</th>\n",
       "      <td>1307</td>\n",
       "      <td>0.0</td>\n",
       "      <td>0.0</td>\n",
       "      <td>0.0</td>\n",
       "      <td>0.0</td>\n",
       "      <td>0.0</td>\n",
       "      <td>0.0</td>\n",
       "      <td>Kristopher</td>\n",
       "      <td>Lang</td>\n",
       "      <td>28</td>\n",
       "      <td>Boston-Cambridge-Newton, MA-NH MSA</td>\n",
       "      <td>2018-12-31</td>\n",
       "      <td>surf</td>\n",
       "      <td>2018-12-31</td>\n",
       "      <td>1</td>\n",
       "      <td>1</td>\n",
       "      <td>1</td>\n",
       "    </tr>\n",
       "    <tr>\n",
       "      <th>2299</th>\n",
       "      <td>1319</td>\n",
       "      <td>0.0</td>\n",
       "      <td>0.0</td>\n",
       "      <td>0.0</td>\n",
       "      <td>0.0</td>\n",
       "      <td>0.0</td>\n",
       "      <td>0.0</td>\n",
       "      <td>Eliseo</td>\n",
       "      <td>Carson</td>\n",
       "      <td>21</td>\n",
       "      <td>Colorado Springs, CO MSA</td>\n",
       "      <td>2018-06-17</td>\n",
       "      <td>surf</td>\n",
       "      <td>2018-12-31</td>\n",
       "      <td>7</td>\n",
       "      <td>1</td>\n",
       "      <td>1</td>\n",
       "    </tr>\n",
       "    <tr>\n",
       "      <th>2299</th>\n",
       "      <td>1319</td>\n",
       "      <td>0.0</td>\n",
       "      <td>0.0</td>\n",
       "      <td>0.0</td>\n",
       "      <td>0.0</td>\n",
       "      <td>0.0</td>\n",
       "      <td>0.0</td>\n",
       "      <td>Eliseo</td>\n",
       "      <td>Carson</td>\n",
       "      <td>21</td>\n",
       "      <td>Colorado Springs, CO MSA</td>\n",
       "      <td>2018-06-17</td>\n",
       "      <td>surf</td>\n",
       "      <td>2018-12-31</td>\n",
       "      <td>7</td>\n",
       "      <td>1</td>\n",
       "      <td>1</td>\n",
       "    </tr>\n",
       "    <tr>\n",
       "      <th>2299</th>\n",
       "      <td>1319</td>\n",
       "      <td>0.0</td>\n",
       "      <td>0.0</td>\n",
       "      <td>0.0</td>\n",
       "      <td>0.0</td>\n",
       "      <td>0.0</td>\n",
       "      <td>0.0</td>\n",
       "      <td>Eliseo</td>\n",
       "      <td>Carson</td>\n",
       "      <td>21</td>\n",
       "      <td>Colorado Springs, CO MSA</td>\n",
       "      <td>2018-06-17</td>\n",
       "      <td>surf</td>\n",
       "      <td>2018-12-31</td>\n",
       "      <td>7</td>\n",
       "      <td>1</td>\n",
       "      <td>1</td>\n",
       "    </tr>\n",
       "    <tr>\n",
       "      <th>2299</th>\n",
       "      <td>1319</td>\n",
       "      <td>0.0</td>\n",
       "      <td>0.0</td>\n",
       "      <td>0.0</td>\n",
       "      <td>0.0</td>\n",
       "      <td>0.0</td>\n",
       "      <td>0.0</td>\n",
       "      <td>Eliseo</td>\n",
       "      <td>Carson</td>\n",
       "      <td>21</td>\n",
       "      <td>Colorado Springs, CO MSA</td>\n",
       "      <td>2018-06-17</td>\n",
       "      <td>surf</td>\n",
       "      <td>2018-12-31</td>\n",
       "      <td>7</td>\n",
       "      <td>1</td>\n",
       "      <td>1</td>\n",
       "    </tr>\n",
       "    <tr>\n",
       "      <th>2299</th>\n",
       "      <td>1319</td>\n",
       "      <td>0.0</td>\n",
       "      <td>0.0</td>\n",
       "      <td>0.0</td>\n",
       "      <td>0.0</td>\n",
       "      <td>0.0</td>\n",
       "      <td>0.0</td>\n",
       "      <td>Eliseo</td>\n",
       "      <td>Carson</td>\n",
       "      <td>21</td>\n",
       "      <td>Colorado Springs, CO MSA</td>\n",
       "      <td>2018-06-17</td>\n",
       "      <td>surf</td>\n",
       "      <td>2018-12-31</td>\n",
       "      <td>7</td>\n",
       "      <td>1</td>\n",
       "      <td>1</td>\n",
       "    </tr>\n",
       "    <tr>\n",
       "      <th>2299</th>\n",
       "      <td>1319</td>\n",
       "      <td>0.0</td>\n",
       "      <td>0.0</td>\n",
       "      <td>0.0</td>\n",
       "      <td>0.0</td>\n",
       "      <td>0.0</td>\n",
       "      <td>0.0</td>\n",
       "      <td>Eliseo</td>\n",
       "      <td>Carson</td>\n",
       "      <td>21</td>\n",
       "      <td>Colorado Springs, CO MSA</td>\n",
       "      <td>2018-06-17</td>\n",
       "      <td>surf</td>\n",
       "      <td>2018-12-31</td>\n",
       "      <td>7</td>\n",
       "      <td>1</td>\n",
       "      <td>1</td>\n",
       "    </tr>\n",
       "    <tr>\n",
       "      <th>2299</th>\n",
       "      <td>1319</td>\n",
       "      <td>0.0</td>\n",
       "      <td>0.0</td>\n",
       "      <td>0.0</td>\n",
       "      <td>0.0</td>\n",
       "      <td>0.0</td>\n",
       "      <td>0.0</td>\n",
       "      <td>Eliseo</td>\n",
       "      <td>Carson</td>\n",
       "      <td>21</td>\n",
       "      <td>Colorado Springs, CO MSA</td>\n",
       "      <td>2018-06-17</td>\n",
       "      <td>surf</td>\n",
       "      <td>2018-12-31</td>\n",
       "      <td>7</td>\n",
       "      <td>1</td>\n",
       "      <td>1</td>\n",
       "    </tr>\n",
       "    <tr>\n",
       "      <th>2300</th>\n",
       "      <td>1378</td>\n",
       "      <td>0.0</td>\n",
       "      <td>0.0</td>\n",
       "      <td>0.0</td>\n",
       "      <td>0.0</td>\n",
       "      <td>0.0</td>\n",
       "      <td>0.0</td>\n",
       "      <td>Mckinley</td>\n",
       "      <td>Clayton</td>\n",
       "      <td>22</td>\n",
       "      <td>Denver-Aurora-Lakewood, CO MSA</td>\n",
       "      <td>2018-12-17</td>\n",
       "      <td>surf</td>\n",
       "      <td>2018-12-31</td>\n",
       "      <td>1</td>\n",
       "      <td>1</td>\n",
       "      <td>1</td>\n",
       "    </tr>\n",
       "    <tr>\n",
       "      <th>2301</th>\n",
       "      <td>1463</td>\n",
       "      <td>0.0</td>\n",
       "      <td>0.0</td>\n",
       "      <td>0.0</td>\n",
       "      <td>0.0</td>\n",
       "      <td>0.0</td>\n",
       "      <td>0.0</td>\n",
       "      <td>Dinorah</td>\n",
       "      <td>Simmons</td>\n",
       "      <td>30</td>\n",
       "      <td>Atlanta-Sandy Springs-Roswell, GA MSA</td>\n",
       "      <td>2018-11-27</td>\n",
       "      <td>ultimate</td>\n",
       "      <td>2018-12-31</td>\n",
       "      <td>2</td>\n",
       "      <td>1</td>\n",
       "      <td>1</td>\n",
       "    </tr>\n",
       "    <tr>\n",
       "      <th>2301</th>\n",
       "      <td>1463</td>\n",
       "      <td>0.0</td>\n",
       "      <td>0.0</td>\n",
       "      <td>0.0</td>\n",
       "      <td>0.0</td>\n",
       "      <td>0.0</td>\n",
       "      <td>0.0</td>\n",
       "      <td>Dinorah</td>\n",
       "      <td>Simmons</td>\n",
       "      <td>30</td>\n",
       "      <td>Atlanta-Sandy Springs-Roswell, GA MSA</td>\n",
       "      <td>2018-11-27</td>\n",
       "      <td>ultimate</td>\n",
       "      <td>2018-12-31</td>\n",
       "      <td>2</td>\n",
       "      <td>1</td>\n",
       "      <td>1</td>\n",
       "    </tr>\n",
       "    <tr>\n",
       "      <th>2302</th>\n",
       "      <td>1473</td>\n",
       "      <td>0.0</td>\n",
       "      <td>0.0</td>\n",
       "      <td>0.0</td>\n",
       "      <td>0.0</td>\n",
       "      <td>0.0</td>\n",
       "      <td>0.0</td>\n",
       "      <td>Kirk</td>\n",
       "      <td>Velez</td>\n",
       "      <td>61</td>\n",
       "      <td>Louisville/Jefferson County, KY-IN MSA</td>\n",
       "      <td>2018-12-31</td>\n",
       "      <td>surf</td>\n",
       "      <td>2018-12-31</td>\n",
       "      <td>1</td>\n",
       "      <td>1</td>\n",
       "      <td>1</td>\n",
       "    </tr>\n",
       "  </tbody>\n",
       "</table>\n",
       "</div>"
      ],
      "text/plain": [
       "      user_id  month  calls  duration  messages  mb_used  gigas  first_name  \\\n",
       "2293     1025    0.0    0.0       0.0       0.0      0.0    0.0        Jess   \n",
       "2293     1025    0.0    0.0       0.0       0.0      0.0    0.0        Jess   \n",
       "2293     1025    0.0    0.0       0.0       0.0      0.0    0.0        Jess   \n",
       "2294     1129    0.0    0.0       0.0       0.0      0.0    0.0       Marin   \n",
       "2294     1129    0.0    0.0       0.0       0.0      0.0    0.0       Marin   \n",
       "2295     1143    0.0    0.0       0.0       0.0      0.0    0.0      Lorina   \n",
       "2295     1143    0.0    0.0       0.0       0.0      0.0    0.0      Lorina   \n",
       "2295     1143    0.0    0.0       0.0       0.0      0.0    0.0      Lorina   \n",
       "2296     1269    0.0    0.0       0.0       0.0      0.0    0.0      Irving   \n",
       "2296     1269    0.0    0.0       0.0       0.0      0.0    0.0      Irving   \n",
       "2296     1269    0.0    0.0       0.0       0.0      0.0    0.0      Irving   \n",
       "2296     1269    0.0    0.0       0.0       0.0      0.0    0.0      Irving   \n",
       "2297     1275    0.0    0.0       0.0       0.0      0.0    0.0       Elvie   \n",
       "2297     1275    0.0    0.0       0.0       0.0      0.0    0.0       Elvie   \n",
       "2298     1307    0.0    0.0       0.0       0.0      0.0    0.0  Kristopher   \n",
       "2299     1319    0.0    0.0       0.0       0.0      0.0    0.0      Eliseo   \n",
       "2299     1319    0.0    0.0       0.0       0.0      0.0    0.0      Eliseo   \n",
       "2299     1319    0.0    0.0       0.0       0.0      0.0    0.0      Eliseo   \n",
       "2299     1319    0.0    0.0       0.0       0.0      0.0    0.0      Eliseo   \n",
       "2299     1319    0.0    0.0       0.0       0.0      0.0    0.0      Eliseo   \n",
       "2299     1319    0.0    0.0       0.0       0.0      0.0    0.0      Eliseo   \n",
       "2299     1319    0.0    0.0       0.0       0.0      0.0    0.0      Eliseo   \n",
       "2300     1378    0.0    0.0       0.0       0.0      0.0    0.0    Mckinley   \n",
       "2301     1463    0.0    0.0       0.0       0.0      0.0    0.0     Dinorah   \n",
       "2301     1463    0.0    0.0       0.0       0.0      0.0    0.0     Dinorah   \n",
       "2302     1473    0.0    0.0       0.0       0.0      0.0    0.0        Kirk   \n",
       "\n",
       "      last_name  age                                       city    reg_date  \\\n",
       "2293  Wilkinson   64      Atlanta-Sandy Springs-Roswell, GA MSA  2018-10-28   \n",
       "2293  Wilkinson   64      Atlanta-Sandy Springs-Roswell, GA MSA  2018-10-28   \n",
       "2293  Wilkinson   64      Atlanta-Sandy Springs-Roswell, GA MSA  2018-10-28   \n",
       "2294     Bolton   70                        Baton Rouge, LA MSA  2018-11-10   \n",
       "2294     Bolton   70                        Baton Rouge, LA MSA  2018-11-10   \n",
       "2295    Stevens   69                   Cincinnati, OH-KY-IN MSA  2018-10-26   \n",
       "2295    Stevens   69                   Cincinnati, OH-KY-IN MSA  2018-10-26   \n",
       "2295    Stevens   69                   Cincinnati, OH-KY-IN MSA  2018-10-26   \n",
       "2296   Thompson   39        Dallas-Fort Worth-Arlington, TX MSA  2018-09-13   \n",
       "2296   Thompson   39        Dallas-Fort Worth-Arlington, TX MSA  2018-09-13   \n",
       "2296   Thompson   39        Dallas-Fort Worth-Arlington, TX MSA  2018-09-13   \n",
       "2296   Thompson   39        Dallas-Fort Worth-Arlington, TX MSA  2018-09-13   \n",
       "2297  Velazquez   33  New York-Newark-Jersey City, NY-NJ-PA MSA  2018-11-29   \n",
       "2297  Velazquez   33  New York-Newark-Jersey City, NY-NJ-PA MSA  2018-11-29   \n",
       "2298       Lang   28         Boston-Cambridge-Newton, MA-NH MSA  2018-12-31   \n",
       "2299     Carson   21                   Colorado Springs, CO MSA  2018-06-17   \n",
       "2299     Carson   21                   Colorado Springs, CO MSA  2018-06-17   \n",
       "2299     Carson   21                   Colorado Springs, CO MSA  2018-06-17   \n",
       "2299     Carson   21                   Colorado Springs, CO MSA  2018-06-17   \n",
       "2299     Carson   21                   Colorado Springs, CO MSA  2018-06-17   \n",
       "2299     Carson   21                   Colorado Springs, CO MSA  2018-06-17   \n",
       "2299     Carson   21                   Colorado Springs, CO MSA  2018-06-17   \n",
       "2300    Clayton   22             Denver-Aurora-Lakewood, CO MSA  2018-12-17   \n",
       "2301    Simmons   30      Atlanta-Sandy Springs-Roswell, GA MSA  2018-11-27   \n",
       "2301    Simmons   30      Atlanta-Sandy Springs-Roswell, GA MSA  2018-11-27   \n",
       "2302      Velez   61     Louisville/Jefferson County, KY-IN MSA  2018-12-31   \n",
       "\n",
       "          plan  churn_date  months_usage  months_count  list_count  \n",
       "2293  ultimate  2018-12-31             3             1           1  \n",
       "2293  ultimate  2018-12-31             3             1           1  \n",
       "2293  ultimate  2018-12-31             3             1           1  \n",
       "2294      surf  2018-12-27             2             1           1  \n",
       "2294      surf  2018-12-27             2             1           1  \n",
       "2295      surf  2018-12-31             3             1           1  \n",
       "2295      surf  2018-12-31             3             1           1  \n",
       "2295      surf  2018-12-31             3             1           1  \n",
       "2296  ultimate  2018-12-15             4             1           1  \n",
       "2296  ultimate  2018-12-15             4             1           1  \n",
       "2296  ultimate  2018-12-15             4             1           1  \n",
       "2296  ultimate  2018-12-15             4             1           1  \n",
       "2297  ultimate  2018-12-31             2             1           1  \n",
       "2297  ultimate  2018-12-31             2             1           1  \n",
       "2298      surf  2018-12-31             1             1           1  \n",
       "2299      surf  2018-12-31             7             1           1  \n",
       "2299      surf  2018-12-31             7             1           1  \n",
       "2299      surf  2018-12-31             7             1           1  \n",
       "2299      surf  2018-12-31             7             1           1  \n",
       "2299      surf  2018-12-31             7             1           1  \n",
       "2299      surf  2018-12-31             7             1           1  \n",
       "2299      surf  2018-12-31             7             1           1  \n",
       "2300      surf  2018-12-31             1             1           1  \n",
       "2301  ultimate  2018-12-31             2             1           1  \n",
       "2301  ultimate  2018-12-31             2             1           1  \n",
       "2302      surf  2018-12-31             1             1           1  "
      ]
     },
     "execution_count": 37,
     "metadata": {},
     "output_type": "execute_result"
    }
   ],
   "source": [
    "lost_users"
   ]
  },
  {
   "cell_type": "code",
   "execution_count": 38,
   "metadata": {},
   "outputs": [],
   "source": [
    "add_month(lost_users,'reg_date')"
   ]
  },
  {
   "cell_type": "code",
   "execution_count": 39,
   "metadata": {
    "scrolled": true
   },
   "outputs": [],
   "source": [
    "lost_users = lost_users.drop(columns=['months_count', 'list_count'])\n"
   ]
  },
  {
   "cell_type": "code",
   "execution_count": 40,
   "metadata": {},
   "outputs": [],
   "source": [
    "indexNames = total_telecom[(total_telecom['mb_used'].isnull()) & (total_telecom['calls'].isnull()) & (total_telecom['messages'].isnull())].index\n",
    "\n",
    "total_telecom.drop(indexNames,inplace = True)"
   ]
  },
  {
   "cell_type": "code",
   "execution_count": 41,
   "metadata": {},
   "outputs": [
    {
     "data": {
      "text/plain": [
       "(2293, 14)"
      ]
     },
     "execution_count": 41,
     "metadata": {},
     "output_type": "execute_result"
    }
   ],
   "source": [
    "total_telecom.shape"
   ]
  },
  {
   "cell_type": "code",
   "execution_count": 42,
   "metadata": {},
   "outputs": [],
   "source": [
    "total_telecom = total_telecom.append(lost_users)"
   ]
  },
  {
   "cell_type": "code",
   "execution_count": 43,
   "metadata": {},
   "outputs": [
    {
     "data": {
      "text/plain": [
       "(2319, 15)"
      ]
     },
     "execution_count": 43,
     "metadata": {},
     "output_type": "execute_result"
    }
   ],
   "source": [
    "total_telecom.shape"
   ]
  },
  {
   "cell_type": "code",
   "execution_count": 44,
   "metadata": {
    "scrolled": false
   },
   "outputs": [
    {
     "data": {
      "text/html": [
       "<div>\n",
       "<style scoped>\n",
       "    .dataframe tbody tr th:only-of-type {\n",
       "        vertical-align: middle;\n",
       "    }\n",
       "\n",
       "    .dataframe tbody tr th {\n",
       "        vertical-align: top;\n",
       "    }\n",
       "\n",
       "    .dataframe thead th {\n",
       "        text-align: right;\n",
       "    }\n",
       "</style>\n",
       "<table border=\"1\" class=\"dataframe\">\n",
       "  <thead>\n",
       "    <tr style=\"text-align: right;\">\n",
       "      <th></th>\n",
       "      <th>user_id</th>\n",
       "      <th>month</th>\n",
       "      <th>calls</th>\n",
       "      <th>duration</th>\n",
       "      <th>messages</th>\n",
       "      <th>mb_used</th>\n",
       "      <th>gigas</th>\n",
       "      <th>first_name</th>\n",
       "      <th>last_name</th>\n",
       "      <th>age</th>\n",
       "      <th>city</th>\n",
       "      <th>reg_date</th>\n",
       "      <th>plan</th>\n",
       "      <th>churn_date</th>\n",
       "      <th>months_usage</th>\n",
       "    </tr>\n",
       "  </thead>\n",
       "  <tbody>\n",
       "  </tbody>\n",
       "</table>\n",
       "</div>"
      ],
      "text/plain": [
       "Empty DataFrame\n",
       "Columns: [user_id, month, calls, duration, messages, mb_used, gigas, first_name, last_name, age, city, reg_date, plan, churn_date, months_usage]\n",
       "Index: []"
      ]
     },
     "execution_count": 44,
     "metadata": {},
     "output_type": "execute_result"
    }
   ],
   "source": [
    "#checking everything worked \n",
    "total_telecom[(total_telecom['mb_used'].isnull()) & (total_telecom['messages'].isnull()) &(total_telecom['calls'].isnull()) ]"
   ]
  },
  {
   "cell_type": "code",
   "execution_count": 45,
   "metadata": {
    "scrolled": true
   },
   "outputs": [
    {
     "data": {
      "text/plain": [
       "[1025,\n",
       " 1025,\n",
       " 1025,\n",
       " 1129,\n",
       " 1129,\n",
       " 1143,\n",
       " 1143,\n",
       " 1143,\n",
       " 1269,\n",
       " 1269,\n",
       " 1269,\n",
       " 1269,\n",
       " 1275,\n",
       " 1275,\n",
       " 1307,\n",
       " 1319,\n",
       " 1319,\n",
       " 1319,\n",
       " 1319,\n",
       " 1319,\n",
       " 1319,\n",
       " 1319,\n",
       " 1378,\n",
       " 1463,\n",
       " 1463,\n",
       " 1473]"
      ]
     },
     "execution_count": 45,
     "metadata": {},
     "output_type": "execute_result"
    }
   ],
   "source": [
    "lost_usersid = []\n",
    "for i in lost_users.user_id:\n",
    "    lost_usersid.append(i)\n",
    "lost_usersid   "
   ]
  },
  {
   "cell_type": "code",
   "execution_count": 46,
   "metadata": {},
   "outputs": [
    {
     "data": {
      "text/plain": [
       "(500, 2)"
      ]
     },
     "execution_count": 46,
     "metadata": {},
     "output_type": "execute_result"
    }
   ],
   "source": [
    "active=total_telecom.groupby(['user_id'])['month'].unique().reset_index()\n",
    "active.shape"
   ]
  },
  {
   "cell_type": "markdown",
   "metadata": {},
   "source": [
    "Now i need to check dor data for users that were not active in specific months"
   ]
  },
  {
   "cell_type": "code",
   "execution_count": 47,
   "metadata": {},
   "outputs": [
    {
     "data": {
      "text/html": [
       "<div>\n",
       "<style scoped>\n",
       "    .dataframe tbody tr th:only-of-type {\n",
       "        vertical-align: middle;\n",
       "    }\n",
       "\n",
       "    .dataframe tbody tr th {\n",
       "        vertical-align: top;\n",
       "    }\n",
       "\n",
       "    .dataframe thead th {\n",
       "        text-align: right;\n",
       "    }\n",
       "</style>\n",
       "<table border=\"1\" class=\"dataframe\">\n",
       "  <thead>\n",
       "    <tr style=\"text-align: right;\">\n",
       "      <th></th>\n",
       "      <th>user_id</th>\n",
       "      <th>month</th>\n",
       "      <th>first_name</th>\n",
       "      <th>last_name</th>\n",
       "      <th>age</th>\n",
       "      <th>city</th>\n",
       "      <th>reg_date</th>\n",
       "      <th>plan</th>\n",
       "      <th>churn_date</th>\n",
       "    </tr>\n",
       "  </thead>\n",
       "  <tbody>\n",
       "    <tr>\n",
       "      <th>0</th>\n",
       "      <td>1000</td>\n",
       "      <td>[12.0]</td>\n",
       "      <td>Anamaria</td>\n",
       "      <td>Bauer</td>\n",
       "      <td>45</td>\n",
       "      <td>Atlanta-Sandy Springs-Roswell, GA MSA</td>\n",
       "      <td>2018-12-24</td>\n",
       "      <td>ultimate</td>\n",
       "      <td>2018-12-31</td>\n",
       "    </tr>\n",
       "    <tr>\n",
       "      <th>1</th>\n",
       "      <td>1001</td>\n",
       "      <td>[8.0, 9.0, 10.0, 11.0, 12.0]</td>\n",
       "      <td>Mickey</td>\n",
       "      <td>Wilkerson</td>\n",
       "      <td>28</td>\n",
       "      <td>Seattle-Tacoma-Bellevue, WA MSA</td>\n",
       "      <td>2018-08-13</td>\n",
       "      <td>surf</td>\n",
       "      <td>2018-12-31</td>\n",
       "    </tr>\n",
       "    <tr>\n",
       "      <th>2</th>\n",
       "      <td>1002</td>\n",
       "      <td>[10.0, 11.0, 12.0]</td>\n",
       "      <td>Carlee</td>\n",
       "      <td>Hoffman</td>\n",
       "      <td>36</td>\n",
       "      <td>Las Vegas-Henderson-Paradise, NV MSA</td>\n",
       "      <td>2018-10-21</td>\n",
       "      <td>surf</td>\n",
       "      <td>2018-12-31</td>\n",
       "    </tr>\n",
       "    <tr>\n",
       "      <th>3</th>\n",
       "      <td>1003</td>\n",
       "      <td>[12.0]</td>\n",
       "      <td>Reynaldo</td>\n",
       "      <td>Jenkins</td>\n",
       "      <td>52</td>\n",
       "      <td>Tulsa, OK MSA</td>\n",
       "      <td>2018-01-28</td>\n",
       "      <td>surf</td>\n",
       "      <td>2018-12-31</td>\n",
       "    </tr>\n",
       "    <tr>\n",
       "      <th>4</th>\n",
       "      <td>1004</td>\n",
       "      <td>[5.0, 6.0, 7.0, 8.0, 9.0, 10.0, 11.0, 12.0]</td>\n",
       "      <td>Leonila</td>\n",
       "      <td>Thompson</td>\n",
       "      <td>40</td>\n",
       "      <td>Seattle-Tacoma-Bellevue, WA MSA</td>\n",
       "      <td>2018-05-23</td>\n",
       "      <td>surf</td>\n",
       "      <td>2018-12-31</td>\n",
       "    </tr>\n",
       "    <tr>\n",
       "      <th>...</th>\n",
       "      <td>...</td>\n",
       "      <td>...</td>\n",
       "      <td>...</td>\n",
       "      <td>...</td>\n",
       "      <td>...</td>\n",
       "      <td>...</td>\n",
       "      <td>...</td>\n",
       "      <td>...</td>\n",
       "      <td>...</td>\n",
       "    </tr>\n",
       "    <tr>\n",
       "      <th>495</th>\n",
       "      <td>1495</td>\n",
       "      <td>[9.0, 10.0, 11.0, 12.0]</td>\n",
       "      <td>Fidel</td>\n",
       "      <td>Sharpe</td>\n",
       "      <td>67</td>\n",
       "      <td>New York-Newark-Jersey City, NY-NJ-PA MSA</td>\n",
       "      <td>2018-09-04</td>\n",
       "      <td>surf</td>\n",
       "      <td>2018-12-31</td>\n",
       "    </tr>\n",
       "    <tr>\n",
       "      <th>496</th>\n",
       "      <td>1496</td>\n",
       "      <td>[8.0, 9.0, 10.0, 11.0, 12.0]</td>\n",
       "      <td>Ariel</td>\n",
       "      <td>Shepherd</td>\n",
       "      <td>49</td>\n",
       "      <td>New Orleans-Metairie, LA MSA</td>\n",
       "      <td>2018-02-20</td>\n",
       "      <td>surf</td>\n",
       "      <td>2018-12-31</td>\n",
       "    </tr>\n",
       "    <tr>\n",
       "      <th>497</th>\n",
       "      <td>1497</td>\n",
       "      <td>[12.0]</td>\n",
       "      <td>Donte</td>\n",
       "      <td>Barrera</td>\n",
       "      <td>49</td>\n",
       "      <td>Los Angeles-Long Beach-Anaheim, CA MSA</td>\n",
       "      <td>2018-12-10</td>\n",
       "      <td>ultimate</td>\n",
       "      <td>2018-12-31</td>\n",
       "    </tr>\n",
       "    <tr>\n",
       "      <th>498</th>\n",
       "      <td>1498</td>\n",
       "      <td>[2.0, 3.0, 4.0, 5.0, 6.0, 7.0, 8.0, 9.0, 10.0,...</td>\n",
       "      <td>Scot</td>\n",
       "      <td>Williamson</td>\n",
       "      <td>51</td>\n",
       "      <td>New York-Newark-Jersey City, NY-NJ-PA MSA</td>\n",
       "      <td>2018-02-04</td>\n",
       "      <td>surf</td>\n",
       "      <td>2018-12-31</td>\n",
       "    </tr>\n",
       "    <tr>\n",
       "      <th>499</th>\n",
       "      <td>1499</td>\n",
       "      <td>[9.0, 10.0, 11.0, 12.0]</td>\n",
       "      <td>Shena</td>\n",
       "      <td>Dickson</td>\n",
       "      <td>37</td>\n",
       "      <td>Orlando-Kissimmee-Sanford, FL MSA</td>\n",
       "      <td>2018-05-06</td>\n",
       "      <td>surf</td>\n",
       "      <td>2018-12-31</td>\n",
       "    </tr>\n",
       "  </tbody>\n",
       "</table>\n",
       "<p>490 rows × 9 columns</p>\n",
       "</div>"
      ],
      "text/plain": [
       "     user_id                                              month first_name  \\\n",
       "0       1000                                             [12.0]   Anamaria   \n",
       "1       1001                       [8.0, 9.0, 10.0, 11.0, 12.0]     Mickey   \n",
       "2       1002                                 [10.0, 11.0, 12.0]     Carlee   \n",
       "3       1003                                             [12.0]   Reynaldo   \n",
       "4       1004        [5.0, 6.0, 7.0, 8.0, 9.0, 10.0, 11.0, 12.0]    Leonila   \n",
       "..       ...                                                ...        ...   \n",
       "495     1495                            [9.0, 10.0, 11.0, 12.0]      Fidel   \n",
       "496     1496                       [8.0, 9.0, 10.0, 11.0, 12.0]      Ariel   \n",
       "497     1497                                             [12.0]      Donte   \n",
       "498     1498  [2.0, 3.0, 4.0, 5.0, 6.0, 7.0, 8.0, 9.0, 10.0,...       Scot   \n",
       "499     1499                            [9.0, 10.0, 11.0, 12.0]      Shena   \n",
       "\n",
       "      last_name  age                                       city    reg_date  \\\n",
       "0         Bauer   45      Atlanta-Sandy Springs-Roswell, GA MSA  2018-12-24   \n",
       "1     Wilkerson   28            Seattle-Tacoma-Bellevue, WA MSA  2018-08-13   \n",
       "2       Hoffman   36       Las Vegas-Henderson-Paradise, NV MSA  2018-10-21   \n",
       "3       Jenkins   52                              Tulsa, OK MSA  2018-01-28   \n",
       "4      Thompson   40            Seattle-Tacoma-Bellevue, WA MSA  2018-05-23   \n",
       "..          ...  ...                                        ...         ...   \n",
       "495      Sharpe   67  New York-Newark-Jersey City, NY-NJ-PA MSA  2018-09-04   \n",
       "496    Shepherd   49               New Orleans-Metairie, LA MSA  2018-02-20   \n",
       "497     Barrera   49     Los Angeles-Long Beach-Anaheim, CA MSA  2018-12-10   \n",
       "498  Williamson   51  New York-Newark-Jersey City, NY-NJ-PA MSA  2018-02-04   \n",
       "499     Dickson   37          Orlando-Kissimmee-Sanford, FL MSA  2018-05-06   \n",
       "\n",
       "         plan  churn_date  \n",
       "0    ultimate  2018-12-31  \n",
       "1        surf  2018-12-31  \n",
       "2        surf  2018-12-31  \n",
       "3        surf  2018-12-31  \n",
       "4        surf  2018-12-31  \n",
       "..        ...         ...  \n",
       "495      surf  2018-12-31  \n",
       "496      surf  2018-12-31  \n",
       "497  ultimate  2018-12-31  \n",
       "498      surf  2018-12-31  \n",
       "499      surf  2018-12-31  \n",
       "\n",
       "[490 rows x 9 columns]"
      ]
     },
     "execution_count": 47,
     "metadata": {},
     "output_type": "execute_result"
    }
   ],
   "source": [
    "active_new=active.merge(users,how='left',on='user_id')\n",
    "active_new['churn_date']=active_new['churn_date'].fillna('2018-12-31')\n",
    "active_new = active_new.query('user_id not in @lost_usersid')\n",
    "\n",
    "active_new"
   ]
  },
  {
   "cell_type": "code",
   "execution_count": 48,
   "metadata": {
    "scrolled": true
   },
   "outputs": [
    {
     "data": {
      "text/html": [
       "<div>\n",
       "<style scoped>\n",
       "    .dataframe tbody tr th:only-of-type {\n",
       "        vertical-align: middle;\n",
       "    }\n",
       "\n",
       "    .dataframe tbody tr th {\n",
       "        vertical-align: top;\n",
       "    }\n",
       "\n",
       "    .dataframe thead th {\n",
       "        text-align: right;\n",
       "    }\n",
       "</style>\n",
       "<table border=\"1\" class=\"dataframe\">\n",
       "  <thead>\n",
       "    <tr style=\"text-align: right;\">\n",
       "      <th></th>\n",
       "      <th>user_id</th>\n",
       "      <th>month</th>\n",
       "      <th>first_name</th>\n",
       "      <th>last_name</th>\n",
       "      <th>age</th>\n",
       "      <th>city</th>\n",
       "      <th>reg_date</th>\n",
       "      <th>plan</th>\n",
       "      <th>churn_date</th>\n",
       "      <th>registered_months</th>\n",
       "    </tr>\n",
       "  </thead>\n",
       "  <tbody>\n",
       "    <tr>\n",
       "      <th>0</th>\n",
       "      <td>1000</td>\n",
       "      <td>[12.0]</td>\n",
       "      <td>Anamaria</td>\n",
       "      <td>Bauer</td>\n",
       "      <td>45</td>\n",
       "      <td>Atlanta-Sandy Springs-Roswell, GA MSA</td>\n",
       "      <td>2018-12-24</td>\n",
       "      <td>ultimate</td>\n",
       "      <td>2018-12-31</td>\n",
       "      <td>[12]</td>\n",
       "    </tr>\n",
       "    <tr>\n",
       "      <th>1</th>\n",
       "      <td>1001</td>\n",
       "      <td>[8.0, 9.0, 10.0, 11.0, 12.0]</td>\n",
       "      <td>Mickey</td>\n",
       "      <td>Wilkerson</td>\n",
       "      <td>28</td>\n",
       "      <td>Seattle-Tacoma-Bellevue, WA MSA</td>\n",
       "      <td>2018-08-13</td>\n",
       "      <td>surf</td>\n",
       "      <td>2018-12-31</td>\n",
       "      <td>[8, 9, 10, 11, 12]</td>\n",
       "    </tr>\n",
       "    <tr>\n",
       "      <th>2</th>\n",
       "      <td>1002</td>\n",
       "      <td>[10.0, 11.0, 12.0]</td>\n",
       "      <td>Carlee</td>\n",
       "      <td>Hoffman</td>\n",
       "      <td>36</td>\n",
       "      <td>Las Vegas-Henderson-Paradise, NV MSA</td>\n",
       "      <td>2018-10-21</td>\n",
       "      <td>surf</td>\n",
       "      <td>2018-12-31</td>\n",
       "      <td>[10, 11, 12]</td>\n",
       "    </tr>\n",
       "    <tr>\n",
       "      <th>3</th>\n",
       "      <td>1003</td>\n",
       "      <td>[12.0]</td>\n",
       "      <td>Reynaldo</td>\n",
       "      <td>Jenkins</td>\n",
       "      <td>52</td>\n",
       "      <td>Tulsa, OK MSA</td>\n",
       "      <td>2018-01-28</td>\n",
       "      <td>surf</td>\n",
       "      <td>2018-12-31</td>\n",
       "      <td>[1, 2, 3, 4, 5, 6, 7, 8, 9, 10, 11, 12]</td>\n",
       "    </tr>\n",
       "    <tr>\n",
       "      <th>4</th>\n",
       "      <td>1004</td>\n",
       "      <td>[5.0, 6.0, 7.0, 8.0, 9.0, 10.0, 11.0, 12.0]</td>\n",
       "      <td>Leonila</td>\n",
       "      <td>Thompson</td>\n",
       "      <td>40</td>\n",
       "      <td>Seattle-Tacoma-Bellevue, WA MSA</td>\n",
       "      <td>2018-05-23</td>\n",
       "      <td>surf</td>\n",
       "      <td>2018-12-31</td>\n",
       "      <td>[5, 6, 7, 8, 9, 10, 11, 12]</td>\n",
       "    </tr>\n",
       "    <tr>\n",
       "      <th>...</th>\n",
       "      <td>...</td>\n",
       "      <td>...</td>\n",
       "      <td>...</td>\n",
       "      <td>...</td>\n",
       "      <td>...</td>\n",
       "      <td>...</td>\n",
       "      <td>...</td>\n",
       "      <td>...</td>\n",
       "      <td>...</td>\n",
       "      <td>...</td>\n",
       "    </tr>\n",
       "    <tr>\n",
       "      <th>495</th>\n",
       "      <td>1495</td>\n",
       "      <td>[9.0, 10.0, 11.0, 12.0]</td>\n",
       "      <td>Fidel</td>\n",
       "      <td>Sharpe</td>\n",
       "      <td>67</td>\n",
       "      <td>New York-Newark-Jersey City, NY-NJ-PA MSA</td>\n",
       "      <td>2018-09-04</td>\n",
       "      <td>surf</td>\n",
       "      <td>2018-12-31</td>\n",
       "      <td>[9, 10, 11, 12]</td>\n",
       "    </tr>\n",
       "    <tr>\n",
       "      <th>496</th>\n",
       "      <td>1496</td>\n",
       "      <td>[8.0, 9.0, 10.0, 11.0, 12.0]</td>\n",
       "      <td>Ariel</td>\n",
       "      <td>Shepherd</td>\n",
       "      <td>49</td>\n",
       "      <td>New Orleans-Metairie, LA MSA</td>\n",
       "      <td>2018-02-20</td>\n",
       "      <td>surf</td>\n",
       "      <td>2018-12-31</td>\n",
       "      <td>[2, 3, 4, 5, 6, 7, 8, 9, 10, 11, 12]</td>\n",
       "    </tr>\n",
       "    <tr>\n",
       "      <th>497</th>\n",
       "      <td>1497</td>\n",
       "      <td>[12.0]</td>\n",
       "      <td>Donte</td>\n",
       "      <td>Barrera</td>\n",
       "      <td>49</td>\n",
       "      <td>Los Angeles-Long Beach-Anaheim, CA MSA</td>\n",
       "      <td>2018-12-10</td>\n",
       "      <td>ultimate</td>\n",
       "      <td>2018-12-31</td>\n",
       "      <td>[12]</td>\n",
       "    </tr>\n",
       "    <tr>\n",
       "      <th>498</th>\n",
       "      <td>1498</td>\n",
       "      <td>[2.0, 3.0, 4.0, 5.0, 6.0, 7.0, 8.0, 9.0, 10.0,...</td>\n",
       "      <td>Scot</td>\n",
       "      <td>Williamson</td>\n",
       "      <td>51</td>\n",
       "      <td>New York-Newark-Jersey City, NY-NJ-PA MSA</td>\n",
       "      <td>2018-02-04</td>\n",
       "      <td>surf</td>\n",
       "      <td>2018-12-31</td>\n",
       "      <td>[2, 3, 4, 5, 6, 7, 8, 9, 10, 11, 12]</td>\n",
       "    </tr>\n",
       "    <tr>\n",
       "      <th>499</th>\n",
       "      <td>1499</td>\n",
       "      <td>[9.0, 10.0, 11.0, 12.0]</td>\n",
       "      <td>Shena</td>\n",
       "      <td>Dickson</td>\n",
       "      <td>37</td>\n",
       "      <td>Orlando-Kissimmee-Sanford, FL MSA</td>\n",
       "      <td>2018-05-06</td>\n",
       "      <td>surf</td>\n",
       "      <td>2018-12-31</td>\n",
       "      <td>[5, 6, 7, 8, 9, 10, 11, 12]</td>\n",
       "    </tr>\n",
       "  </tbody>\n",
       "</table>\n",
       "<p>490 rows × 10 columns</p>\n",
       "</div>"
      ],
      "text/plain": [
       "     user_id                                              month first_name  \\\n",
       "0       1000                                             [12.0]   Anamaria   \n",
       "1       1001                       [8.0, 9.0, 10.0, 11.0, 12.0]     Mickey   \n",
       "2       1002                                 [10.0, 11.0, 12.0]     Carlee   \n",
       "3       1003                                             [12.0]   Reynaldo   \n",
       "4       1004        [5.0, 6.0, 7.0, 8.0, 9.0, 10.0, 11.0, 12.0]    Leonila   \n",
       "..       ...                                                ...        ...   \n",
       "495     1495                            [9.0, 10.0, 11.0, 12.0]      Fidel   \n",
       "496     1496                       [8.0, 9.0, 10.0, 11.0, 12.0]      Ariel   \n",
       "497     1497                                             [12.0]      Donte   \n",
       "498     1498  [2.0, 3.0, 4.0, 5.0, 6.0, 7.0, 8.0, 9.0, 10.0,...       Scot   \n",
       "499     1499                            [9.0, 10.0, 11.0, 12.0]      Shena   \n",
       "\n",
       "      last_name  age                                       city    reg_date  \\\n",
       "0         Bauer   45      Atlanta-Sandy Springs-Roswell, GA MSA  2018-12-24   \n",
       "1     Wilkerson   28            Seattle-Tacoma-Bellevue, WA MSA  2018-08-13   \n",
       "2       Hoffman   36       Las Vegas-Henderson-Paradise, NV MSA  2018-10-21   \n",
       "3       Jenkins   52                              Tulsa, OK MSA  2018-01-28   \n",
       "4      Thompson   40            Seattle-Tacoma-Bellevue, WA MSA  2018-05-23   \n",
       "..          ...  ...                                        ...         ...   \n",
       "495      Sharpe   67  New York-Newark-Jersey City, NY-NJ-PA MSA  2018-09-04   \n",
       "496    Shepherd   49               New Orleans-Metairie, LA MSA  2018-02-20   \n",
       "497     Barrera   49     Los Angeles-Long Beach-Anaheim, CA MSA  2018-12-10   \n",
       "498  Williamson   51  New York-Newark-Jersey City, NY-NJ-PA MSA  2018-02-04   \n",
       "499     Dickson   37          Orlando-Kissimmee-Sanford, FL MSA  2018-05-06   \n",
       "\n",
       "         plan  churn_date                        registered_months  \n",
       "0    ultimate  2018-12-31                                     [12]  \n",
       "1        surf  2018-12-31                       [8, 9, 10, 11, 12]  \n",
       "2        surf  2018-12-31                             [10, 11, 12]  \n",
       "3        surf  2018-12-31  [1, 2, 3, 4, 5, 6, 7, 8, 9, 10, 11, 12]  \n",
       "4        surf  2018-12-31              [5, 6, 7, 8, 9, 10, 11, 12]  \n",
       "..        ...         ...                                      ...  \n",
       "495      surf  2018-12-31                          [9, 10, 11, 12]  \n",
       "496      surf  2018-12-31     [2, 3, 4, 5, 6, 7, 8, 9, 10, 11, 12]  \n",
       "497  ultimate  2018-12-31                                     [12]  \n",
       "498      surf  2018-12-31     [2, 3, 4, 5, 6, 7, 8, 9, 10, 11, 12]  \n",
       "499      surf  2018-12-31              [5, 6, 7, 8, 9, 10, 11, 12]  \n",
       "\n",
       "[490 rows x 10 columns]"
      ]
     },
     "execution_count": 48,
     "metadata": {},
     "output_type": "execute_result"
    }
   ],
   "source": [
    "#getting months that users were registered for \n",
    "def months_range(row):\n",
    "    reg_month=pd.to_datetime(row[\"reg_date\"]).month\n",
    "    end_month=pd.to_datetime(row[\"churn_date\"]).month\n",
    "    range_of_months=list(range(reg_month,end_month+1))\n",
    "    return range_of_months\n",
    "active_new['registered_months']=active_new.apply(months_range,axis=1)\n",
    "active_new"
   ]
  },
  {
   "cell_type": "code",
   "execution_count": 49,
   "metadata": {
    "scrolled": false
   },
   "outputs": [
    {
     "data": {
      "text/html": [
       "<div>\n",
       "<style scoped>\n",
       "    .dataframe tbody tr th:only-of-type {\n",
       "        vertical-align: middle;\n",
       "    }\n",
       "\n",
       "    .dataframe tbody tr th {\n",
       "        vertical-align: top;\n",
       "    }\n",
       "\n",
       "    .dataframe thead th {\n",
       "        text-align: right;\n",
       "    }\n",
       "</style>\n",
       "<table border=\"1\" class=\"dataframe\">\n",
       "  <thead>\n",
       "    <tr style=\"text-align: right;\">\n",
       "      <th></th>\n",
       "      <th>user_id</th>\n",
       "      <th>month</th>\n",
       "      <th>first_name</th>\n",
       "      <th>last_name</th>\n",
       "      <th>age</th>\n",
       "      <th>city</th>\n",
       "      <th>reg_date</th>\n",
       "      <th>plan</th>\n",
       "      <th>churn_date</th>\n",
       "      <th>registered_months</th>\n",
       "      <th>months_to_include</th>\n",
       "    </tr>\n",
       "  </thead>\n",
       "  <tbody>\n",
       "    <tr>\n",
       "      <th>0</th>\n",
       "      <td>1000</td>\n",
       "      <td>[12.0]</td>\n",
       "      <td>Anamaria</td>\n",
       "      <td>Bauer</td>\n",
       "      <td>45</td>\n",
       "      <td>Atlanta-Sandy Springs-Roswell, GA MSA</td>\n",
       "      <td>2018-12-24</td>\n",
       "      <td>ultimate</td>\n",
       "      <td>2018-12-31</td>\n",
       "      <td>[12]</td>\n",
       "      <td>[]</td>\n",
       "    </tr>\n",
       "    <tr>\n",
       "      <th>1</th>\n",
       "      <td>1001</td>\n",
       "      <td>[8.0, 9.0, 10.0, 11.0, 12.0]</td>\n",
       "      <td>Mickey</td>\n",
       "      <td>Wilkerson</td>\n",
       "      <td>28</td>\n",
       "      <td>Seattle-Tacoma-Bellevue, WA MSA</td>\n",
       "      <td>2018-08-13</td>\n",
       "      <td>surf</td>\n",
       "      <td>2018-12-31</td>\n",
       "      <td>[8, 9, 10, 11, 12]</td>\n",
       "      <td>[]</td>\n",
       "    </tr>\n",
       "    <tr>\n",
       "      <th>2</th>\n",
       "      <td>1002</td>\n",
       "      <td>[10.0, 11.0, 12.0]</td>\n",
       "      <td>Carlee</td>\n",
       "      <td>Hoffman</td>\n",
       "      <td>36</td>\n",
       "      <td>Las Vegas-Henderson-Paradise, NV MSA</td>\n",
       "      <td>2018-10-21</td>\n",
       "      <td>surf</td>\n",
       "      <td>2018-12-31</td>\n",
       "      <td>[10, 11, 12]</td>\n",
       "      <td>[]</td>\n",
       "    </tr>\n",
       "    <tr>\n",
       "      <th>3</th>\n",
       "      <td>1003</td>\n",
       "      <td>[12.0]</td>\n",
       "      <td>Reynaldo</td>\n",
       "      <td>Jenkins</td>\n",
       "      <td>52</td>\n",
       "      <td>Tulsa, OK MSA</td>\n",
       "      <td>2018-01-28</td>\n",
       "      <td>surf</td>\n",
       "      <td>2018-12-31</td>\n",
       "      <td>[1, 2, 3, 4, 5, 6, 7, 8, 9, 10, 11, 12]</td>\n",
       "      <td>[1, 2, 3, 4, 5, 6, 7, 8, 9, 10, 11]</td>\n",
       "    </tr>\n",
       "    <tr>\n",
       "      <th>4</th>\n",
       "      <td>1004</td>\n",
       "      <td>[5.0, 6.0, 7.0, 8.0, 9.0, 10.0, 11.0, 12.0]</td>\n",
       "      <td>Leonila</td>\n",
       "      <td>Thompson</td>\n",
       "      <td>40</td>\n",
       "      <td>Seattle-Tacoma-Bellevue, WA MSA</td>\n",
       "      <td>2018-05-23</td>\n",
       "      <td>surf</td>\n",
       "      <td>2018-12-31</td>\n",
       "      <td>[5, 6, 7, 8, 9, 10, 11, 12]</td>\n",
       "      <td>[]</td>\n",
       "    </tr>\n",
       "    <tr>\n",
       "      <th>...</th>\n",
       "      <td>...</td>\n",
       "      <td>...</td>\n",
       "      <td>...</td>\n",
       "      <td>...</td>\n",
       "      <td>...</td>\n",
       "      <td>...</td>\n",
       "      <td>...</td>\n",
       "      <td>...</td>\n",
       "      <td>...</td>\n",
       "      <td>...</td>\n",
       "      <td>...</td>\n",
       "    </tr>\n",
       "    <tr>\n",
       "      <th>495</th>\n",
       "      <td>1495</td>\n",
       "      <td>[9.0, 10.0, 11.0, 12.0]</td>\n",
       "      <td>Fidel</td>\n",
       "      <td>Sharpe</td>\n",
       "      <td>67</td>\n",
       "      <td>New York-Newark-Jersey City, NY-NJ-PA MSA</td>\n",
       "      <td>2018-09-04</td>\n",
       "      <td>surf</td>\n",
       "      <td>2018-12-31</td>\n",
       "      <td>[9, 10, 11, 12]</td>\n",
       "      <td>[]</td>\n",
       "    </tr>\n",
       "    <tr>\n",
       "      <th>496</th>\n",
       "      <td>1496</td>\n",
       "      <td>[8.0, 9.0, 10.0, 11.0, 12.0]</td>\n",
       "      <td>Ariel</td>\n",
       "      <td>Shepherd</td>\n",
       "      <td>49</td>\n",
       "      <td>New Orleans-Metairie, LA MSA</td>\n",
       "      <td>2018-02-20</td>\n",
       "      <td>surf</td>\n",
       "      <td>2018-12-31</td>\n",
       "      <td>[2, 3, 4, 5, 6, 7, 8, 9, 10, 11, 12]</td>\n",
       "      <td>[2, 3, 4, 5, 6, 7]</td>\n",
       "    </tr>\n",
       "    <tr>\n",
       "      <th>497</th>\n",
       "      <td>1497</td>\n",
       "      <td>[12.0]</td>\n",
       "      <td>Donte</td>\n",
       "      <td>Barrera</td>\n",
       "      <td>49</td>\n",
       "      <td>Los Angeles-Long Beach-Anaheim, CA MSA</td>\n",
       "      <td>2018-12-10</td>\n",
       "      <td>ultimate</td>\n",
       "      <td>2018-12-31</td>\n",
       "      <td>[12]</td>\n",
       "      <td>[]</td>\n",
       "    </tr>\n",
       "    <tr>\n",
       "      <th>498</th>\n",
       "      <td>1498</td>\n",
       "      <td>[2.0, 3.0, 4.0, 5.0, 6.0, 7.0, 8.0, 9.0, 10.0,...</td>\n",
       "      <td>Scot</td>\n",
       "      <td>Williamson</td>\n",
       "      <td>51</td>\n",
       "      <td>New York-Newark-Jersey City, NY-NJ-PA MSA</td>\n",
       "      <td>2018-02-04</td>\n",
       "      <td>surf</td>\n",
       "      <td>2018-12-31</td>\n",
       "      <td>[2, 3, 4, 5, 6, 7, 8, 9, 10, 11, 12]</td>\n",
       "      <td>[]</td>\n",
       "    </tr>\n",
       "    <tr>\n",
       "      <th>499</th>\n",
       "      <td>1499</td>\n",
       "      <td>[9.0, 10.0, 11.0, 12.0]</td>\n",
       "      <td>Shena</td>\n",
       "      <td>Dickson</td>\n",
       "      <td>37</td>\n",
       "      <td>Orlando-Kissimmee-Sanford, FL MSA</td>\n",
       "      <td>2018-05-06</td>\n",
       "      <td>surf</td>\n",
       "      <td>2018-12-31</td>\n",
       "      <td>[5, 6, 7, 8, 9, 10, 11, 12]</td>\n",
       "      <td>[8, 5, 6, 7]</td>\n",
       "    </tr>\n",
       "  </tbody>\n",
       "</table>\n",
       "<p>490 rows × 11 columns</p>\n",
       "</div>"
      ],
      "text/plain": [
       "     user_id                                              month first_name  \\\n",
       "0       1000                                             [12.0]   Anamaria   \n",
       "1       1001                       [8.0, 9.0, 10.0, 11.0, 12.0]     Mickey   \n",
       "2       1002                                 [10.0, 11.0, 12.0]     Carlee   \n",
       "3       1003                                             [12.0]   Reynaldo   \n",
       "4       1004        [5.0, 6.0, 7.0, 8.0, 9.0, 10.0, 11.0, 12.0]    Leonila   \n",
       "..       ...                                                ...        ...   \n",
       "495     1495                            [9.0, 10.0, 11.0, 12.0]      Fidel   \n",
       "496     1496                       [8.0, 9.0, 10.0, 11.0, 12.0]      Ariel   \n",
       "497     1497                                             [12.0]      Donte   \n",
       "498     1498  [2.0, 3.0, 4.0, 5.0, 6.0, 7.0, 8.0, 9.0, 10.0,...       Scot   \n",
       "499     1499                            [9.0, 10.0, 11.0, 12.0]      Shena   \n",
       "\n",
       "      last_name  age                                       city    reg_date  \\\n",
       "0         Bauer   45      Atlanta-Sandy Springs-Roswell, GA MSA  2018-12-24   \n",
       "1     Wilkerson   28            Seattle-Tacoma-Bellevue, WA MSA  2018-08-13   \n",
       "2       Hoffman   36       Las Vegas-Henderson-Paradise, NV MSA  2018-10-21   \n",
       "3       Jenkins   52                              Tulsa, OK MSA  2018-01-28   \n",
       "4      Thompson   40            Seattle-Tacoma-Bellevue, WA MSA  2018-05-23   \n",
       "..          ...  ...                                        ...         ...   \n",
       "495      Sharpe   67  New York-Newark-Jersey City, NY-NJ-PA MSA  2018-09-04   \n",
       "496    Shepherd   49               New Orleans-Metairie, LA MSA  2018-02-20   \n",
       "497     Barrera   49     Los Angeles-Long Beach-Anaheim, CA MSA  2018-12-10   \n",
       "498  Williamson   51  New York-Newark-Jersey City, NY-NJ-PA MSA  2018-02-04   \n",
       "499     Dickson   37          Orlando-Kissimmee-Sanford, FL MSA  2018-05-06   \n",
       "\n",
       "         plan  churn_date                        registered_months  \\\n",
       "0    ultimate  2018-12-31                                     [12]   \n",
       "1        surf  2018-12-31                       [8, 9, 10, 11, 12]   \n",
       "2        surf  2018-12-31                             [10, 11, 12]   \n",
       "3        surf  2018-12-31  [1, 2, 3, 4, 5, 6, 7, 8, 9, 10, 11, 12]   \n",
       "4        surf  2018-12-31              [5, 6, 7, 8, 9, 10, 11, 12]   \n",
       "..        ...         ...                                      ...   \n",
       "495      surf  2018-12-31                          [9, 10, 11, 12]   \n",
       "496      surf  2018-12-31     [2, 3, 4, 5, 6, 7, 8, 9, 10, 11, 12]   \n",
       "497  ultimate  2018-12-31                                     [12]   \n",
       "498      surf  2018-12-31     [2, 3, 4, 5, 6, 7, 8, 9, 10, 11, 12]   \n",
       "499      surf  2018-12-31              [5, 6, 7, 8, 9, 10, 11, 12]   \n",
       "\n",
       "                       months_to_include  \n",
       "0                                     []  \n",
       "1                                     []  \n",
       "2                                     []  \n",
       "3    [1, 2, 3, 4, 5, 6, 7, 8, 9, 10, 11]  \n",
       "4                                     []  \n",
       "..                                   ...  \n",
       "495                                   []  \n",
       "496                   [2, 3, 4, 5, 6, 7]  \n",
       "497                                   []  \n",
       "498                                   []  \n",
       "499                         [8, 5, 6, 7]  \n",
       "\n",
       "[490 rows x 11 columns]"
      ]
     },
     "execution_count": 49,
     "metadata": {},
     "output_type": "execute_result"
    }
   ],
   "source": [
    "active_new['months_to_include']=active_new.apply(lambda row: list(set(row['registered_months'])-set(row['month'])),axis=1)\n",
    "active_new"
   ]
  },
  {
   "cell_type": "code",
   "execution_count": 50,
   "metadata": {
    "scrolled": true
   },
   "outputs": [
    {
     "data": {
      "text/html": [
       "<div>\n",
       "<style scoped>\n",
       "    .dataframe tbody tr th:only-of-type {\n",
       "        vertical-align: middle;\n",
       "    }\n",
       "\n",
       "    .dataframe tbody tr th {\n",
       "        vertical-align: top;\n",
       "    }\n",
       "\n",
       "    .dataframe thead th {\n",
       "        text-align: right;\n",
       "    }\n",
       "</style>\n",
       "<table border=\"1\" class=\"dataframe\">\n",
       "  <thead>\n",
       "    <tr style=\"text-align: right;\">\n",
       "      <th></th>\n",
       "      <th>user_id</th>\n",
       "      <th>month</th>\n",
       "      <th>first_name</th>\n",
       "      <th>last_name</th>\n",
       "      <th>age</th>\n",
       "      <th>city</th>\n",
       "      <th>reg_date</th>\n",
       "      <th>plan</th>\n",
       "      <th>churn_date</th>\n",
       "      <th>registered_months</th>\n",
       "      <th>months_to_include</th>\n",
       "    </tr>\n",
       "  </thead>\n",
       "  <tbody>\n",
       "    <tr>\n",
       "      <th>3</th>\n",
       "      <td>1003</td>\n",
       "      <td>[12.0]</td>\n",
       "      <td>Reynaldo</td>\n",
       "      <td>Jenkins</td>\n",
       "      <td>52</td>\n",
       "      <td>Tulsa, OK MSA</td>\n",
       "      <td>2018-01-28</td>\n",
       "      <td>surf</td>\n",
       "      <td>2018-12-31</td>\n",
       "      <td>[1, 2, 3, 4, 5, 6, 7, 8, 9, 10, 11, 12]</td>\n",
       "      <td>[1, 2, 3, 4, 5, 6, 7, 8, 9, 10, 11]</td>\n",
       "    </tr>\n",
       "    <tr>\n",
       "      <th>5</th>\n",
       "      <td>1005</td>\n",
       "      <td>[12.0]</td>\n",
       "      <td>Livia</td>\n",
       "      <td>Shields</td>\n",
       "      <td>31</td>\n",
       "      <td>Dallas-Fort Worth-Arlington, TX MSA</td>\n",
       "      <td>2018-11-29</td>\n",
       "      <td>surf</td>\n",
       "      <td>2018-12-31</td>\n",
       "      <td>[11, 12]</td>\n",
       "      <td>[11]</td>\n",
       "    </tr>\n",
       "    <tr>\n",
       "      <th>7</th>\n",
       "      <td>1007</td>\n",
       "      <td>[8.0, 9.0, 10.0, 11.0, 12.0]</td>\n",
       "      <td>Eusebio</td>\n",
       "      <td>Welch</td>\n",
       "      <td>42</td>\n",
       "      <td>Grand Rapids-Kentwood, MI MSA</td>\n",
       "      <td>2018-07-11</td>\n",
       "      <td>surf</td>\n",
       "      <td>2018-12-31</td>\n",
       "      <td>[7, 8, 9, 10, 11, 12]</td>\n",
       "      <td>[7]</td>\n",
       "    </tr>\n",
       "    <tr>\n",
       "      <th>8</th>\n",
       "      <td>1008</td>\n",
       "      <td>[10.0, 11.0, 12.0]</td>\n",
       "      <td>Emely</td>\n",
       "      <td>Hoffman</td>\n",
       "      <td>53</td>\n",
       "      <td>Orlando-Kissimmee-Sanford, FL MSA</td>\n",
       "      <td>2018-08-03</td>\n",
       "      <td>ultimate</td>\n",
       "      <td>2018-12-31</td>\n",
       "      <td>[8, 9, 10, 11, 12]</td>\n",
       "      <td>[8, 9]</td>\n",
       "    </tr>\n",
       "    <tr>\n",
       "      <th>9</th>\n",
       "      <td>1009</td>\n",
       "      <td>[5.0, 6.0, 7.0, 8.0, 9.0, 10.0, 11.0, 12.0]</td>\n",
       "      <td>Gerry</td>\n",
       "      <td>Little</td>\n",
       "      <td>19</td>\n",
       "      <td>San Jose-Sunnyvale-Santa Clara, CA MSA</td>\n",
       "      <td>2018-04-22</td>\n",
       "      <td>surf</td>\n",
       "      <td>2018-12-31</td>\n",
       "      <td>[4, 5, 6, 7, 8, 9, 10, 11, 12]</td>\n",
       "      <td>[4]</td>\n",
       "    </tr>\n",
       "    <tr>\n",
       "      <th>...</th>\n",
       "      <td>...</td>\n",
       "      <td>...</td>\n",
       "      <td>...</td>\n",
       "      <td>...</td>\n",
       "      <td>...</td>\n",
       "      <td>...</td>\n",
       "      <td>...</td>\n",
       "      <td>...</td>\n",
       "      <td>...</td>\n",
       "      <td>...</td>\n",
       "      <td>...</td>\n",
       "    </tr>\n",
       "    <tr>\n",
       "      <th>492</th>\n",
       "      <td>1492</td>\n",
       "      <td>[9.0, 10.0, 11.0, 12.0]</td>\n",
       "      <td>Elvie</td>\n",
       "      <td>Jones</td>\n",
       "      <td>63</td>\n",
       "      <td>Portland-Vancouver-Hillsboro, OR-WA MSA</td>\n",
       "      <td>2018-03-07</td>\n",
       "      <td>surf</td>\n",
       "      <td>2018-12-31</td>\n",
       "      <td>[3, 4, 5, 6, 7, 8, 9, 10, 11, 12]</td>\n",
       "      <td>[3, 4, 5, 6, 7, 8]</td>\n",
       "    </tr>\n",
       "    <tr>\n",
       "      <th>493</th>\n",
       "      <td>1493</td>\n",
       "      <td>[8.0, 9.0, 10.0, 11.0, 12.0]</td>\n",
       "      <td>Cicely</td>\n",
       "      <td>Wynn</td>\n",
       "      <td>18</td>\n",
       "      <td>Boston-Cambridge-Newton, MA-NH MSA</td>\n",
       "      <td>2018-03-06</td>\n",
       "      <td>ultimate</td>\n",
       "      <td>2018-12-31</td>\n",
       "      <td>[3, 4, 5, 6, 7, 8, 9, 10, 11, 12]</td>\n",
       "      <td>[3, 4, 5, 6, 7]</td>\n",
       "    </tr>\n",
       "    <tr>\n",
       "      <th>494</th>\n",
       "      <td>1494</td>\n",
       "      <td>[7.0, 8.0, 9.0, 10.0, 11.0, 12.0]</td>\n",
       "      <td>Preston</td>\n",
       "      <td>Downs</td>\n",
       "      <td>70</td>\n",
       "      <td>New York-Newark-Jersey City, NY-NJ-PA MSA</td>\n",
       "      <td>2018-04-19</td>\n",
       "      <td>surf</td>\n",
       "      <td>2018-12-31</td>\n",
       "      <td>[4, 5, 6, 7, 8, 9, 10, 11, 12]</td>\n",
       "      <td>[4, 5, 6]</td>\n",
       "    </tr>\n",
       "    <tr>\n",
       "      <th>496</th>\n",
       "      <td>1496</td>\n",
       "      <td>[8.0, 9.0, 10.0, 11.0, 12.0]</td>\n",
       "      <td>Ariel</td>\n",
       "      <td>Shepherd</td>\n",
       "      <td>49</td>\n",
       "      <td>New Orleans-Metairie, LA MSA</td>\n",
       "      <td>2018-02-20</td>\n",
       "      <td>surf</td>\n",
       "      <td>2018-12-31</td>\n",
       "      <td>[2, 3, 4, 5, 6, 7, 8, 9, 10, 11, 12]</td>\n",
       "      <td>[2, 3, 4, 5, 6, 7]</td>\n",
       "    </tr>\n",
       "    <tr>\n",
       "      <th>499</th>\n",
       "      <td>1499</td>\n",
       "      <td>[9.0, 10.0, 11.0, 12.0]</td>\n",
       "      <td>Shena</td>\n",
       "      <td>Dickson</td>\n",
       "      <td>37</td>\n",
       "      <td>Orlando-Kissimmee-Sanford, FL MSA</td>\n",
       "      <td>2018-05-06</td>\n",
       "      <td>surf</td>\n",
       "      <td>2018-12-31</td>\n",
       "      <td>[5, 6, 7, 8, 9, 10, 11, 12]</td>\n",
       "      <td>[8, 5, 6, 7]</td>\n",
       "    </tr>\n",
       "  </tbody>\n",
       "</table>\n",
       "<p>257 rows × 11 columns</p>\n",
       "</div>"
      ],
      "text/plain": [
       "     user_id                                        month first_name  \\\n",
       "3       1003                                       [12.0]   Reynaldo   \n",
       "5       1005                                       [12.0]      Livia   \n",
       "7       1007                 [8.0, 9.0, 10.0, 11.0, 12.0]    Eusebio   \n",
       "8       1008                           [10.0, 11.0, 12.0]      Emely   \n",
       "9       1009  [5.0, 6.0, 7.0, 8.0, 9.0, 10.0, 11.0, 12.0]      Gerry   \n",
       "..       ...                                          ...        ...   \n",
       "492     1492                      [9.0, 10.0, 11.0, 12.0]      Elvie   \n",
       "493     1493                 [8.0, 9.0, 10.0, 11.0, 12.0]     Cicely   \n",
       "494     1494            [7.0, 8.0, 9.0, 10.0, 11.0, 12.0]    Preston   \n",
       "496     1496                 [8.0, 9.0, 10.0, 11.0, 12.0]      Ariel   \n",
       "499     1499                      [9.0, 10.0, 11.0, 12.0]      Shena   \n",
       "\n",
       "    last_name  age                                       city    reg_date  \\\n",
       "3     Jenkins   52                              Tulsa, OK MSA  2018-01-28   \n",
       "5     Shields   31        Dallas-Fort Worth-Arlington, TX MSA  2018-11-29   \n",
       "7       Welch   42              Grand Rapids-Kentwood, MI MSA  2018-07-11   \n",
       "8     Hoffman   53          Orlando-Kissimmee-Sanford, FL MSA  2018-08-03   \n",
       "9      Little   19     San Jose-Sunnyvale-Santa Clara, CA MSA  2018-04-22   \n",
       "..        ...  ...                                        ...         ...   \n",
       "492     Jones   63    Portland-Vancouver-Hillsboro, OR-WA MSA  2018-03-07   \n",
       "493      Wynn   18         Boston-Cambridge-Newton, MA-NH MSA  2018-03-06   \n",
       "494     Downs   70  New York-Newark-Jersey City, NY-NJ-PA MSA  2018-04-19   \n",
       "496  Shepherd   49               New Orleans-Metairie, LA MSA  2018-02-20   \n",
       "499   Dickson   37          Orlando-Kissimmee-Sanford, FL MSA  2018-05-06   \n",
       "\n",
       "         plan  churn_date                        registered_months  \\\n",
       "3        surf  2018-12-31  [1, 2, 3, 4, 5, 6, 7, 8, 9, 10, 11, 12]   \n",
       "5        surf  2018-12-31                                 [11, 12]   \n",
       "7        surf  2018-12-31                    [7, 8, 9, 10, 11, 12]   \n",
       "8    ultimate  2018-12-31                       [8, 9, 10, 11, 12]   \n",
       "9        surf  2018-12-31           [4, 5, 6, 7, 8, 9, 10, 11, 12]   \n",
       "..        ...         ...                                      ...   \n",
       "492      surf  2018-12-31        [3, 4, 5, 6, 7, 8, 9, 10, 11, 12]   \n",
       "493  ultimate  2018-12-31        [3, 4, 5, 6, 7, 8, 9, 10, 11, 12]   \n",
       "494      surf  2018-12-31           [4, 5, 6, 7, 8, 9, 10, 11, 12]   \n",
       "496      surf  2018-12-31     [2, 3, 4, 5, 6, 7, 8, 9, 10, 11, 12]   \n",
       "499      surf  2018-12-31              [5, 6, 7, 8, 9, 10, 11, 12]   \n",
       "\n",
       "                       months_to_include  \n",
       "3    [1, 2, 3, 4, 5, 6, 7, 8, 9, 10, 11]  \n",
       "5                                   [11]  \n",
       "7                                    [7]  \n",
       "8                                 [8, 9]  \n",
       "9                                    [4]  \n",
       "..                                   ...  \n",
       "492                   [3, 4, 5, 6, 7, 8]  \n",
       "493                      [3, 4, 5, 6, 7]  \n",
       "494                            [4, 5, 6]  \n",
       "496                   [2, 3, 4, 5, 6, 7]  \n",
       "499                         [8, 5, 6, 7]  \n",
       "\n",
       "[257 rows x 11 columns]"
      ]
     },
     "execution_count": 50,
     "metadata": {},
     "output_type": "execute_result"
    }
   ],
   "source": [
    "##removing users with 0, since they were using services in all of the months,\n",
    "#so they've already been charged\n",
    "\n",
    "active_new=active_new[active_new.months_to_include.apply(lambda x:len(x)>0)]\n",
    "active_new"
   ]
  },
  {
   "cell_type": "code",
   "execution_count": 51,
   "metadata": {},
   "outputs": [
    {
     "data": {
      "text/html": [
       "<div>\n",
       "<style scoped>\n",
       "    .dataframe tbody tr th:only-of-type {\n",
       "        vertical-align: middle;\n",
       "    }\n",
       "\n",
       "    .dataframe tbody tr th {\n",
       "        vertical-align: top;\n",
       "    }\n",
       "\n",
       "    .dataframe thead th {\n",
       "        text-align: right;\n",
       "    }\n",
       "</style>\n",
       "<table border=\"1\" class=\"dataframe\">\n",
       "  <thead>\n",
       "    <tr style=\"text-align: right;\">\n",
       "      <th></th>\n",
       "      <th>user_id</th>\n",
       "      <th>month</th>\n",
       "      <th>calls</th>\n",
       "      <th>duration</th>\n",
       "      <th>messages</th>\n",
       "      <th>mb_used</th>\n",
       "      <th>gigas</th>\n",
       "      <th>first_name</th>\n",
       "      <th>last_name</th>\n",
       "      <th>age</th>\n",
       "      <th>city</th>\n",
       "      <th>reg_date</th>\n",
       "      <th>plan</th>\n",
       "      <th>churn_date</th>\n",
       "    </tr>\n",
       "  </thead>\n",
       "  <tbody>\n",
       "    <tr>\n",
       "      <th>0</th>\n",
       "      <td>1000</td>\n",
       "      <td>12.0</td>\n",
       "      <td>16.0</td>\n",
       "      <td>124.0</td>\n",
       "      <td>11.0</td>\n",
       "      <td>1901.47</td>\n",
       "      <td>2.0</td>\n",
       "      <td>Anamaria</td>\n",
       "      <td>Bauer</td>\n",
       "      <td>45</td>\n",
       "      <td>Atlanta-Sandy Springs-Roswell, GA MSA</td>\n",
       "      <td>2018-12-24</td>\n",
       "      <td>ultimate</td>\n",
       "      <td>NaN</td>\n",
       "    </tr>\n",
       "    <tr>\n",
       "      <th>1</th>\n",
       "      <td>1001</td>\n",
       "      <td>8.0</td>\n",
       "      <td>27.0</td>\n",
       "      <td>182.0</td>\n",
       "      <td>30.0</td>\n",
       "      <td>6919.15</td>\n",
       "      <td>7.0</td>\n",
       "      <td>Mickey</td>\n",
       "      <td>Wilkerson</td>\n",
       "      <td>28</td>\n",
       "      <td>Seattle-Tacoma-Bellevue, WA MSA</td>\n",
       "      <td>2018-08-13</td>\n",
       "      <td>surf</td>\n",
       "      <td>NaN</td>\n",
       "    </tr>\n",
       "    <tr>\n",
       "      <th>2</th>\n",
       "      <td>1001</td>\n",
       "      <td>9.0</td>\n",
       "      <td>49.0</td>\n",
       "      <td>315.0</td>\n",
       "      <td>44.0</td>\n",
       "      <td>13314.82</td>\n",
       "      <td>14.0</td>\n",
       "      <td>Mickey</td>\n",
       "      <td>Wilkerson</td>\n",
       "      <td>28</td>\n",
       "      <td>Seattle-Tacoma-Bellevue, WA MSA</td>\n",
       "      <td>2018-08-13</td>\n",
       "      <td>surf</td>\n",
       "      <td>NaN</td>\n",
       "    </tr>\n",
       "    <tr>\n",
       "      <th>3</th>\n",
       "      <td>1001</td>\n",
       "      <td>10.0</td>\n",
       "      <td>65.0</td>\n",
       "      <td>393.0</td>\n",
       "      <td>53.0</td>\n",
       "      <td>22330.49</td>\n",
       "      <td>23.0</td>\n",
       "      <td>Mickey</td>\n",
       "      <td>Wilkerson</td>\n",
       "      <td>28</td>\n",
       "      <td>Seattle-Tacoma-Bellevue, WA MSA</td>\n",
       "      <td>2018-08-13</td>\n",
       "      <td>surf</td>\n",
       "      <td>NaN</td>\n",
       "    </tr>\n",
       "    <tr>\n",
       "      <th>4</th>\n",
       "      <td>1001</td>\n",
       "      <td>11.0</td>\n",
       "      <td>64.0</td>\n",
       "      <td>426.0</td>\n",
       "      <td>36.0</td>\n",
       "      <td>18504.30</td>\n",
       "      <td>19.0</td>\n",
       "      <td>Mickey</td>\n",
       "      <td>Wilkerson</td>\n",
       "      <td>28</td>\n",
       "      <td>Seattle-Tacoma-Bellevue, WA MSA</td>\n",
       "      <td>2018-08-13</td>\n",
       "      <td>surf</td>\n",
       "      <td>NaN</td>\n",
       "    </tr>\n",
       "  </tbody>\n",
       "</table>\n",
       "</div>"
      ],
      "text/plain": [
       "   user_id  month  calls  duration  messages   mb_used  gigas first_name  \\\n",
       "0     1000   12.0   16.0     124.0      11.0   1901.47    2.0   Anamaria   \n",
       "1     1001    8.0   27.0     182.0      30.0   6919.15    7.0     Mickey   \n",
       "2     1001    9.0   49.0     315.0      44.0  13314.82   14.0     Mickey   \n",
       "3     1001   10.0   65.0     393.0      53.0  22330.49   23.0     Mickey   \n",
       "4     1001   11.0   64.0     426.0      36.0  18504.30   19.0     Mickey   \n",
       "\n",
       "   last_name  age                                   city    reg_date  \\\n",
       "0      Bauer   45  Atlanta-Sandy Springs-Roswell, GA MSA  2018-12-24   \n",
       "1  Wilkerson   28        Seattle-Tacoma-Bellevue, WA MSA  2018-08-13   \n",
       "2  Wilkerson   28        Seattle-Tacoma-Bellevue, WA MSA  2018-08-13   \n",
       "3  Wilkerson   28        Seattle-Tacoma-Bellevue, WA MSA  2018-08-13   \n",
       "4  Wilkerson   28        Seattle-Tacoma-Bellevue, WA MSA  2018-08-13   \n",
       "\n",
       "       plan churn_date  \n",
       "0  ultimate        NaN  \n",
       "1      surf        NaN  \n",
       "2      surf        NaN  \n",
       "3      surf        NaN  \n",
       "4      surf        NaN  "
      ]
     },
     "execution_count": 51,
     "metadata": {},
     "output_type": "execute_result"
    }
   ],
   "source": [
    "#adjusting the dataframe (droping columns i dont need)\n",
    "total_telecom = total_telecom.drop(columns=['months_usage'])\n",
    "total_telecom.head()"
   ]
  },
  {
   "cell_type": "code",
   "execution_count": 52,
   "metadata": {},
   "outputs": [
    {
     "data": {
      "text/html": [
       "<div>\n",
       "<style scoped>\n",
       "    .dataframe tbody tr th:only-of-type {\n",
       "        vertical-align: middle;\n",
       "    }\n",
       "\n",
       "    .dataframe tbody tr th {\n",
       "        vertical-align: top;\n",
       "    }\n",
       "\n",
       "    .dataframe thead th {\n",
       "        text-align: right;\n",
       "    }\n",
       "</style>\n",
       "<table border=\"1\" class=\"dataframe\">\n",
       "  <thead>\n",
       "    <tr style=\"text-align: right;\">\n",
       "      <th></th>\n",
       "      <th>user_id</th>\n",
       "      <th>first_name</th>\n",
       "      <th>last_name</th>\n",
       "      <th>age</th>\n",
       "      <th>city</th>\n",
       "      <th>reg_date</th>\n",
       "      <th>plan</th>\n",
       "      <th>churn_date</th>\n",
       "      <th>month</th>\n",
       "      <th>calls</th>\n",
       "      <th>mb_used</th>\n",
       "      <th>duration</th>\n",
       "      <th>messages</th>\n",
       "      <th>gigas</th>\n",
       "    </tr>\n",
       "  </thead>\n",
       "  <tbody>\n",
       "    <tr>\n",
       "      <th>3</th>\n",
       "      <td>1003</td>\n",
       "      <td>Reynaldo</td>\n",
       "      <td>Jenkins</td>\n",
       "      <td>52</td>\n",
       "      <td>Tulsa, OK MSA</td>\n",
       "      <td>2018-01-28</td>\n",
       "      <td>surf</td>\n",
       "      <td>2018-12-31</td>\n",
       "      <td>1</td>\n",
       "      <td>0</td>\n",
       "      <td>0</td>\n",
       "      <td>0</td>\n",
       "      <td>0</td>\n",
       "      <td>0</td>\n",
       "    </tr>\n",
       "    <tr>\n",
       "      <th>3</th>\n",
       "      <td>1003</td>\n",
       "      <td>Reynaldo</td>\n",
       "      <td>Jenkins</td>\n",
       "      <td>52</td>\n",
       "      <td>Tulsa, OK MSA</td>\n",
       "      <td>2018-01-28</td>\n",
       "      <td>surf</td>\n",
       "      <td>2018-12-31</td>\n",
       "      <td>2</td>\n",
       "      <td>0</td>\n",
       "      <td>0</td>\n",
       "      <td>0</td>\n",
       "      <td>0</td>\n",
       "      <td>0</td>\n",
       "    </tr>\n",
       "    <tr>\n",
       "      <th>3</th>\n",
       "      <td>1003</td>\n",
       "      <td>Reynaldo</td>\n",
       "      <td>Jenkins</td>\n",
       "      <td>52</td>\n",
       "      <td>Tulsa, OK MSA</td>\n",
       "      <td>2018-01-28</td>\n",
       "      <td>surf</td>\n",
       "      <td>2018-12-31</td>\n",
       "      <td>3</td>\n",
       "      <td>0</td>\n",
       "      <td>0</td>\n",
       "      <td>0</td>\n",
       "      <td>0</td>\n",
       "      <td>0</td>\n",
       "    </tr>\n",
       "    <tr>\n",
       "      <th>3</th>\n",
       "      <td>1003</td>\n",
       "      <td>Reynaldo</td>\n",
       "      <td>Jenkins</td>\n",
       "      <td>52</td>\n",
       "      <td>Tulsa, OK MSA</td>\n",
       "      <td>2018-01-28</td>\n",
       "      <td>surf</td>\n",
       "      <td>2018-12-31</td>\n",
       "      <td>4</td>\n",
       "      <td>0</td>\n",
       "      <td>0</td>\n",
       "      <td>0</td>\n",
       "      <td>0</td>\n",
       "      <td>0</td>\n",
       "    </tr>\n",
       "    <tr>\n",
       "      <th>3</th>\n",
       "      <td>1003</td>\n",
       "      <td>Reynaldo</td>\n",
       "      <td>Jenkins</td>\n",
       "      <td>52</td>\n",
       "      <td>Tulsa, OK MSA</td>\n",
       "      <td>2018-01-28</td>\n",
       "      <td>surf</td>\n",
       "      <td>2018-12-31</td>\n",
       "      <td>5</td>\n",
       "      <td>0</td>\n",
       "      <td>0</td>\n",
       "      <td>0</td>\n",
       "      <td>0</td>\n",
       "      <td>0</td>\n",
       "    </tr>\n",
       "    <tr>\n",
       "      <th>...</th>\n",
       "      <td>...</td>\n",
       "      <td>...</td>\n",
       "      <td>...</td>\n",
       "      <td>...</td>\n",
       "      <td>...</td>\n",
       "      <td>...</td>\n",
       "      <td>...</td>\n",
       "      <td>...</td>\n",
       "      <td>...</td>\n",
       "      <td>...</td>\n",
       "      <td>...</td>\n",
       "      <td>...</td>\n",
       "      <td>...</td>\n",
       "      <td>...</td>\n",
       "    </tr>\n",
       "    <tr>\n",
       "      <th>496</th>\n",
       "      <td>1496</td>\n",
       "      <td>Ariel</td>\n",
       "      <td>Shepherd</td>\n",
       "      <td>49</td>\n",
       "      <td>New Orleans-Metairie, LA MSA</td>\n",
       "      <td>2018-02-20</td>\n",
       "      <td>surf</td>\n",
       "      <td>2018-12-31</td>\n",
       "      <td>7</td>\n",
       "      <td>0</td>\n",
       "      <td>0</td>\n",
       "      <td>0</td>\n",
       "      <td>0</td>\n",
       "      <td>0</td>\n",
       "    </tr>\n",
       "    <tr>\n",
       "      <th>499</th>\n",
       "      <td>1499</td>\n",
       "      <td>Shena</td>\n",
       "      <td>Dickson</td>\n",
       "      <td>37</td>\n",
       "      <td>Orlando-Kissimmee-Sanford, FL MSA</td>\n",
       "      <td>2018-05-06</td>\n",
       "      <td>surf</td>\n",
       "      <td>2018-12-31</td>\n",
       "      <td>8</td>\n",
       "      <td>0</td>\n",
       "      <td>0</td>\n",
       "      <td>0</td>\n",
       "      <td>0</td>\n",
       "      <td>0</td>\n",
       "    </tr>\n",
       "    <tr>\n",
       "      <th>499</th>\n",
       "      <td>1499</td>\n",
       "      <td>Shena</td>\n",
       "      <td>Dickson</td>\n",
       "      <td>37</td>\n",
       "      <td>Orlando-Kissimmee-Sanford, FL MSA</td>\n",
       "      <td>2018-05-06</td>\n",
       "      <td>surf</td>\n",
       "      <td>2018-12-31</td>\n",
       "      <td>5</td>\n",
       "      <td>0</td>\n",
       "      <td>0</td>\n",
       "      <td>0</td>\n",
       "      <td>0</td>\n",
       "      <td>0</td>\n",
       "    </tr>\n",
       "    <tr>\n",
       "      <th>499</th>\n",
       "      <td>1499</td>\n",
       "      <td>Shena</td>\n",
       "      <td>Dickson</td>\n",
       "      <td>37</td>\n",
       "      <td>Orlando-Kissimmee-Sanford, FL MSA</td>\n",
       "      <td>2018-05-06</td>\n",
       "      <td>surf</td>\n",
       "      <td>2018-12-31</td>\n",
       "      <td>6</td>\n",
       "      <td>0</td>\n",
       "      <td>0</td>\n",
       "      <td>0</td>\n",
       "      <td>0</td>\n",
       "      <td>0</td>\n",
       "    </tr>\n",
       "    <tr>\n",
       "      <th>499</th>\n",
       "      <td>1499</td>\n",
       "      <td>Shena</td>\n",
       "      <td>Dickson</td>\n",
       "      <td>37</td>\n",
       "      <td>Orlando-Kissimmee-Sanford, FL MSA</td>\n",
       "      <td>2018-05-06</td>\n",
       "      <td>surf</td>\n",
       "      <td>2018-12-31</td>\n",
       "      <td>7</td>\n",
       "      <td>0</td>\n",
       "      <td>0</td>\n",
       "      <td>0</td>\n",
       "      <td>0</td>\n",
       "      <td>0</td>\n",
       "    </tr>\n",
       "  </tbody>\n",
       "</table>\n",
       "<p>1031 rows × 14 columns</p>\n",
       "</div>"
      ],
      "text/plain": [
       "     user_id first_name last_name  age                               city  \\\n",
       "3       1003   Reynaldo   Jenkins   52                      Tulsa, OK MSA   \n",
       "3       1003   Reynaldo   Jenkins   52                      Tulsa, OK MSA   \n",
       "3       1003   Reynaldo   Jenkins   52                      Tulsa, OK MSA   \n",
       "3       1003   Reynaldo   Jenkins   52                      Tulsa, OK MSA   \n",
       "3       1003   Reynaldo   Jenkins   52                      Tulsa, OK MSA   \n",
       "..       ...        ...       ...  ...                                ...   \n",
       "496     1496      Ariel  Shepherd   49       New Orleans-Metairie, LA MSA   \n",
       "499     1499      Shena   Dickson   37  Orlando-Kissimmee-Sanford, FL MSA   \n",
       "499     1499      Shena   Dickson   37  Orlando-Kissimmee-Sanford, FL MSA   \n",
       "499     1499      Shena   Dickson   37  Orlando-Kissimmee-Sanford, FL MSA   \n",
       "499     1499      Shena   Dickson   37  Orlando-Kissimmee-Sanford, FL MSA   \n",
       "\n",
       "       reg_date  plan  churn_date month  calls  mb_used  duration  messages  \\\n",
       "3    2018-01-28  surf  2018-12-31     1      0        0         0         0   \n",
       "3    2018-01-28  surf  2018-12-31     2      0        0         0         0   \n",
       "3    2018-01-28  surf  2018-12-31     3      0        0         0         0   \n",
       "3    2018-01-28  surf  2018-12-31     4      0        0         0         0   \n",
       "3    2018-01-28  surf  2018-12-31     5      0        0         0         0   \n",
       "..          ...   ...         ...   ...    ...      ...       ...       ...   \n",
       "496  2018-02-20  surf  2018-12-31     7      0        0         0         0   \n",
       "499  2018-05-06  surf  2018-12-31     8      0        0         0         0   \n",
       "499  2018-05-06  surf  2018-12-31     5      0        0         0         0   \n",
       "499  2018-05-06  surf  2018-12-31     6      0        0         0         0   \n",
       "499  2018-05-06  surf  2018-12-31     7      0        0         0         0   \n",
       "\n",
       "     gigas  \n",
       "3        0  \n",
       "3        0  \n",
       "3        0  \n",
       "3        0  \n",
       "3        0  \n",
       "..     ...  \n",
       "496      0  \n",
       "499      0  \n",
       "499      0  \n",
       "499      0  \n",
       "499      0  \n",
       "\n",
       "[1031 rows x 14 columns]"
      ]
     },
     "execution_count": 52,
     "metadata": {},
     "output_type": "execute_result"
    }
   ],
   "source": [
    "#adjusting the dataframe (exploding the lists i made,droping columns i dont need and adding columns i do need:)\n",
    "\n",
    "active_new=active_new.explode('months_to_include')\n",
    "active_new.drop(columns=['month','registered_months'],inplace = True)\n",
    "active_new.rename({'months_to_include': 'month'}, axis=1, inplace=True)\n",
    "active_new['calls']=0\n",
    "active_new['mb_used']=0\n",
    "active_new['duration']=0\n",
    "active_new['messages']=0\n",
    "active_new['gigas']=0\n",
    "\n",
    "active_new"
   ]
  },
  {
   "cell_type": "code",
   "execution_count": 53,
   "metadata": {},
   "outputs": [
    {
     "data": {
      "text/plain": [
       "(2319, 14)"
      ]
     },
     "execution_count": 53,
     "metadata": {},
     "output_type": "execute_result"
    }
   ],
   "source": [
    "total_telecom.shape"
   ]
  },
  {
   "cell_type": "code",
   "execution_count": 54,
   "metadata": {},
   "outputs": [
    {
     "data": {
      "text/plain": [
       "(1031, 14)"
      ]
     },
     "execution_count": 54,
     "metadata": {},
     "output_type": "execute_result"
    }
   ],
   "source": [
    "active_new.shape"
   ]
  },
  {
   "cell_type": "code",
   "execution_count": 55,
   "metadata": {},
   "outputs": [],
   "source": [
    "total_telecom = total_telecom.append(active_new)\n"
   ]
  },
  {
   "cell_type": "code",
   "execution_count": 56,
   "metadata": {},
   "outputs": [
    {
     "data": {
      "text/plain": [
       "(3350, 14)"
      ]
     },
     "execution_count": 56,
     "metadata": {},
     "output_type": "execute_result"
    }
   ],
   "source": [
    "total_telecom.shape"
   ]
  },
  {
   "cell_type": "markdown",
   "metadata": {},
   "source": [
    "Next i want to adress the missing values that we have in mb_used, messages and duration.From the investigations i made earlier, i know that these missing values happen when there is a client is not using all of the services in a particular month, so i can can jusr replace those values with 0. "
   ]
  },
  {
   "cell_type": "code",
   "execution_count": 57,
   "metadata": {},
   "outputs": [],
   "source": [
    "total_telecom['mb_used'].fillna(0,inplace = True)"
   ]
  },
  {
   "cell_type": "code",
   "execution_count": 58,
   "metadata": {},
   "outputs": [],
   "source": [
    "total_telecom['gigas'].fillna(0,inplace = True)"
   ]
  },
  {
   "cell_type": "code",
   "execution_count": 59,
   "metadata": {},
   "outputs": [],
   "source": [
    "total_telecom['duration'].fillna(0,inplace = True)"
   ]
  },
  {
   "cell_type": "code",
   "execution_count": 60,
   "metadata": {},
   "outputs": [],
   "source": [
    "total_telecom['messages'].fillna(0,inplace = True)"
   ]
  },
  {
   "cell_type": "markdown",
   "metadata": {},
   "source": [
    "Next, i will write a function that will calculate the revenue of each user per month according to the plan he/she uses."
   ]
  },
  {
   "cell_type": "code",
   "execution_count": 61,
   "metadata": {},
   "outputs": [],
   "source": [
    "#a function that will calculate the revenue\n",
    "def surf_charger(row):\n",
    "    \n",
    "    minutes = row['duration']\n",
    "    texts = row['messages']\n",
    "    data = row['gigas']\n",
    "    plan = row['plan']\n",
    "    \n",
    "    if plan == 'surf':\n",
    "        \n",
    "\n",
    "    \n",
    "        if minutes <=500:\n",
    "\n",
    "            m_cost = 0\n",
    "        else:\n",
    "            m_cost =(minutes - 500)* 0.03      \n",
    "\n",
    "        if texts <= 50:\n",
    "            t_cost = 0 \n",
    "        else:\n",
    "            t_cost = (texts - 50)* 0.03 \n",
    "\n",
    "        if data  <= 15:\n",
    "            d_cost = 0 \n",
    "        else:\n",
    "            d_cost = (data - 15) *10\n",
    "        total_cost = d_cost + t_cost + m_cost +20\n",
    "        return total_cost\n",
    "    else:\n",
    "        \n",
    "        \n",
    "        if minutes <=3000:\n",
    "\n",
    "            m_cost = 0\n",
    "        else:\n",
    "            m_cost =(minutes - 3000)* 0.01      \n",
    "\n",
    "        if texts <= 1000:\n",
    "            t_cost = 0 \n",
    "        else:\n",
    "            t_cost = (texts - 1000)* 0.01 \n",
    "\n",
    "        if data  <= 30:\n",
    "            d_cost = 0 \n",
    "        else:\n",
    "            d_cost = (data - 30) *7\n",
    "        total_cost = d_cost + t_cost + m_cost +70\n",
    "        return total_cost\n"
   ]
  },
  {
   "cell_type": "code",
   "execution_count": 62,
   "metadata": {},
   "outputs": [],
   "source": [
    "#adding a column 'montly_revenue' and applyng the function.\n",
    "total_telecom['montly_revenue'] = total_telecom.apply(surf_charger,axis = 1)\n",
    "   "
   ]
  },
  {
   "cell_type": "code",
   "execution_count": 63,
   "metadata": {},
   "outputs": [],
   "source": [
    "# a function that detects the outliers in the dataset, if there are any\n",
    "def outliers_detec(parameter, df):\n",
    "    print('{}'.format(parameter))\n",
    "    upper_limit = np.nanpercentile(df[parameter],99 )\n",
    "    lower_limit = np.nanpercentile(df[parameter], 1)\n",
    "    print()\n",
    "    print('min border:',lower_limit)\n",
    "    print('max border:',upper_limit)\n",
    "    print()\n",
    "    print('The outliers are considered to be values below',lower_limit, \"and above\",upper_limit)\n",
    "    print('We have',len(df[(df[parameter]<lower_limit)|(df[parameter]>upper_limit)]),\"values that we can consider outliers\")\n",
    "    print('-_-_-_-__-_-__-_-__-_-__-_-_-_-_-_-_-_-_-_-_')\n",
    "   \n",
    "\n",
    "\n"
   ]
  },
  {
   "cell_type": "code",
   "execution_count": 64,
   "metadata": {},
   "outputs": [
    {
     "name": "stdout",
     "output_type": "stream",
     "text": [
      "duration\n",
      "\n",
      "min border: 0.0\n",
      "max border: 1069.5099999999998\n",
      "\n",
      "The outliers are considered to be values below 0.0 and above 1069.5099999999998\n",
      "We have 34 values that we can consider outliers\n",
      "-_-_-_-__-_-__-_-__-_-__-_-_-_-_-_-_-_-_-_-_\n",
      "gigas\n",
      "\n",
      "min border: 0.0\n",
      "max border: 38.0\n",
      "\n",
      "The outliers are considered to be values below 0.0 and above 38.0\n",
      "We have 25 values that we can consider outliers\n",
      "-_-_-_-__-_-__-_-__-_-__-_-_-_-_-_-_-_-_-_-_\n",
      "messages\n",
      "\n",
      "min border: 0.0\n",
      "max border: 139.0\n",
      "\n",
      "The outliers are considered to be values below 0.0 and above 139.0\n",
      "We have 32 values that we can consider outliers\n",
      "-_-_-_-__-_-__-_-__-_-__-_-_-_-_-_-_-_-_-_-_\n"
     ]
    }
   ],
   "source": [
    "#a loop that aplly the function 'outliers_detec' on the columns in Interest.\n",
    "for parameter in ['duration','gigas','messages']:\n",
    "    outliers_detec(parameter, total_telecom)\n"
   ]
  },
  {
   "cell_type": "markdown",
   "metadata": {},
   "source": [
    "Next, i will determine the filters i want to use to filter out outliers that i think are relevant from the investigation i just did."
   ]
  },
  {
   "cell_type": "code",
   "execution_count": 65,
   "metadata": {},
   "outputs": [],
   "source": [
    "filter1 =  (total_telecom['duration'] <= 1112.0)"
   ]
  },
  {
   "cell_type": "code",
   "execution_count": 66,
   "metadata": {},
   "outputs": [],
   "source": [
    "filter2 = total_telecom['gigas'] < 38"
   ]
  },
  {
   "cell_type": "code",
   "execution_count": 67,
   "metadata": {},
   "outputs": [],
   "source": [
    "filter3 = total_telecom['messages'] < 400"
   ]
  },
  {
   "cell_type": "code",
   "execution_count": 68,
   "metadata": {
    "scrolled": true
   },
   "outputs": [
    {
     "name": "stdout",
     "output_type": "stream",
     "text": [
      "<class 'pandas.core.frame.DataFrame'>\n",
      "Int64Index: 3350 entries, 0 to 499\n",
      "Data columns (total 15 columns):\n",
      " #   Column          Non-Null Count  Dtype  \n",
      "---  ------          --------------  -----  \n",
      " 0   user_id         3350 non-null   int64  \n",
      " 1   month           3350 non-null   object \n",
      " 2   calls           3315 non-null   float64\n",
      " 3   duration        3350 non-null   float64\n",
      " 4   messages        3350 non-null   float64\n",
      " 5   mb_used         3350 non-null   float64\n",
      " 6   gigas           3350 non-null   float64\n",
      " 7   first_name      3350 non-null   object \n",
      " 8   last_name       3350 non-null   object \n",
      " 9   age             3350 non-null   int64  \n",
      " 10  city            3350 non-null   object \n",
      " 11  reg_date        3350 non-null   object \n",
      " 12  plan            3350 non-null   object \n",
      " 13  churn_date      1215 non-null   object \n",
      " 14  montly_revenue  3350 non-null   float64\n",
      "dtypes: float64(6), int64(2), object(7)\n",
      "memory usage: 418.8+ KB\n"
     ]
    }
   ],
   "source": [
    "total_telecom.info()"
   ]
  },
  {
   "cell_type": "code",
   "execution_count": 69,
   "metadata": {},
   "outputs": [],
   "source": [
    "clean_total_telecom = total_telecom[filter1 & filter2 &filter3]"
   ]
  },
  {
   "cell_type": "code",
   "execution_count": 70,
   "metadata": {},
   "outputs": [
    {
     "data": {
      "text/plain": [
       "(3294, 15)"
      ]
     },
     "execution_count": 70,
     "metadata": {},
     "output_type": "execute_result"
    }
   ],
   "source": [
    "clean_total_telecom.shape"
   ]
  },
  {
   "cell_type": "code",
   "execution_count": 71,
   "metadata": {},
   "outputs": [
    {
     "data": {
      "text/html": [
       "<div>\n",
       "<style scoped>\n",
       "    .dataframe tbody tr th:only-of-type {\n",
       "        vertical-align: middle;\n",
       "    }\n",
       "\n",
       "    .dataframe tbody tr th {\n",
       "        vertical-align: top;\n",
       "    }\n",
       "\n",
       "    .dataframe thead th {\n",
       "        text-align: right;\n",
       "    }\n",
       "</style>\n",
       "<table border=\"1\" class=\"dataframe\">\n",
       "  <thead>\n",
       "    <tr style=\"text-align: right;\">\n",
       "      <th></th>\n",
       "      <th>user_id</th>\n",
       "      <th>month</th>\n",
       "      <th>calls</th>\n",
       "      <th>duration</th>\n",
       "      <th>messages</th>\n",
       "      <th>mb_used</th>\n",
       "      <th>gigas</th>\n",
       "      <th>first_name</th>\n",
       "      <th>last_name</th>\n",
       "      <th>age</th>\n",
       "      <th>city</th>\n",
       "      <th>reg_date</th>\n",
       "      <th>plan</th>\n",
       "      <th>churn_date</th>\n",
       "      <th>montly_revenue</th>\n",
       "    </tr>\n",
       "  </thead>\n",
       "  <tbody>\n",
       "    <tr>\n",
       "      <th>0</th>\n",
       "      <td>1000</td>\n",
       "      <td>12.0</td>\n",
       "      <td>16.0</td>\n",
       "      <td>124.0</td>\n",
       "      <td>11.0</td>\n",
       "      <td>1901.47</td>\n",
       "      <td>2.0</td>\n",
       "      <td>Anamaria</td>\n",
       "      <td>Bauer</td>\n",
       "      <td>45</td>\n",
       "      <td>Atlanta-Sandy Springs-Roswell, GA MSA</td>\n",
       "      <td>2018-12-24</td>\n",
       "      <td>ultimate</td>\n",
       "      <td>NaN</td>\n",
       "      <td>70.00</td>\n",
       "    </tr>\n",
       "    <tr>\n",
       "      <th>1</th>\n",
       "      <td>1001</td>\n",
       "      <td>8.0</td>\n",
       "      <td>27.0</td>\n",
       "      <td>182.0</td>\n",
       "      <td>30.0</td>\n",
       "      <td>6919.15</td>\n",
       "      <td>7.0</td>\n",
       "      <td>Mickey</td>\n",
       "      <td>Wilkerson</td>\n",
       "      <td>28</td>\n",
       "      <td>Seattle-Tacoma-Bellevue, WA MSA</td>\n",
       "      <td>2018-08-13</td>\n",
       "      <td>surf</td>\n",
       "      <td>NaN</td>\n",
       "      <td>20.00</td>\n",
       "    </tr>\n",
       "    <tr>\n",
       "      <th>2</th>\n",
       "      <td>1001</td>\n",
       "      <td>9.0</td>\n",
       "      <td>49.0</td>\n",
       "      <td>315.0</td>\n",
       "      <td>44.0</td>\n",
       "      <td>13314.82</td>\n",
       "      <td>14.0</td>\n",
       "      <td>Mickey</td>\n",
       "      <td>Wilkerson</td>\n",
       "      <td>28</td>\n",
       "      <td>Seattle-Tacoma-Bellevue, WA MSA</td>\n",
       "      <td>2018-08-13</td>\n",
       "      <td>surf</td>\n",
       "      <td>NaN</td>\n",
       "      <td>20.00</td>\n",
       "    </tr>\n",
       "    <tr>\n",
       "      <th>3</th>\n",
       "      <td>1001</td>\n",
       "      <td>10.0</td>\n",
       "      <td>65.0</td>\n",
       "      <td>393.0</td>\n",
       "      <td>53.0</td>\n",
       "      <td>22330.49</td>\n",
       "      <td>23.0</td>\n",
       "      <td>Mickey</td>\n",
       "      <td>Wilkerson</td>\n",
       "      <td>28</td>\n",
       "      <td>Seattle-Tacoma-Bellevue, WA MSA</td>\n",
       "      <td>2018-08-13</td>\n",
       "      <td>surf</td>\n",
       "      <td>NaN</td>\n",
       "      <td>100.09</td>\n",
       "    </tr>\n",
       "    <tr>\n",
       "      <th>4</th>\n",
       "      <td>1001</td>\n",
       "      <td>11.0</td>\n",
       "      <td>64.0</td>\n",
       "      <td>426.0</td>\n",
       "      <td>36.0</td>\n",
       "      <td>18504.30</td>\n",
       "      <td>19.0</td>\n",
       "      <td>Mickey</td>\n",
       "      <td>Wilkerson</td>\n",
       "      <td>28</td>\n",
       "      <td>Seattle-Tacoma-Bellevue, WA MSA</td>\n",
       "      <td>2018-08-13</td>\n",
       "      <td>surf</td>\n",
       "      <td>NaN</td>\n",
       "      <td>60.00</td>\n",
       "    </tr>\n",
       "  </tbody>\n",
       "</table>\n",
       "</div>"
      ],
      "text/plain": [
       "   user_id month  calls  duration  messages   mb_used  gigas first_name  \\\n",
       "0     1000  12.0   16.0     124.0      11.0   1901.47    2.0   Anamaria   \n",
       "1     1001   8.0   27.0     182.0      30.0   6919.15    7.0     Mickey   \n",
       "2     1001   9.0   49.0     315.0      44.0  13314.82   14.0     Mickey   \n",
       "3     1001  10.0   65.0     393.0      53.0  22330.49   23.0     Mickey   \n",
       "4     1001  11.0   64.0     426.0      36.0  18504.30   19.0     Mickey   \n",
       "\n",
       "   last_name  age                                   city    reg_date  \\\n",
       "0      Bauer   45  Atlanta-Sandy Springs-Roswell, GA MSA  2018-12-24   \n",
       "1  Wilkerson   28        Seattle-Tacoma-Bellevue, WA MSA  2018-08-13   \n",
       "2  Wilkerson   28        Seattle-Tacoma-Bellevue, WA MSA  2018-08-13   \n",
       "3  Wilkerson   28        Seattle-Tacoma-Bellevue, WA MSA  2018-08-13   \n",
       "4  Wilkerson   28        Seattle-Tacoma-Bellevue, WA MSA  2018-08-13   \n",
       "\n",
       "       plan churn_date  montly_revenue  \n",
       "0  ultimate        NaN           70.00  \n",
       "1      surf        NaN           20.00  \n",
       "2      surf        NaN           20.00  \n",
       "3      surf        NaN          100.09  \n",
       "4      surf        NaN           60.00  "
      ]
     },
     "execution_count": 71,
     "metadata": {},
     "output_type": "execute_result"
    }
   ],
   "source": [
    "clean_total_telecom.head()"
   ]
  },
  {
   "cell_type": "markdown",
   "metadata": {},
   "source": [
    "### Data Analysis "
   ]
  },
  {
   "cell_type": "markdown",
   "metadata": {},
   "source": [
    "Now, after the data has been cleaned, i can explore the data as i Intended - seperated to the two groups in interes: The surf plan users and The ultimate plan users."
   ]
  },
  {
   "cell_type": "code",
   "execution_count": 72,
   "metadata": {},
   "outputs": [],
   "source": [
    "surf_plan = clean_total_telecom[clean_total_telecom['plan'] == 'surf']"
   ]
  },
  {
   "cell_type": "code",
   "execution_count": 73,
   "metadata": {},
   "outputs": [],
   "source": [
    "ultimate_plan = clean_total_telecom[clean_total_telecom['plan'] == 'ultimate']"
   ]
  },
  {
   "cell_type": "code",
   "execution_count": 74,
   "metadata": {},
   "outputs": [],
   "source": [
    "#a function that shows statistics and the distribution of call duration,texts and mb used in each plan.\n",
    "def distribution_stats(df,parameter):\n",
    "    \n",
    "    print('                     {}     '.format(parameter))\n",
    "\n",
    "    df[parameter].hist(density = True)\n",
    "    plt.xlabel(\"{}\".format(parameter))\n",
    "    plt.ylabel(\"Frequency-density\") \n",
    "    plt.show()\n",
    "    if df[parameter].mean()>df[parameter].median():\n",
    "        print('The distribution is skewed to the right')\n",
    "    else:\n",
    "        print('The distribution is skewed to the left')\n",
    "    print()\n",
    "    print('Statistics on: {}'.format(parameter))\n",
    "    print(df[parameter].describe())\n",
    "    print('===========')\n",
    "    print()\n",
    "    []\n",
    "\n",
    "    print('Variance: ',np.var(df[parameter]))\n",
    "    print('Standart diviation: ',np.sqrt(np.var(df[parameter])))\n",
    "    print('===================================================')\n",
    "    print('===================================================')\n",
    "    print()\n",
    "\n",
    "\n",
    "\n",
    "   \n",
    "\n",
    "\n"
   ]
  },
  {
   "cell_type": "code",
   "execution_count": 75,
   "metadata": {
    "scrolled": false
   },
   "outputs": [
    {
     "name": "stdout",
     "output_type": "stream",
     "text": [
      "                     duration     \n"
     ]
    },
    {
     "data": {
      "image/png": "[encoded data removed]",
      "text/plain": [
       "<Figure size 432x288 with 1 Axes>"
      ]
     },
     "metadata": {
      "needs_background": "light"
     },
     "output_type": "display_data"
    },
    {
     "name": "stdout",
     "output_type": "stream",
     "text": [
      "The distribution is skewed to the right\n",
      "\n",
      "Statistics on: duration\n",
      "count    2237.000000\n",
      "mean      291.347340\n",
      "std       269.363489\n",
      "min         0.000000\n",
      "25%         0.000000\n",
      "50%       288.000000\n",
      "75%       496.000000\n",
      "max      1104.000000\n",
      "Name: duration, dtype: float64\n",
      "===========\n",
      "\n",
      "Variance:  72524.25441067216\n",
      "Standart diviation:  269.3032759003725\n",
      "===================================================\n",
      "===================================================\n",
      "\n",
      "                     gigas     \n"
     ]
    },
    {
     "data": {
      "image/png": "[encoded data removed]",
      "text/plain": [
       "<Figure size 432x288 with 1 Axes>"
      ]
     },
     "metadata": {
      "needs_background": "light"
     },
     "output_type": "display_data"
    },
    {
     "name": "stdout",
     "output_type": "stream",
     "text": [
      "The distribution is skewed to the left\n",
      "\n",
      "Statistics on: gigas\n",
      "count    2237.00000\n",
      "mean       11.47966\n",
      "std         9.78993\n",
      "min         0.00000\n",
      "25%         0.00000\n",
      "50%        13.00000\n",
      "75%        19.00000\n",
      "max        37.00000\n",
      "Name: gigas, dtype: float64\n",
      "===========\n",
      "\n",
      "Variance:  95.79987686267131\n",
      "Standart diviation:  9.787741152210316\n",
      "===================================================\n",
      "===================================================\n",
      "\n",
      "                     messages     \n"
     ]
    },
    {
     "data": {
      "image/png": "[encoded data removed]",
      "text/plain": [
       "<Figure size 432x288 with 1 Axes>"
      ]
     },
     "metadata": {
      "needs_background": "light"
     },
     "output_type": "display_data"
    },
    {
     "name": "stdout",
     "output_type": "stream",
     "text": [
      "The distribution is skewed to the right\n",
      "\n",
      "Statistics on: messages\n",
      "count    2237.000000\n",
      "mean       21.144837\n",
      "std        30.731664\n",
      "min         0.000000\n",
      "25%         0.000000\n",
      "50%         4.000000\n",
      "75%        34.000000\n",
      "max       224.000000\n",
      "Name: messages, dtype: float64\n",
      "===========\n",
      "\n",
      "Variance:  944.0129963636269\n",
      "Standart diviation:  30.72479448854991\n",
      "===================================================\n",
      "===================================================\n",
      "\n"
     ]
    }
   ],
   "source": [
    "#a loop that aplly the function 'distribution_stats' on the columns in Interest.\n",
    "\n",
    "for parameter in ['duration','gigas','messages']:\n",
    "    distribution_stats(surf_plan,parameter)\n"
   ]
  },
  {
   "cell_type": "code",
   "execution_count": 76,
   "metadata": {},
   "outputs": [
    {
     "name": "stdout",
     "output_type": "stream",
     "text": [
      "                     duration     \n"
     ]
    },
    {
     "data": {
      "image/png": "[encoded data removed]",
      "text/plain": [
       "<Figure size 432x288 with 1 Axes>"
      ]
     },
     "metadata": {
      "needs_background": "light"
     },
     "output_type": "display_data"
    },
    {
     "name": "stdout",
     "output_type": "stream",
     "text": [
      "The distribution is skewed to the right\n",
      "\n",
      "Statistics on: duration\n",
      "count    1057.000000\n",
      "mean      276.526963\n",
      "std       267.699709\n",
      "min         0.000000\n",
      "25%         0.000000\n",
      "50%       254.000000\n",
      "75%       476.000000\n",
      "max      1111.000000\n",
      "Name: duration, dtype: float64\n",
      "===========\n",
      "\n",
      "Variance:  71595.33536570628\n",
      "Standart diviation:  267.5730467848103\n",
      "===================================================\n",
      "===================================================\n",
      "\n",
      "                     gigas     \n"
     ]
    },
    {
     "data": {
      "image/png": "[encoded data removed]",
      "text/plain": [
       "<Figure size 432x288 with 1 Axes>"
      ]
     },
     "metadata": {
      "needs_background": "light"
     },
     "output_type": "display_data"
    },
    {
     "name": "stdout",
     "output_type": "stream",
     "text": [
      "The distribution is skewed to the left\n",
      "\n",
      "Statistics on: gigas\n",
      "count    1057.000000\n",
      "mean       11.271523\n",
      "std        10.015758\n",
      "min         0.000000\n",
      "25%         0.000000\n",
      "50%        13.000000\n",
      "75%        19.000000\n",
      "max        37.000000\n",
      "Name: gigas, dtype: float64\n",
      "===========\n",
      "\n",
      "Variance:  100.22050411322823\n",
      "Standart diviation:  10.01101913459505\n",
      "===================================================\n",
      "===================================================\n",
      "\n",
      "                     messages     \n"
     ]
    },
    {
     "data": {
      "image/png": "[encoded data removed]",
      "text/plain": [
       "<Figure size 432x288 with 1 Axes>"
      ]
     },
     "metadata": {
      "needs_background": "light"
     },
     "output_type": "display_data"
    },
    {
     "name": "stdout",
     "output_type": "stream",
     "text": [
      "The distribution is skewed to the right\n",
      "\n",
      "Statistics on: messages\n",
      "count    1057.000000\n",
      "mean       23.741722\n",
      "std        32.535827\n",
      "min         0.000000\n",
      "25%         0.000000\n",
      "50%         5.000000\n",
      "75%        41.000000\n",
      "max       166.000000\n",
      "Name: messages, dtype: float64\n",
      "===========\n",
      "\n",
      "Variance:  1057.5785147267852\n",
      "Standart diviation:  32.520432265374104\n",
      "===================================================\n",
      "===================================================\n",
      "\n"
     ]
    }
   ],
   "source": [
    "#a loop that aplly the function 'distribution_stats' on the columns in Interest.\n",
    "\n",
    "for parameter in ['duration','gigas','messages']:\n",
    "    distribution_stats(ultimate_plan,parameter)"
   ]
  },
  {
   "cell_type": "markdown",
   "metadata": {},
   "source": [
    "Investigating the histograms above, it looks like the distrebution of messages, calls duration and mb used in both plans is not that different.\n",
    "\n",
    "The surf useres calls duration avrege is 291.5, and the ultimate average is 276.4. \n",
    "\n",
    "The surf useres messages send in a month avrege is 21.235950, and the ultimate average is 24.108083\n",
    "\n",
    "The surf useres and the ultimate users both have a 13 Gigabytes used median per month. (I ued the media here and not the mean becaue the distribution is skewed to the left on mb used in both plans. \n",
    "\n",
    "From these investigation it appears that the users of surf plan uses slighlty more services than the ultimate plan users, except with data usage. We cant tell that for sure unless we conduct further investigation, wich we dont need because that is not one of questions we were asked. \n",
    " \n"
   ]
  },
  {
   "cell_type": "markdown",
   "metadata": {},
   "source": [
    "### Cheacking the Hypothesises ###\n",
    "\n",
    "\n",
    "Finally, i will test the The hypotheses that were in question:\n",
    "\n",
    "\n",
    "The first Hypothesis :\n",
    "\n",
    "Does the average revenue from users of Ultimate and Surf calling plans differs?\n",
    "\n",
    "\n",
    "In order to do that will formulate two hypotheses - A null hypitheses H0, and the alternative hypothesis- H1\n",
    "\n",
    "H0: The average revenue from users of Ultimate and Surf calling plans is equal.\n",
    "\n",
    "H1: The the average revenue from users of Ultimate and Surf calling plans is not equal.\n",
    "\n",
    "\n",
    "Note: We can only make assumptions about a statistical population and calculate how likely we'd be to get a given sample if our assumptions were correct. If the probability is relatively high, the data doesn’t give us grounds to reject an assumption. If the probability is low, then from the given data we can conclude that our assumption is most likely incorrect (but we can’t disprove it or prove the opposite)."
   ]
  },
  {
   "cell_type": "code",
   "execution_count": 77,
   "metadata": {},
   "outputs": [
    {
     "data": {
      "text/plain": [
       "LeveneResult(statistic=1333.5548300967093, pvalue=1.9594473613912144e-245)"
      ]
     },
     "execution_count": 77,
     "metadata": {},
     "output_type": "execute_result"
    }
   ],
   "source": [
    "st.levene(surf_plan['montly_revenue'],ultimate_plan['montly_revenue'],center = 'mean')\n",
    "#A test to determine wether the sampled have equal variance. \n",
    "##if the test rejects (pvalue < alpha) we need use equal_var=  False. "
   ]
  },
  {
   "cell_type": "code",
   "execution_count": 78,
   "metadata": {},
   "outputs": [
    {
     "name": "stdout",
     "output_type": "stream",
     "text": [
      "p-value:  3.1633612800808614e-123\n",
      "We reject the null hypothesis\n"
     ]
    }
   ],
   "source": [
    "#in order to determine whether to reject the null hypothesis or not\n",
    "##We set a threshold for statistical significance.critical statistical significance level - alpha\n",
    "# if the p-value is less than alpha, we reject the null hypothesis -H0\n",
    "\n",
    "alpha = 0.05 #\n",
    "\n",
    "#now i will conduct a test to determine wether the means of the two samples are equal. \n",
    "\n",
    "results = st.ttest_ind(surf_plan['montly_revenue'], ultimate_plan['montly_revenue'],equal_var = False)\n",
    "\n",
    "\n",
    "print('p-value: ', results.pvalue)\n",
    "\n",
    "if results.pvalue < alpha:\n",
    "    print(\"We reject the null hypothesis\")\n",
    "else:\n",
    "    print(\"We can't reject the null hypothesis\") "
   ]
  },
  {
   "cell_type": "markdown",
   "metadata": {},
   "source": [
    "Now we can dismiss the null hypothesis which says the means of the two samples are the same.\n",
    "There is no evidence sustainable enough to prove that. H1 (alternate hypothesis) is however true - we can make the assumption that the average revenue from users of Ultimate and Surf calling plans differs. "
   ]
  },
  {
   "cell_type": "markdown",
   "metadata": {},
   "source": [
    "The second hypothesis i want to test:\n",
    "\n",
    "does the average revenue from users in NY-NJ area is different from that of the users from other regions?\n",
    "\n",
    "\n",
    "In order to do that  will formulate two hypotheses - A null hypitheses H0, and the alternative hypothesis- H1\n",
    "\n",
    "\n",
    "H0: The average revenue from users in NY-NJ area and the users from other regions is equal.\n",
    "\n",
    "H1: average revenue from users in NY-NJ area is different from that of the users from other regions.\n",
    "\n"
   ]
  },
  {
   "cell_type": "code",
   "execution_count": 79,
   "metadata": {},
   "outputs": [],
   "source": [
    "#In order to check the second hypothesis, i will create one dataframe with NY-NJ users and one with the rest. \n",
    "NY_NJ_users =clean_total_telecom[clean_total_telecom['city'].str.contains(\"NY-NJ\")]\n",
    "other_areas =clean_total_telecom[~clean_total_telecom['city'].str.contains(\"NY-NJ\")]\n"
   ]
  },
  {
   "cell_type": "code",
   "execution_count": 80,
   "metadata": {},
   "outputs": [
    {
     "data": {
      "text/plain": [
       "LeveneResult(statistic=2.375765972573336, pvalue=0.12332725331361416)"
      ]
     },
     "execution_count": 80,
     "metadata": {},
     "output_type": "execute_result"
    }
   ],
   "source": [
    "st.levene(NY_NJ_users['montly_revenue'],other_areas['montly_revenue'],center = 'mean')\n",
    "#A test to determine wether the sampled have equal variance. \n",
    "##if the test fails rejects (pvalue > alpha) we need use equal_var=  True. "
   ]
  },
  {
   "cell_type": "code",
   "execution_count": 81,
   "metadata": {},
   "outputs": [
    {
     "name": "stdout",
     "output_type": "stream",
     "text": [
      "p-value:  0.18043096061318595\n",
      "We reject the null hypothesis\n"
     ]
    }
   ],
   "source": [
    "\n",
    "alpha = 0.05  # critical statistical significance level\n",
    "\n",
    "#now i will conduct a test to determine wether the means of the two samples are equal. \n",
    "\n",
    "results2 = st.ttest_ind(NY_NJ_users['montly_revenue'], other_areas['montly_revenue'],equal_var = True)\n",
    "\n",
    "# if the p-value is less than alpha, we reject the null hypothesis -H0:\n",
    "\n",
    "print('p-value: ', results2.pvalue)\n",
    "\n",
    "if results.pvalue < alpha:\n",
    "    print(\"We reject the null hypothesis\")\n",
    "else:\n",
    "    print(\"We can't reject the null hypothesis\") "
   ]
  },
  {
   "cell_type": "markdown",
   "metadata": {},
   "source": [
    "Again we can dismiss the null hypothesis, which says the means of the two samples are the same.\n",
    ". H1 (alternate hypothesis) is considerd true - we can make the assumption that the average revenue from users in NY-NJ area is different from that of the users from other regions."
   ]
  },
  {
   "cell_type": "markdown",
   "metadata": {},
   "source": [
    "### CONCLUSION ###"
   ]
  },
  {
   "cell_type": "markdown",
   "metadata": {},
   "source": [
    "In this project, i wanted to test two hypotheses about the revenue generated from Megaline users:\n",
    "\n",
    "does the average revenue from users of Ultimate and Surf calling plans differs?\n",
    "\n",
    "does the average revenue from users in NY-NJ area is different from that of the users from other regions?\n",
    "\n",
    "In order to test these two hypotheses, i did the following:\n",
    "\n",
    "1. I Opened the data file and study the general information\n",
    "\n",
    "2. I created a single data frame that contains all the information i needed (the sum of the calls duration for each user per month, the total megabytes used by each user per month and the total amount of texts sent by each user per month).\n",
    "3. I calculated the revenue each user generated each month, according to the plan he was registered to.\n",
    "\n",
    "4. I created different dataframes for each group - by plan (ultimate and surf) and by region (NY-NJ area and other areas)\n",
    "\n",
    "5. I performed a t-test in order to see wether the hypotheses ware true.\n",
    "\n",
    "Here are my findings:\n",
    "\n",
    "1. From the investigations i made, i can make the assumption that the average revenue from users of Ultimate and Surf calling plans differs.\n",
    "\n",
    "2. From the investigations i made, i can make the assumption that the average revenue from users in NY-NJ area is different from that of the users from other regions.\n",
    "\n",
    "\n",
    "\n"
   ]
  },
  {
   "cell_type": "code",
   "execution_count": null,
   "metadata": {},
   "outputs": [],
   "source": []
  }
 ],
 "metadata": {
  "ExecuteTimeLog": [
   {
    "duration": 116,
    "start_time": "2022-02-05T17:53:49.832Z"
   },
   {
    "duration": 771,
    "start_time": "2022-02-05T17:53:53.807Z"
   },
   {
    "duration": 149,
    "start_time": "2022-02-05T17:54:22.614Z"
   },
   {
    "duration": 20,
    "start_time": "2022-02-05T17:54:29.677Z"
   },
   {
    "duration": 2895,
    "start_time": "2022-02-05T17:55:17.396Z"
   },
   {
    "duration": 249,
    "start_time": "2022-02-05T17:55:32.702Z"
   },
   {
    "duration": 388,
    "start_time": "2022-02-05T17:56:48.351Z"
   },
   {
    "duration": 14,
    "start_time": "2022-02-05T17:56:57.690Z"
   },
   {
    "duration": 11,
    "start_time": "2022-02-05T17:57:20.942Z"
   },
   {
    "duration": 19,
    "start_time": "2022-02-05T17:57:30.060Z"
   },
   {
    "duration": 21,
    "start_time": "2022-02-05T17:57:38.144Z"
   },
   {
    "duration": 15,
    "start_time": "2022-02-05T17:57:46.394Z"
   },
   {
    "duration": 9,
    "start_time": "2022-02-05T17:57:53.440Z"
   },
   {
    "duration": 12,
    "start_time": "2022-02-05T17:58:10.927Z"
   },
   {
    "duration": 357,
    "start_time": "2022-02-05T17:58:28.728Z"
   },
   {
    "duration": 14,
    "start_time": "2022-02-05T17:58:35.188Z"
   },
   {
    "duration": 11,
    "start_time": "2022-02-05T17:58:51.122Z"
   },
   {
    "duration": 20,
    "start_time": "2022-02-05T17:59:18.535Z"
   },
   {
    "duration": 608,
    "start_time": "2022-02-05T17:59:28.664Z"
   },
   {
    "duration": 15,
    "start_time": "2022-02-05T17:59:44.718Z"
   },
   {
    "duration": 313,
    "start_time": "2022-02-06T15:15:39.108Z"
   },
   {
    "duration": 661,
    "start_time": "2022-02-06T15:15:41.870Z"
   },
   {
    "duration": 341,
    "start_time": "2022-02-06T15:15:42.534Z"
   },
   {
    "duration": 18,
    "start_time": "2022-02-06T15:15:42.878Z"
   },
   {
    "duration": 7,
    "start_time": "2022-02-06T15:15:42.898Z"
   },
   {
    "duration": 18,
    "start_time": "2022-02-06T15:19:00.880Z"
   },
   {
    "duration": 11,
    "start_time": "2022-02-06T15:22:08.662Z"
   },
   {
    "duration": 308,
    "start_time": "2022-02-06T15:24:24.789Z"
   },
   {
    "duration": 292,
    "start_time": "2022-02-06T15:24:27.576Z"
   },
   {
    "duration": 10,
    "start_time": "2022-02-06T15:32:07.025Z"
   },
   {
    "duration": 41,
    "start_time": "2022-02-06T15:34:28.281Z"
   },
   {
    "duration": 26,
    "start_time": "2022-02-06T15:34:30.921Z"
   },
   {
    "duration": 5,
    "start_time": "2022-02-06T15:38:39.564Z"
   },
   {
    "duration": 19,
    "start_time": "2022-02-06T15:38:42.056Z"
   },
   {
    "duration": 17,
    "start_time": "2022-02-06T15:39:39.626Z"
   },
   {
    "duration": 20,
    "start_time": "2022-02-06T15:39:43.535Z"
   },
   {
    "duration": 1131,
    "start_time": "2022-02-06T15:40:20.656Z"
   },
   {
    "duration": 1146,
    "start_time": "2022-02-06T15:40:29.581Z"
   },
   {
    "duration": 1131,
    "start_time": "2022-02-06T15:40:35.846Z"
   },
   {
    "duration": 543,
    "start_time": "2022-02-06T15:40:46.646Z"
   },
   {
    "duration": 595,
    "start_time": "2022-02-06T15:41:16.678Z"
   },
   {
    "duration": 545,
    "start_time": "2022-02-06T15:41:19.513Z"
   },
   {
    "duration": 10,
    "start_time": "2022-02-06T15:43:16.516Z"
   },
   {
    "duration": 17,
    "start_time": "2022-02-06T15:43:52.458Z"
   },
   {
    "duration": 9,
    "start_time": "2022-02-06T15:45:09.884Z"
   },
   {
    "duration": 264,
    "start_time": "2022-02-06T15:46:06.955Z"
   },
   {
    "duration": 276,
    "start_time": "2022-02-06T15:47:10.433Z"
   },
   {
    "duration": 258,
    "start_time": "2022-02-06T15:47:41.633Z"
   },
   {
    "duration": 305,
    "start_time": "2022-02-06T15:47:50.329Z"
   },
   {
    "duration": 6880,
    "start_time": "2022-02-06T15:48:12.496Z"
   },
   {
    "duration": 6823,
    "start_time": "2022-02-06T15:48:56.019Z"
   },
   {
    "duration": 12,
    "start_time": "2022-02-06T15:49:29.423Z"
   },
   {
    "duration": 23,
    "start_time": "2022-02-06T15:49:58.227Z"
   },
   {
    "duration": 12,
    "start_time": "2022-02-06T15:50:59.565Z"
   },
   {
    "duration": 23,
    "start_time": "2022-02-06T15:54:05.250Z"
   },
   {
    "duration": 257,
    "start_time": "2022-02-06T15:55:01.983Z"
   },
   {
    "duration": 13,
    "start_time": "2022-02-06T15:55:19.116Z"
   },
   {
    "duration": 3,
    "start_time": "2022-02-06T15:58:48.241Z"
   },
   {
    "duration": 299,
    "start_time": "2022-02-06T15:59:24.559Z"
   },
   {
    "duration": 544,
    "start_time": "2022-02-06T15:59:30.913Z"
   },
   {
    "duration": 3,
    "start_time": "2022-02-06T15:59:45.793Z"
   },
   {
    "duration": 20,
    "start_time": "2022-02-06T15:59:46.243Z"
   },
   {
    "duration": 5,
    "start_time": "2022-02-06T16:00:01.949Z"
   },
   {
    "duration": 16,
    "start_time": "2022-02-06T16:00:25.734Z"
   },
   {
    "duration": 263,
    "start_time": "2022-02-06T16:02:11.205Z"
   },
   {
    "duration": 491,
    "start_time": "2022-02-06T16:02:45.096Z"
   },
   {
    "duration": 31,
    "start_time": "2022-02-06T16:03:07.394Z"
   },
   {
    "duration": 101,
    "start_time": "2022-02-06T16:05:33.382Z"
   },
   {
    "duration": 88,
    "start_time": "2022-02-06T16:05:52.100Z"
   },
   {
    "duration": 29,
    "start_time": "2022-02-06T16:06:38.181Z"
   },
   {
    "duration": 29,
    "start_time": "2022-02-06T16:07:00.181Z"
   },
   {
    "duration": 29,
    "start_time": "2022-02-06T16:07:03.964Z"
   },
   {
    "duration": 28,
    "start_time": "2022-02-06T16:07:07.837Z"
   },
   {
    "duration": 28,
    "start_time": "2022-02-06T16:07:12.099Z"
   },
   {
    "duration": 29,
    "start_time": "2022-02-06T16:07:15.496Z"
   },
   {
    "duration": 29,
    "start_time": "2022-02-06T16:07:21.333Z"
   },
   {
    "duration": 29,
    "start_time": "2022-02-06T16:07:26.077Z"
   },
   {
    "duration": 29,
    "start_time": "2022-02-06T16:08:42.992Z"
   },
   {
    "duration": 28,
    "start_time": "2022-02-06T16:08:54.941Z"
   },
   {
    "duration": 29,
    "start_time": "2022-02-06T16:09:00.924Z"
   },
   {
    "duration": 28,
    "start_time": "2022-02-06T16:09:06.838Z"
   },
   {
    "duration": 30,
    "start_time": "2022-02-06T16:09:10.593Z"
   },
   {
    "duration": 290,
    "start_time": "2022-02-06T16:11:39.503Z"
   },
   {
    "duration": 311,
    "start_time": "2022-02-06T16:11:43.830Z"
   },
   {
    "duration": 29,
    "start_time": "2022-02-06T16:11:50.544Z"
   },
   {
    "duration": 31,
    "start_time": "2022-02-06T16:12:13.098Z"
   },
   {
    "duration": 29,
    "start_time": "2022-02-06T16:12:19.938Z"
   },
   {
    "duration": 3,
    "start_time": "2022-02-06T16:13:53.097Z"
   },
   {
    "duration": 308,
    "start_time": "2022-02-06T16:14:15.183Z"
   },
   {
    "duration": 30,
    "start_time": "2022-02-06T16:14:30.342Z"
   },
   {
    "duration": 29,
    "start_time": "2022-02-06T16:15:31.506Z"
   },
   {
    "duration": 6,
    "start_time": "2022-02-06T16:21:00.355Z"
   },
   {
    "duration": 5,
    "start_time": "2022-02-06T16:21:09.305Z"
   },
   {
    "duration": 4,
    "start_time": "2022-02-06T16:21:30.684Z"
   },
   {
    "duration": 279,
    "start_time": "2022-02-06T16:22:21.245Z"
   },
   {
    "duration": 246,
    "start_time": "2022-02-06T16:23:49.081Z"
   },
   {
    "duration": 7,
    "start_time": "2022-02-06T16:24:01.577Z"
   },
   {
    "duration": 6,
    "start_time": "2022-02-06T16:24:14.116Z"
   },
   {
    "duration": 7,
    "start_time": "2022-02-06T16:24:28.806Z"
   },
   {
    "duration": 89,
    "start_time": "2022-02-06T16:24:33.779Z"
   },
   {
    "duration": 11,
    "start_time": "2022-02-06T16:24:36.793Z"
   },
   {
    "duration": 6,
    "start_time": "2022-02-06T16:24:46.174Z"
   },
   {
    "duration": 3,
    "start_time": "2022-02-06T16:27:39.949Z"
   },
   {
    "duration": 12,
    "start_time": "2022-02-06T16:27:41.904Z"
   },
   {
    "duration": 10,
    "start_time": "2022-02-06T16:27:59.059Z"
   },
   {
    "duration": 3,
    "start_time": "2022-02-06T16:28:10.885Z"
   },
   {
    "duration": 11,
    "start_time": "2022-02-06T16:28:11.301Z"
   },
   {
    "duration": 8,
    "start_time": "2022-02-06T16:28:13.562Z"
   },
   {
    "duration": 8,
    "start_time": "2022-02-06T16:28:19.752Z"
   },
   {
    "duration": 39,
    "start_time": "2022-02-06T16:32:07.925Z"
   },
   {
    "duration": 37,
    "start_time": "2022-02-06T16:33:45.331Z"
   },
   {
    "duration": 275,
    "start_time": "2022-02-06T16:34:13.329Z"
   },
   {
    "duration": 104,
    "start_time": "2022-02-06T16:34:22.591Z"
   },
   {
    "duration": 32,
    "start_time": "2022-02-06T16:34:24.509Z"
   },
   {
    "duration": 25,
    "start_time": "2022-02-06T16:35:55.378Z"
   },
   {
    "duration": 23,
    "start_time": "2022-02-06T16:36:22.954Z"
   },
   {
    "duration": 25,
    "start_time": "2022-02-06T16:36:51.957Z"
   },
   {
    "duration": 31,
    "start_time": "2022-02-06T16:37:01.618Z"
   },
   {
    "duration": 32,
    "start_time": "2022-02-06T16:38:22.245Z"
   },
   {
    "duration": 37,
    "start_time": "2022-02-06T16:41:03.632Z"
   },
   {
    "duration": 25,
    "start_time": "2022-02-06T16:43:54.821Z"
   },
   {
    "duration": 22,
    "start_time": "2022-02-06T16:44:57.754Z"
   },
   {
    "duration": 28,
    "start_time": "2022-02-06T16:45:04.997Z"
   },
   {
    "duration": 275,
    "start_time": "2022-02-06T16:45:52.988Z"
   },
   {
    "duration": 96,
    "start_time": "2022-02-06T16:46:03.906Z"
   },
   {
    "duration": 281,
    "start_time": "2022-02-06T16:46:07.437Z"
   },
   {
    "duration": 1237,
    "start_time": "2022-02-06T16:49:20.529Z"
   },
   {
    "duration": 25,
    "start_time": "2022-02-06T16:49:50.114Z"
   },
   {
    "duration": 32,
    "start_time": "2022-02-06T16:51:08.926Z"
   },
   {
    "duration": 41,
    "start_time": "2022-02-06T16:51:19.131Z"
   },
   {
    "duration": 35,
    "start_time": "2022-02-06T16:52:21.367Z"
   },
   {
    "duration": 36,
    "start_time": "2022-02-06T16:52:28.387Z"
   },
   {
    "duration": 36,
    "start_time": "2022-02-06T16:52:39.284Z"
   },
   {
    "duration": 37,
    "start_time": "2022-02-06T16:52:51.192Z"
   },
   {
    "duration": 40,
    "start_time": "2022-02-06T16:53:01.834Z"
   },
   {
    "duration": 34,
    "start_time": "2022-02-06T16:56:03.258Z"
   },
   {
    "duration": 24,
    "start_time": "2022-02-06T16:58:47.111Z"
   },
   {
    "duration": 3,
    "start_time": "2022-02-06T17:09:04.911Z"
   },
   {
    "duration": 752,
    "start_time": "2022-02-06T17:12:13.756Z"
   },
   {
    "duration": 14,
    "start_time": "2022-02-06T17:12:28.910Z"
   },
   {
    "duration": 11,
    "start_time": "2022-02-06T17:12:35.793Z"
   },
   {
    "duration": 113,
    "start_time": "2022-02-06T17:16:14.822Z"
   },
   {
    "duration": 11,
    "start_time": "2022-02-06T17:16:18.102Z"
   },
   {
    "duration": 11,
    "start_time": "2022-02-06T17:16:20.091Z"
   },
   {
    "duration": 475,
    "start_time": "2022-02-09T15:50:09.687Z"
   },
   {
    "duration": 821,
    "start_time": "2022-02-09T15:50:15.750Z"
   },
   {
    "duration": 360,
    "start_time": "2022-02-09T15:50:16.574Z"
   },
   {
    "duration": 27,
    "start_time": "2022-02-09T15:50:16.937Z"
   },
   {
    "duration": 23,
    "start_time": "2022-02-09T15:50:16.970Z"
   },
   {
    "duration": 13,
    "start_time": "2022-02-09T15:50:16.996Z"
   },
   {
    "duration": 57,
    "start_time": "2022-02-09T15:50:17.011Z"
   },
   {
    "duration": 11,
    "start_time": "2022-02-09T15:50:17.071Z"
   },
   {
    "duration": 12,
    "start_time": "2022-02-09T15:50:17.358Z"
   },
   {
    "duration": 4,
    "start_time": "2022-02-09T15:50:17.536Z"
   },
   {
    "duration": 51,
    "start_time": "2022-02-09T15:50:17.714Z"
   },
   {
    "duration": 5,
    "start_time": "2022-02-09T15:50:17.886Z"
   },
   {
    "duration": 830,
    "start_time": "2022-02-09T15:50:18.082Z"
   },
   {
    "duration": 822,
    "start_time": "2022-02-09T15:50:18.915Z"
   },
   {
    "duration": 334,
    "start_time": "2022-02-09T15:50:19.740Z"
   },
   {
    "duration": -149,
    "start_time": "2022-02-09T15:50:20.225Z"
   },
   {
    "duration": -149,
    "start_time": "2022-02-09T15:50:20.227Z"
   },
   {
    "duration": -149,
    "start_time": "2022-02-09T15:50:20.228Z"
   },
   {
    "duration": -149,
    "start_time": "2022-02-09T15:50:20.229Z"
   },
   {
    "duration": -214,
    "start_time": "2022-02-09T15:50:20.295Z"
   },
   {
    "duration": -217,
    "start_time": "2022-02-09T15:50:20.300Z"
   },
   {
    "duration": -218,
    "start_time": "2022-02-09T15:50:20.302Z"
   },
   {
    "duration": -218,
    "start_time": "2022-02-09T15:50:20.303Z"
   },
   {
    "duration": 390,
    "start_time": "2022-02-09T15:50:26.463Z"
   },
   {
    "duration": 314,
    "start_time": "2022-02-09T15:50:36.231Z"
   },
   {
    "duration": 424,
    "start_time": "2022-02-09T15:50:39.876Z"
   },
   {
    "duration": 4,
    "start_time": "2022-02-09T15:50:45.121Z"
   },
   {
    "duration": 372,
    "start_time": "2022-02-09T15:50:45.699Z"
   },
   {
    "duration": 16,
    "start_time": "2022-02-09T15:50:46.687Z"
   },
   {
    "duration": 21,
    "start_time": "2022-02-09T15:50:47.436Z"
   },
   {
    "duration": 14,
    "start_time": "2022-02-09T15:50:48.032Z"
   },
   {
    "duration": 24,
    "start_time": "2022-02-09T15:50:48.517Z"
   },
   {
    "duration": 10,
    "start_time": "2022-02-09T15:50:49.087Z"
   },
   {
    "duration": 11,
    "start_time": "2022-02-09T15:50:50.152Z"
   },
   {
    "duration": 5,
    "start_time": "2022-02-09T15:50:50.707Z"
   },
   {
    "duration": 47,
    "start_time": "2022-02-09T15:50:51.309Z"
   },
   {
    "duration": 5,
    "start_time": "2022-02-09T15:50:52.217Z"
   },
   {
    "duration": 747,
    "start_time": "2022-02-09T15:50:53.619Z"
   },
   {
    "duration": 795,
    "start_time": "2022-02-09T15:50:55.851Z"
   },
   {
    "duration": 275,
    "start_time": "2022-02-09T15:50:57.547Z"
   },
   {
    "duration": 60,
    "start_time": "2022-02-09T15:51:13.193Z"
   },
   {
    "duration": 15,
    "start_time": "2022-02-09T15:51:14.240Z"
   },
   {
    "duration": 31,
    "start_time": "2022-02-09T15:51:15.473Z"
   },
   {
    "duration": 36,
    "start_time": "2022-02-09T15:51:16.374Z"
   },
   {
    "duration": 20,
    "start_time": "2022-02-09T15:51:17.192Z"
   },
   {
    "duration": 66,
    "start_time": "2022-02-09T15:51:17.728Z"
   },
   {
    "duration": 22,
    "start_time": "2022-02-09T15:51:18.463Z"
   },
   {
    "duration": 14,
    "start_time": "2022-02-09T15:51:19.128Z"
   },
   {
    "duration": 318,
    "start_time": "2022-02-09T15:51:19.758Z"
   },
   {
    "duration": 286,
    "start_time": "2022-02-09T15:51:27.249Z"
   },
   {
    "duration": 14,
    "start_time": "2022-02-09T15:51:28.044Z"
   },
   {
    "duration": 13,
    "start_time": "2022-02-09T15:51:35.600Z"
   },
   {
    "duration": 22,
    "start_time": "2022-02-09T15:51:36.630Z"
   },
   {
    "duration": 4,
    "start_time": "2022-02-09T16:16:24.399Z"
   },
   {
    "duration": 84,
    "start_time": "2022-02-09T16:19:35.575Z"
   },
   {
    "duration": 6,
    "start_time": "2022-02-09T16:24:16.298Z"
   },
   {
    "duration": 6,
    "start_time": "2022-02-09T16:29:12.628Z"
   },
   {
    "duration": 5,
    "start_time": "2022-02-09T16:31:07.956Z"
   },
   {
    "duration": 9330,
    "start_time": "2022-02-09T16:31:29.959Z"
   },
   {
    "duration": 7294,
    "start_time": "2022-02-09T16:32:10.561Z"
   },
   {
    "duration": 26,
    "start_time": "2022-02-09T16:39:05.975Z"
   },
   {
    "duration": 20,
    "start_time": "2022-02-09T16:39:21.228Z"
   },
   {
    "duration": 25,
    "start_time": "2022-02-09T16:39:38.913Z"
   },
   {
    "duration": 20,
    "start_time": "2022-02-09T16:39:39.809Z"
   },
   {
    "duration": 282,
    "start_time": "2022-02-09T16:39:49.909Z"
   },
   {
    "duration": 295,
    "start_time": "2022-02-09T16:40:08.558Z"
   },
   {
    "duration": 9,
    "start_time": "2022-02-09T16:50:35.680Z"
   },
   {
    "duration": 142,
    "start_time": "2022-02-09T16:50:45.021Z"
   },
   {
    "duration": 22,
    "start_time": "2022-02-09T16:50:48.057Z"
   },
   {
    "duration": 24,
    "start_time": "2022-02-09T18:04:32.576Z"
   },
   {
    "duration": 257,
    "start_time": "2022-02-09T18:11:43.201Z"
   },
   {
    "duration": 10,
    "start_time": "2022-02-09T18:11:54.511Z"
   },
   {
    "duration": 7,
    "start_time": "2022-02-09T18:12:09.491Z"
   },
   {
    "duration": 1764,
    "start_time": "2022-02-09T18:12:19.362Z"
   },
   {
    "duration": 776,
    "start_time": "2022-02-09T18:16:15.693Z"
   },
   {
    "duration": 271,
    "start_time": "2022-02-09T18:16:29.198Z"
   },
   {
    "duration": 274,
    "start_time": "2022-02-09T18:22:59.347Z"
   },
   {
    "duration": 302,
    "start_time": "2022-02-09T18:23:09.691Z"
   },
   {
    "duration": 14,
    "start_time": "2022-02-09T18:23:42.454Z"
   },
   {
    "duration": 12,
    "start_time": "2022-02-09T18:24:13.256Z"
   },
   {
    "duration": 270,
    "start_time": "2022-02-09T18:24:46.443Z"
   },
   {
    "duration": 11,
    "start_time": "2022-02-09T18:27:09.874Z"
   },
   {
    "duration": 655,
    "start_time": "2022-02-09T18:28:09.973Z"
   },
   {
    "duration": 849,
    "start_time": "2022-02-09T18:28:43.233Z"
   },
   {
    "duration": 1055,
    "start_time": "2022-02-09T18:28:54.140Z"
   },
   {
    "duration": 12,
    "start_time": "2022-02-09T18:29:51.002Z"
   },
   {
    "duration": 1044,
    "start_time": "2022-02-09T18:29:51.895Z"
   },
   {
    "duration": 8,
    "start_time": "2022-02-09T18:32:27.668Z"
   },
   {
    "duration": 1242,
    "start_time": "2022-02-09T18:32:28.694Z"
   },
   {
    "duration": 8,
    "start_time": "2022-02-09T18:32:43.874Z"
   },
   {
    "duration": 1312,
    "start_time": "2022-02-09T18:32:45.484Z"
   },
   {
    "duration": 261,
    "start_time": "2022-02-09T18:41:53.476Z"
   },
   {
    "duration": 273,
    "start_time": "2022-02-09T18:41:53.845Z"
   },
   {
    "duration": -74,
    "start_time": "2022-02-09T18:41:54.195Z"
   },
   {
    "duration": 7,
    "start_time": "2022-02-09T18:42:41.434Z"
   },
   {
    "duration": 7,
    "start_time": "2022-02-09T18:42:42.088Z"
   },
   {
    "duration": 8,
    "start_time": "2022-02-09T18:42:42.533Z"
   },
   {
    "duration": 6,
    "start_time": "2022-02-09T18:42:43.233Z"
   },
   {
    "duration": 3947,
    "start_time": "2022-02-09T18:42:43.963Z"
   },
   {
    "duration": 292,
    "start_time": "2022-02-09T18:42:56.860Z"
   },
   {
    "duration": 6,
    "start_time": "2022-02-09T18:43:00.000Z"
   },
   {
    "duration": 6,
    "start_time": "2022-02-09T18:43:02.339Z"
   },
   {
    "duration": 4072,
    "start_time": "2022-02-09T18:43:13.834Z"
   },
   {
    "duration": 6,
    "start_time": "2022-02-09T18:43:18.817Z"
   },
   {
    "duration": 6,
    "start_time": "2022-02-09T18:43:24.183Z"
   },
   {
    "duration": 4396,
    "start_time": "2022-02-09T18:43:38.202Z"
   },
   {
    "duration": 15,
    "start_time": "2022-02-09T18:46:26.443Z"
   },
   {
    "duration": 6,
    "start_time": "2022-02-09T18:46:27.910Z"
   },
   {
    "duration": 5,
    "start_time": "2022-02-09T18:46:34.052Z"
   },
   {
    "duration": 7,
    "start_time": "2022-02-09T18:48:53.006Z"
   },
   {
    "duration": 7,
    "start_time": "2022-02-09T18:48:54.166Z"
   },
   {
    "duration": 6,
    "start_time": "2022-02-09T18:49:02.156Z"
   },
   {
    "duration": 6,
    "start_time": "2022-02-09T18:49:02.686Z"
   },
   {
    "duration": 7,
    "start_time": "2022-02-09T18:49:07.864Z"
   },
   {
    "duration": 6,
    "start_time": "2022-02-09T18:49:09.099Z"
   },
   {
    "duration": 5,
    "start_time": "2022-02-09T18:49:17.701Z"
   },
   {
    "duration": 98,
    "start_time": "2022-02-09T18:50:33.041Z"
   },
   {
    "duration": 7,
    "start_time": "2022-02-09T18:51:16.942Z"
   },
   {
    "duration": 6,
    "start_time": "2022-02-09T18:51:29.205Z"
   },
   {
    "duration": 7,
    "start_time": "2022-02-09T18:52:33.751Z"
   },
   {
    "duration": 6,
    "start_time": "2022-02-09T18:52:34.750Z"
   },
   {
    "duration": 7,
    "start_time": "2022-02-09T18:55:19.653Z"
   },
   {
    "duration": 4504,
    "start_time": "2022-02-09T18:56:19.771Z"
   },
   {
    "duration": 27,
    "start_time": "2022-02-09T18:56:52.927Z"
   },
   {
    "duration": 6,
    "start_time": "2022-02-09T18:57:01.906Z"
   },
   {
    "duration": 4063,
    "start_time": "2022-02-09T18:57:14.364Z"
   },
   {
    "duration": 6,
    "start_time": "2022-02-09T18:59:23.613Z"
   },
   {
    "duration": 7,
    "start_time": "2022-02-09T18:59:23.948Z"
   },
   {
    "duration": 7,
    "start_time": "2022-02-09T18:59:24.495Z"
   },
   {
    "duration": 6,
    "start_time": "2022-02-09T18:59:55.869Z"
   },
   {
    "duration": 6,
    "start_time": "2022-02-09T19:00:03.597Z"
   },
   {
    "duration": 5,
    "start_time": "2022-02-09T19:00:10.227Z"
   },
   {
    "duration": 5,
    "start_time": "2022-02-09T19:00:11.298Z"
   },
   {
    "duration": 5,
    "start_time": "2022-02-09T19:00:20.542Z"
   },
   {
    "duration": 5,
    "start_time": "2022-02-09T19:00:21.979Z"
   },
   {
    "duration": 282,
    "start_time": "2022-02-09T19:00:34.178Z"
   },
   {
    "duration": 8,
    "start_time": "2022-02-09T19:01:08.048Z"
   },
   {
    "duration": 5,
    "start_time": "2022-02-09T19:01:09.372Z"
   },
   {
    "duration": 6,
    "start_time": "2022-02-09T19:01:30.899Z"
   },
   {
    "duration": 8,
    "start_time": "2022-02-09T19:01:40.601Z"
   },
   {
    "duration": 5,
    "start_time": "2022-02-09T19:01:41.342Z"
   },
   {
    "duration": 7,
    "start_time": "2022-02-09T19:01:44.208Z"
   },
   {
    "duration": 5,
    "start_time": "2022-02-09T19:01:45.245Z"
   },
   {
    "duration": 5,
    "start_time": "2022-02-09T19:01:52.270Z"
   },
   {
    "duration": 8,
    "start_time": "2022-02-09T19:02:18.173Z"
   },
   {
    "duration": 5,
    "start_time": "2022-02-09T19:02:19.174Z"
   },
   {
    "duration": 333,
    "start_time": "2022-02-09T19:03:30.701Z"
   },
   {
    "duration": 7,
    "start_time": "2022-02-09T19:03:33.765Z"
   },
   {
    "duration": 5,
    "start_time": "2022-02-09T19:03:45.886Z"
   },
   {
    "duration": 5,
    "start_time": "2022-02-09T19:03:53.228Z"
   },
   {
    "duration": 5,
    "start_time": "2022-02-09T19:03:53.768Z"
   },
   {
    "duration": 6,
    "start_time": "2022-02-09T19:03:59.481Z"
   },
   {
    "duration": 9,
    "start_time": "2022-02-09T19:03:59.748Z"
   },
   {
    "duration": 7,
    "start_time": "2022-02-09T19:03:59.945Z"
   },
   {
    "duration": 7,
    "start_time": "2022-02-09T19:04:00.133Z"
   },
   {
    "duration": 6,
    "start_time": "2022-02-09T19:04:03.372Z"
   },
   {
    "duration": 5,
    "start_time": "2022-02-09T19:04:04.106Z"
   },
   {
    "duration": 9,
    "start_time": "2022-02-09T19:04:28.427Z"
   },
   {
    "duration": 6,
    "start_time": "2022-02-09T19:04:29.395Z"
   },
   {
    "duration": 5,
    "start_time": "2022-02-09T19:05:22.099Z"
   },
   {
    "duration": 6,
    "start_time": "2022-02-09T19:06:12.043Z"
   },
   {
    "duration": 6,
    "start_time": "2022-02-09T19:06:23.881Z"
   },
   {
    "duration": 8,
    "start_time": "2022-02-09T19:06:46.394Z"
   },
   {
    "duration": 23,
    "start_time": "2022-02-09T19:07:27.791Z"
   },
   {
    "duration": 97,
    "start_time": "2022-02-09T19:08:54.588Z"
   },
   {
    "duration": 8,
    "start_time": "2022-02-09T19:08:59.603Z"
   },
   {
    "duration": 268,
    "start_time": "2022-02-09T19:09:26.790Z"
   },
   {
    "duration": 11,
    "start_time": "2022-02-09T19:09:47.612Z"
   },
   {
    "duration": 5,
    "start_time": "2022-02-09T19:15:41.610Z"
   },
   {
    "duration": 5,
    "start_time": "2022-02-09T19:15:43.320Z"
   },
   {
    "duration": 6,
    "start_time": "2022-02-09T19:15:43.585Z"
   },
   {
    "duration": 7,
    "start_time": "2022-02-09T19:15:49.042Z"
   },
   {
    "duration": 6,
    "start_time": "2022-02-09T19:15:49.647Z"
   },
   {
    "duration": 5,
    "start_time": "2022-02-09T19:16:07.051Z"
   },
   {
    "duration": 7,
    "start_time": "2022-02-09T19:16:07.113Z"
   },
   {
    "duration": 7,
    "start_time": "2022-02-09T19:16:37.918Z"
   },
   {
    "duration": 6,
    "start_time": "2022-02-09T19:16:38.595Z"
   },
   {
    "duration": 6,
    "start_time": "2022-02-09T19:16:55.150Z"
   },
   {
    "duration": 6,
    "start_time": "2022-02-09T19:16:55.389Z"
   },
   {
    "duration": 4,
    "start_time": "2022-02-09T19:16:55.935Z"
   },
   {
    "duration": 9,
    "start_time": "2022-02-09T19:17:06.428Z"
   },
   {
    "duration": 6,
    "start_time": "2022-02-09T19:17:06.980Z"
   },
   {
    "duration": 6,
    "start_time": "2022-02-09T19:17:16.679Z"
   },
   {
    "duration": 6,
    "start_time": "2022-02-09T19:17:16.927Z"
   },
   {
    "duration": 5,
    "start_time": "2022-02-09T19:17:17.386Z"
   },
   {
    "duration": 7,
    "start_time": "2022-02-09T19:17:18.026Z"
   },
   {
    "duration": 6,
    "start_time": "2022-02-09T19:17:19.890Z"
   },
   {
    "duration": 6,
    "start_time": "2022-02-09T19:17:37.803Z"
   },
   {
    "duration": 7,
    "start_time": "2022-02-09T19:17:38.111Z"
   },
   {
    "duration": 5,
    "start_time": "2022-02-09T19:17:38.342Z"
   },
   {
    "duration": 6,
    "start_time": "2022-02-09T19:17:38.921Z"
   },
   {
    "duration": 5,
    "start_time": "2022-02-09T19:17:39.311Z"
   },
   {
    "duration": 6,
    "start_time": "2022-02-09T19:17:53.601Z"
   },
   {
    "duration": 7,
    "start_time": "2022-02-09T19:17:53.991Z"
   },
   {
    "duration": 5,
    "start_time": "2022-02-09T19:17:56.380Z"
   },
   {
    "duration": 5,
    "start_time": "2022-02-09T19:17:56.605Z"
   },
   {
    "duration": 6,
    "start_time": "2022-02-09T19:17:56.833Z"
   },
   {
    "duration": 10,
    "start_time": "2022-02-09T19:17:57.182Z"
   },
   {
    "duration": 5,
    "start_time": "2022-02-09T19:17:58.857Z"
   },
   {
    "duration": 7,
    "start_time": "2022-02-09T19:18:01.253Z"
   },
   {
    "duration": 6,
    "start_time": "2022-02-09T19:18:01.609Z"
   },
   {
    "duration": 7,
    "start_time": "2022-02-09T19:18:10.321Z"
   },
   {
    "duration": 6,
    "start_time": "2022-02-09T19:18:10.520Z"
   },
   {
    "duration": 5,
    "start_time": "2022-02-09T19:18:32.964Z"
   },
   {
    "duration": 7,
    "start_time": "2022-02-09T19:18:33.262Z"
   },
   {
    "duration": 5,
    "start_time": "2022-02-09T19:18:33.643Z"
   },
   {
    "duration": 7,
    "start_time": "2022-02-09T19:18:34.245Z"
   },
   {
    "duration": 6,
    "start_time": "2022-02-09T19:18:34.708Z"
   },
   {
    "duration": 5,
    "start_time": "2022-02-09T19:18:49.171Z"
   },
   {
    "duration": 6,
    "start_time": "2022-02-09T19:18:49.521Z"
   },
   {
    "duration": 5,
    "start_time": "2022-02-09T19:18:49.773Z"
   },
   {
    "duration": 8,
    "start_time": "2022-02-09T19:18:51.019Z"
   },
   {
    "duration": 5,
    "start_time": "2022-02-09T19:18:51.471Z"
   },
   {
    "duration": 6,
    "start_time": "2022-02-09T19:18:57.942Z"
   },
   {
    "duration": 5,
    "start_time": "2022-02-09T19:19:08.180Z"
   },
   {
    "duration": 6,
    "start_time": "2022-02-09T19:19:08.531Z"
   },
   {
    "duration": 6,
    "start_time": "2022-02-09T19:19:09.054Z"
   },
   {
    "duration": 7,
    "start_time": "2022-02-09T19:19:10.975Z"
   },
   {
    "duration": 6,
    "start_time": "2022-02-09T19:19:11.609Z"
   },
   {
    "duration": 7,
    "start_time": "2022-02-09T19:19:19.321Z"
   },
   {
    "duration": 5,
    "start_time": "2022-02-09T19:19:19.863Z"
   },
   {
    "duration": 7,
    "start_time": "2022-02-09T19:19:22.780Z"
   },
   {
    "duration": 5,
    "start_time": "2022-02-09T19:19:23.095Z"
   },
   {
    "duration": 5,
    "start_time": "2022-02-09T19:19:37.018Z"
   },
   {
    "duration": 7,
    "start_time": "2022-02-09T19:19:37.352Z"
   },
   {
    "duration": 199,
    "start_time": "2022-02-09T19:19:37.682Z"
   },
   {
    "duration": 24,
    "start_time": "2022-02-09T19:19:38.143Z"
   },
   {
    "duration": 6,
    "start_time": "2022-02-09T19:19:40.173Z"
   },
   {
    "duration": 5,
    "start_time": "2022-02-09T19:19:40.688Z"
   },
   {
    "duration": 5,
    "start_time": "2022-02-09T19:20:12.025Z"
   },
   {
    "duration": 5,
    "start_time": "2022-02-09T19:20:12.589Z"
   },
   {
    "duration": 5,
    "start_time": "2022-02-09T19:20:20.289Z"
   },
   {
    "duration": 5,
    "start_time": "2022-02-09T19:20:20.690Z"
   },
   {
    "duration": 6,
    "start_time": "2022-02-09T19:20:25.361Z"
   },
   {
    "duration": 6,
    "start_time": "2022-02-09T19:20:25.646Z"
   },
   {
    "duration": 5,
    "start_time": "2022-02-09T19:20:28.188Z"
   },
   {
    "duration": 5,
    "start_time": "2022-02-09T19:20:28.487Z"
   },
   {
    "duration": 6,
    "start_time": "2022-02-09T19:20:44.313Z"
   },
   {
    "duration": 5,
    "start_time": "2022-02-09T19:20:44.565Z"
   },
   {
    "duration": 5,
    "start_time": "2022-02-09T19:20:44.874Z"
   },
   {
    "duration": 8,
    "start_time": "2022-02-09T19:20:45.210Z"
   },
   {
    "duration": 5,
    "start_time": "2022-02-09T19:20:45.623Z"
   },
   {
    "duration": 6,
    "start_time": "2022-02-09T19:20:47.262Z"
   },
   {
    "duration": 7,
    "start_time": "2022-02-09T19:20:55.291Z"
   },
   {
    "duration": 5,
    "start_time": "2022-02-09T19:20:55.806Z"
   },
   {
    "duration": 5,
    "start_time": "2022-02-09T19:21:05.328Z"
   },
   {
    "duration": 8,
    "start_time": "2022-02-09T19:21:05.649Z"
   },
   {
    "duration": 5,
    "start_time": "2022-02-09T19:21:06.233Z"
   },
   {
    "duration": 8,
    "start_time": "2022-02-09T19:21:12.540Z"
   },
   {
    "duration": 7,
    "start_time": "2022-02-09T19:21:13.132Z"
   },
   {
    "duration": 6,
    "start_time": "2022-02-09T19:21:24.091Z"
   },
   {
    "duration": 6,
    "start_time": "2022-02-09T19:21:24.522Z"
   },
   {
    "duration": 6,
    "start_time": "2022-02-09T19:21:24.858Z"
   },
   {
    "duration": 7,
    "start_time": "2022-02-09T19:21:25.318Z"
   },
   {
    "duration": 5,
    "start_time": "2022-02-09T19:21:25.839Z"
   },
   {
    "duration": 6,
    "start_time": "2022-02-09T19:21:37.835Z"
   },
   {
    "duration": 6,
    "start_time": "2022-02-09T19:21:38.237Z"
   },
   {
    "duration": 5,
    "start_time": "2022-02-09T19:21:38.678Z"
   },
   {
    "duration": 6,
    "start_time": "2022-02-09T19:21:39.538Z"
   },
   {
    "duration": 5,
    "start_time": "2022-02-09T19:21:40.124Z"
   },
   {
    "duration": 4,
    "start_time": "2022-02-09T19:21:50.686Z"
   },
   {
    "duration": 6,
    "start_time": "2022-02-09T19:21:50.954Z"
   },
   {
    "duration": 5,
    "start_time": "2022-02-09T19:21:51.211Z"
   },
   {
    "duration": 7,
    "start_time": "2022-02-09T19:21:51.494Z"
   },
   {
    "duration": 6,
    "start_time": "2022-02-09T19:21:51.965Z"
   },
   {
    "duration": 6,
    "start_time": "2022-02-09T19:21:53.726Z"
   },
   {
    "duration": 6,
    "start_time": "2022-02-09T19:22:02.526Z"
   },
   {
    "duration": 5,
    "start_time": "2022-02-09T19:22:02.836Z"
   },
   {
    "duration": 7,
    "start_time": "2022-02-09T19:22:16.879Z"
   },
   {
    "duration": 6,
    "start_time": "2022-02-09T19:22:17.399Z"
   },
   {
    "duration": 4,
    "start_time": "2022-02-09T19:22:58.012Z"
   },
   {
    "duration": 6,
    "start_time": "2022-02-09T19:23:00.325Z"
   },
   {
    "duration": 7,
    "start_time": "2022-02-09T19:23:04.702Z"
   },
   {
    "duration": 6,
    "start_time": "2022-02-09T19:23:05.194Z"
   },
   {
    "duration": 7,
    "start_time": "2022-02-09T19:23:08.875Z"
   },
   {
    "duration": 5,
    "start_time": "2022-02-09T19:23:09.403Z"
   },
   {
    "duration": 5,
    "start_time": "2022-02-09T19:23:21.051Z"
   },
   {
    "duration": 7,
    "start_time": "2022-02-09T19:23:21.408Z"
   },
   {
    "duration": 6,
    "start_time": "2022-02-09T19:23:22.061Z"
   },
   {
    "duration": 6,
    "start_time": "2022-02-09T19:23:22.542Z"
   },
   {
    "duration": 6,
    "start_time": "2022-02-09T19:23:23.076Z"
   },
   {
    "duration": 6,
    "start_time": "2022-02-09T19:23:24.633Z"
   },
   {
    "duration": 6,
    "start_time": "2022-02-09T19:23:29.656Z"
   },
   {
    "duration": 5,
    "start_time": "2022-02-09T19:23:30.066Z"
   },
   {
    "duration": 4,
    "start_time": "2022-02-09T19:23:50.557Z"
   },
   {
    "duration": 7,
    "start_time": "2022-02-09T19:23:50.835Z"
   },
   {
    "duration": 6,
    "start_time": "2022-02-09T19:23:51.059Z"
   },
   {
    "duration": 6,
    "start_time": "2022-02-09T19:23:51.620Z"
   },
   {
    "duration": 5,
    "start_time": "2022-02-09T19:23:52.963Z"
   },
   {
    "duration": 6,
    "start_time": "2022-02-09T19:24:13.130Z"
   },
   {
    "duration": 5,
    "start_time": "2022-02-09T19:24:13.823Z"
   },
   {
    "duration": 4,
    "start_time": "2022-02-09T19:25:06.089Z"
   },
   {
    "duration": 6,
    "start_time": "2022-02-09T19:25:06.520Z"
   },
   {
    "duration": 5,
    "start_time": "2022-02-09T19:25:07.120Z"
   },
   {
    "duration": 7,
    "start_time": "2022-02-09T19:25:10.773Z"
   },
   {
    "duration": 5,
    "start_time": "2022-02-09T19:25:11.217Z"
   },
   {
    "duration": 5,
    "start_time": "2022-02-09T19:26:01.524Z"
   },
   {
    "duration": 5,
    "start_time": "2022-02-09T19:26:02.009Z"
   },
   {
    "duration": 6,
    "start_time": "2022-02-09T19:26:15.429Z"
   },
   {
    "duration": 5,
    "start_time": "2022-02-09T19:26:15.847Z"
   },
   {
    "duration": 5,
    "start_time": "2022-02-09T19:26:20.758Z"
   },
   {
    "duration": 5,
    "start_time": "2022-02-09T19:26:21.328Z"
   },
   {
    "duration": 6,
    "start_time": "2022-02-09T19:26:26.072Z"
   },
   {
    "duration": 6,
    "start_time": "2022-02-09T19:26:26.575Z"
   },
   {
    "duration": 7,
    "start_time": "2022-02-09T19:26:57.740Z"
   },
   {
    "duration": 6,
    "start_time": "2022-02-09T19:26:58.930Z"
   },
   {
    "duration": 9,
    "start_time": "2022-02-09T19:27:05.050Z"
   },
   {
    "duration": 6,
    "start_time": "2022-02-09T19:27:05.700Z"
   },
   {
    "duration": 8,
    "start_time": "2022-02-09T19:27:09.826Z"
   },
   {
    "duration": 5,
    "start_time": "2022-02-09T19:27:10.695Z"
   },
   {
    "duration": 256,
    "start_time": "2022-02-09T19:27:23.471Z"
   },
   {
    "duration": 6,
    "start_time": "2022-02-09T19:27:26.287Z"
   },
   {
    "duration": 6,
    "start_time": "2022-02-09T19:27:27.905Z"
   },
   {
    "duration": 6,
    "start_time": "2022-02-09T19:27:46.809Z"
   },
   {
    "duration": 5,
    "start_time": "2022-02-09T19:27:47.754Z"
   },
   {
    "duration": 5,
    "start_time": "2022-02-09T19:27:52.366Z"
   },
   {
    "duration": 5,
    "start_time": "2022-02-09T19:27:53.293Z"
   },
   {
    "duration": 10,
    "start_time": "2022-02-09T19:29:49.054Z"
   },
   {
    "duration": 11,
    "start_time": "2022-02-09T19:30:22.775Z"
   },
   {
    "duration": 13,
    "start_time": "2022-02-09T19:30:27.687Z"
   },
   {
    "duration": 8,
    "start_time": "2022-02-09T19:30:39.646Z"
   },
   {
    "duration": 8,
    "start_time": "2022-02-09T19:31:05.196Z"
   },
   {
    "duration": 6,
    "start_time": "2022-02-09T19:31:06.007Z"
   },
   {
    "duration": 277,
    "start_time": "2022-02-09T19:31:31.784Z"
   },
   {
    "duration": 439,
    "start_time": "2022-02-09T19:32:08.942Z"
   },
   {
    "duration": 6,
    "start_time": "2022-02-09T19:32:15.262Z"
   },
   {
    "duration": 266,
    "start_time": "2022-02-09T19:32:23.375Z"
   },
   {
    "duration": 9,
    "start_time": "2022-02-09T19:32:32.461Z"
   },
   {
    "duration": 296,
    "start_time": "2022-02-09T19:33:36.282Z"
   },
   {
    "duration": 6,
    "start_time": "2022-02-09T19:33:46.596Z"
   },
   {
    "duration": 286,
    "start_time": "2022-02-09T19:34:01.764Z"
   },
   {
    "duration": 6,
    "start_time": "2022-02-09T19:34:10.166Z"
   },
   {
    "duration": 4,
    "start_time": "2022-02-09T19:38:56.936Z"
   },
   {
    "duration": 5,
    "start_time": "2022-02-09T19:38:58.276Z"
   },
   {
    "duration": 6,
    "start_time": "2022-02-09T19:39:19.103Z"
   },
   {
    "duration": 6,
    "start_time": "2022-02-09T19:39:28.843Z"
   },
   {
    "duration": 5,
    "start_time": "2022-02-09T19:39:34.183Z"
   },
   {
    "duration": 6,
    "start_time": "2022-02-09T19:39:47.246Z"
   },
   {
    "duration": 5,
    "start_time": "2022-02-09T19:40:17.969Z"
   },
   {
    "duration": 391,
    "start_time": "2022-02-09T19:40:17.977Z"
   },
   {
    "duration": 8,
    "start_time": "2022-02-09T19:40:18.371Z"
   },
   {
    "duration": 24,
    "start_time": "2022-02-09T19:40:18.382Z"
   },
   {
    "duration": 13,
    "start_time": "2022-02-09T19:40:18.409Z"
   },
   {
    "duration": 57,
    "start_time": "2022-02-09T19:40:18.425Z"
   },
   {
    "duration": 12,
    "start_time": "2022-02-09T19:40:18.485Z"
   },
   {
    "duration": 11,
    "start_time": "2022-02-09T19:40:18.500Z"
   },
   {
    "duration": 5,
    "start_time": "2022-02-09T19:40:18.516Z"
   },
   {
    "duration": 49,
    "start_time": "2022-02-09T19:40:18.568Z"
   },
   {
    "duration": 6,
    "start_time": "2022-02-09T19:40:18.619Z"
   },
   {
    "duration": 1009,
    "start_time": "2022-02-09T19:40:18.627Z"
   },
   {
    "duration": 1145,
    "start_time": "2022-02-09T19:40:19.638Z"
   },
   {
    "duration": 60,
    "start_time": "2022-02-09T19:40:20.786Z"
   },
   {
    "duration": 34,
    "start_time": "2022-02-09T19:40:20.848Z"
   },
   {
    "duration": 35,
    "start_time": "2022-02-09T19:40:20.885Z"
   },
   {
    "duration": 76,
    "start_time": "2022-02-09T19:40:20.923Z"
   },
   {
    "duration": 7,
    "start_time": "2022-02-09T19:40:21.002Z"
   },
   {
    "duration": 25,
    "start_time": "2022-02-09T19:40:21.012Z"
   },
   {
    "duration": 100,
    "start_time": "2022-02-09T19:40:21.040Z"
   },
   {
    "duration": 40,
    "start_time": "2022-02-09T19:40:21.143Z"
   },
   {
    "duration": 16,
    "start_time": "2022-02-09T19:40:21.185Z"
   },
   {
    "duration": 16,
    "start_time": "2022-02-09T19:40:21.204Z"
   },
   {
    "duration": 14,
    "start_time": "2022-02-09T19:40:21.222Z"
   },
   {
    "duration": 31,
    "start_time": "2022-02-09T19:40:21.238Z"
   },
   {
    "duration": 92,
    "start_time": "2022-02-09T19:40:21.272Z"
   },
   {
    "duration": -70,
    "start_time": "2022-02-09T19:40:21.436Z"
   },
   {
    "duration": -70,
    "start_time": "2022-02-09T19:40:21.438Z"
   },
   {
    "duration": -72,
    "start_time": "2022-02-09T19:40:21.441Z"
   },
   {
    "duration": -78,
    "start_time": "2022-02-09T19:40:21.449Z"
   },
   {
    "duration": -79,
    "start_time": "2022-02-09T19:40:21.451Z"
   },
   {
    "duration": -79,
    "start_time": "2022-02-09T19:40:21.453Z"
   },
   {
    "duration": 1216,
    "start_time": "2022-02-09T19:40:37.140Z"
   },
   {
    "duration": 5,
    "start_time": "2022-02-09T19:40:42.805Z"
   },
   {
    "duration": 4,
    "start_time": "2022-02-09T19:41:02.522Z"
   },
   {
    "duration": 6,
    "start_time": "2022-02-09T19:41:03.490Z"
   },
   {
    "duration": 7,
    "start_time": "2022-02-09T19:41:06.258Z"
   },
   {
    "duration": 9,
    "start_time": "2022-02-09T19:41:07.042Z"
   },
   {
    "duration": 6,
    "start_time": "2022-02-09T19:41:21.289Z"
   },
   {
    "duration": 6,
    "start_time": "2022-02-09T19:41:21.748Z"
   },
   {
    "duration": 10,
    "start_time": "2022-02-09T19:41:40.204Z"
   },
   {
    "duration": 15,
    "start_time": "2022-02-09T19:42:10.899Z"
   },
   {
    "duration": 5,
    "start_time": "2022-02-09T19:42:37.524Z"
   },
   {
    "duration": 5,
    "start_time": "2022-02-09T19:42:38.034Z"
   },
   {
    "duration": 6,
    "start_time": "2022-02-09T19:42:38.284Z"
   },
   {
    "duration": 7,
    "start_time": "2022-02-09T19:42:38.587Z"
   },
   {
    "duration": 6,
    "start_time": "2022-02-09T19:42:39.167Z"
   },
   {
    "duration": 7,
    "start_time": "2022-02-09T19:42:42.643Z"
   },
   {
    "duration": 5,
    "start_time": "2022-02-09T19:42:43.168Z"
   },
   {
    "duration": 4,
    "start_time": "2022-02-09T19:42:48.183Z"
   },
   {
    "duration": 5,
    "start_time": "2022-02-09T19:42:48.483Z"
   },
   {
    "duration": 6,
    "start_time": "2022-02-09T19:42:48.693Z"
   },
   {
    "duration": 7,
    "start_time": "2022-02-09T19:42:48.873Z"
   },
   {
    "duration": 6,
    "start_time": "2022-02-09T19:42:49.268Z"
   },
   {
    "duration": 4,
    "start_time": "2022-02-09T19:42:51.679Z"
   },
   {
    "duration": 5,
    "start_time": "2022-02-09T19:42:51.864Z"
   },
   {
    "duration": 6,
    "start_time": "2022-02-09T19:42:52.043Z"
   },
   {
    "duration": 7,
    "start_time": "2022-02-09T19:42:52.222Z"
   },
   {
    "duration": 5,
    "start_time": "2022-02-09T19:42:52.420Z"
   },
   {
    "duration": 4,
    "start_time": "2022-02-09T19:43:04.167Z"
   },
   {
    "duration": 4,
    "start_time": "2022-02-09T19:43:04.429Z"
   },
   {
    "duration": 6,
    "start_time": "2022-02-09T19:43:04.755Z"
   },
   {
    "duration": 7,
    "start_time": "2022-02-09T19:43:05.623Z"
   },
   {
    "duration": 5,
    "start_time": "2022-02-09T19:43:06.325Z"
   },
   {
    "duration": 6,
    "start_time": "2022-02-09T19:43:10.641Z"
   },
   {
    "duration": 5,
    "start_time": "2022-02-09T19:43:10.875Z"
   },
   {
    "duration": 8,
    "start_time": "2022-02-09T19:43:16.989Z"
   },
   {
    "duration": 5,
    "start_time": "2022-02-09T19:43:17.238Z"
   },
   {
    "duration": 446,
    "start_time": "2022-02-10T10:04:34.850Z"
   },
   {
    "duration": -63,
    "start_time": "2022-02-10T10:04:35.362Z"
   },
   {
    "duration": 1453,
    "start_time": "2022-02-10T10:04:47.153Z"
   },
   {
    "duration": 350,
    "start_time": "2022-02-10T10:04:48.609Z"
   },
   {
    "duration": 12,
    "start_time": "2022-02-10T10:04:48.963Z"
   },
   {
    "duration": 24,
    "start_time": "2022-02-10T10:04:48.978Z"
   },
   {
    "duration": 46,
    "start_time": "2022-02-10T10:04:49.004Z"
   },
   {
    "duration": 21,
    "start_time": "2022-02-10T10:04:49.053Z"
   },
   {
    "duration": 10,
    "start_time": "2022-02-10T10:04:49.077Z"
   },
   {
    "duration": 11,
    "start_time": "2022-02-10T10:04:49.089Z"
   },
   {
    "duration": 4,
    "start_time": "2022-02-10T10:04:49.151Z"
   },
   {
    "duration": 56,
    "start_time": "2022-02-10T10:04:49.158Z"
   },
   {
    "duration": 5,
    "start_time": "2022-02-10T10:04:49.216Z"
   },
   {
    "duration": 801,
    "start_time": "2022-02-10T10:04:49.224Z"
   },
   {
    "duration": 807,
    "start_time": "2022-02-10T10:04:50.027Z"
   },
   {
    "duration": 69,
    "start_time": "2022-02-10T10:04:50.837Z"
   },
   {
    "duration": 15,
    "start_time": "2022-02-10T10:04:50.909Z"
   },
   {
    "duration": 29,
    "start_time": "2022-02-10T10:04:50.948Z"
   },
   {
    "duration": 34,
    "start_time": "2022-02-10T10:04:50.979Z"
   },
   {
    "duration": 34,
    "start_time": "2022-02-10T10:04:51.016Z"
   },
   {
    "duration": 22,
    "start_time": "2022-02-10T10:04:51.052Z"
   },
   {
    "duration": 92,
    "start_time": "2022-02-10T10:04:51.076Z"
   },
   {
    "duration": 22,
    "start_time": "2022-02-10T10:04:51.170Z"
   },
   {
    "duration": 14,
    "start_time": "2022-02-10T10:04:51.194Z"
   },
   {
    "duration": 45,
    "start_time": "2022-02-10T10:04:51.210Z"
   },
   {
    "duration": 5,
    "start_time": "2022-02-10T10:04:51.258Z"
   },
   {
    "duration": 13,
    "start_time": "2022-02-10T10:04:51.265Z"
   },
   {
    "duration": 114,
    "start_time": "2022-02-10T10:04:51.280Z"
   },
   {
    "duration": -65,
    "start_time": "2022-02-10T10:04:51.462Z"
   },
   {
    "duration": -66,
    "start_time": "2022-02-10T10:04:51.464Z"
   },
   {
    "duration": -79,
    "start_time": "2022-02-10T10:04:51.479Z"
   },
   {
    "duration": -84,
    "start_time": "2022-02-10T10:04:51.485Z"
   },
   {
    "duration": -84,
    "start_time": "2022-02-10T10:04:51.487Z"
   },
   {
    "duration": -85,
    "start_time": "2022-02-10T10:04:51.489Z"
   },
   {
    "duration": -85,
    "start_time": "2022-02-10T10:04:51.491Z"
   },
   {
    "duration": -86,
    "start_time": "2022-02-10T10:04:51.493Z"
   },
   {
    "duration": -85,
    "start_time": "2022-02-10T10:04:51.494Z"
   },
   {
    "duration": -86,
    "start_time": "2022-02-10T10:04:51.496Z"
   },
   {
    "duration": -87,
    "start_time": "2022-02-10T10:04:51.498Z"
   },
   {
    "duration": -88,
    "start_time": "2022-02-10T10:04:51.500Z"
   },
   {
    "duration": -87,
    "start_time": "2022-02-10T10:04:51.501Z"
   },
   {
    "duration": 9,
    "start_time": "2022-02-10T10:11:02.362Z"
   },
   {
    "duration": 154,
    "start_time": "2022-02-10T10:11:03.857Z"
   },
   {
    "duration": 10,
    "start_time": "2022-02-10T10:11:05.319Z"
   },
   {
    "duration": 537,
    "start_time": "2022-02-10T10:12:21.622Z"
   },
   {
    "duration": 6,
    "start_time": "2022-02-10T10:12:28.909Z"
   },
   {
    "duration": 4,
    "start_time": "2022-02-10T10:12:29.122Z"
   },
   {
    "duration": 4,
    "start_time": "2022-02-10T10:12:29.282Z"
   },
   {
    "duration": 5,
    "start_time": "2022-02-10T10:12:29.463Z"
   },
   {
    "duration": 5,
    "start_time": "2022-02-10T10:12:29.673Z"
   },
   {
    "duration": 7,
    "start_time": "2022-02-10T10:12:29.931Z"
   },
   {
    "duration": 6,
    "start_time": "2022-02-10T10:12:30.551Z"
   },
   {
    "duration": 10,
    "start_time": "2022-02-10T10:12:39.009Z"
   },
   {
    "duration": 6,
    "start_time": "2022-02-10T10:12:39.455Z"
   },
   {
    "duration": 6,
    "start_time": "2022-02-10T10:12:44.910Z"
   },
   {
    "duration": 5,
    "start_time": "2022-02-10T10:12:45.236Z"
   },
   {
    "duration": 4,
    "start_time": "2022-02-10T10:12:45.659Z"
   },
   {
    "duration": 4,
    "start_time": "2022-02-10T10:12:46.196Z"
   },
   {
    "duration": 6,
    "start_time": "2022-02-10T10:12:46.774Z"
   },
   {
    "duration": 7,
    "start_time": "2022-02-10T10:12:47.443Z"
   },
   {
    "duration": 12,
    "start_time": "2022-02-10T10:12:47.919Z"
   },
   {
    "duration": 5,
    "start_time": "2022-02-10T10:13:45.128Z"
   },
   {
    "duration": 4,
    "start_time": "2022-02-10T10:13:45.410Z"
   },
   {
    "duration": 5,
    "start_time": "2022-02-10T10:13:45.848Z"
   },
   {
    "duration": 6,
    "start_time": "2022-02-10T10:13:46.638Z"
   },
   {
    "duration": 8,
    "start_time": "2022-02-10T10:13:48.813Z"
   },
   {
    "duration": 6,
    "start_time": "2022-02-10T10:13:49.437Z"
   },
   {
    "duration": 7,
    "start_time": "2022-02-10T10:14:04.737Z"
   },
   {
    "duration": 4,
    "start_time": "2022-02-10T10:15:08.762Z"
   },
   {
    "duration": 10,
    "start_time": "2022-02-10T10:15:17.376Z"
   },
   {
    "duration": 3,
    "start_time": "2022-02-10T10:15:50.043Z"
   },
   {
    "duration": 9,
    "start_time": "2022-02-10T10:15:50.828Z"
   },
   {
    "duration": 4,
    "start_time": "2022-02-10T10:16:12.722Z"
   },
   {
    "duration": 45,
    "start_time": "2022-02-10T10:16:13.834Z"
   },
   {
    "duration": 8,
    "start_time": "2022-02-10T10:37:17.317Z"
   },
   {
    "duration": 113,
    "start_time": "2022-02-10T10:37:17.817Z"
   },
   {
    "duration": 5,
    "start_time": "2022-02-10T10:37:32.642Z"
   },
   {
    "duration": 5,
    "start_time": "2022-02-10T10:37:32.880Z"
   },
   {
    "duration": 4,
    "start_time": "2022-02-10T10:37:33.072Z"
   },
   {
    "duration": 8,
    "start_time": "2022-02-10T10:37:36.002Z"
   },
   {
    "duration": 113,
    "start_time": "2022-02-10T10:37:36.226Z"
   },
   {
    "duration": 5,
    "start_time": "2022-02-10T10:37:44.098Z"
   },
   {
    "duration": 8,
    "start_time": "2022-02-10T10:37:44.694Z"
   },
   {
    "duration": 6,
    "start_time": "2022-02-10T10:37:44.921Z"
   },
   {
    "duration": 6,
    "start_time": "2022-02-10T10:37:45.901Z"
   },
   {
    "duration": 5,
    "start_time": "2022-02-10T10:37:46.338Z"
   },
   {
    "duration": 48,
    "start_time": "2022-02-10T10:37:52.435Z"
   },
   {
    "duration": 1483,
    "start_time": "2022-02-10T10:40:05.020Z"
   },
   {
    "duration": 337,
    "start_time": "2022-02-10T10:40:08.127Z"
   },
   {
    "duration": 4,
    "start_time": "2022-02-10T10:40:15.035Z"
   },
   {
    "duration": 51,
    "start_time": "2022-02-10T10:40:21.185Z"
   },
   {
    "duration": 6,
    "start_time": "2022-02-10T10:40:22.383Z"
   },
   {
    "duration": 857,
    "start_time": "2022-02-10T10:40:24.000Z"
   },
   {
    "duration": 846,
    "start_time": "2022-02-10T10:40:24.860Z"
   },
   {
    "duration": 62,
    "start_time": "2022-02-10T10:40:29.167Z"
   },
   {
    "duration": 32,
    "start_time": "2022-02-10T10:40:35.374Z"
   },
   {
    "duration": 35,
    "start_time": "2022-02-10T10:40:36.072Z"
   },
   {
    "duration": 5,
    "start_time": "2022-02-10T10:40:39.130Z"
   },
   {
    "duration": 19,
    "start_time": "2022-02-10T10:40:41.948Z"
   },
   {
    "duration": 63,
    "start_time": "2022-02-10T10:40:46.468Z"
   },
   {
    "duration": 27,
    "start_time": "2022-02-10T10:40:46.805Z"
   },
   {
    "duration": 15,
    "start_time": "2022-02-10T10:40:49.904Z"
   },
   {
    "duration": 13,
    "start_time": "2022-02-10T10:40:50.852Z"
   },
   {
    "duration": 6,
    "start_time": "2022-02-10T10:40:57.458Z"
   },
   {
    "duration": 7,
    "start_time": "2022-02-10T10:41:06.606Z"
   },
   {
    "duration": 116,
    "start_time": "2022-02-10T10:41:09.915Z"
   },
   {
    "duration": 7,
    "start_time": "2022-02-10T10:41:14.485Z"
   },
   {
    "duration": 24,
    "start_time": "2022-02-10T10:41:37.981Z"
   },
   {
    "duration": 7,
    "start_time": "2022-02-10T10:42:31.766Z"
   },
   {
    "duration": 5,
    "start_time": "2022-02-10T10:42:45.117Z"
   },
   {
    "duration": 11,
    "start_time": "2022-02-10T10:44:12.339Z"
   },
   {
    "duration": 1546,
    "start_time": "2022-02-10T10:50:24.875Z"
   },
   {
    "duration": 339,
    "start_time": "2022-02-10T10:50:26.424Z"
   },
   {
    "duration": 11,
    "start_time": "2022-02-10T10:50:28.766Z"
   },
   {
    "duration": 21,
    "start_time": "2022-02-10T10:50:42.253Z"
   },
   {
    "duration": 18,
    "start_time": "2022-02-10T10:50:44.764Z"
   },
   {
    "duration": 21,
    "start_time": "2022-02-10T10:50:50.648Z"
   },
   {
    "duration": 11,
    "start_time": "2022-02-10T10:51:02.723Z"
   },
   {
    "duration": 12,
    "start_time": "2022-02-10T10:51:05.377Z"
   },
   {
    "duration": 4,
    "start_time": "2022-02-10T10:51:08.798Z"
   },
   {
    "duration": 46,
    "start_time": "2022-02-10T10:51:18.046Z"
   },
   {
    "duration": 6,
    "start_time": "2022-02-10T10:51:19.792Z"
   },
   {
    "duration": 773,
    "start_time": "2022-02-10T10:51:20.476Z"
   },
   {
    "duration": 787,
    "start_time": "2022-02-10T10:51:25.995Z"
   },
   {
    "duration": 61,
    "start_time": "2022-02-10T10:51:32.229Z"
   },
   {
    "duration": 16,
    "start_time": "2022-02-10T10:51:36.045Z"
   },
   {
    "duration": 29,
    "start_time": "2022-02-10T10:51:37.848Z"
   },
   {
    "duration": 32,
    "start_time": "2022-02-10T10:51:38.565Z"
   },
   {
    "duration": 5,
    "start_time": "2022-02-10T10:51:40.324Z"
   },
   {
    "duration": 18,
    "start_time": "2022-02-10T10:51:49.147Z"
   },
   {
    "duration": 68,
    "start_time": "2022-02-10T10:51:55.090Z"
   },
   {
    "duration": 21,
    "start_time": "2022-02-10T10:51:57.831Z"
   },
   {
    "duration": 13,
    "start_time": "2022-02-10T10:51:59.265Z"
   },
   {
    "duration": 13,
    "start_time": "2022-02-10T10:52:08.256Z"
   },
   {
    "duration": 21,
    "start_time": "2022-02-10T10:52:09.244Z"
   },
   {
    "duration": 8,
    "start_time": "2022-02-10T10:52:40.602Z"
   },
   {
    "duration": 5,
    "start_time": "2022-02-10T10:53:04.005Z"
   },
   {
    "duration": 8,
    "start_time": "2022-02-10T10:58:24.556Z"
   },
   {
    "duration": 146,
    "start_time": "2022-02-10T10:58:46.900Z"
   },
   {
    "duration": 95,
    "start_time": "2022-02-10T10:58:56.534Z"
   },
   {
    "duration": 54,
    "start_time": "2022-02-10T10:59:04.094Z"
   },
   {
    "duration": 133,
    "start_time": "2022-02-10T11:01:44.508Z"
   },
   {
    "duration": 91,
    "start_time": "2022-02-10T11:02:04.666Z"
   },
   {
    "duration": 106,
    "start_time": "2022-02-10T11:02:44.686Z"
   },
   {
    "duration": 133,
    "start_time": "2022-02-10T11:02:52.940Z"
   },
   {
    "duration": 131,
    "start_time": "2022-02-10T11:03:32.389Z"
   },
   {
    "duration": 96,
    "start_time": "2022-02-10T11:03:38.758Z"
   },
   {
    "duration": 34,
    "start_time": "2022-02-10T11:03:41.246Z"
   },
   {
    "duration": 24,
    "start_time": "2022-02-10T11:04:24.290Z"
   },
   {
    "duration": 24,
    "start_time": "2022-02-10T11:04:48.368Z"
   },
   {
    "duration": 25,
    "start_time": "2022-02-10T11:06:29.654Z"
   },
   {
    "duration": 8,
    "start_time": "2022-02-10T11:11:39.935Z"
   },
   {
    "duration": 30,
    "start_time": "2022-02-10T11:11:53.695Z"
   },
   {
    "duration": 24,
    "start_time": "2022-02-10T11:12:22.016Z"
   },
   {
    "duration": 63,
    "start_time": "2022-02-10T11:17:09.830Z"
   },
   {
    "duration": 38,
    "start_time": "2022-02-10T11:17:31.296Z"
   },
   {
    "duration": 39,
    "start_time": "2022-02-10T11:17:38.490Z"
   },
   {
    "duration": 14,
    "start_time": "2022-02-10T11:18:33.985Z"
   },
   {
    "duration": 15,
    "start_time": "2022-02-10T11:18:45.502Z"
   },
   {
    "duration": 17,
    "start_time": "2022-02-10T11:19:02.008Z"
   },
   {
    "duration": 8512,
    "start_time": "2022-02-10T11:26:29.648Z"
   },
   {
    "duration": 15,
    "start_time": "2022-02-10T11:26:47.491Z"
   },
   {
    "duration": 16,
    "start_time": "2022-02-10T11:26:48.524Z"
   },
   {
    "duration": 286,
    "start_time": "2022-02-10T11:32:50.807Z"
   },
   {
    "duration": 399,
    "start_time": "2022-02-10T11:32:58.951Z"
   },
   {
    "duration": 19,
    "start_time": "2022-02-10T11:33:48.045Z"
   },
   {
    "duration": 16,
    "start_time": "2022-02-10T11:33:52.014Z"
   },
   {
    "duration": 339,
    "start_time": "2022-02-10T11:34:30.190Z"
   },
   {
    "duration": 299,
    "start_time": "2022-02-10T11:34:43.897Z"
   },
   {
    "duration": 16,
    "start_time": "2022-02-10T11:35:17.630Z"
   },
   {
    "duration": 17,
    "start_time": "2022-02-10T11:35:18.429Z"
   },
   {
    "duration": 288,
    "start_time": "2022-02-10T11:35:22.972Z"
   },
   {
    "duration": 282,
    "start_time": "2022-02-10T11:35:52.970Z"
   },
   {
    "duration": 16,
    "start_time": "2022-02-10T11:36:05.497Z"
   },
   {
    "duration": 16,
    "start_time": "2022-02-10T11:36:06.021Z"
   },
   {
    "duration": 286,
    "start_time": "2022-02-10T11:36:06.359Z"
   },
   {
    "duration": 13,
    "start_time": "2022-02-10T11:37:01.137Z"
   },
   {
    "duration": 15,
    "start_time": "2022-02-10T11:37:13.824Z"
   },
   {
    "duration": 14,
    "start_time": "2022-02-10T11:37:30.201Z"
   },
   {
    "duration": 15,
    "start_time": "2022-02-10T11:37:35.731Z"
   },
   {
    "duration": 14,
    "start_time": "2022-02-10T11:37:51.518Z"
   },
   {
    "duration": 16,
    "start_time": "2022-02-10T11:38:08.247Z"
   },
   {
    "duration": 20,
    "start_time": "2022-02-10T11:38:08.985Z"
   },
   {
    "duration": 12,
    "start_time": "2022-02-10T11:38:11.366Z"
   },
   {
    "duration": 29,
    "start_time": "2022-02-10T11:48:51.476Z"
   },
   {
    "duration": 8,
    "start_time": "2022-02-10T11:49:04.293Z"
   },
   {
    "duration": 32,
    "start_time": "2022-02-10T11:49:04.701Z"
   },
   {
    "duration": 24,
    "start_time": "2022-02-10T11:49:05.521Z"
   },
   {
    "duration": 64,
    "start_time": "2022-02-10T11:49:32.891Z"
   },
   {
    "duration": 117,
    "start_time": "2022-02-10T11:50:03.433Z"
   },
   {
    "duration": 105,
    "start_time": "2022-02-10T11:50:48.484Z"
   },
   {
    "duration": 111,
    "start_time": "2022-02-10T11:51:03.495Z"
   },
   {
    "duration": 121,
    "start_time": "2022-02-10T11:51:03.968Z"
   },
   {
    "duration": 7,
    "start_time": "2022-02-10T11:51:14.470Z"
   },
   {
    "duration": 28,
    "start_time": "2022-02-10T11:51:14.922Z"
   },
   {
    "duration": 23,
    "start_time": "2022-02-10T11:51:16.515Z"
   },
   {
    "duration": 8,
    "start_time": "2022-02-10T11:51:29.934Z"
   },
   {
    "duration": 29,
    "start_time": "2022-02-10T11:51:30.310Z"
   },
   {
    "duration": 24,
    "start_time": "2022-02-10T11:51:31.771Z"
   },
   {
    "duration": 67,
    "start_time": "2022-02-10T11:52:01.568Z"
   },
   {
    "duration": 7,
    "start_time": "2022-02-10T11:52:27.628Z"
   },
   {
    "duration": 28,
    "start_time": "2022-02-10T11:52:27.858Z"
   },
   {
    "duration": 25,
    "start_time": "2022-02-10T11:52:28.787Z"
   },
   {
    "duration": 32,
    "start_time": "2022-02-10T11:52:45.970Z"
   },
   {
    "duration": 37,
    "start_time": "2022-02-10T11:53:06.921Z"
   },
   {
    "duration": 7,
    "start_time": "2022-02-10T11:54:09.760Z"
   },
   {
    "duration": 32,
    "start_time": "2022-02-10T11:54:16.401Z"
   },
   {
    "duration": 7,
    "start_time": "2022-02-10T11:55:01.772Z"
   },
   {
    "duration": 26,
    "start_time": "2022-02-10T11:55:09.643Z"
   },
   {
    "duration": -172,
    "start_time": "2022-02-10T11:55:38.596Z"
   },
   {
    "duration": 39,
    "start_time": "2022-02-10T11:55:42.816Z"
   },
   {
    "duration": 34,
    "start_time": "2022-02-10T11:56:06.836Z"
   },
   {
    "duration": 7,
    "start_time": "2022-02-10T11:56:22.905Z"
   },
   {
    "duration": 28,
    "start_time": "2022-02-10T11:56:23.303Z"
   },
   {
    "duration": 24,
    "start_time": "2022-02-10T11:56:23.878Z"
   },
   {
    "duration": 48,
    "start_time": "2022-02-10T11:56:25.549Z"
   },
   {
    "duration": 33,
    "start_time": "2022-02-10T11:56:26.879Z"
   },
   {
    "duration": 7,
    "start_time": "2022-02-10T11:56:32.372Z"
   },
   {
    "duration": 36,
    "start_time": "2022-02-10T11:56:37.678Z"
   },
   {
    "duration": 7,
    "start_time": "2022-02-10T11:56:55.211Z"
   },
   {
    "duration": 28,
    "start_time": "2022-02-10T11:56:56.115Z"
   },
   {
    "duration": 25,
    "start_time": "2022-02-10T11:56:59.723Z"
   },
   {
    "duration": 31,
    "start_time": "2022-02-10T11:57:03.221Z"
   },
   {
    "duration": 31,
    "start_time": "2022-02-10T11:57:17.194Z"
   },
   {
    "duration": 32,
    "start_time": "2022-02-10T11:57:24.942Z"
   },
   {
    "duration": 37,
    "start_time": "2022-02-10T11:57:32.273Z"
   },
   {
    "duration": 11,
    "start_time": "2022-02-10T11:57:45.905Z"
   },
   {
    "duration": 7,
    "start_time": "2022-02-10T11:57:47.777Z"
   },
   {
    "duration": 32,
    "start_time": "2022-02-10T11:57:49.086Z"
   },
   {
    "duration": 7,
    "start_time": "2022-02-10T11:57:56.190Z"
   },
   {
    "duration": 32,
    "start_time": "2022-02-10T11:57:57.265Z"
   },
   {
    "duration": 46,
    "start_time": "2022-02-10T11:59:24.530Z"
   },
   {
    "duration": 13,
    "start_time": "2022-02-10T12:00:25.445Z"
   },
   {
    "duration": 17,
    "start_time": "2022-02-10T12:01:12.038Z"
   },
   {
    "duration": 23,
    "start_time": "2022-02-10T12:01:19.631Z"
   },
   {
    "duration": 6,
    "start_time": "2022-02-10T12:02:13.465Z"
   },
   {
    "duration": 14,
    "start_time": "2022-02-10T12:02:14.706Z"
   },
   {
    "duration": 28,
    "start_time": "2022-02-10T12:02:15.701Z"
   },
   {
    "duration": 25,
    "start_time": "2022-02-10T12:02:22.727Z"
   },
   {
    "duration": 283,
    "start_time": "2022-02-10T12:02:28.283Z"
   },
   {
    "duration": 12,
    "start_time": "2022-02-10T12:02:29.069Z"
   },
   {
    "duration": 5,
    "start_time": "2022-02-10T12:03:00.750Z"
   },
   {
    "duration": 344,
    "start_time": "2022-02-10T12:03:00.758Z"
   },
   {
    "duration": 10,
    "start_time": "2022-02-10T12:03:01.105Z"
   },
   {
    "duration": 42,
    "start_time": "2022-02-10T12:03:01.118Z"
   },
   {
    "duration": 12,
    "start_time": "2022-02-10T12:03:01.163Z"
   },
   {
    "duration": 45,
    "start_time": "2022-02-10T12:03:01.177Z"
   },
   {
    "duration": 24,
    "start_time": "2022-02-10T12:03:01.224Z"
   },
   {
    "duration": 12,
    "start_time": "2022-02-10T12:03:01.251Z"
   },
   {
    "duration": 11,
    "start_time": "2022-02-10T12:03:01.267Z"
   },
   {
    "duration": 78,
    "start_time": "2022-02-10T12:03:01.281Z"
   },
   {
    "duration": 6,
    "start_time": "2022-02-10T12:03:01.362Z"
   },
   {
    "duration": 1030,
    "start_time": "2022-02-10T12:03:01.370Z"
   },
   {
    "duration": 875,
    "start_time": "2022-02-10T12:03:02.403Z"
   },
   {
    "duration": 73,
    "start_time": "2022-02-10T12:03:03.280Z"
   },
   {
    "duration": 16,
    "start_time": "2022-02-10T12:03:03.355Z"
   },
   {
    "duration": 29,
    "start_time": "2022-02-10T12:03:03.373Z"
   },
   {
    "duration": 72,
    "start_time": "2022-02-10T12:03:03.404Z"
   },
   {
    "duration": 19,
    "start_time": "2022-02-10T12:03:03.478Z"
   },
   {
    "duration": 94,
    "start_time": "2022-02-10T12:03:03.499Z"
   },
   {
    "duration": 22,
    "start_time": "2022-02-10T12:03:03.596Z"
   },
   {
    "duration": 30,
    "start_time": "2022-02-10T12:03:03.620Z"
   },
   {
    "duration": 15,
    "start_time": "2022-02-10T12:03:03.653Z"
   },
   {
    "duration": 22,
    "start_time": "2022-02-10T12:03:03.670Z"
   },
   {
    "duration": 16,
    "start_time": "2022-02-10T12:03:03.695Z"
   },
   {
    "duration": 62,
    "start_time": "2022-02-10T12:03:03.713Z"
   },
   {
    "duration": 30,
    "start_time": "2022-02-10T12:03:03.777Z"
   },
   {
    "duration": 68,
    "start_time": "2022-02-10T12:03:03.812Z"
   },
   {
    "duration": 18,
    "start_time": "2022-02-10T12:03:03.883Z"
   },
   {
    "duration": 31,
    "start_time": "2022-02-10T12:03:03.903Z"
   },
   {
    "duration": 61,
    "start_time": "2022-02-10T12:03:03.937Z"
   },
   {
    "duration": 23,
    "start_time": "2022-02-10T12:03:04.001Z"
   },
   {
    "duration": 57,
    "start_time": "2022-02-10T12:03:04.026Z"
   },
   {
    "duration": 7,
    "start_time": "2022-02-10T12:03:10.185Z"
   },
   {
    "duration": 12,
    "start_time": "2022-02-10T12:03:11.755Z"
   },
   {
    "duration": 31,
    "start_time": "2022-02-10T12:03:13.258Z"
   },
   {
    "duration": 10,
    "start_time": "2022-02-10T12:05:24.899Z"
   },
   {
    "duration": 19,
    "start_time": "2022-02-10T12:05:33.981Z"
   },
   {
    "duration": 14,
    "start_time": "2022-02-10T12:05:53.719Z"
   },
   {
    "duration": 4,
    "start_time": "2022-02-10T12:06:09.540Z"
   },
   {
    "duration": 344,
    "start_time": "2022-02-10T12:06:09.547Z"
   },
   {
    "duration": 9,
    "start_time": "2022-02-10T12:06:09.893Z"
   },
   {
    "duration": 27,
    "start_time": "2022-02-10T12:06:09.905Z"
   },
   {
    "duration": 22,
    "start_time": "2022-02-10T12:06:09.934Z"
   },
   {
    "duration": 30,
    "start_time": "2022-02-10T12:06:09.959Z"
   },
   {
    "duration": 10,
    "start_time": "2022-02-10T12:06:09.991Z"
   },
   {
    "duration": 46,
    "start_time": "2022-02-10T12:06:10.004Z"
   },
   {
    "duration": 4,
    "start_time": "2022-02-10T12:06:10.054Z"
   },
   {
    "duration": 51,
    "start_time": "2022-02-10T12:06:10.062Z"
   },
   {
    "duration": 33,
    "start_time": "2022-02-10T12:06:10.116Z"
   },
   {
    "duration": 881,
    "start_time": "2022-02-10T12:06:10.152Z"
   },
   {
    "duration": 1046,
    "start_time": "2022-02-10T12:06:11.036Z"
   },
   {
    "duration": 101,
    "start_time": "2022-02-10T12:06:12.085Z"
   },
   {
    "duration": 22,
    "start_time": "2022-02-10T12:06:12.189Z"
   },
   {
    "duration": 67,
    "start_time": "2022-02-10T12:06:12.214Z"
   },
   {
    "duration": 64,
    "start_time": "2022-02-10T12:06:12.284Z"
   },
   {
    "duration": 26,
    "start_time": "2022-02-10T12:06:12.352Z"
   },
   {
    "duration": 101,
    "start_time": "2022-02-10T12:06:12.382Z"
   },
   {
    "duration": 22,
    "start_time": "2022-02-10T12:06:12.486Z"
   },
   {
    "duration": 13,
    "start_time": "2022-02-10T12:06:12.511Z"
   },
   {
    "duration": 12,
    "start_time": "2022-02-10T12:06:12.549Z"
   },
   {
    "duration": 21,
    "start_time": "2022-02-10T12:06:12.564Z"
   },
   {
    "duration": 13,
    "start_time": "2022-02-10T12:06:12.587Z"
   },
   {
    "duration": 70,
    "start_time": "2022-02-10T12:06:12.603Z"
   },
   {
    "duration": 32,
    "start_time": "2022-02-10T12:06:12.676Z"
   },
   {
    "duration": 61,
    "start_time": "2022-02-10T12:06:12.715Z"
   },
   {
    "duration": 13,
    "start_time": "2022-02-10T12:06:12.779Z"
   },
   {
    "duration": 9,
    "start_time": "2022-02-10T12:06:12.794Z"
   },
   {
    "duration": 71,
    "start_time": "2022-02-10T12:06:12.805Z"
   },
   {
    "duration": 7,
    "start_time": "2022-02-10T12:06:12.878Z"
   },
   {
    "duration": 41,
    "start_time": "2022-02-10T12:06:12.887Z"
   },
   {
    "duration": 6,
    "start_time": "2022-02-10T12:06:12.949Z"
   },
   {
    "duration": 14,
    "start_time": "2022-02-10T12:06:12.958Z"
   },
   {
    "duration": 24,
    "start_time": "2022-02-10T12:06:12.974Z"
   },
   {
    "duration": 119,
    "start_time": "2022-02-10T12:07:05.835Z"
   },
   {
    "duration": 25,
    "start_time": "2022-02-10T12:07:19.261Z"
   },
   {
    "duration": 23,
    "start_time": "2022-02-10T12:07:35.802Z"
   },
   {
    "duration": 299,
    "start_time": "2022-02-10T12:08:11.010Z"
   },
   {
    "duration": 418,
    "start_time": "2022-02-10T12:14:08.846Z"
   },
   {
    "duration": 399,
    "start_time": "2022-02-10T12:19:18.515Z"
   },
   {
    "duration": 15,
    "start_time": "2022-02-10T12:19:32.389Z"
   },
   {
    "duration": 23,
    "start_time": "2022-02-10T12:19:35.043Z"
   },
   {
    "duration": 22,
    "start_time": "2022-02-10T12:19:44.490Z"
   },
   {
    "duration": 11,
    "start_time": "2022-02-10T12:20:22.010Z"
   },
   {
    "duration": 14,
    "start_time": "2022-02-10T12:20:22.903Z"
   },
   {
    "duration": 5,
    "start_time": "2022-02-10T12:20:40.142Z"
   },
   {
    "duration": 351,
    "start_time": "2022-02-10T12:20:40.150Z"
   },
   {
    "duration": 9,
    "start_time": "2022-02-10T12:20:40.504Z"
   },
   {
    "duration": 32,
    "start_time": "2022-02-10T12:20:40.516Z"
   },
   {
    "duration": 12,
    "start_time": "2022-02-10T12:20:40.551Z"
   },
   {
    "duration": 32,
    "start_time": "2022-02-10T12:20:40.566Z"
   },
   {
    "duration": 9,
    "start_time": "2022-02-10T12:20:40.600Z"
   },
   {
    "duration": 48,
    "start_time": "2022-02-10T12:20:40.612Z"
   },
   {
    "duration": 4,
    "start_time": "2022-02-10T12:20:40.665Z"
   },
   {
    "duration": 80,
    "start_time": "2022-02-10T12:20:40.672Z"
   },
   {
    "duration": 6,
    "start_time": "2022-02-10T12:20:40.754Z"
   },
   {
    "duration": 874,
    "start_time": "2022-02-10T12:20:40.763Z"
   },
   {
    "duration": 865,
    "start_time": "2022-02-10T12:20:41.639Z"
   },
   {
    "duration": 76,
    "start_time": "2022-02-10T12:20:42.507Z"
   },
   {
    "duration": 15,
    "start_time": "2022-02-10T12:20:42.586Z"
   },
   {
    "duration": 57,
    "start_time": "2022-02-10T12:20:42.604Z"
   },
   {
    "duration": 33,
    "start_time": "2022-02-10T12:20:42.664Z"
   },
   {
    "duration": 18,
    "start_time": "2022-02-10T12:20:42.699Z"
   },
   {
    "duration": 86,
    "start_time": "2022-02-10T12:20:42.720Z"
   },
   {
    "duration": 50,
    "start_time": "2022-02-10T12:20:42.808Z"
   },
   {
    "duration": 15,
    "start_time": "2022-02-10T12:20:42.861Z"
   },
   {
    "duration": 21,
    "start_time": "2022-02-10T12:20:42.878Z"
   },
   {
    "duration": 54,
    "start_time": "2022-02-10T12:20:42.901Z"
   },
   {
    "duration": 9,
    "start_time": "2022-02-10T12:20:42.958Z"
   },
   {
    "duration": 28,
    "start_time": "2022-02-10T12:20:42.970Z"
   },
   {
    "duration": 58,
    "start_time": "2022-02-10T12:20:43.000Z"
   },
   {
    "duration": 34,
    "start_time": "2022-02-10T12:20:43.062Z"
   },
   {
    "duration": 16,
    "start_time": "2022-02-10T12:20:43.100Z"
   },
   {
    "duration": 35,
    "start_time": "2022-02-10T12:20:43.119Z"
   },
   {
    "duration": 36,
    "start_time": "2022-02-10T12:20:43.157Z"
   },
   {
    "duration": 8,
    "start_time": "2022-02-10T12:20:43.196Z"
   },
   {
    "duration": 35,
    "start_time": "2022-02-10T12:20:43.250Z"
   },
   {
    "duration": 14,
    "start_time": "2022-02-10T12:20:43.288Z"
   },
   {
    "duration": 48,
    "start_time": "2022-02-10T12:20:43.305Z"
   },
   {
    "duration": 29,
    "start_time": "2022-02-10T12:20:43.356Z"
   },
   {
    "duration": 22,
    "start_time": "2022-02-10T12:20:58.607Z"
   },
   {
    "duration": 11,
    "start_time": "2022-02-10T12:22:27.603Z"
   },
   {
    "duration": 14,
    "start_time": "2022-02-10T12:22:28.562Z"
   },
   {
    "duration": 8,
    "start_time": "2022-02-10T12:22:31.275Z"
   },
   {
    "duration": 14,
    "start_time": "2022-02-10T12:22:39.365Z"
   },
   {
    "duration": 47,
    "start_time": "2022-02-10T12:23:15.502Z"
   },
   {
    "duration": 13,
    "start_time": "2022-02-10T12:23:25.814Z"
   },
   {
    "duration": 6,
    "start_time": "2022-02-10T12:23:35.299Z"
   },
   {
    "duration": 692,
    "start_time": "2022-02-10T12:23:35.309Z"
   },
   {
    "duration": 9,
    "start_time": "2022-02-10T12:23:36.004Z"
   },
   {
    "duration": 26,
    "start_time": "2022-02-10T12:23:36.017Z"
   },
   {
    "duration": 23,
    "start_time": "2022-02-10T12:23:36.049Z"
   },
   {
    "duration": 49,
    "start_time": "2022-02-10T12:23:36.074Z"
   },
   {
    "duration": 15,
    "start_time": "2022-02-10T12:23:36.126Z"
   },
   {
    "duration": 25,
    "start_time": "2022-02-10T12:23:36.148Z"
   },
   {
    "duration": 12,
    "start_time": "2022-02-10T12:23:36.178Z"
   },
   {
    "duration": 62,
    "start_time": "2022-02-10T12:23:36.194Z"
   },
   {
    "duration": 6,
    "start_time": "2022-02-10T12:23:36.260Z"
   },
   {
    "duration": 1097,
    "start_time": "2022-02-10T12:23:36.268Z"
   },
   {
    "duration": 1080,
    "start_time": "2022-02-10T12:23:37.368Z"
   },
   {
    "duration": 56,
    "start_time": "2022-02-10T12:23:38.451Z"
   },
   {
    "duration": 45,
    "start_time": "2022-02-10T12:23:38.510Z"
   },
   {
    "duration": 29,
    "start_time": "2022-02-10T12:23:38.557Z"
   },
   {
    "duration": 70,
    "start_time": "2022-02-10T12:23:38.588Z"
   },
   {
    "duration": 19,
    "start_time": "2022-02-10T12:23:38.660Z"
   },
   {
    "duration": 98,
    "start_time": "2022-02-10T12:23:38.681Z"
   },
   {
    "duration": 20,
    "start_time": "2022-02-10T12:23:38.782Z"
   },
   {
    "duration": 15,
    "start_time": "2022-02-10T12:23:38.805Z"
   },
   {
    "duration": 40,
    "start_time": "2022-02-10T12:23:38.823Z"
   },
   {
    "duration": 29,
    "start_time": "2022-02-10T12:23:38.866Z"
   },
   {
    "duration": 24,
    "start_time": "2022-02-10T12:23:38.898Z"
   },
   {
    "duration": 65,
    "start_time": "2022-02-10T12:23:38.924Z"
   },
   {
    "duration": 56,
    "start_time": "2022-02-10T12:23:38.992Z"
   },
   {
    "duration": 46,
    "start_time": "2022-02-10T12:23:39.057Z"
   },
   {
    "duration": 45,
    "start_time": "2022-02-10T12:23:39.106Z"
   },
   {
    "duration": 10,
    "start_time": "2022-02-10T12:23:39.154Z"
   },
   {
    "duration": 35,
    "start_time": "2022-02-10T12:23:39.166Z"
   },
   {
    "duration": 12,
    "start_time": "2022-02-10T12:23:39.204Z"
   },
   {
    "duration": 39,
    "start_time": "2022-02-10T12:23:39.249Z"
   },
   {
    "duration": 12,
    "start_time": "2022-02-10T12:23:39.291Z"
   },
   {
    "duration": 49,
    "start_time": "2022-02-10T12:23:39.306Z"
   },
   {
    "duration": 44,
    "start_time": "2022-02-10T12:23:39.358Z"
   },
   {
    "duration": 23,
    "start_time": "2022-02-10T12:23:42.925Z"
   },
   {
    "duration": 22,
    "start_time": "2022-02-10T12:24:06.055Z"
   },
   {
    "duration": 13,
    "start_time": "2022-02-10T12:25:55.351Z"
   },
   {
    "duration": 14,
    "start_time": "2022-02-10T12:26:01.450Z"
   },
   {
    "duration": 5,
    "start_time": "2022-02-10T12:26:24.208Z"
   },
   {
    "duration": 687,
    "start_time": "2022-02-10T12:26:24.216Z"
   },
   {
    "duration": 9,
    "start_time": "2022-02-10T12:26:24.906Z"
   },
   {
    "duration": 29,
    "start_time": "2022-02-10T12:26:24.918Z"
   },
   {
    "duration": 20,
    "start_time": "2022-02-10T12:26:24.950Z"
   },
   {
    "duration": 32,
    "start_time": "2022-02-10T12:26:24.974Z"
   },
   {
    "duration": 42,
    "start_time": "2022-02-10T12:26:25.009Z"
   },
   {
    "duration": 11,
    "start_time": "2022-02-10T12:26:25.054Z"
   },
   {
    "duration": 10,
    "start_time": "2022-02-10T12:26:25.069Z"
   },
   {
    "duration": 79,
    "start_time": "2022-02-10T12:26:25.082Z"
   },
   {
    "duration": 5,
    "start_time": "2022-02-10T12:26:25.164Z"
   },
   {
    "duration": 891,
    "start_time": "2022-02-10T12:26:25.171Z"
   },
   {
    "duration": 931,
    "start_time": "2022-02-10T12:26:26.065Z"
   },
   {
    "duration": 68,
    "start_time": "2022-02-10T12:26:26.998Z"
   },
   {
    "duration": 17,
    "start_time": "2022-02-10T12:26:27.070Z"
   },
   {
    "duration": 74,
    "start_time": "2022-02-10T12:26:27.089Z"
   },
   {
    "duration": 41,
    "start_time": "2022-02-10T12:26:27.166Z"
   },
   {
    "duration": 44,
    "start_time": "2022-02-10T12:26:27.210Z"
   },
   {
    "duration": 91,
    "start_time": "2022-02-10T12:26:27.257Z"
   },
   {
    "duration": 23,
    "start_time": "2022-02-10T12:26:27.351Z"
   },
   {
    "duration": 14,
    "start_time": "2022-02-10T12:26:27.376Z"
   },
   {
    "duration": 56,
    "start_time": "2022-02-10T12:26:27.393Z"
   },
   {
    "duration": 23,
    "start_time": "2022-02-10T12:26:27.452Z"
   },
   {
    "duration": 8,
    "start_time": "2022-02-10T12:26:27.478Z"
   },
   {
    "duration": 64,
    "start_time": "2022-02-10T12:26:27.489Z"
   },
   {
    "duration": 26,
    "start_time": "2022-02-10T12:26:27.555Z"
   },
   {
    "duration": 64,
    "start_time": "2022-02-10T12:26:27.586Z"
   },
   {
    "duration": 13,
    "start_time": "2022-02-10T12:26:27.653Z"
   },
   {
    "duration": 10,
    "start_time": "2022-02-10T12:26:27.668Z"
   },
   {
    "duration": 43,
    "start_time": "2022-02-10T12:26:27.681Z"
   },
   {
    "duration": 8,
    "start_time": "2022-02-10T12:26:27.750Z"
   },
   {
    "duration": 53,
    "start_time": "2022-02-10T12:26:27.761Z"
   },
   {
    "duration": 36,
    "start_time": "2022-02-10T12:26:27.817Z"
   },
   {
    "duration": 17,
    "start_time": "2022-02-10T12:26:27.857Z"
   },
   {
    "duration": 73,
    "start_time": "2022-02-10T12:26:27.877Z"
   },
   {
    "duration": 29,
    "start_time": "2022-02-10T12:26:54.586Z"
   },
   {
    "duration": 4,
    "start_time": "2022-02-10T12:27:55.248Z"
   },
   {
    "duration": 367,
    "start_time": "2022-02-10T12:27:55.255Z"
   },
   {
    "duration": 8,
    "start_time": "2022-02-10T12:27:55.625Z"
   },
   {
    "duration": 25,
    "start_time": "2022-02-10T12:27:55.637Z"
   },
   {
    "duration": 164,
    "start_time": "2022-02-10T12:27:55.664Z"
   },
   {
    "duration": 32,
    "start_time": "2022-02-10T12:27:55.831Z"
   },
   {
    "duration": 9,
    "start_time": "2022-02-10T12:27:55.866Z"
   },
   {
    "duration": 11,
    "start_time": "2022-02-10T12:27:55.877Z"
   },
   {
    "duration": 5,
    "start_time": "2022-02-10T12:27:55.892Z"
   },
   {
    "duration": 46,
    "start_time": "2022-02-10T12:27:55.948Z"
   },
   {
    "duration": 4,
    "start_time": "2022-02-10T12:27:55.997Z"
   },
   {
    "duration": 880,
    "start_time": "2022-02-10T12:27:56.004Z"
   },
   {
    "duration": 870,
    "start_time": "2022-02-10T12:27:56.886Z"
   },
   {
    "duration": 54,
    "start_time": "2022-02-10T12:27:57.759Z"
   },
   {
    "duration": 39,
    "start_time": "2022-02-10T12:27:57.816Z"
   },
   {
    "duration": 39,
    "start_time": "2022-02-10T12:27:57.858Z"
   },
   {
    "duration": 67,
    "start_time": "2022-02-10T12:27:57.900Z"
   },
   {
    "duration": 18,
    "start_time": "2022-02-10T12:27:57.969Z"
   },
   {
    "duration": 90,
    "start_time": "2022-02-10T12:27:57.989Z"
   },
   {
    "duration": 20,
    "start_time": "2022-02-10T12:27:58.081Z"
   },
   {
    "duration": 14,
    "start_time": "2022-02-10T12:27:58.103Z"
   },
   {
    "duration": 12,
    "start_time": "2022-02-10T12:27:58.148Z"
   },
   {
    "duration": 21,
    "start_time": "2022-02-10T12:27:58.163Z"
   },
   {
    "duration": 9,
    "start_time": "2022-02-10T12:27:58.187Z"
   },
   {
    "duration": 74,
    "start_time": "2022-02-10T12:27:58.199Z"
   },
   {
    "duration": 27,
    "start_time": "2022-02-10T12:27:58.276Z"
   },
   {
    "duration": 64,
    "start_time": "2022-02-10T12:27:58.309Z"
   },
   {
    "duration": 16,
    "start_time": "2022-02-10T12:27:58.376Z"
   },
   {
    "duration": 9,
    "start_time": "2022-02-10T12:27:58.395Z"
   },
   {
    "duration": 67,
    "start_time": "2022-02-10T12:27:58.407Z"
   },
   {
    "duration": 10,
    "start_time": "2022-02-10T12:27:58.476Z"
   },
   {
    "duration": 39,
    "start_time": "2022-02-10T12:27:58.489Z"
   },
   {
    "duration": 6,
    "start_time": "2022-02-10T12:27:58.551Z"
   },
   {
    "duration": 10,
    "start_time": "2022-02-10T12:28:10.805Z"
   },
   {
    "duration": 13,
    "start_time": "2022-02-10T12:28:19.805Z"
   },
   {
    "duration": 26,
    "start_time": "2022-02-10T12:28:26.884Z"
   },
   {
    "duration": 9,
    "start_time": "2022-02-10T12:28:42.453Z"
   },
   {
    "duration": 115,
    "start_time": "2022-02-10T12:28:45.803Z"
   },
   {
    "duration": 144,
    "start_time": "2022-02-10T12:30:15.504Z"
   },
   {
    "duration": 165,
    "start_time": "2022-02-10T12:30:22.758Z"
   },
   {
    "duration": 38,
    "start_time": "2022-02-10T12:38:50.063Z"
   },
   {
    "duration": 238,
    "start_time": "2022-02-10T12:39:15.908Z"
   },
   {
    "duration": 265,
    "start_time": "2022-02-10T12:43:35.484Z"
   },
   {
    "duration": 273,
    "start_time": "2022-02-10T12:44:10.142Z"
   },
   {
    "duration": 15,
    "start_time": "2022-02-10T12:44:15.643Z"
   },
   {
    "duration": 421,
    "start_time": "2022-02-10T12:44:21.966Z"
   },
   {
    "duration": 1991,
    "start_time": "2022-02-10T12:44:30.641Z"
   },
   {
    "duration": 4434,
    "start_time": "2022-02-10T12:46:10.305Z"
   },
   {
    "duration": 5302,
    "start_time": "2022-02-10T12:46:28.091Z"
   },
   {
    "duration": 380,
    "start_time": "2022-02-10T12:47:32.443Z"
   },
   {
    "duration": 285,
    "start_time": "2022-02-10T12:52:15.380Z"
   },
   {
    "duration": 339,
    "start_time": "2022-02-10T12:52:52.072Z"
   },
   {
    "duration": 1577,
    "start_time": "2022-02-10T12:53:03.529Z"
   },
   {
    "duration": 646,
    "start_time": "2022-02-10T12:53:05.109Z"
   },
   {
    "duration": 9,
    "start_time": "2022-02-10T12:53:05.758Z"
   },
   {
    "duration": 34,
    "start_time": "2022-02-10T12:53:05.770Z"
   },
   {
    "duration": 19,
    "start_time": "2022-02-10T12:53:05.806Z"
   },
   {
    "duration": 41,
    "start_time": "2022-02-10T12:53:05.827Z"
   },
   {
    "duration": 14,
    "start_time": "2022-02-10T12:53:05.870Z"
   },
   {
    "duration": 12,
    "start_time": "2022-02-10T12:53:05.887Z"
   },
   {
    "duration": 46,
    "start_time": "2022-02-10T12:53:05.903Z"
   },
   {
    "duration": 68,
    "start_time": "2022-02-10T12:53:05.953Z"
   },
   {
    "duration": 6,
    "start_time": "2022-02-10T12:53:06.024Z"
   },
   {
    "duration": 846,
    "start_time": "2022-02-10T12:53:06.032Z"
   },
   {
    "duration": 835,
    "start_time": "2022-02-10T12:53:06.880Z"
   },
   {
    "duration": 78,
    "start_time": "2022-02-10T12:53:07.718Z"
   },
   {
    "duration": 18,
    "start_time": "2022-02-10T12:53:07.799Z"
   },
   {
    "duration": 54,
    "start_time": "2022-02-10T12:53:07.820Z"
   },
   {
    "duration": 33,
    "start_time": "2022-02-10T12:53:07.876Z"
   },
   {
    "duration": 42,
    "start_time": "2022-02-10T12:53:07.912Z"
   },
   {
    "duration": 66,
    "start_time": "2022-02-10T12:53:07.957Z"
   },
   {
    "duration": 21,
    "start_time": "2022-02-10T12:53:08.048Z"
   },
   {
    "duration": 14,
    "start_time": "2022-02-10T12:53:08.071Z"
   },
   {
    "duration": 13,
    "start_time": "2022-02-10T12:53:08.088Z"
   },
   {
    "duration": 61,
    "start_time": "2022-02-10T12:53:08.103Z"
   },
   {
    "duration": 9,
    "start_time": "2022-02-10T12:53:08.167Z"
   },
   {
    "duration": 28,
    "start_time": "2022-02-10T12:53:08.179Z"
   },
   {
    "duration": 59,
    "start_time": "2022-02-10T12:53:08.209Z"
   },
   {
    "duration": 33,
    "start_time": "2022-02-10T12:53:08.274Z"
   },
   {
    "duration": 41,
    "start_time": "2022-02-10T12:53:08.310Z"
   },
   {
    "duration": 22,
    "start_time": "2022-02-10T12:53:08.354Z"
   },
   {
    "duration": 46,
    "start_time": "2022-02-10T12:53:08.378Z"
   },
   {
    "duration": 9,
    "start_time": "2022-02-10T12:53:08.426Z"
   },
   {
    "duration": 30,
    "start_time": "2022-02-10T12:53:08.449Z"
   },
   {
    "duration": 25,
    "start_time": "2022-02-10T12:53:08.481Z"
   },
   {
    "duration": 430,
    "start_time": "2022-02-10T12:53:08.508Z"
   },
   {
    "duration": -139,
    "start_time": "2022-02-10T12:53:09.080Z"
   },
   {
    "duration": -139,
    "start_time": "2022-02-10T12:53:09.082Z"
   },
   {
    "duration": -140,
    "start_time": "2022-02-10T12:53:09.084Z"
   },
   {
    "duration": -140,
    "start_time": "2022-02-10T12:53:09.086Z"
   },
   {
    "duration": -141,
    "start_time": "2022-02-10T12:53:09.089Z"
   },
   {
    "duration": -159,
    "start_time": "2022-02-10T12:53:09.109Z"
   },
   {
    "duration": -159,
    "start_time": "2022-02-10T12:53:09.111Z"
   },
   {
    "duration": -160,
    "start_time": "2022-02-10T12:53:09.113Z"
   },
   {
    "duration": -160,
    "start_time": "2022-02-10T12:53:09.115Z"
   },
   {
    "duration": -206,
    "start_time": "2022-02-10T12:53:09.163Z"
   },
   {
    "duration": -224,
    "start_time": "2022-02-10T12:53:09.182Z"
   },
   {
    "duration": -230,
    "start_time": "2022-02-10T12:53:09.190Z"
   },
   {
    "duration": -231,
    "start_time": "2022-02-10T12:53:09.192Z"
   },
   {
    "duration": -240,
    "start_time": "2022-02-10T12:53:09.203Z"
   },
   {
    "duration": -242,
    "start_time": "2022-02-10T12:53:09.206Z"
   },
   {
    "duration": -243,
    "start_time": "2022-02-10T12:53:09.209Z"
   },
   {
    "duration": -244,
    "start_time": "2022-02-10T12:53:09.211Z"
   },
   {
    "duration": -244,
    "start_time": "2022-02-10T12:53:09.213Z"
   },
   {
    "duration": -245,
    "start_time": "2022-02-10T12:53:09.216Z"
   },
   {
    "duration": -246,
    "start_time": "2022-02-10T12:53:09.219Z"
   },
   {
    "duration": -255,
    "start_time": "2022-02-10T12:53:09.230Z"
   },
   {
    "duration": -257,
    "start_time": "2022-02-10T12:53:09.234Z"
   },
   {
    "duration": -258,
    "start_time": "2022-02-10T12:53:09.236Z"
   },
   {
    "duration": -258,
    "start_time": "2022-02-10T12:53:09.238Z"
   },
   {
    "duration": -258,
    "start_time": "2022-02-10T12:53:09.240Z"
   },
   {
    "duration": -259,
    "start_time": "2022-02-10T12:53:09.242Z"
   },
   {
    "duration": -259,
    "start_time": "2022-02-10T12:53:09.244Z"
   },
   {
    "duration": 10,
    "start_time": "2022-02-10T12:54:07.068Z"
   },
   {
    "duration": 16,
    "start_time": "2022-02-10T12:54:08.906Z"
   },
   {
    "duration": 17,
    "start_time": "2022-02-10T12:54:15.098Z"
   },
   {
    "duration": 24,
    "start_time": "2022-02-10T12:54:15.996Z"
   },
   {
    "duration": 150,
    "start_time": "2022-02-10T12:54:19.137Z"
   },
   {
    "duration": 36,
    "start_time": "2022-02-10T12:54:21.788Z"
   },
   {
    "duration": 233,
    "start_time": "2022-02-10T12:54:23.425Z"
   },
   {
    "duration": 35,
    "start_time": "2022-02-10T12:54:24.381Z"
   },
   {
    "duration": 26,
    "start_time": "2022-02-10T12:54:26.324Z"
   },
   {
    "duration": 26,
    "start_time": "2022-02-10T12:54:29.243Z"
   },
   {
    "duration": 94,
    "start_time": "2022-02-10T12:54:37.757Z"
   },
   {
    "duration": 5,
    "start_time": "2022-02-10T12:57:10.785Z"
   },
   {
    "duration": 345,
    "start_time": "2022-02-10T12:57:10.793Z"
   },
   {
    "duration": 9,
    "start_time": "2022-02-10T12:57:11.142Z"
   },
   {
    "duration": 33,
    "start_time": "2022-02-10T12:57:11.154Z"
   },
   {
    "duration": 21,
    "start_time": "2022-02-10T12:57:11.189Z"
   },
   {
    "duration": 45,
    "start_time": "2022-02-10T12:57:11.213Z"
   },
   {
    "duration": 9,
    "start_time": "2022-02-10T12:57:11.261Z"
   },
   {
    "duration": 20,
    "start_time": "2022-02-10T12:57:11.272Z"
   },
   {
    "duration": 17,
    "start_time": "2022-02-10T12:57:11.296Z"
   },
   {
    "duration": 69,
    "start_time": "2022-02-10T12:57:11.317Z"
   },
   {
    "duration": 5,
    "start_time": "2022-02-10T12:57:11.389Z"
   },
   {
    "duration": 871,
    "start_time": "2022-02-10T12:57:11.396Z"
   },
   {
    "duration": 826,
    "start_time": "2022-02-10T12:57:12.270Z"
   },
   {
    "duration": 81,
    "start_time": "2022-02-10T12:57:13.099Z"
   },
   {
    "duration": 18,
    "start_time": "2022-02-10T12:57:13.184Z"
   },
   {
    "duration": 64,
    "start_time": "2022-02-10T12:57:13.205Z"
   },
   {
    "duration": 36,
    "start_time": "2022-02-10T12:57:13.272Z"
   },
   {
    "duration": 50,
    "start_time": "2022-02-10T12:57:13.312Z"
   },
   {
    "duration": 95,
    "start_time": "2022-02-10T12:57:13.365Z"
   },
   {
    "duration": 21,
    "start_time": "2022-02-10T12:57:13.463Z"
   },
   {
    "duration": 15,
    "start_time": "2022-02-10T12:57:13.486Z"
   },
   {
    "duration": 50,
    "start_time": "2022-02-10T12:57:13.503Z"
   },
   {
    "duration": 21,
    "start_time": "2022-02-10T12:57:13.556Z"
   },
   {
    "duration": 13,
    "start_time": "2022-02-10T12:57:13.580Z"
   },
   {
    "duration": 76,
    "start_time": "2022-02-10T12:57:13.595Z"
   },
   {
    "duration": 27,
    "start_time": "2022-02-10T12:57:13.673Z"
   },
   {
    "duration": 68,
    "start_time": "2022-02-10T12:57:13.708Z"
   },
   {
    "duration": 16,
    "start_time": "2022-02-10T12:57:13.780Z"
   },
   {
    "duration": 16,
    "start_time": "2022-02-10T12:57:13.799Z"
   },
   {
    "duration": 64,
    "start_time": "2022-02-10T12:57:13.817Z"
   },
   {
    "duration": 9,
    "start_time": "2022-02-10T12:57:13.884Z"
   },
   {
    "duration": 61,
    "start_time": "2022-02-10T12:57:13.896Z"
   },
   {
    "duration": 13,
    "start_time": "2022-02-10T12:57:13.960Z"
   },
   {
    "duration": 14,
    "start_time": "2022-02-10T12:57:13.976Z"
   },
   {
    "duration": 14,
    "start_time": "2022-02-10T12:57:13.993Z"
   },
   {
    "duration": 46,
    "start_time": "2022-02-10T12:57:14.010Z"
   },
   {
    "duration": 23,
    "start_time": "2022-02-10T12:57:14.059Z"
   },
   {
    "duration": 185,
    "start_time": "2022-02-10T12:57:14.084Z"
   },
   {
    "duration": 33,
    "start_time": "2022-02-10T12:57:14.272Z"
   },
   {
    "duration": 267,
    "start_time": "2022-02-10T12:57:14.307Z"
   },
   {
    "duration": 36,
    "start_time": "2022-02-10T12:57:14.577Z"
   },
   {
    "duration": 50,
    "start_time": "2022-02-10T12:57:14.616Z"
   },
   {
    "duration": 58,
    "start_time": "2022-02-10T12:57:24.678Z"
   },
   {
    "duration": 5,
    "start_time": "2022-02-10T12:58:16.340Z"
   },
   {
    "duration": 354,
    "start_time": "2022-02-10T12:58:16.349Z"
   },
   {
    "duration": 9,
    "start_time": "2022-02-10T12:58:16.707Z"
   },
   {
    "duration": 31,
    "start_time": "2022-02-10T12:58:16.719Z"
   },
   {
    "duration": 13,
    "start_time": "2022-02-10T12:58:16.753Z"
   },
   {
    "duration": 27,
    "start_time": "2022-02-10T12:58:16.769Z"
   },
   {
    "duration": 11,
    "start_time": "2022-02-10T12:58:16.798Z"
   },
   {
    "duration": 12,
    "start_time": "2022-02-10T12:58:16.850Z"
   },
   {
    "duration": 6,
    "start_time": "2022-02-10T12:58:16.868Z"
   },
   {
    "duration": 86,
    "start_time": "2022-02-10T12:58:16.877Z"
   },
   {
    "duration": 5,
    "start_time": "2022-02-10T12:58:16.965Z"
   },
   {
    "duration": 816,
    "start_time": "2022-02-10T12:58:16.972Z"
   },
   {
    "duration": 804,
    "start_time": "2022-02-10T12:58:17.791Z"
   },
   {
    "duration": 75,
    "start_time": "2022-02-10T12:58:18.597Z"
   },
   {
    "duration": 15,
    "start_time": "2022-02-10T12:58:18.675Z"
   },
   {
    "duration": 57,
    "start_time": "2022-02-10T12:58:18.692Z"
   },
   {
    "duration": 32,
    "start_time": "2022-02-10T12:58:18.751Z"
   },
   {
    "duration": 18,
    "start_time": "2022-02-10T12:58:18.785Z"
   },
   {
    "duration": 113,
    "start_time": "2022-02-10T12:58:18.806Z"
   },
   {
    "duration": 36,
    "start_time": "2022-02-10T12:58:18.923Z"
   },
   {
    "duration": 18,
    "start_time": "2022-02-10T12:58:18.961Z"
   },
   {
    "duration": 19,
    "start_time": "2022-02-10T12:58:18.982Z"
   },
   {
    "duration": 59,
    "start_time": "2022-02-10T12:58:19.004Z"
   },
   {
    "duration": 9,
    "start_time": "2022-02-10T12:58:19.066Z"
   },
   {
    "duration": 37,
    "start_time": "2022-02-10T12:58:19.077Z"
   },
   {
    "duration": 54,
    "start_time": "2022-02-10T12:58:19.116Z"
   },
   {
    "duration": 31,
    "start_time": "2022-02-10T12:58:19.177Z"
   },
   {
    "duration": 12,
    "start_time": "2022-02-10T12:58:19.248Z"
   },
   {
    "duration": 9,
    "start_time": "2022-02-10T12:58:19.263Z"
   },
   {
    "duration": 35,
    "start_time": "2022-02-10T12:58:19.274Z"
   },
   {
    "duration": 38,
    "start_time": "2022-02-10T12:58:19.311Z"
   },
   {
    "duration": 33,
    "start_time": "2022-02-10T12:58:19.351Z"
   },
   {
    "duration": 7,
    "start_time": "2022-02-10T12:58:19.388Z"
   },
   {
    "duration": 13,
    "start_time": "2022-02-10T12:58:19.397Z"
   },
   {
    "duration": 41,
    "start_time": "2022-02-10T12:58:19.413Z"
   },
   {
    "duration": 18,
    "start_time": "2022-02-10T12:58:19.457Z"
   },
   {
    "duration": 21,
    "start_time": "2022-02-10T12:58:19.477Z"
   },
   {
    "duration": 196,
    "start_time": "2022-02-10T12:58:19.500Z"
   },
   {
    "duration": 33,
    "start_time": "2022-02-10T12:58:19.698Z"
   },
   {
    "duration": 242,
    "start_time": "2022-02-10T12:58:19.749Z"
   },
   {
    "duration": 57,
    "start_time": "2022-02-10T12:58:19.993Z"
   },
   {
    "duration": 25,
    "start_time": "2022-02-10T12:58:20.052Z"
   },
   {
    "duration": 60,
    "start_time": "2022-02-10T12:58:25.593Z"
   },
   {
    "duration": 277,
    "start_time": "2022-02-10T13:00:53.167Z"
   },
   {
    "duration": 5,
    "start_time": "2022-02-10T13:01:02.529Z"
   },
   {
    "duration": 347,
    "start_time": "2022-02-10T13:01:32.805Z"
   },
   {
    "duration": 39,
    "start_time": "2022-02-10T13:16:33.376Z"
   },
   {
    "duration": 6,
    "start_time": "2022-02-10T13:17:23.362Z"
   },
   {
    "duration": 41,
    "start_time": "2022-02-10T13:17:36.710Z"
   },
   {
    "duration": 36,
    "start_time": "2022-02-10T15:02:45.910Z"
   },
   {
    "duration": 166,
    "start_time": "2022-02-10T15:13:07.663Z"
   },
   {
    "duration": 36,
    "start_time": "2022-02-10T15:13:10.390Z"
   },
   {
    "duration": 233,
    "start_time": "2022-02-10T15:13:22.570Z"
   },
   {
    "duration": 64,
    "start_time": "2022-02-10T15:13:57.360Z"
   },
   {
    "duration": 40,
    "start_time": "2022-02-10T15:14:25.080Z"
   },
   {
    "duration": 19,
    "start_time": "2022-02-10T15:16:10.670Z"
   },
   {
    "duration": 20,
    "start_time": "2022-02-10T15:16:51.943Z"
   },
   {
    "duration": 23,
    "start_time": "2022-02-10T15:17:23.622Z"
   },
   {
    "duration": 9,
    "start_time": "2022-02-10T15:19:28.661Z"
   },
   {
    "duration": 20,
    "start_time": "2022-02-10T15:19:35.153Z"
   },
   {
    "duration": 56,
    "start_time": "2022-02-10T15:21:35.736Z"
   },
   {
    "duration": 314,
    "start_time": "2022-02-10T15:24:32.546Z"
   },
   {
    "duration": 6,
    "start_time": "2022-02-10T15:24:42.324Z"
   },
   {
    "duration": 362,
    "start_time": "2022-02-10T15:24:42.334Z"
   },
   {
    "duration": 10,
    "start_time": "2022-02-10T15:24:42.699Z"
   },
   {
    "duration": 26,
    "start_time": "2022-02-10T15:24:42.712Z"
   },
   {
    "duration": 17,
    "start_time": "2022-02-10T15:24:42.741Z"
   },
   {
    "duration": 24,
    "start_time": "2022-02-10T15:24:42.761Z"
   },
   {
    "duration": 12,
    "start_time": "2022-02-10T15:24:42.788Z"
   },
   {
    "duration": 54,
    "start_time": "2022-02-10T15:24:42.803Z"
   },
   {
    "duration": 8,
    "start_time": "2022-02-10T15:24:42.863Z"
   },
   {
    "duration": 66,
    "start_time": "2022-02-10T15:24:42.874Z"
   },
   {
    "duration": 8,
    "start_time": "2022-02-10T15:24:42.942Z"
   },
   {
    "duration": 926,
    "start_time": "2022-02-10T15:24:42.952Z"
   },
   {
    "duration": 1088,
    "start_time": "2022-02-10T15:24:43.881Z"
   },
   {
    "duration": 59,
    "start_time": "2022-02-10T15:24:44.971Z"
   },
   {
    "duration": 15,
    "start_time": "2022-02-10T15:24:45.049Z"
   },
   {
    "duration": 37,
    "start_time": "2022-02-10T15:24:45.067Z"
   },
   {
    "duration": 56,
    "start_time": "2022-02-10T15:24:45.107Z"
   },
   {
    "duration": 18,
    "start_time": "2022-02-10T15:24:45.166Z"
   },
   {
    "duration": 88,
    "start_time": "2022-02-10T15:24:45.187Z"
   },
   {
    "duration": 22,
    "start_time": "2022-02-10T15:24:45.278Z"
   },
   {
    "duration": 15,
    "start_time": "2022-02-10T15:24:45.303Z"
   },
   {
    "duration": 39,
    "start_time": "2022-02-10T15:24:45.321Z"
   },
   {
    "duration": 25,
    "start_time": "2022-02-10T15:24:45.362Z"
   },
   {
    "duration": 14,
    "start_time": "2022-02-10T15:24:45.389Z"
   },
   {
    "duration": 54,
    "start_time": "2022-02-10T15:24:45.405Z"
   },
   {
    "duration": 25,
    "start_time": "2022-02-10T15:24:45.462Z"
   },
   {
    "duration": 57,
    "start_time": "2022-02-10T15:24:45.495Z"
   },
   {
    "duration": 13,
    "start_time": "2022-02-10T15:24:45.556Z"
   },
   {
    "duration": 8,
    "start_time": "2022-02-10T15:24:45.572Z"
   },
   {
    "duration": 71,
    "start_time": "2022-02-10T15:24:45.582Z"
   },
   {
    "duration": 7,
    "start_time": "2022-02-10T15:24:45.656Z"
   },
   {
    "duration": 57,
    "start_time": "2022-02-10T15:24:45.666Z"
   },
   {
    "duration": 26,
    "start_time": "2022-02-10T15:24:45.727Z"
   },
   {
    "duration": 19,
    "start_time": "2022-02-10T15:24:45.756Z"
   },
   {
    "duration": 19,
    "start_time": "2022-02-10T15:24:45.778Z"
   },
   {
    "duration": 50,
    "start_time": "2022-02-10T15:24:45.800Z"
   },
   {
    "duration": 32,
    "start_time": "2022-02-10T15:24:45.854Z"
   },
   {
    "duration": 188,
    "start_time": "2022-02-10T15:24:45.890Z"
   },
   {
    "duration": 38,
    "start_time": "2022-02-10T15:24:46.081Z"
   },
   {
    "duration": 267,
    "start_time": "2022-02-10T15:24:46.121Z"
   },
   {
    "duration": 79,
    "start_time": "2022-02-10T15:24:46.391Z"
   },
   {
    "duration": 39,
    "start_time": "2022-02-10T15:24:49.819Z"
   },
   {
    "duration": 37,
    "start_time": "2022-02-10T15:25:25.135Z"
   },
   {
    "duration": 23,
    "start_time": "2022-02-10T15:27:42.824Z"
   },
   {
    "duration": 112,
    "start_time": "2022-02-10T15:30:04.466Z"
   },
   {
    "duration": 50,
    "start_time": "2022-02-10T15:30:17.033Z"
   },
   {
    "duration": 5,
    "start_time": "2022-02-10T15:30:49.371Z"
   },
   {
    "duration": 339,
    "start_time": "2022-02-10T15:30:49.378Z"
   },
   {
    "duration": 9,
    "start_time": "2022-02-10T15:30:49.721Z"
   },
   {
    "duration": 23,
    "start_time": "2022-02-10T15:30:49.734Z"
   },
   {
    "duration": 18,
    "start_time": "2022-02-10T15:30:49.760Z"
   },
   {
    "duration": 33,
    "start_time": "2022-02-10T15:30:49.781Z"
   },
   {
    "duration": 43,
    "start_time": "2022-02-10T15:30:49.817Z"
   },
   {
    "duration": 17,
    "start_time": "2022-02-10T15:30:49.863Z"
   },
   {
    "duration": 13,
    "start_time": "2022-02-10T15:30:49.884Z"
   },
   {
    "duration": 74,
    "start_time": "2022-02-10T15:30:49.901Z"
   },
   {
    "duration": 5,
    "start_time": "2022-02-10T15:30:49.977Z"
   },
   {
    "duration": 963,
    "start_time": "2022-02-10T15:30:49.985Z"
   },
   {
    "duration": 1040,
    "start_time": "2022-02-10T15:30:50.950Z"
   },
   {
    "duration": 70,
    "start_time": "2022-02-10T15:30:51.992Z"
   },
   {
    "duration": 15,
    "start_time": "2022-02-10T15:30:52.065Z"
   },
   {
    "duration": 32,
    "start_time": "2022-02-10T15:30:52.083Z"
   },
   {
    "duration": 82,
    "start_time": "2022-02-10T15:30:52.118Z"
   },
   {
    "duration": 51,
    "start_time": "2022-02-10T15:30:52.203Z"
   },
   {
    "duration": 67,
    "start_time": "2022-02-10T15:30:52.257Z"
   },
   {
    "duration": 22,
    "start_time": "2022-02-10T15:30:52.347Z"
   },
   {
    "duration": 15,
    "start_time": "2022-02-10T15:30:52.372Z"
   },
   {
    "duration": 14,
    "start_time": "2022-02-10T15:30:52.389Z"
   },
   {
    "duration": 60,
    "start_time": "2022-02-10T15:30:52.406Z"
   },
   {
    "duration": 10,
    "start_time": "2022-02-10T15:30:52.468Z"
   },
   {
    "duration": 34,
    "start_time": "2022-02-10T15:30:52.480Z"
   },
   {
    "duration": 54,
    "start_time": "2022-02-10T15:30:52.516Z"
   },
   {
    "duration": 38,
    "start_time": "2022-02-10T15:30:52.576Z"
   },
   {
    "duration": 41,
    "start_time": "2022-02-10T15:30:52.618Z"
   },
   {
    "duration": 8,
    "start_time": "2022-02-10T15:30:52.663Z"
   },
   {
    "duration": 55,
    "start_time": "2022-02-10T15:30:52.674Z"
   },
   {
    "duration": 9,
    "start_time": "2022-02-10T15:30:52.749Z"
   },
   {
    "duration": 36,
    "start_time": "2022-02-10T15:30:52.761Z"
   },
   {
    "duration": 9,
    "start_time": "2022-02-10T15:30:52.800Z"
   },
   {
    "duration": 42,
    "start_time": "2022-02-10T15:30:52.812Z"
   },
   {
    "duration": 14,
    "start_time": "2022-02-10T15:30:52.857Z"
   },
   {
    "duration": 21,
    "start_time": "2022-02-10T15:30:52.874Z"
   },
   {
    "duration": 55,
    "start_time": "2022-02-10T15:30:52.897Z"
   },
   {
    "duration": 170,
    "start_time": "2022-02-10T15:30:52.955Z"
   },
   {
    "duration": 43,
    "start_time": "2022-02-10T15:30:53.128Z"
   },
   {
    "duration": 278,
    "start_time": "2022-02-10T15:30:53.174Z"
   },
   {
    "duration": 123,
    "start_time": "2022-02-10T15:30:53.455Z"
   },
   {
    "duration": 68,
    "start_time": "2022-02-10T15:30:53.582Z"
   },
   {
    "duration": 24,
    "start_time": "2022-02-10T15:30:53.653Z"
   },
   {
    "duration": 44,
    "start_time": "2022-02-10T15:31:40.892Z"
   },
   {
    "duration": 46,
    "start_time": "2022-02-10T15:33:05.889Z"
   },
   {
    "duration": 6,
    "start_time": "2022-02-10T15:34:13.748Z"
   },
   {
    "duration": 380,
    "start_time": "2022-02-10T15:34:13.757Z"
   },
   {
    "duration": 13,
    "start_time": "2022-02-10T15:34:14.142Z"
   },
   {
    "duration": 25,
    "start_time": "2022-02-10T15:34:14.157Z"
   },
   {
    "duration": 14,
    "start_time": "2022-02-10T15:34:14.185Z"
   },
   {
    "duration": 58,
    "start_time": "2022-02-10T15:34:14.202Z"
   },
   {
    "duration": 13,
    "start_time": "2022-02-10T15:34:14.263Z"
   },
   {
    "duration": 12,
    "start_time": "2022-02-10T15:34:14.279Z"
   },
   {
    "duration": 18,
    "start_time": "2022-02-10T15:34:14.295Z"
   },
   {
    "duration": 74,
    "start_time": "2022-02-10T15:34:14.316Z"
   },
   {
    "duration": 5,
    "start_time": "2022-02-10T15:34:14.393Z"
   },
   {
    "duration": 978,
    "start_time": "2022-02-10T15:34:14.401Z"
   },
   {
    "duration": 1206,
    "start_time": "2022-02-10T15:34:15.383Z"
   },
   {
    "duration": 67,
    "start_time": "2022-02-10T15:34:16.592Z"
   },
   {
    "duration": 14,
    "start_time": "2022-02-10T15:34:16.662Z"
   },
   {
    "duration": 32,
    "start_time": "2022-02-10T15:34:16.678Z"
   },
   {
    "duration": 48,
    "start_time": "2022-02-10T15:34:16.713Z"
   },
   {
    "duration": 22,
    "start_time": "2022-02-10T15:34:16.765Z"
   },
   {
    "duration": 169,
    "start_time": "2022-02-10T15:34:16.790Z"
   },
   {
    "duration": 20,
    "start_time": "2022-02-10T15:34:16.961Z"
   },
   {
    "duration": 70,
    "start_time": "2022-02-10T15:34:16.984Z"
   },
   {
    "duration": 29,
    "start_time": "2022-02-10T15:34:17.056Z"
   },
   {
    "duration": 37,
    "start_time": "2022-02-10T15:34:17.088Z"
   },
   {
    "duration": 31,
    "start_time": "2022-02-10T15:34:17.128Z"
   },
   {
    "duration": 41,
    "start_time": "2022-02-10T15:34:17.162Z"
   },
   {
    "duration": 86,
    "start_time": "2022-02-10T15:34:17.205Z"
   },
   {
    "duration": 92,
    "start_time": "2022-02-10T15:34:17.299Z"
   },
   {
    "duration": 63,
    "start_time": "2022-02-10T15:34:17.395Z"
   },
   {
    "duration": 23,
    "start_time": "2022-02-10T15:34:17.461Z"
   },
   {
    "duration": 42,
    "start_time": "2022-02-10T15:34:17.486Z"
   },
   {
    "duration": 20,
    "start_time": "2022-02-10T15:34:17.530Z"
   },
   {
    "duration": 36,
    "start_time": "2022-02-10T15:34:17.553Z"
   },
   {
    "duration": 8,
    "start_time": "2022-02-10T15:34:17.593Z"
   },
   {
    "duration": 11,
    "start_time": "2022-02-10T15:34:17.604Z"
   },
   {
    "duration": 42,
    "start_time": "2022-02-10T15:34:17.618Z"
   },
   {
    "duration": 19,
    "start_time": "2022-02-10T15:34:17.663Z"
   },
   {
    "duration": 22,
    "start_time": "2022-02-10T15:34:17.684Z"
   },
   {
    "duration": 202,
    "start_time": "2022-02-10T15:34:17.708Z"
   },
   {
    "duration": 55,
    "start_time": "2022-02-10T15:34:17.913Z"
   },
   {
    "duration": 264,
    "start_time": "2022-02-10T15:34:17.970Z"
   },
   {
    "duration": 77,
    "start_time": "2022-02-10T15:34:18.236Z"
   },
   {
    "duration": 64,
    "start_time": "2022-02-10T15:34:18.315Z"
   },
   {
    "duration": 22,
    "start_time": "2022-02-10T15:34:18.382Z"
   },
   {
    "duration": 72,
    "start_time": "2022-02-10T15:34:18.406Z"
   },
   {
    "duration": 6,
    "start_time": "2022-02-10T15:34:33.395Z"
   },
   {
    "duration": 55,
    "start_time": "2022-02-10T15:34:45.999Z"
   },
   {
    "duration": 6,
    "start_time": "2022-02-10T15:34:51.825Z"
   },
   {
    "duration": 7,
    "start_time": "2022-02-11T14:31:31.315Z"
   },
   {
    "duration": 276,
    "start_time": "2022-02-11T14:31:32.286Z"
   },
   {
    "duration": 1260,
    "start_time": "2022-02-11T14:31:40.544Z"
   },
   {
    "duration": 634,
    "start_time": "2022-02-11T14:31:41.806Z"
   },
   {
    "duration": 7,
    "start_time": "2022-02-11T14:31:42.444Z"
   },
   {
    "duration": 20,
    "start_time": "2022-02-11T14:31:42.454Z"
   },
   {
    "duration": 14,
    "start_time": "2022-02-11T14:31:42.476Z"
   },
   {
    "duration": 18,
    "start_time": "2022-02-11T14:31:42.492Z"
   },
   {
    "duration": 10,
    "start_time": "2022-02-11T14:31:42.512Z"
   },
   {
    "duration": 11,
    "start_time": "2022-02-11T14:31:42.524Z"
   },
   {
    "duration": 7,
    "start_time": "2022-02-11T14:31:42.538Z"
   },
   {
    "duration": 65,
    "start_time": "2022-02-11T14:31:42.548Z"
   },
   {
    "duration": 5,
    "start_time": "2022-02-11T14:31:42.615Z"
   },
   {
    "duration": 599,
    "start_time": "2022-02-11T14:31:42.621Z"
   },
   {
    "duration": 624,
    "start_time": "2022-02-11T14:31:43.222Z"
   },
   {
    "duration": 60,
    "start_time": "2022-02-11T14:31:43.848Z"
   },
   {
    "duration": 12,
    "start_time": "2022-02-11T14:31:43.910Z"
   },
   {
    "duration": 35,
    "start_time": "2022-02-11T14:31:43.924Z"
   },
   {
    "duration": 26,
    "start_time": "2022-02-11T14:31:43.961Z"
   },
   {
    "duration": 32,
    "start_time": "2022-02-11T14:31:43.989Z"
   },
   {
    "duration": 63,
    "start_time": "2022-02-11T14:31:44.023Z"
   },
   {
    "duration": 23,
    "start_time": "2022-02-11T14:31:44.088Z"
   },
   {
    "duration": 11,
    "start_time": "2022-02-11T14:31:44.112Z"
   },
   {
    "duration": 16,
    "start_time": "2022-02-11T14:31:44.126Z"
   },
   {
    "duration": 20,
    "start_time": "2022-02-11T14:31:44.144Z"
   },
   {
    "duration": 7,
    "start_time": "2022-02-11T14:31:44.166Z"
   },
   {
    "duration": 43,
    "start_time": "2022-02-11T14:31:44.175Z"
   },
   {
    "duration": 28,
    "start_time": "2022-02-11T14:31:44.220Z"
   },
   {
    "duration": 31,
    "start_time": "2022-02-11T14:31:44.252Z"
   },
   {
    "duration": 26,
    "start_time": "2022-02-11T14:31:44.286Z"
   },
   {
    "duration": 11,
    "start_time": "2022-02-11T14:31:44.314Z"
   },
   {
    "duration": 40,
    "start_time": "2022-02-11T14:31:44.327Z"
   },
   {
    "duration": 20,
    "start_time": "2022-02-11T14:31:44.369Z"
   },
   {
    "duration": 35,
    "start_time": "2022-02-11T14:31:44.391Z"
   },
   {
    "duration": 22,
    "start_time": "2022-02-11T14:31:44.428Z"
   },
   {
    "duration": 17,
    "start_time": "2022-02-11T14:31:44.452Z"
   },
   {
    "duration": 22,
    "start_time": "2022-02-11T14:31:44.471Z"
   },
   {
    "duration": 26,
    "start_time": "2022-02-11T14:31:44.494Z"
   },
   {
    "duration": 22,
    "start_time": "2022-02-11T14:31:44.522Z"
   },
   {
    "duration": 106,
    "start_time": "2022-02-11T14:31:44.546Z"
   },
   {
    "duration": 25,
    "start_time": "2022-02-11T14:31:44.654Z"
   },
   {
    "duration": 143,
    "start_time": "2022-02-11T14:31:44.681Z"
   },
   {
    "duration": 43,
    "start_time": "2022-02-11T14:31:44.825Z"
   },
   {
    "duration": 44,
    "start_time": "2022-02-11T14:31:44.869Z"
   },
   {
    "duration": 18,
    "start_time": "2022-02-11T14:31:44.915Z"
   },
   {
    "duration": 45,
    "start_time": "2022-02-11T14:31:44.935Z"
   },
   {
    "duration": 4,
    "start_time": "2022-02-11T14:31:44.982Z"
   },
   {
    "duration": 50,
    "start_time": "2022-02-11T14:31:44.988Z"
   },
   {
    "duration": 9,
    "start_time": "2022-02-11T14:31:45.041Z"
   },
   {
    "duration": 128,
    "start_time": "2022-02-11T14:31:45.052Z"
   },
   {
    "duration": 7,
    "start_time": "2022-02-11T14:31:50.128Z"
   },
   {
    "duration": 675,
    "start_time": "2022-02-11T14:31:51.409Z"
   },
   {
    "duration": 5,
    "start_time": "2022-02-11T14:32:04.393Z"
   },
   {
    "duration": 4,
    "start_time": "2022-02-11T14:32:04.744Z"
   },
   {
    "duration": 4,
    "start_time": "2022-02-11T14:32:05.111Z"
   },
   {
    "duration": 6,
    "start_time": "2022-02-11T14:32:37.907Z"
   },
   {
    "duration": 25,
    "start_time": "2022-02-11T14:33:15.204Z"
   },
   {
    "duration": 10,
    "start_time": "2022-02-11T14:33:26.767Z"
   },
   {
    "duration": 317,
    "start_time": "2022-02-11T14:35:59.825Z"
   },
   {
    "duration": 26,
    "start_time": "2022-02-11T14:36:30.689Z"
   },
   {
    "duration": 4,
    "start_time": "2022-02-11T14:37:43.622Z"
   },
   {
    "duration": 4,
    "start_time": "2022-02-11T14:37:45.451Z"
   },
   {
    "duration": 4,
    "start_time": "2022-02-11T14:37:57.038Z"
   },
   {
    "duration": 11,
    "start_time": "2022-02-11T14:38:04.213Z"
   },
   {
    "duration": 6,
    "start_time": "2022-02-11T14:38:06.094Z"
   },
   {
    "duration": 116,
    "start_time": "2022-02-11T14:38:06.443Z"
   },
   {
    "duration": 6,
    "start_time": "2022-02-11T14:38:06.993Z"
   },
   {
    "duration": 5,
    "start_time": "2022-02-11T14:38:12.864Z"
   },
   {
    "duration": 5,
    "start_time": "2022-02-11T14:38:13.167Z"
   },
   {
    "duration": 3,
    "start_time": "2022-02-11T14:38:13.864Z"
   },
   {
    "duration": 9,
    "start_time": "2022-02-11T14:38:14.427Z"
   },
   {
    "duration": 5,
    "start_time": "2022-02-11T14:38:41.016Z"
   },
   {
    "duration": 7,
    "start_time": "2022-02-11T14:38:42.420Z"
   },
   {
    "duration": 5,
    "start_time": "2022-02-11T14:38:43.151Z"
   },
   {
    "duration": 1032,
    "start_time": "2022-02-11T14:39:12.388Z"
   },
   {
    "duration": 3,
    "start_time": "2022-02-11T14:40:21.364Z"
   },
   {
    "duration": 4,
    "start_time": "2022-02-11T14:40:21.577Z"
   },
   {
    "duration": 4,
    "start_time": "2022-02-11T14:40:21.768Z"
   },
   {
    "duration": 9,
    "start_time": "2022-02-11T14:40:22.348Z"
   },
   {
    "duration": 4,
    "start_time": "2022-02-11T14:40:22.950Z"
   },
   {
    "duration": 5,
    "start_time": "2022-02-11T14:40:24.018Z"
   },
   {
    "duration": 4,
    "start_time": "2022-02-11T14:40:25.127Z"
   },
   {
    "duration": 5,
    "start_time": "2022-02-11T14:40:26.075Z"
   },
   {
    "duration": 6,
    "start_time": "2022-02-11T14:40:27.432Z"
   },
   {
    "duration": 4,
    "start_time": "2022-02-11T14:40:28.779Z"
   },
   {
    "duration": 6,
    "start_time": "2022-02-11T14:40:34.173Z"
   },
   {
    "duration": 4,
    "start_time": "2022-02-11T14:41:42.209Z"
   },
   {
    "duration": 16,
    "start_time": "2022-02-11T14:41:42.982Z"
   },
   {
    "duration": 5,
    "start_time": "2022-02-11T14:42:31.214Z"
   },
   {
    "duration": 16,
    "start_time": "2022-02-11T14:42:31.850Z"
   },
   {
    "duration": 7,
    "start_time": "2022-02-11T14:42:53.413Z"
   },
   {
    "duration": 1282,
    "start_time": "2022-02-11T14:42:54.028Z"
   },
   {
    "duration": 7,
    "start_time": "2022-02-11T14:43:42.795Z"
   },
   {
    "duration": 755,
    "start_time": "2022-02-11T14:43:43.218Z"
   },
   {
    "duration": 6,
    "start_time": "2022-02-11T14:45:02.511Z"
   },
   {
    "duration": 663,
    "start_time": "2022-02-11T14:45:08.087Z"
   },
   {
    "duration": 5,
    "start_time": "2022-02-11T14:45:19.598Z"
   },
   {
    "duration": 19,
    "start_time": "2022-02-11T14:45:19.935Z"
   },
   {
    "duration": 5,
    "start_time": "2022-02-11T14:45:30.316Z"
   },
   {
    "duration": 17,
    "start_time": "2022-02-11T14:45:31.183Z"
   },
   {
    "duration": 5,
    "start_time": "2022-02-11T14:48:40.803Z"
   },
   {
    "duration": 24,
    "start_time": "2022-02-11T14:48:41.200Z"
   },
   {
    "duration": 5,
    "start_time": "2022-02-11T14:49:10.700Z"
   },
   {
    "duration": 22,
    "start_time": "2022-02-11T14:49:11.208Z"
   },
   {
    "duration": 4,
    "start_time": "2022-02-11T14:49:19.858Z"
   },
   {
    "duration": 17,
    "start_time": "2022-02-11T14:49:20.087Z"
   },
   {
    "duration": 91,
    "start_time": "2022-02-11T14:57:36.887Z"
   },
   {
    "duration": 5,
    "start_time": "2022-02-11T14:57:42.545Z"
   },
   {
    "duration": 1353,
    "start_time": "2022-02-11T14:58:50.997Z"
   },
   {
    "duration": 5,
    "start_time": "2022-02-11T15:02:26.928Z"
   },
   {
    "duration": 836,
    "start_time": "2022-02-11T15:02:27.311Z"
   },
   {
    "duration": 4,
    "start_time": "2022-02-11T15:03:30.252Z"
   },
   {
    "duration": 1028,
    "start_time": "2022-02-11T15:03:31.573Z"
   },
   {
    "duration": 1116,
    "start_time": "2022-02-11T15:04:14.484Z"
   },
   {
    "duration": 84,
    "start_time": "2022-02-11T15:04:45.971Z"
   },
   {
    "duration": 1095,
    "start_time": "2022-02-11T15:04:46.350Z"
   },
   {
    "duration": 110,
    "start_time": "2022-02-11T15:05:07.078Z"
   },
   {
    "duration": 1149,
    "start_time": "2022-02-11T15:05:07.415Z"
   },
   {
    "duration": 83,
    "start_time": "2022-02-11T15:05:16.418Z"
   },
   {
    "duration": 4,
    "start_time": "2022-02-11T15:05:21.945Z"
   },
   {
    "duration": 273,
    "start_time": "2022-02-11T15:05:22.458Z"
   },
   {
    "duration": 94,
    "start_time": "2022-02-11T15:06:09.785Z"
   },
   {
    "duration": 274,
    "start_time": "2022-02-11T15:06:10.652Z"
   },
   {
    "duration": 5,
    "start_time": "2022-02-11T15:06:28.402Z"
   },
   {
    "duration": 851,
    "start_time": "2022-02-11T15:06:28.773Z"
   },
   {
    "duration": 5,
    "start_time": "2022-02-11T15:06:40.310Z"
   },
   {
    "duration": 604,
    "start_time": "2022-02-11T15:06:40.855Z"
   },
   {
    "duration": 5,
    "start_time": "2022-02-11T15:08:20.382Z"
   },
   {
    "duration": 611,
    "start_time": "2022-02-11T15:08:21.141Z"
   },
   {
    "duration": 6,
    "start_time": "2022-02-11T15:08:48.452Z"
   },
   {
    "duration": 688,
    "start_time": "2022-02-11T15:08:48.697Z"
   },
   {
    "duration": 5,
    "start_time": "2022-02-11T15:09:29.308Z"
   },
   {
    "duration": 648,
    "start_time": "2022-02-11T15:09:29.779Z"
   },
   {
    "duration": 6,
    "start_time": "2022-02-11T15:09:42.002Z"
   },
   {
    "duration": 600,
    "start_time": "2022-02-11T15:09:42.485Z"
   },
   {
    "duration": 5,
    "start_time": "2022-02-11T15:09:47.373Z"
   },
   {
    "duration": 650,
    "start_time": "2022-02-11T15:09:47.667Z"
   },
   {
    "duration": 6,
    "start_time": "2022-02-11T15:10:15.944Z"
   },
   {
    "duration": 874,
    "start_time": "2022-02-11T15:10:16.472Z"
   },
   {
    "duration": 5,
    "start_time": "2022-02-11T15:10:42.435Z"
   },
   {
    "duration": 614,
    "start_time": "2022-02-11T15:10:42.746Z"
   },
   {
    "duration": 6,
    "start_time": "2022-02-11T15:11:13.579Z"
   },
   {
    "duration": 624,
    "start_time": "2022-02-11T15:11:13.850Z"
   },
   {
    "duration": 6,
    "start_time": "2022-02-11T15:11:27.578Z"
   },
   {
    "duration": 612,
    "start_time": "2022-02-11T15:11:27.961Z"
   },
   {
    "duration": 342,
    "start_time": "2022-02-11T17:52:00.916Z"
   },
   {
    "duration": 1159,
    "start_time": "2022-02-11T17:52:11.631Z"
   },
   {
    "duration": 287,
    "start_time": "2022-02-11T17:52:12.793Z"
   },
   {
    "duration": 7,
    "start_time": "2022-02-11T17:52:13.082Z"
   },
   {
    "duration": 21,
    "start_time": "2022-02-11T17:52:13.091Z"
   },
   {
    "duration": 13,
    "start_time": "2022-02-11T17:52:13.114Z"
   },
   {
    "duration": 15,
    "start_time": "2022-02-11T17:52:13.129Z"
   },
   {
    "duration": 8,
    "start_time": "2022-02-11T17:52:13.146Z"
   },
   {
    "duration": 8,
    "start_time": "2022-02-11T17:52:13.157Z"
   },
   {
    "duration": 3,
    "start_time": "2022-02-11T17:52:13.167Z"
   },
   {
    "duration": 67,
    "start_time": "2022-02-11T17:52:13.172Z"
   },
   {
    "duration": 5,
    "start_time": "2022-02-11T17:52:13.240Z"
   },
   {
    "duration": 591,
    "start_time": "2022-02-11T17:52:13.247Z"
   },
   {
    "duration": 658,
    "start_time": "2022-02-11T17:52:13.840Z"
   },
   {
    "duration": 52,
    "start_time": "2022-02-11T17:52:14.500Z"
   },
   {
    "duration": 12,
    "start_time": "2022-02-11T17:52:14.554Z"
   },
   {
    "duration": 48,
    "start_time": "2022-02-11T17:52:14.568Z"
   },
   {
    "duration": 26,
    "start_time": "2022-02-11T17:52:14.619Z"
   },
   {
    "duration": 15,
    "start_time": "2022-02-11T17:52:14.647Z"
   },
   {
    "duration": 81,
    "start_time": "2022-02-11T17:52:14.664Z"
   },
   {
    "duration": 15,
    "start_time": "2022-02-11T17:52:14.747Z"
   },
   {
    "duration": 10,
    "start_time": "2022-02-11T17:52:14.764Z"
   },
   {
    "duration": 33,
    "start_time": "2022-02-11T17:52:14.775Z"
   },
   {
    "duration": 16,
    "start_time": "2022-02-11T17:52:14.813Z"
   },
   {
    "duration": 8,
    "start_time": "2022-02-11T17:52:14.832Z"
   },
   {
    "duration": 21,
    "start_time": "2022-02-11T17:52:14.842Z"
   },
   {
    "duration": 53,
    "start_time": "2022-02-11T17:52:14.866Z"
   },
   {
    "duration": 31,
    "start_time": "2022-02-11T17:52:14.921Z"
   },
   {
    "duration": 18,
    "start_time": "2022-02-11T17:52:14.955Z"
   },
   {
    "duration": 9,
    "start_time": "2022-02-11T17:52:14.975Z"
   },
   {
    "duration": 46,
    "start_time": "2022-02-11T17:52:14.986Z"
   },
   {
    "duration": 16,
    "start_time": "2022-02-11T17:52:15.035Z"
   },
   {
    "duration": 35,
    "start_time": "2022-02-11T17:52:15.054Z"
   },
   {
    "duration": 11,
    "start_time": "2022-02-11T17:52:15.091Z"
   },
   {
    "duration": 16,
    "start_time": "2022-02-11T17:52:15.104Z"
   },
   {
    "duration": 13,
    "start_time": "2022-02-11T17:52:15.122Z"
   },
   {
    "duration": 18,
    "start_time": "2022-02-11T17:52:15.137Z"
   },
   {
    "duration": 18,
    "start_time": "2022-02-11T17:52:15.156Z"
   },
   {
    "duration": 105,
    "start_time": "2022-02-11T17:52:15.176Z"
   },
   {
    "duration": 34,
    "start_time": "2022-02-11T17:52:15.283Z"
   },
   {
    "duration": 151,
    "start_time": "2022-02-11T17:52:15.319Z"
   },
   {
    "duration": 59,
    "start_time": "2022-02-11T17:52:15.473Z"
   },
   {
    "duration": 26,
    "start_time": "2022-02-11T17:52:15.535Z"
   },
   {
    "duration": 18,
    "start_time": "2022-02-11T17:52:15.563Z"
   },
   {
    "duration": 45,
    "start_time": "2022-02-11T17:52:15.608Z"
   },
   {
    "duration": 5,
    "start_time": "2022-02-11T17:52:15.655Z"
   },
   {
    "duration": 61,
    "start_time": "2022-02-11T17:52:15.663Z"
   },
   {
    "duration": 27,
    "start_time": "2022-02-11T17:52:15.725Z"
   },
   {
    "duration": 6,
    "start_time": "2022-02-11T17:52:15.754Z"
   },
   {
    "duration": 129,
    "start_time": "2022-02-11T17:52:15.762Z"
   },
   {
    "duration": 4,
    "start_time": "2022-02-11T17:52:15.893Z"
   },
   {
    "duration": 21,
    "start_time": "2022-02-11T17:52:15.907Z"
   },
   {
    "duration": 3,
    "start_time": "2022-02-11T17:52:15.930Z"
   },
   {
    "duration": 7,
    "start_time": "2022-02-11T17:52:15.935Z"
   },
   {
    "duration": 7,
    "start_time": "2022-02-11T17:52:15.944Z"
   },
   {
    "duration": 12,
    "start_time": "2022-02-11T17:52:15.953Z"
   },
   {
    "duration": 3,
    "start_time": "2022-02-11T17:52:15.968Z"
   },
   {
    "duration": 36,
    "start_time": "2022-02-11T17:52:15.972Z"
   },
   {
    "duration": 9,
    "start_time": "2022-02-11T17:52:16.010Z"
   },
   {
    "duration": 9,
    "start_time": "2022-02-11T17:52:16.021Z"
   },
   {
    "duration": 12,
    "start_time": "2022-02-11T17:52:16.032Z"
   },
   {
    "duration": 10,
    "start_time": "2022-02-11T17:52:16.046Z"
   },
   {
    "duration": 9,
    "start_time": "2022-02-11T17:52:16.058Z"
   },
   {
    "duration": 18,
    "start_time": "2022-02-11T17:52:16.069Z"
   },
   {
    "duration": 19,
    "start_time": "2022-02-11T17:52:16.089Z"
   },
   {
    "duration": 616,
    "start_time": "2022-02-11T17:52:16.110Z"
   },
   {
    "duration": 632,
    "start_time": "2022-02-11T17:52:16.728Z"
   },
   {
    "duration": 7,
    "start_time": "2022-02-11T17:52:28.392Z"
   },
   {
    "duration": 39,
    "start_time": "2022-02-11T17:54:02.949Z"
   },
   {
    "duration": 327,
    "start_time": "2022-02-11T17:59:10.578Z"
   },
   {
    "duration": 230,
    "start_time": "2022-02-11T18:00:36.556Z"
   },
   {
    "duration": 5,
    "start_time": "2022-02-11T18:00:46.487Z"
   },
   {
    "duration": 9,
    "start_time": "2022-02-11T18:01:09.394Z"
   },
   {
    "duration": 6,
    "start_time": "2022-02-11T18:01:31.732Z"
   },
   {
    "duration": 8,
    "start_time": "2022-02-11T18:01:55.016Z"
   },
   {
    "duration": 9,
    "start_time": "2022-02-11T18:02:05.949Z"
   },
   {
    "duration": 7,
    "start_time": "2022-02-11T18:02:07.443Z"
   },
   {
    "duration": 6,
    "start_time": "2022-02-11T18:02:20.613Z"
   },
   {
    "duration": 6,
    "start_time": "2022-02-11T18:02:34.980Z"
   },
   {
    "duration": 1198,
    "start_time": "2022-02-11T18:03:17.097Z"
   },
   {
    "duration": 288,
    "start_time": "2022-02-11T18:03:18.725Z"
   },
   {
    "duration": 8,
    "start_time": "2022-02-11T18:03:19.191Z"
   },
   {
    "duration": 18,
    "start_time": "2022-02-11T18:03:19.922Z"
   },
   {
    "duration": 14,
    "start_time": "2022-02-11T18:03:20.685Z"
   },
   {
    "duration": 19,
    "start_time": "2022-02-11T18:03:21.338Z"
   },
   {
    "duration": 9,
    "start_time": "2022-02-11T18:03:22.212Z"
   },
   {
    "duration": 9,
    "start_time": "2022-02-11T18:03:24.483Z"
   },
   {
    "duration": 4,
    "start_time": "2022-02-11T18:03:25.151Z"
   },
   {
    "duration": 89,
    "start_time": "2022-02-11T18:03:49.354Z"
   },
   {
    "duration": 10,
    "start_time": "2022-02-11T18:03:50.898Z"
   },
   {
    "duration": 3,
    "start_time": "2022-02-11T18:04:12.384Z"
   },
   {
    "duration": 34,
    "start_time": "2022-02-11T18:04:14.374Z"
   },
   {
    "duration": 6,
    "start_time": "2022-02-11T18:04:41.571Z"
   },
   {
    "duration": 42,
    "start_time": "2022-02-11T18:05:10.832Z"
   },
   {
    "duration": 13,
    "start_time": "2022-02-11T18:05:13.508Z"
   },
   {
    "duration": 24,
    "start_time": "2022-02-11T18:05:18.664Z"
   },
   {
    "duration": 30,
    "start_time": "2022-02-11T18:05:19.812Z"
   },
   {
    "duration": 16,
    "start_time": "2022-02-11T18:05:25.713Z"
   },
   {
    "duration": 52,
    "start_time": "2022-02-11T18:05:28.464Z"
   },
   {
    "duration": 16,
    "start_time": "2022-02-11T18:05:30.524Z"
   },
   {
    "duration": 11,
    "start_time": "2022-02-11T18:05:32.835Z"
   },
   {
    "duration": 11,
    "start_time": "2022-02-11T18:05:35.936Z"
   },
   {
    "duration": 16,
    "start_time": "2022-02-11T18:05:37.259Z"
   },
   {
    "duration": 7,
    "start_time": "2022-02-11T18:05:38.263Z"
   },
   {
    "duration": 21,
    "start_time": "2022-02-11T18:05:54.974Z"
   },
   {
    "duration": 16,
    "start_time": "2022-02-11T18:06:44.257Z"
   },
   {
    "duration": 23,
    "start_time": "2022-02-11T18:06:49.576Z"
   },
   {
    "duration": 8,
    "start_time": "2022-02-11T18:06:52.383Z"
   },
   {
    "duration": 6,
    "start_time": "2022-02-11T18:07:03.094Z"
   },
   {
    "duration": 21,
    "start_time": "2022-02-11T18:07:05.033Z"
   },
   {
    "duration": 5,
    "start_time": "2022-02-11T18:07:09.060Z"
   },
   {
    "duration": 5,
    "start_time": "2022-02-11T18:07:18.357Z"
   },
   {
    "duration": 8,
    "start_time": "2022-02-11T18:07:26.156Z"
   },
   {
    "duration": 9,
    "start_time": "2022-02-11T18:07:29.157Z"
   },
   {
    "duration": 12,
    "start_time": "2022-02-11T18:07:30.348Z"
   },
   {
    "duration": 16,
    "start_time": "2022-02-11T18:07:32.966Z"
   },
   {
    "duration": 7,
    "start_time": "2022-02-11T18:09:06.512Z"
   },
   {
    "duration": 78,
    "start_time": "2022-02-11T18:09:07.230Z"
   },
   {
    "duration": 5,
    "start_time": "2022-02-11T18:09:08.101Z"
   },
   {
    "duration": 18,
    "start_time": "2022-02-11T18:09:08.791Z"
   },
   {
    "duration": 4,
    "start_time": "2022-02-11T18:09:10.097Z"
   },
   {
    "duration": 5,
    "start_time": "2022-02-11T18:09:10.934Z"
   },
   {
    "duration": 3,
    "start_time": "2022-02-11T18:09:11.329Z"
   },
   {
    "duration": 10,
    "start_time": "2022-02-11T18:09:12.794Z"
   },
   {
    "duration": 4,
    "start_time": "2022-02-11T18:09:13.619Z"
   },
   {
    "duration": 17,
    "start_time": "2022-02-11T18:09:40.539Z"
   },
   {
    "duration": 330,
    "start_time": "2022-02-11T18:09:43.397Z"
   },
   {
    "duration": -83,
    "start_time": "2022-02-11T18:09:43.812Z"
   },
   {
    "duration": 237,
    "start_time": "2022-02-11T18:09:43.796Z"
   },
   {
    "duration": -66,
    "start_time": "2022-02-11T18:09:44.101Z"
   },
   {
    "duration": 241,
    "start_time": "2022-02-11T18:09:44.136Z"
   },
   {
    "duration": -68,
    "start_time": "2022-02-11T18:09:44.447Z"
   },
   {
    "duration": 238,
    "start_time": "2022-02-11T18:09:44.460Z"
   },
   {
    "duration": -97,
    "start_time": "2022-02-11T18:09:44.797Z"
   },
   {
    "duration": 99,
    "start_time": "2022-02-11T18:09:57.412Z"
   },
   {
    "duration": 25,
    "start_time": "2022-02-11T18:09:58.306Z"
   },
   {
    "duration": 145,
    "start_time": "2022-02-11T18:09:58.876Z"
   },
   {
    "duration": 47,
    "start_time": "2022-02-11T18:09:59.203Z"
   },
   {
    "duration": 27,
    "start_time": "2022-02-11T18:09:59.952Z"
   },
   {
    "duration": 246,
    "start_time": "2022-02-11T18:10:00.638Z"
   },
   {
    "duration": 33,
    "start_time": "2022-02-11T18:10:01.601Z"
   },
   {
    "duration": 5,
    "start_time": "2022-02-11T18:10:10.856Z"
   },
   {
    "duration": 32,
    "start_time": "2022-02-11T18:10:11.497Z"
   },
   {
    "duration": 28,
    "start_time": "2022-02-11T18:10:12.132Z"
   },
   {
    "duration": 6,
    "start_time": "2022-02-11T18:10:16.956Z"
   },
   {
    "duration": 109,
    "start_time": "2022-02-11T18:10:17.467Z"
   },
   {
    "duration": 4,
    "start_time": "2022-02-11T18:10:18.200Z"
   },
   {
    "duration": 18,
    "start_time": "2022-02-11T18:10:19.513Z"
   },
   {
    "duration": 5,
    "start_time": "2022-02-11T18:10:20.257Z"
   },
   {
    "duration": 5,
    "start_time": "2022-02-11T18:10:21.295Z"
   },
   {
    "duration": 3,
    "start_time": "2022-02-11T18:10:21.549Z"
   },
   {
    "duration": 9,
    "start_time": "2022-02-11T18:10:22.471Z"
   },
   {
    "duration": 4,
    "start_time": "2022-02-11T18:10:38.441Z"
   },
   {
    "duration": 4,
    "start_time": "2022-02-11T18:10:39.424Z"
   },
   {
    "duration": 4,
    "start_time": "2022-02-11T18:10:39.797Z"
   },
   {
    "duration": 5,
    "start_time": "2022-02-11T18:10:40.177Z"
   },
   {
    "duration": 6,
    "start_time": "2022-02-11T18:10:41.151Z"
   },
   {
    "duration": 4,
    "start_time": "2022-02-11T18:10:41.900Z"
   },
   {
    "duration": 7,
    "start_time": "2022-02-11T18:10:43.009Z"
   },
   {
    "duration": 5,
    "start_time": "2022-02-11T18:10:43.609Z"
   },
   {
    "duration": 6,
    "start_time": "2022-02-11T18:10:44.120Z"
   },
   {
    "duration": 614,
    "start_time": "2022-02-11T18:10:44.604Z"
   },
   {
    "duration": 674,
    "start_time": "2022-02-11T18:10:45.220Z"
   },
   {
    "duration": 15,
    "start_time": "2022-02-11T18:10:45.896Z"
   },
   {
    "duration": 6,
    "start_time": "2022-02-11T18:10:46.141Z"
   },
   {
    "duration": 9,
    "start_time": "2022-02-11T18:10:46.727Z"
   },
   {
    "duration": 25,
    "start_time": "2022-02-11T18:10:47.472Z"
   },
   {
    "duration": 6,
    "start_time": "2022-02-11T18:10:48.067Z"
   },
   {
    "duration": 6,
    "start_time": "2022-02-11T18:10:49.500Z"
   },
   {
    "duration": 6,
    "start_time": "2022-02-11T18:12:02.272Z"
   },
   {
    "duration": 6,
    "start_time": "2022-02-11T18:12:12.138Z"
   },
   {
    "duration": 13,
    "start_time": "2022-02-11T18:12:15.075Z"
   },
   {
    "duration": 6,
    "start_time": "2022-02-11T18:12:15.336Z"
   },
   {
    "duration": 6,
    "start_time": "2022-02-11T18:12:15.767Z"
   },
   {
    "duration": 1075,
    "start_time": "2022-02-12T11:15:37.549Z"
   },
   {
    "duration": 260,
    "start_time": "2022-02-12T11:15:38.625Z"
   },
   {
    "duration": 6,
    "start_time": "2022-02-12T11:15:38.887Z"
   },
   {
    "duration": 15,
    "start_time": "2022-02-12T11:15:39.691Z"
   },
   {
    "duration": 11,
    "start_time": "2022-02-12T11:15:40.187Z"
   },
   {
    "duration": 11,
    "start_time": "2022-02-12T11:15:40.624Z"
   },
   {
    "duration": 6,
    "start_time": "2022-02-12T11:15:41.123Z"
   },
   {
    "duration": 10,
    "start_time": "2022-02-12T11:15:53.903Z"
   },
   {
    "duration": 13,
    "start_time": "2022-02-12T11:15:54.436Z"
   },
   {
    "duration": 7,
    "start_time": "2022-02-12T11:15:55.101Z"
   },
   {
    "duration": 3,
    "start_time": "2022-02-12T11:15:55.861Z"
   },
   {
    "duration": 68,
    "start_time": "2022-02-12T11:15:57.000Z"
   },
   {
    "duration": 59,
    "start_time": "2022-02-12T11:15:57.659Z"
   },
   {
    "duration": 3,
    "start_time": "2022-02-12T11:15:58.690Z"
   },
   {
    "duration": 33,
    "start_time": "2022-02-12T11:16:00.556Z"
   },
   {
    "duration": 4,
    "start_time": "2022-02-12T11:20:50.259Z"
   },
   {
    "duration": 33,
    "start_time": "2022-02-12T11:21:50.003Z"
   },
   {
    "duration": 19,
    "start_time": "2022-02-12T11:22:53.694Z"
   },
   {
    "duration": 32,
    "start_time": "2022-02-12T11:25:42.150Z"
   },
   {
    "duration": 29,
    "start_time": "2022-02-12T11:26:10.778Z"
   },
   {
    "duration": 39,
    "start_time": "2022-02-12T11:26:11.788Z"
   },
   {
    "duration": 29,
    "start_time": "2022-02-12T11:26:18.420Z"
   },
   {
    "duration": 12,
    "start_time": "2022-02-12T11:27:10.372Z"
   },
   {
    "duration": 9,
    "start_time": "2022-02-12T11:27:12.644Z"
   },
   {
    "duration": 8,
    "start_time": "2022-02-12T11:27:13.522Z"
   },
   {
    "duration": 15,
    "start_time": "2022-02-12T11:31:35.714Z"
   },
   {
    "duration": 15,
    "start_time": "2022-02-12T11:31:44.758Z"
   },
   {
    "duration": 13,
    "start_time": "2022-02-12T12:57:50.923Z"
   },
   {
    "duration": 17,
    "start_time": "2022-02-12T12:57:54.499Z"
   },
   {
    "duration": 7,
    "start_time": "2022-02-12T12:57:54.836Z"
   },
   {
    "duration": 4,
    "start_time": "2022-02-12T12:57:55.055Z"
   },
   {
    "duration": 17,
    "start_time": "2022-02-12T12:57:55.231Z"
   },
   {
    "duration": 4,
    "start_time": "2022-02-12T12:57:55.404Z"
   },
   {
    "duration": 4,
    "start_time": "2022-02-12T12:57:55.581Z"
   },
   {
    "duration": 6,
    "start_time": "2022-02-12T12:57:55.768Z"
   },
   {
    "duration": 7,
    "start_time": "2022-02-12T12:57:55.947Z"
   },
   {
    "duration": 10,
    "start_time": "2022-02-12T12:57:56.139Z"
   },
   {
    "duration": 12,
    "start_time": "2022-02-12T12:57:56.316Z"
   },
   {
    "duration": 75,
    "start_time": "2022-02-12T12:57:56.495Z"
   },
   {
    "duration": 20,
    "start_time": "2022-02-12T12:57:56.676Z"
   },
   {
    "duration": 108,
    "start_time": "2022-02-12T12:57:56.863Z"
   },
   {
    "duration": 33,
    "start_time": "2022-02-12T12:57:57.068Z"
   },
   {
    "duration": 20,
    "start_time": "2022-02-12T12:57:57.250Z"
   },
   {
    "duration": 12,
    "start_time": "2022-02-12T12:57:57.442Z"
   },
   {
    "duration": 23,
    "start_time": "2022-02-12T12:57:57.652Z"
   },
   {
    "duration": 4,
    "start_time": "2022-02-12T12:57:57.855Z"
   },
   {
    "duration": 24,
    "start_time": "2022-02-12T12:57:58.072Z"
   },
   {
    "duration": 25,
    "start_time": "2022-02-12T12:57:58.280Z"
   },
   {
    "duration": 6,
    "start_time": "2022-02-12T12:57:58.771Z"
   },
   {
    "duration": 91,
    "start_time": "2022-02-12T12:57:59.139Z"
   },
   {
    "duration": 4,
    "start_time": "2022-02-12T12:57:59.363Z"
   },
   {
    "duration": 15,
    "start_time": "2022-02-12T12:57:59.845Z"
   },
   {
    "duration": 3,
    "start_time": "2022-02-12T12:58:00.055Z"
   },
   {
    "duration": 3,
    "start_time": "2022-02-12T12:58:00.280Z"
   },
   {
    "duration": 3,
    "start_time": "2022-02-12T12:58:00.488Z"
   },
   {
    "duration": 7,
    "start_time": "2022-02-12T12:58:00.696Z"
   },
   {
    "duration": 3,
    "start_time": "2022-02-12T12:58:00.895Z"
   },
   {
    "duration": 3,
    "start_time": "2022-02-12T12:58:01.107Z"
   },
   {
    "duration": 3,
    "start_time": "2022-02-12T12:58:01.303Z"
   },
   {
    "duration": 4,
    "start_time": "2022-02-12T12:58:01.531Z"
   },
   {
    "duration": 5,
    "start_time": "2022-02-12T12:58:01.969Z"
   },
   {
    "duration": 3,
    "start_time": "2022-02-12T12:58:02.200Z"
   },
   {
    "duration": 5,
    "start_time": "2022-02-12T12:58:02.689Z"
   },
   {
    "duration": 4,
    "start_time": "2022-02-12T12:58:02.915Z"
   },
   {
    "duration": 4,
    "start_time": "2022-02-12T12:58:03.160Z"
   },
   {
    "duration": 593,
    "start_time": "2022-02-12T12:58:03.498Z"
   },
   {
    "duration": 519,
    "start_time": "2022-02-12T12:58:04.093Z"
   },
   {
    "duration": 4,
    "start_time": "2022-02-12T12:58:04.614Z"
   },
   {
    "duration": 5,
    "start_time": "2022-02-12T12:58:30.896Z"
   },
   {
    "duration": 8,
    "start_time": "2022-02-12T12:58:31.077Z"
   },
   {
    "duration": 6,
    "start_time": "2022-02-12T12:58:31.245Z"
   },
   {
    "duration": 4,
    "start_time": "2022-02-12T12:58:31.414Z"
   },
   {
    "duration": 8,
    "start_time": "2022-02-12T13:07:09.888Z"
   },
   {
    "duration": 1017,
    "start_time": "2022-02-12T13:08:12.539Z"
   },
   {
    "duration": 267,
    "start_time": "2022-02-12T13:08:13.558Z"
   },
   {
    "duration": 7,
    "start_time": "2022-02-12T13:08:16.912Z"
   },
   {
    "duration": 15,
    "start_time": "2022-02-12T13:08:17.118Z"
   },
   {
    "duration": 11,
    "start_time": "2022-02-12T13:08:17.272Z"
   },
   {
    "duration": 13,
    "start_time": "2022-02-12T13:08:17.444Z"
   },
   {
    "duration": 7,
    "start_time": "2022-02-12T13:08:17.953Z"
   },
   {
    "duration": 10,
    "start_time": "2022-02-12T13:08:18.952Z"
   },
   {
    "duration": 8,
    "start_time": "2022-02-12T13:08:21.824Z"
   },
   {
    "duration": 1354,
    "start_time": "2022-02-12T13:08:29.232Z"
   },
   {
    "duration": 273,
    "start_time": "2022-02-12T13:08:31.133Z"
   },
   {
    "duration": 7,
    "start_time": "2022-02-12T13:08:32.408Z"
   },
   {
    "duration": 14,
    "start_time": "2022-02-12T13:08:32.960Z"
   },
   {
    "duration": 11,
    "start_time": "2022-02-12T13:08:33.411Z"
   },
   {
    "duration": 12,
    "start_time": "2022-02-12T13:08:34.024Z"
   },
   {
    "duration": 7,
    "start_time": "2022-02-12T13:08:34.564Z"
   },
   {
    "duration": 10,
    "start_time": "2022-02-12T13:08:34.988Z"
   },
   {
    "duration": 447,
    "start_time": "2022-02-12T13:09:20.883Z"
   },
   {
    "duration": 1072,
    "start_time": "2022-02-12T13:17:09.883Z"
   },
   {
    "duration": 275,
    "start_time": "2022-02-12T13:17:10.956Z"
   },
   {
    "duration": 6,
    "start_time": "2022-02-12T13:17:12.234Z"
   },
   {
    "duration": 15,
    "start_time": "2022-02-12T13:17:12.655Z"
   },
   {
    "duration": 11,
    "start_time": "2022-02-12T13:17:13.269Z"
   },
   {
    "duration": 14,
    "start_time": "2022-02-12T13:17:13.722Z"
   },
   {
    "duration": 7,
    "start_time": "2022-02-12T13:17:14.356Z"
   },
   {
    "duration": 12,
    "start_time": "2022-02-12T13:17:14.942Z"
   },
   {
    "duration": 20,
    "start_time": "2022-02-12T13:17:15.530Z"
   },
   {
    "duration": 8,
    "start_time": "2022-02-12T13:17:16.354Z"
   },
   {
    "duration": 3,
    "start_time": "2022-02-12T13:17:16.855Z"
   },
   {
    "duration": 75,
    "start_time": "2022-02-12T13:17:17.545Z"
   },
   {
    "duration": 62,
    "start_time": "2022-02-12T13:17:17.857Z"
   },
   {
    "duration": 3,
    "start_time": "2022-02-12T13:17:18.144Z"
   },
   {
    "duration": 30,
    "start_time": "2022-02-12T13:17:18.482Z"
   },
   {
    "duration": 4,
    "start_time": "2022-02-12T13:17:19.536Z"
   },
   {
    "duration": 37,
    "start_time": "2022-02-12T13:17:20.770Z"
   },
   {
    "duration": 39,
    "start_time": "2022-02-12T13:18:03.658Z"
   },
   {
    "duration": 42,
    "start_time": "2022-02-12T13:18:15.144Z"
   },
   {
    "duration": 12,
    "start_time": "2022-02-12T13:18:33.348Z"
   },
   {
    "duration": 9,
    "start_time": "2022-02-12T13:18:33.817Z"
   },
   {
    "duration": 8,
    "start_time": "2022-02-12T13:18:34.482Z"
   },
   {
    "duration": 13,
    "start_time": "2022-02-12T13:18:34.877Z"
   },
   {
    "duration": 15,
    "start_time": "2022-02-12T13:18:35.487Z"
   },
   {
    "duration": 4,
    "start_time": "2022-02-12T13:23:12.880Z"
   },
   {
    "duration": 13,
    "start_time": "2022-02-12T13:23:13.359Z"
   },
   {
    "duration": 5,
    "start_time": "2022-02-12T13:23:18.249Z"
   },
   {
    "duration": 377,
    "start_time": "2022-02-12T13:23:22.315Z"
   },
   {
    "duration": 18,
    "start_time": "2022-02-12T13:23:37.931Z"
   },
   {
    "duration": 15,
    "start_time": "2022-02-12T13:23:38.130Z"
   },
   {
    "duration": 31,
    "start_time": "2022-02-12T13:23:38.331Z"
   },
   {
    "duration": 10,
    "start_time": "2022-02-12T13:23:38.748Z"
   },
   {
    "duration": 6,
    "start_time": "2022-02-12T13:23:39.049Z"
   },
   {
    "duration": 15,
    "start_time": "2022-02-12T13:23:40.425Z"
   },
   {
    "duration": 4,
    "start_time": "2022-02-12T13:23:41.422Z"
   },
   {
    "duration": 4,
    "start_time": "2022-02-12T13:23:42.360Z"
   },
   {
    "duration": 6,
    "start_time": "2022-02-12T13:23:45.121Z"
   },
   {
    "duration": 7,
    "start_time": "2022-02-12T13:23:46.670Z"
   },
   {
    "duration": 12,
    "start_time": "2022-02-12T13:23:48.546Z"
   },
   {
    "duration": 9,
    "start_time": "2022-02-12T13:24:37.446Z"
   },
   {
    "duration": 11,
    "start_time": "2022-02-12T13:24:38.352Z"
   },
   {
    "duration": 75,
    "start_time": "2022-02-12T13:24:40.552Z"
   },
   {
    "duration": 20,
    "start_time": "2022-02-12T13:24:45.618Z"
   },
   {
    "duration": 112,
    "start_time": "2022-02-12T13:24:52.062Z"
   },
   {
    "duration": 34,
    "start_time": "2022-02-12T13:24:53.561Z"
   },
   {
    "duration": 1138,
    "start_time": "2022-02-12T13:37:20.812Z"
   },
   {
    "duration": 294,
    "start_time": "2022-02-12T13:37:21.951Z"
   },
   {
    "duration": 6,
    "start_time": "2022-02-12T13:37:22.247Z"
   },
   {
    "duration": 16,
    "start_time": "2022-02-12T13:37:22.255Z"
   },
   {
    "duration": 10,
    "start_time": "2022-02-12T13:37:22.409Z"
   },
   {
    "duration": 14,
    "start_time": "2022-02-12T13:37:22.747Z"
   },
   {
    "duration": 6,
    "start_time": "2022-02-12T13:37:23.051Z"
   },
   {
    "duration": 10,
    "start_time": "2022-02-12T13:37:23.258Z"
   },
   {
    "duration": 13,
    "start_time": "2022-02-12T13:37:23.494Z"
   },
   {
    "duration": 8,
    "start_time": "2022-02-12T13:37:23.664Z"
   },
   {
    "duration": 2,
    "start_time": "2022-02-12T13:37:23.895Z"
   },
   {
    "duration": 74,
    "start_time": "2022-02-12T13:37:24.378Z"
   },
   {
    "duration": 62,
    "start_time": "2022-02-12T13:37:24.671Z"
   },
   {
    "duration": 2,
    "start_time": "2022-02-12T13:37:24.939Z"
   },
   {
    "duration": 31,
    "start_time": "2022-02-12T13:37:25.207Z"
   },
   {
    "duration": 4,
    "start_time": "2022-02-12T13:37:26.277Z"
   },
   {
    "duration": 33,
    "start_time": "2022-02-12T13:37:27.055Z"
   },
   {
    "duration": 39,
    "start_time": "2022-02-12T13:37:27.510Z"
   },
   {
    "duration": 43,
    "start_time": "2022-02-12T13:37:27.758Z"
   },
   {
    "duration": 12,
    "start_time": "2022-02-12T13:37:28.263Z"
   },
   {
    "duration": 9,
    "start_time": "2022-02-12T13:37:28.613Z"
   },
   {
    "duration": 8,
    "start_time": "2022-02-12T13:37:28.985Z"
   },
   {
    "duration": 12,
    "start_time": "2022-02-12T13:37:30.112Z"
   },
   {
    "duration": 15,
    "start_time": "2022-02-12T13:37:30.974Z"
   },
   {
    "duration": 18,
    "start_time": "2022-02-12T13:37:49.583Z"
   },
   {
    "duration": 14,
    "start_time": "2022-02-12T13:38:00.228Z"
   },
   {
    "duration": 18,
    "start_time": "2022-02-12T13:38:06.856Z"
   },
   {
    "duration": 5,
    "start_time": "2022-02-12T13:38:27.266Z"
   },
   {
    "duration": 17,
    "start_time": "2022-02-12T13:38:30.674Z"
   },
   {
    "duration": 7,
    "start_time": "2022-02-12T13:43:01.686Z"
   },
   {
    "duration": 4,
    "start_time": "2022-02-12T13:43:03.619Z"
   },
   {
    "duration": 18,
    "start_time": "2022-02-12T13:43:04.615Z"
   },
   {
    "duration": 76,
    "start_time": "2022-02-12T13:44:25.322Z"
   },
   {
    "duration": 19,
    "start_time": "2022-02-12T13:45:01.211Z"
   },
   {
    "duration": 127,
    "start_time": "2022-02-12T13:45:21.769Z"
   },
   {
    "duration": 36,
    "start_time": "2022-02-12T13:46:05.532Z"
   },
   {
    "duration": 23,
    "start_time": "2022-02-12T13:47:08.656Z"
   },
   {
    "duration": 991,
    "start_time": "2022-02-12T13:49:12.764Z"
   },
   {
    "duration": 282,
    "start_time": "2022-02-12T13:49:13.756Z"
   },
   {
    "duration": 6,
    "start_time": "2022-02-12T13:49:14.040Z"
   },
   {
    "duration": 14,
    "start_time": "2022-02-12T13:49:14.100Z"
   },
   {
    "duration": 10,
    "start_time": "2022-02-12T13:49:14.273Z"
   },
   {
    "duration": 12,
    "start_time": "2022-02-12T13:49:14.424Z"
   },
   {
    "duration": 5,
    "start_time": "2022-02-12T13:49:14.588Z"
   },
   {
    "duration": 11,
    "start_time": "2022-02-12T13:49:14.760Z"
   },
   {
    "duration": 14,
    "start_time": "2022-02-12T13:49:14.925Z"
   },
   {
    "duration": 7,
    "start_time": "2022-02-12T13:49:15.094Z"
   },
   {
    "duration": 2,
    "start_time": "2022-02-12T13:49:15.261Z"
   },
   {
    "duration": 68,
    "start_time": "2022-02-12T13:49:15.622Z"
   },
   {
    "duration": 59,
    "start_time": "2022-02-12T13:49:15.813Z"
   },
   {
    "duration": 3,
    "start_time": "2022-02-12T13:49:16.002Z"
   },
   {
    "duration": 30,
    "start_time": "2022-02-12T13:49:16.189Z"
   },
   {
    "duration": 4,
    "start_time": "2022-02-12T13:49:16.615Z"
   },
   {
    "duration": 32,
    "start_time": "2022-02-12T13:49:18.091Z"
   },
   {
    "duration": 38,
    "start_time": "2022-02-12T13:49:20.060Z"
   },
   {
    "duration": 41,
    "start_time": "2022-02-12T13:49:21.561Z"
   },
   {
    "duration": 12,
    "start_time": "2022-02-12T13:49:22.505Z"
   },
   {
    "duration": 8,
    "start_time": "2022-02-12T13:49:23.310Z"
   },
   {
    "duration": 11,
    "start_time": "2022-02-12T13:49:24.433Z"
   },
   {
    "duration": 12,
    "start_time": "2022-02-12T13:49:25.218Z"
   },
   {
    "duration": 15,
    "start_time": "2022-02-12T13:49:25.733Z"
   },
   {
    "duration": 16,
    "start_time": "2022-02-12T13:49:47.758Z"
   },
   {
    "duration": 16,
    "start_time": "2022-02-12T13:52:00.203Z"
   },
   {
    "duration": 13,
    "start_time": "2022-02-12T13:52:02.972Z"
   },
   {
    "duration": 17,
    "start_time": "2022-02-12T13:52:05.997Z"
   },
   {
    "duration": 8,
    "start_time": "2022-02-12T13:52:16.653Z"
   },
   {
    "duration": 4,
    "start_time": "2022-02-12T13:52:18.509Z"
   },
   {
    "duration": 25,
    "start_time": "2022-02-12T13:52:19.167Z"
   },
   {
    "duration": 4,
    "start_time": "2022-02-12T13:52:24.101Z"
   },
   {
    "duration": 5,
    "start_time": "2022-02-12T13:52:25.096Z"
   },
   {
    "duration": 6,
    "start_time": "2022-02-12T13:52:27.409Z"
   },
   {
    "duration": 8,
    "start_time": "2022-02-12T13:52:28.645Z"
   },
   {
    "duration": 9,
    "start_time": "2022-02-12T13:52:30.742Z"
   },
   {
    "duration": 13,
    "start_time": "2022-02-12T13:52:31.460Z"
   },
   {
    "duration": 73,
    "start_time": "2022-02-12T13:52:38.303Z"
   },
   {
    "duration": 21,
    "start_time": "2022-02-12T13:52:39.349Z"
   },
   {
    "duration": 19,
    "start_time": "2022-02-12T13:55:08.506Z"
   },
   {
    "duration": 114,
    "start_time": "2022-02-12T13:55:09.469Z"
   },
   {
    "duration": 106,
    "start_time": "2022-02-12T13:55:36.956Z"
   },
   {
    "duration": 101,
    "start_time": "2022-02-12T13:56:13.216Z"
   },
   {
    "duration": 36,
    "start_time": "2022-02-12T13:56:25.699Z"
   },
   {
    "duration": 26,
    "start_time": "2022-02-12T13:56:32.140Z"
   },
   {
    "duration": 14,
    "start_time": "2022-02-12T13:56:49.751Z"
   },
   {
    "duration": 70,
    "start_time": "2022-02-12T13:57:36.328Z"
   },
   {
    "duration": 37,
    "start_time": "2022-02-12T13:57:36.964Z"
   },
   {
    "duration": 11,
    "start_time": "2022-02-12T13:57:38.412Z"
   },
   {
    "duration": 72,
    "start_time": "2022-02-12T13:58:15.097Z"
   },
   {
    "duration": 64,
    "start_time": "2022-02-12T13:58:15.838Z"
   },
   {
    "duration": 59,
    "start_time": "2022-02-12T13:58:26.897Z"
   },
   {
    "duration": 3,
    "start_time": "2022-02-12T13:59:08.365Z"
   },
   {
    "duration": 283,
    "start_time": "2022-02-12T13:59:08.370Z"
   },
   {
    "duration": 6,
    "start_time": "2022-02-12T13:59:08.655Z"
   },
   {
    "duration": 16,
    "start_time": "2022-02-12T13:59:08.662Z"
   },
   {
    "duration": 9,
    "start_time": "2022-02-12T13:59:08.679Z"
   },
   {
    "duration": 11,
    "start_time": "2022-02-12T13:59:08.690Z"
   },
   {
    "duration": 5,
    "start_time": "2022-02-12T13:59:08.702Z"
   },
   {
    "duration": 7,
    "start_time": "2022-02-12T13:59:08.709Z"
   },
   {
    "duration": 16,
    "start_time": "2022-02-12T13:59:08.718Z"
   },
   {
    "duration": 6,
    "start_time": "2022-02-12T13:59:08.736Z"
   },
   {
    "duration": 1,
    "start_time": "2022-02-12T13:59:08.744Z"
   },
   {
    "duration": 59,
    "start_time": "2022-02-12T13:59:08.747Z"
   },
   {
    "duration": 70,
    "start_time": "2022-02-12T13:59:08.808Z"
   },
   {
    "duration": 2,
    "start_time": "2022-02-12T13:59:08.880Z"
   },
   {
    "duration": 46,
    "start_time": "2022-02-12T13:59:08.884Z"
   },
   {
    "duration": 3,
    "start_time": "2022-02-12T13:59:08.932Z"
   },
   {
    "duration": 25,
    "start_time": "2022-02-12T13:59:08.937Z"
   },
   {
    "duration": 35,
    "start_time": "2022-02-12T13:59:08.964Z"
   },
   {
    "duration": 60,
    "start_time": "2022-02-12T13:59:09.000Z"
   },
   {
    "duration": 12,
    "start_time": "2022-02-12T13:59:09.062Z"
   },
   {
    "duration": 8,
    "start_time": "2022-02-12T13:59:09.075Z"
   },
   {
    "duration": 8,
    "start_time": "2022-02-12T13:59:09.085Z"
   },
   {
    "duration": 12,
    "start_time": "2022-02-12T13:59:09.095Z"
   },
   {
    "duration": 15,
    "start_time": "2022-02-12T13:59:09.128Z"
   },
   {
    "duration": 16,
    "start_time": "2022-02-12T13:59:09.145Z"
   },
   {
    "duration": 13,
    "start_time": "2022-02-12T13:59:09.163Z"
   },
   {
    "duration": 18,
    "start_time": "2022-02-12T13:59:09.178Z"
   },
   {
    "duration": 7,
    "start_time": "2022-02-12T13:59:09.227Z"
   },
   {
    "duration": 6,
    "start_time": "2022-02-12T13:59:09.235Z"
   },
   {
    "duration": 21,
    "start_time": "2022-02-12T13:59:09.242Z"
   },
   {
    "duration": 6,
    "start_time": "2022-02-12T13:59:09.264Z"
   },
   {
    "duration": 8,
    "start_time": "2022-02-12T13:59:09.271Z"
   },
   {
    "duration": 12,
    "start_time": "2022-02-12T13:59:09.281Z"
   },
   {
    "duration": 11,
    "start_time": "2022-02-12T13:59:09.295Z"
   },
   {
    "duration": 21,
    "start_time": "2022-02-12T13:59:09.308Z"
   },
   {
    "duration": 12,
    "start_time": "2022-02-12T13:59:09.330Z"
   },
   {
    "duration": 87,
    "start_time": "2022-02-12T13:59:09.343Z"
   },
   {
    "duration": 19,
    "start_time": "2022-02-12T13:59:09.432Z"
   },
   {
    "duration": 99,
    "start_time": "2022-02-12T13:59:15.943Z"
   },
   {
    "duration": 12,
    "start_time": "2022-02-12T14:02:16.666Z"
   },
   {
    "duration": 3,
    "start_time": "2022-02-12T14:04:48.287Z"
   },
   {
    "duration": 5,
    "start_time": "2022-02-12T14:04:54.368Z"
   },
   {
    "duration": 397,
    "start_time": "2022-02-12T14:05:15.706Z"
   },
   {
    "duration": 322,
    "start_time": "2022-02-12T14:05:23.943Z"
   },
   {
    "duration": 4,
    "start_time": "2022-02-12T14:05:40.524Z"
   },
   {
    "duration": 315,
    "start_time": "2022-02-12T14:06:31.624Z"
   },
   {
    "duration": 411,
    "start_time": "2022-02-12T14:07:23.437Z"
   },
   {
    "duration": 98,
    "start_time": "2022-02-12T14:07:44.889Z"
   },
   {
    "duration": 75,
    "start_time": "2022-02-12T14:07:59.672Z"
   },
   {
    "duration": 76,
    "start_time": "2022-02-12T14:08:05.110Z"
   },
   {
    "duration": 91,
    "start_time": "2022-02-12T14:08:25.877Z"
   },
   {
    "duration": 70,
    "start_time": "2022-02-12T14:08:30.524Z"
   },
   {
    "duration": 72,
    "start_time": "2022-02-12T14:08:56.738Z"
   },
   {
    "duration": 8,
    "start_time": "2022-02-12T14:09:02.516Z"
   },
   {
    "duration": 10,
    "start_time": "2022-02-12T14:09:21.376Z"
   },
   {
    "duration": 22,
    "start_time": "2022-02-12T14:09:24.628Z"
   },
   {
    "duration": 98,
    "start_time": "2022-02-12T14:10:47.972Z"
   },
   {
    "duration": 23,
    "start_time": "2022-02-12T14:10:50.732Z"
   },
   {
    "duration": 112,
    "start_time": "2022-02-12T14:11:30.650Z"
   },
   {
    "duration": 33,
    "start_time": "2022-02-12T14:13:07.432Z"
   },
   {
    "duration": 12,
    "start_time": "2022-02-12T14:14:39.000Z"
   },
   {
    "duration": 22,
    "start_time": "2022-02-12T14:15:02.160Z"
   },
   {
    "duration": 14,
    "start_time": "2022-02-12T14:15:10.322Z"
   },
   {
    "duration": 26,
    "start_time": "2022-02-12T14:15:11.955Z"
   },
   {
    "duration": 4,
    "start_time": "2022-02-12T14:15:18.729Z"
   },
   {
    "duration": 23,
    "start_time": "2022-02-12T14:15:20.924Z"
   },
   {
    "duration": 9,
    "start_time": "2022-02-12T14:15:29.245Z"
   },
   {
    "duration": 202,
    "start_time": "2022-02-12T14:15:46.852Z"
   },
   {
    "duration": 526,
    "start_time": "2022-02-12T14:15:47.346Z"
   },
   {
    "duration": -138,
    "start_time": "2022-02-12T14:15:48.012Z"
   },
   {
    "duration": -138,
    "start_time": "2022-02-12T14:15:48.013Z"
   },
   {
    "duration": -139,
    "start_time": "2022-02-12T14:15:48.015Z"
   },
   {
    "duration": -141,
    "start_time": "2022-02-12T14:15:48.017Z"
   },
   {
    "duration": -141,
    "start_time": "2022-02-12T14:15:48.018Z"
   },
   {
    "duration": -142,
    "start_time": "2022-02-12T14:15:48.020Z"
   },
   {
    "duration": 5,
    "start_time": "2022-02-12T14:15:48.012Z"
   },
   {
    "duration": 113,
    "start_time": "2022-02-12T14:15:48.820Z"
   },
   {
    "duration": 4,
    "start_time": "2022-02-12T14:15:49.321Z"
   },
   {
    "duration": 13,
    "start_time": "2022-02-12T14:15:49.401Z"
   },
   {
    "duration": 2,
    "start_time": "2022-02-12T14:15:49.485Z"
   },
   {
    "duration": 3,
    "start_time": "2022-02-12T14:15:49.567Z"
   },
   {
    "duration": 3,
    "start_time": "2022-02-12T14:15:49.647Z"
   },
   {
    "duration": 8,
    "start_time": "2022-02-12T14:15:49.730Z"
   },
   {
    "duration": 3,
    "start_time": "2022-02-12T14:15:49.815Z"
   },
   {
    "duration": 3,
    "start_time": "2022-02-12T14:15:49.898Z"
   },
   {
    "duration": 3,
    "start_time": "2022-02-12T14:15:49.983Z"
   },
   {
    "duration": 4,
    "start_time": "2022-02-12T14:15:50.064Z"
   },
   {
    "duration": 5,
    "start_time": "2022-02-12T14:15:50.230Z"
   },
   {
    "duration": 3,
    "start_time": "2022-02-12T14:15:50.314Z"
   },
   {
    "duration": 4,
    "start_time": "2022-02-12T14:15:57.003Z"
   },
   {
    "duration": 4,
    "start_time": "2022-02-12T14:15:57.497Z"
   },
   {
    "duration": 4,
    "start_time": "2022-02-12T14:15:57.579Z"
   },
   {
    "duration": 490,
    "start_time": "2022-02-12T14:15:57.663Z"
   },
   {
    "duration": 716,
    "start_time": "2022-02-12T14:15:58.154Z"
   },
   {
    "duration": 5,
    "start_time": "2022-02-12T14:15:58.872Z"
   },
   {
    "duration": 6,
    "start_time": "2022-02-12T14:15:58.878Z"
   },
   {
    "duration": 9,
    "start_time": "2022-02-12T14:15:58.885Z"
   },
   {
    "duration": 5,
    "start_time": "2022-02-12T14:15:58.895Z"
   },
   {
    "duration": 5,
    "start_time": "2022-02-12T14:15:58.926Z"
   },
   {
    "duration": 6,
    "start_time": "2022-02-12T14:16:23.266Z"
   },
   {
    "duration": 4,
    "start_time": "2022-02-12T14:16:28.944Z"
   },
   {
    "duration": 5,
    "start_time": "2022-02-12T14:16:45.830Z"
   },
   {
    "duration": 5,
    "start_time": "2022-02-12T14:16:46.524Z"
   },
   {
    "duration": 1065,
    "start_time": "2022-02-12T14:17:16.494Z"
   },
   {
    "duration": 275,
    "start_time": "2022-02-12T14:17:17.561Z"
   },
   {
    "duration": 6,
    "start_time": "2022-02-12T14:17:17.839Z"
   },
   {
    "duration": 21,
    "start_time": "2022-02-12T14:17:17.846Z"
   },
   {
    "duration": 11,
    "start_time": "2022-02-12T14:17:17.869Z"
   },
   {
    "duration": 12,
    "start_time": "2022-02-12T14:17:17.882Z"
   },
   {
    "duration": 5,
    "start_time": "2022-02-12T14:17:17.895Z"
   },
   {
    "duration": 26,
    "start_time": "2022-02-12T14:17:17.902Z"
   },
   {
    "duration": 12,
    "start_time": "2022-02-12T14:17:17.930Z"
   },
   {
    "duration": 6,
    "start_time": "2022-02-12T14:17:17.944Z"
   },
   {
    "duration": 9,
    "start_time": "2022-02-12T14:17:17.951Z"
   },
   {
    "duration": 77,
    "start_time": "2022-02-12T14:17:17.995Z"
   },
   {
    "duration": 64,
    "start_time": "2022-02-12T14:17:18.077Z"
   },
   {
    "duration": 3,
    "start_time": "2022-02-12T14:17:18.158Z"
   },
   {
    "duration": 30,
    "start_time": "2022-02-12T14:17:18.233Z"
   },
   {
    "duration": 4,
    "start_time": "2022-02-12T14:17:18.404Z"
   },
   {
    "duration": 35,
    "start_time": "2022-02-12T14:17:18.568Z"
   },
   {
    "duration": 38,
    "start_time": "2022-02-12T14:17:18.737Z"
   },
   {
    "duration": 42,
    "start_time": "2022-02-12T14:17:18.817Z"
   },
   {
    "duration": 13,
    "start_time": "2022-02-12T14:17:18.989Z"
   },
   {
    "duration": 9,
    "start_time": "2022-02-12T14:17:19.084Z"
   },
   {
    "duration": 8,
    "start_time": "2022-02-12T14:17:19.154Z"
   },
   {
    "duration": 13,
    "start_time": "2022-02-12T14:17:19.245Z"
   },
   {
    "duration": 15,
    "start_time": "2022-02-12T14:17:19.413Z"
   },
   {
    "duration": 16,
    "start_time": "2022-02-12T14:17:19.485Z"
   },
   {
    "duration": 12,
    "start_time": "2022-02-12T14:17:19.568Z"
   },
   {
    "duration": 17,
    "start_time": "2022-02-12T14:17:19.660Z"
   },
   {
    "duration": 8,
    "start_time": "2022-02-12T14:17:19.733Z"
   },
   {
    "duration": 5,
    "start_time": "2022-02-12T14:17:19.822Z"
   },
   {
    "duration": 18,
    "start_time": "2022-02-12T14:17:19.900Z"
   },
   {
    "duration": 4,
    "start_time": "2022-02-12T14:17:19.985Z"
   },
   {
    "duration": 4,
    "start_time": "2022-02-12T14:17:20.079Z"
   },
   {
    "duration": 6,
    "start_time": "2022-02-12T14:17:20.151Z"
   },
   {
    "duration": 7,
    "start_time": "2022-02-12T14:17:20.318Z"
   },
   {
    "duration": 10,
    "start_time": "2022-02-12T14:17:20.403Z"
   },
   {
    "duration": 12,
    "start_time": "2022-02-12T14:17:20.484Z"
   },
   {
    "duration": 4,
    "start_time": "2022-02-12T14:17:20.567Z"
   },
   {
    "duration": 70,
    "start_time": "2022-02-12T14:17:20.651Z"
   },
   {
    "duration": 24,
    "start_time": "2022-02-12T14:17:20.820Z"
   },
   {
    "duration": 112,
    "start_time": "2022-02-12T14:17:20.903Z"
   },
   {
    "duration": 42,
    "start_time": "2022-02-12T14:17:21.017Z"
   },
   {
    "duration": 21,
    "start_time": "2022-02-12T14:17:21.067Z"
   },
   {
    "duration": 13,
    "start_time": "2022-02-12T14:17:21.157Z"
   },
   {
    "duration": 23,
    "start_time": "2022-02-12T14:17:21.236Z"
   },
   {
    "duration": 4,
    "start_time": "2022-02-12T14:17:21.333Z"
   },
   {
    "duration": 7,
    "start_time": "2022-02-12T14:17:21.405Z"
   },
   {
    "duration": 19,
    "start_time": "2022-02-12T14:17:21.494Z"
   },
   {
    "duration": 5,
    "start_time": "2022-02-12T14:17:21.653Z"
   },
   {
    "duration": 86,
    "start_time": "2022-02-12T14:17:21.736Z"
   },
   {
    "duration": 3,
    "start_time": "2022-02-12T14:17:21.824Z"
   },
   {
    "duration": 13,
    "start_time": "2022-02-12T14:17:21.901Z"
   },
   {
    "duration": 3,
    "start_time": "2022-02-12T14:17:21.984Z"
   },
   {
    "duration": 3,
    "start_time": "2022-02-12T14:17:22.067Z"
   },
   {
    "duration": 3,
    "start_time": "2022-02-12T14:17:22.151Z"
   },
   {
    "duration": 7,
    "start_time": "2022-02-12T14:17:22.234Z"
   },
   {
    "duration": 3,
    "start_time": "2022-02-12T14:17:22.319Z"
   },
   {
    "duration": 3,
    "start_time": "2022-02-12T14:17:22.402Z"
   },
   {
    "duration": 3,
    "start_time": "2022-02-12T14:17:22.487Z"
   },
   {
    "duration": 4,
    "start_time": "2022-02-12T14:17:22.568Z"
   },
   {
    "duration": 4,
    "start_time": "2022-02-12T14:17:22.734Z"
   },
   {
    "duration": 3,
    "start_time": "2022-02-12T14:17:22.818Z"
   },
   {
    "duration": 4,
    "start_time": "2022-02-12T14:17:22.985Z"
   },
   {
    "duration": 5,
    "start_time": "2022-02-12T14:17:23.068Z"
   },
   {
    "duration": 4,
    "start_time": "2022-02-12T14:17:23.151Z"
   },
   {
    "duration": 497,
    "start_time": "2022-02-12T14:17:23.246Z"
   },
   {
    "duration": 525,
    "start_time": "2022-02-12T14:17:23.744Z"
   },
   {
    "duration": 5,
    "start_time": "2022-02-12T14:17:24.271Z"
   },
   {
    "duration": 6,
    "start_time": "2022-02-12T14:17:24.278Z"
   },
   {
    "duration": 8,
    "start_time": "2022-02-12T14:17:24.285Z"
   },
   {
    "duration": 33,
    "start_time": "2022-02-12T14:17:24.295Z"
   },
   {
    "duration": 5,
    "start_time": "2022-02-12T14:17:24.329Z"
   },
   {
    "duration": 418,
    "start_time": "2022-02-12T14:18:11.777Z"
   },
   {
    "duration": 8006,
    "start_time": "2022-02-12T14:18:12.569Z"
   },
   {
    "duration": -223,
    "start_time": "2022-02-12T14:18:20.800Z"
   },
   {
    "duration": 3,
    "start_time": "2022-02-12T14:18:33.109Z"
   },
   {
    "duration": 62,
    "start_time": "2022-02-12T14:18:33.957Z"
   },
   {
    "duration": 9,
    "start_time": "2022-02-12T14:18:37.704Z"
   },
   {
    "duration": 5,
    "start_time": "2022-02-12T14:18:38.298Z"
   },
   {
    "duration": 110,
    "start_time": "2022-02-12T14:18:38.490Z"
   },
   {
    "duration": 372,
    "start_time": "2022-02-12T16:02:19.676Z"
   },
   {
    "duration": 1100,
    "start_time": "2022-02-12T16:12:46.113Z"
   },
   {
    "duration": 275,
    "start_time": "2022-02-12T16:12:48.056Z"
   },
   {
    "duration": 6,
    "start_time": "2022-02-12T16:12:49.151Z"
   },
   {
    "duration": 14,
    "start_time": "2022-02-12T16:12:49.518Z"
   },
   {
    "duration": 13,
    "start_time": "2022-02-12T16:12:49.791Z"
   },
   {
    "duration": 12,
    "start_time": "2022-02-12T16:12:50.017Z"
   },
   {
    "duration": 6,
    "start_time": "2022-02-12T16:12:50.239Z"
   },
   {
    "duration": 10,
    "start_time": "2022-02-12T16:12:50.445Z"
   },
   {
    "duration": 13,
    "start_time": "2022-02-12T16:12:50.636Z"
   },
   {
    "duration": 8,
    "start_time": "2022-02-12T16:12:50.854Z"
   },
   {
    "duration": 2,
    "start_time": "2022-02-12T16:12:51.134Z"
   },
   {
    "duration": 72,
    "start_time": "2022-02-12T16:12:51.623Z"
   },
   {
    "duration": 63,
    "start_time": "2022-02-12T16:12:51.861Z"
   },
   {
    "duration": 3,
    "start_time": "2022-02-12T16:12:52.069Z"
   },
   {
    "duration": 32,
    "start_time": "2022-02-12T16:12:52.280Z"
   },
   {
    "duration": 4,
    "start_time": "2022-02-12T16:12:52.723Z"
   },
   {
    "duration": 33,
    "start_time": "2022-02-12T16:12:53.877Z"
   },
   {
    "duration": 40,
    "start_time": "2022-02-12T16:12:56.671Z"
   },
   {
    "duration": 41,
    "start_time": "2022-02-12T16:12:56.946Z"
   },
   {
    "duration": 12,
    "start_time": "2022-02-12T16:12:57.407Z"
   },
   {
    "duration": 9,
    "start_time": "2022-02-12T16:12:57.800Z"
   },
   {
    "duration": 8,
    "start_time": "2022-02-12T16:12:58.178Z"
   },
   {
    "duration": 14,
    "start_time": "2022-02-12T16:13:00.150Z"
   },
   {
    "duration": 16,
    "start_time": "2022-02-12T16:13:02.917Z"
   },
   {
    "duration": 17,
    "start_time": "2022-02-12T16:13:03.562Z"
   },
   {
    "duration": 14,
    "start_time": "2022-02-12T16:13:04.192Z"
   },
   {
    "duration": 20,
    "start_time": "2022-02-12T16:13:04.772Z"
   },
   {
    "duration": 7,
    "start_time": "2022-02-12T16:13:05.333Z"
   },
   {
    "duration": 4,
    "start_time": "2022-02-12T16:13:05.991Z"
   },
   {
    "duration": 17,
    "start_time": "2022-02-12T16:13:06.670Z"
   },
   {
    "duration": 4,
    "start_time": "2022-02-12T16:13:07.450Z"
   },
   {
    "duration": 4,
    "start_time": "2022-02-12T16:13:16.363Z"
   },
   {
    "duration": 6,
    "start_time": "2022-02-12T16:13:17.005Z"
   },
   {
    "duration": 8,
    "start_time": "2022-02-12T16:13:19.193Z"
   },
   {
    "duration": 10,
    "start_time": "2022-02-12T16:13:20.138Z"
   },
   {
    "duration": 13,
    "start_time": "2022-02-12T16:13:22.341Z"
   },
   {
    "duration": 4,
    "start_time": "2022-02-12T16:13:22.972Z"
   },
   {
    "duration": 81,
    "start_time": "2022-02-12T16:13:23.684Z"
   },
   {
    "duration": 24,
    "start_time": "2022-02-12T16:13:27.271Z"
   },
   {
    "duration": 106,
    "start_time": "2022-02-12T16:13:32.483Z"
   },
   {
    "duration": 34,
    "start_time": "2022-02-12T16:13:36.386Z"
   },
   {
    "duration": 21,
    "start_time": "2022-02-12T16:13:37.962Z"
   },
   {
    "duration": 13,
    "start_time": "2022-02-12T16:13:40.962Z"
   },
   {
    "duration": 24,
    "start_time": "2022-02-12T16:13:45.281Z"
   },
   {
    "duration": 8134,
    "start_time": "2022-02-12T16:16:48.696Z"
   },
   {
    "duration": 3,
    "start_time": "2022-02-12T16:17:18.281Z"
   },
   {
    "duration": 284,
    "start_time": "2022-02-12T16:17:18.286Z"
   },
   {
    "duration": 5,
    "start_time": "2022-02-12T16:17:18.572Z"
   },
   {
    "duration": 18,
    "start_time": "2022-02-12T16:17:18.579Z"
   },
   {
    "duration": 10,
    "start_time": "2022-02-12T16:17:18.599Z"
   },
   {
    "duration": 12,
    "start_time": "2022-02-12T16:17:18.610Z"
   },
   {
    "duration": 5,
    "start_time": "2022-02-12T16:17:18.624Z"
   },
   {
    "duration": 8,
    "start_time": "2022-02-12T16:17:18.631Z"
   },
   {
    "duration": 14,
    "start_time": "2022-02-12T16:17:18.641Z"
   },
   {
    "duration": 6,
    "start_time": "2022-02-12T16:17:18.657Z"
   },
   {
    "duration": 2,
    "start_time": "2022-02-12T16:17:18.664Z"
   },
   {
    "duration": 74,
    "start_time": "2022-02-12T16:17:18.667Z"
   },
   {
    "duration": 56,
    "start_time": "2022-02-12T16:17:18.743Z"
   },
   {
    "duration": 4,
    "start_time": "2022-02-12T16:17:18.800Z"
   },
   {
    "duration": 47,
    "start_time": "2022-02-12T16:17:18.805Z"
   },
   {
    "duration": 3,
    "start_time": "2022-02-12T16:17:18.854Z"
   },
   {
    "duration": 31,
    "start_time": "2022-02-12T16:17:18.859Z"
   },
   {
    "duration": 44,
    "start_time": "2022-02-12T16:17:18.891Z"
   },
   {
    "duration": 39,
    "start_time": "2022-02-12T16:17:18.936Z"
   },
   {
    "duration": 11,
    "start_time": "2022-02-12T16:17:18.977Z"
   },
   {
    "duration": 7,
    "start_time": "2022-02-12T16:17:18.989Z"
   },
   {
    "duration": 31,
    "start_time": "2022-02-12T16:17:18.998Z"
   },
   {
    "duration": 11,
    "start_time": "2022-02-12T16:17:19.030Z"
   },
   {
    "duration": 18,
    "start_time": "2022-02-12T16:17:19.043Z"
   },
   {
    "duration": 20,
    "start_time": "2022-02-12T16:17:19.063Z"
   },
   {
    "duration": 43,
    "start_time": "2022-02-12T16:17:19.085Z"
   },
   {
    "duration": 24,
    "start_time": "2022-02-12T16:17:19.132Z"
   },
   {
    "duration": 8,
    "start_time": "2022-02-12T16:17:19.158Z"
   },
   {
    "duration": 5,
    "start_time": "2022-02-12T16:17:19.168Z"
   },
   {
    "duration": 26,
    "start_time": "2022-02-12T16:17:19.175Z"
   },
   {
    "duration": 26,
    "start_time": "2022-02-12T16:17:19.202Z"
   },
   {
    "duration": 4,
    "start_time": "2022-02-12T16:17:19.230Z"
   },
   {
    "duration": 7,
    "start_time": "2022-02-12T16:17:19.236Z"
   },
   {
    "duration": 8,
    "start_time": "2022-02-12T16:17:19.245Z"
   },
   {
    "duration": 12,
    "start_time": "2022-02-12T16:17:19.254Z"
   },
   {
    "duration": 16,
    "start_time": "2022-02-12T16:17:19.267Z"
   },
   {
    "duration": 4,
    "start_time": "2022-02-12T16:17:19.284Z"
   },
   {
    "duration": 105,
    "start_time": "2022-02-12T16:17:19.289Z"
   },
   {
    "duration": 37,
    "start_time": "2022-02-12T16:17:19.396Z"
   },
   {
    "duration": 110,
    "start_time": "2022-02-12T16:17:19.434Z"
   },
   {
    "duration": 36,
    "start_time": "2022-02-12T16:17:19.545Z"
   },
   {
    "duration": 20,
    "start_time": "2022-02-12T16:17:19.582Z"
   },
   {
    "duration": 29,
    "start_time": "2022-02-12T16:17:19.603Z"
   },
   {
    "duration": 22,
    "start_time": "2022-02-12T16:17:19.633Z"
   },
   {
    "duration": 316,
    "start_time": "2022-02-12T16:18:25.610Z"
   },
   {
    "duration": 1036,
    "start_time": "2022-02-12T16:18:52.141Z"
   },
   {
    "duration": 269,
    "start_time": "2022-02-12T16:18:53.179Z"
   },
   {
    "duration": 6,
    "start_time": "2022-02-12T16:18:53.450Z"
   },
   {
    "duration": 16,
    "start_time": "2022-02-12T16:18:53.458Z"
   },
   {
    "duration": 12,
    "start_time": "2022-02-12T16:18:53.475Z"
   },
   {
    "duration": 11,
    "start_time": "2022-02-12T16:18:53.488Z"
   },
   {
    "duration": 5,
    "start_time": "2022-02-12T16:18:53.500Z"
   },
   {
    "duration": 10,
    "start_time": "2022-02-12T16:18:53.507Z"
   },
   {
    "duration": 18,
    "start_time": "2022-02-12T16:18:53.519Z"
   },
   {
    "duration": 6,
    "start_time": "2022-02-12T16:18:53.539Z"
   },
   {
    "duration": 5,
    "start_time": "2022-02-12T16:18:53.546Z"
   },
   {
    "duration": 80,
    "start_time": "2022-02-12T16:18:53.552Z"
   },
   {
    "duration": 60,
    "start_time": "2022-02-12T16:18:53.634Z"
   },
   {
    "duration": 3,
    "start_time": "2022-02-12T16:18:53.695Z"
   },
   {
    "duration": 47,
    "start_time": "2022-02-12T16:18:53.699Z"
   },
   {
    "duration": 3,
    "start_time": "2022-02-12T16:18:53.748Z"
   },
   {
    "duration": 32,
    "start_time": "2022-02-12T16:18:53.753Z"
   },
   {
    "duration": 53,
    "start_time": "2022-02-12T16:18:53.786Z"
   },
   {
    "duration": 40,
    "start_time": "2022-02-12T16:18:53.841Z"
   },
   {
    "duration": 11,
    "start_time": "2022-02-12T16:18:53.883Z"
   },
   {
    "duration": 31,
    "start_time": "2022-02-12T16:18:53.896Z"
   },
   {
    "duration": 6,
    "start_time": "2022-02-12T16:18:53.928Z"
   },
   {
    "duration": 12,
    "start_time": "2022-02-12T16:18:53.936Z"
   },
   {
    "duration": 15,
    "start_time": "2022-02-12T16:18:53.949Z"
   },
   {
    "duration": 16,
    "start_time": "2022-02-12T16:18:53.965Z"
   },
   {
    "duration": 44,
    "start_time": "2022-02-12T16:18:53.983Z"
   },
   {
    "duration": 19,
    "start_time": "2022-02-12T16:18:54.030Z"
   },
   {
    "duration": 6,
    "start_time": "2022-02-12T16:18:54.052Z"
   },
   {
    "duration": 6,
    "start_time": "2022-02-12T16:18:54.059Z"
   },
   {
    "duration": 18,
    "start_time": "2022-02-12T16:18:54.067Z"
   },
   {
    "duration": 4,
    "start_time": "2022-02-12T16:18:54.087Z"
   },
   {
    "duration": 6,
    "start_time": "2022-02-12T16:18:54.093Z"
   },
   {
    "duration": 29,
    "start_time": "2022-02-12T16:18:54.100Z"
   },
   {
    "duration": 6,
    "start_time": "2022-02-12T16:18:54.131Z"
   },
   {
    "duration": 11,
    "start_time": "2022-02-12T16:18:54.139Z"
   },
   {
    "duration": 12,
    "start_time": "2022-02-12T16:18:54.151Z"
   },
   {
    "duration": 5,
    "start_time": "2022-02-12T16:18:54.165Z"
   },
   {
    "duration": 97,
    "start_time": "2022-02-12T16:18:54.172Z"
   },
   {
    "duration": 25,
    "start_time": "2022-02-12T16:18:54.270Z"
   },
   {
    "duration": 116,
    "start_time": "2022-02-12T16:18:54.296Z"
   },
   {
    "duration": 46,
    "start_time": "2022-02-12T16:18:54.414Z"
   },
   {
    "duration": 14,
    "start_time": "2022-02-12T16:19:09.455Z"
   },
   {
    "duration": 4,
    "start_time": "2022-02-12T16:20:06.163Z"
   },
   {
    "duration": 8,
    "start_time": "2022-02-12T16:20:09.707Z"
   },
   {
    "duration": 25,
    "start_time": "2022-02-12T16:20:10.538Z"
   },
   {
    "duration": 5,
    "start_time": "2022-02-12T16:22:26.210Z"
   },
   {
    "duration": 4,
    "start_time": "2022-02-12T16:24:04.148Z"
   },
   {
    "duration": 3,
    "start_time": "2022-02-12T16:26:26.116Z"
   },
   {
    "duration": 3,
    "start_time": "2022-02-12T16:26:26.618Z"
   },
   {
    "duration": 3,
    "start_time": "2022-02-12T16:26:27.164Z"
   },
   {
    "duration": 8,
    "start_time": "2022-02-12T16:26:29.437Z"
   },
   {
    "duration": 12,
    "start_time": "2022-02-12T16:27:12.298Z"
   },
   {
    "duration": 3,
    "start_time": "2022-02-12T16:27:18.877Z"
   },
   {
    "duration": 7,
    "start_time": "2022-02-12T16:27:22.301Z"
   },
   {
    "duration": 8,
    "start_time": "2022-02-12T16:27:23.856Z"
   },
   {
    "duration": 7,
    "start_time": "2022-02-12T16:27:25.260Z"
   },
   {
    "duration": 3,
    "start_time": "2022-02-12T16:27:26.317Z"
   },
   {
    "duration": 8,
    "start_time": "2022-02-12T16:27:27.458Z"
   },
   {
    "duration": 4,
    "start_time": "2022-02-12T16:27:28.700Z"
   },
   {
    "duration": 3,
    "start_time": "2022-02-12T16:28:21.470Z"
   },
   {
    "duration": 285,
    "start_time": "2022-02-12T16:28:21.475Z"
   },
   {
    "duration": 5,
    "start_time": "2022-02-12T16:28:21.763Z"
   },
   {
    "duration": 15,
    "start_time": "2022-02-12T16:28:21.770Z"
   },
   {
    "duration": 10,
    "start_time": "2022-02-12T16:28:21.786Z"
   },
   {
    "duration": 11,
    "start_time": "2022-02-12T16:28:21.797Z"
   },
   {
    "duration": 5,
    "start_time": "2022-02-12T16:28:21.809Z"
   },
   {
    "duration": 12,
    "start_time": "2022-02-12T16:28:21.815Z"
   },
   {
    "duration": 23,
    "start_time": "2022-02-12T16:28:21.829Z"
   },
   {
    "duration": 5,
    "start_time": "2022-02-12T16:28:21.854Z"
   },
   {
    "duration": 7,
    "start_time": "2022-02-12T16:28:21.861Z"
   },
   {
    "duration": 67,
    "start_time": "2022-02-12T16:28:21.869Z"
   },
   {
    "duration": 60,
    "start_time": "2022-02-12T16:28:21.937Z"
   },
   {
    "duration": 3,
    "start_time": "2022-02-12T16:28:21.999Z"
   },
   {
    "duration": 42,
    "start_time": "2022-02-12T16:28:22.003Z"
   },
   {
    "duration": 3,
    "start_time": "2022-02-12T16:28:22.046Z"
   },
   {
    "duration": 25,
    "start_time": "2022-02-12T16:28:22.050Z"
   },
   {
    "duration": 35,
    "start_time": "2022-02-12T16:28:22.077Z"
   },
   {
    "duration": 42,
    "start_time": "2022-02-12T16:28:22.126Z"
   },
   {
    "duration": 12,
    "start_time": "2022-02-12T16:28:22.169Z"
   },
   {
    "duration": 9,
    "start_time": "2022-02-12T16:28:22.183Z"
   },
   {
    "duration": 7,
    "start_time": "2022-02-12T16:28:22.193Z"
   },
   {
    "duration": 35,
    "start_time": "2022-02-12T16:28:22.201Z"
   },
   {
    "duration": 15,
    "start_time": "2022-02-12T16:28:22.238Z"
   },
   {
    "duration": 16,
    "start_time": "2022-02-12T16:28:22.254Z"
   },
   {
    "duration": 18,
    "start_time": "2022-02-12T16:28:22.271Z"
   },
   {
    "duration": 35,
    "start_time": "2022-02-12T16:28:22.292Z"
   },
   {
    "duration": 6,
    "start_time": "2022-02-12T16:28:22.328Z"
   },
   {
    "duration": 8,
    "start_time": "2022-02-12T16:28:22.336Z"
   },
   {
    "duration": 20,
    "start_time": "2022-02-12T16:28:22.345Z"
   },
   {
    "duration": 17,
    "start_time": "2022-02-12T16:28:22.366Z"
   },
   {
    "duration": 10,
    "start_time": "2022-02-12T16:28:22.384Z"
   },
   {
    "duration": 13,
    "start_time": "2022-02-12T16:28:22.395Z"
   },
   {
    "duration": 13,
    "start_time": "2022-02-12T16:28:22.409Z"
   },
   {
    "duration": 11,
    "start_time": "2022-02-12T16:28:22.423Z"
   },
   {
    "duration": 11,
    "start_time": "2022-02-12T16:28:22.435Z"
   },
   {
    "duration": 5,
    "start_time": "2022-02-12T16:28:22.448Z"
   },
   {
    "duration": 82,
    "start_time": "2022-02-12T16:28:22.454Z"
   },
   {
    "duration": 19,
    "start_time": "2022-02-12T16:28:22.538Z"
   },
   {
    "duration": 123,
    "start_time": "2022-02-12T16:28:22.558Z"
   },
   {
    "duration": 33,
    "start_time": "2022-02-12T16:28:22.683Z"
   },
   {
    "duration": 28,
    "start_time": "2022-02-12T16:28:22.717Z"
   },
   {
    "duration": 12,
    "start_time": "2022-02-12T16:28:22.746Z"
   },
   {
    "duration": 24,
    "start_time": "2022-02-12T16:28:22.759Z"
   },
   {
    "duration": 3,
    "start_time": "2022-02-12T16:28:22.784Z"
   },
   {
    "duration": 7,
    "start_time": "2022-02-12T16:28:53.249Z"
   },
   {
    "duration": 4,
    "start_time": "2022-02-12T16:28:55.407Z"
   },
   {
    "duration": 4,
    "start_time": "2022-02-12T16:29:08.357Z"
   },
   {
    "duration": 7,
    "start_time": "2022-02-12T16:29:35.089Z"
   },
   {
    "duration": 1050,
    "start_time": "2022-02-12T16:36:40.932Z"
   },
   {
    "duration": 259,
    "start_time": "2022-02-12T16:36:41.983Z"
   },
   {
    "duration": 6,
    "start_time": "2022-02-12T16:36:42.244Z"
   },
   {
    "duration": 16,
    "start_time": "2022-02-12T16:36:42.252Z"
   },
   {
    "duration": 9,
    "start_time": "2022-02-12T16:36:42.269Z"
   },
   {
    "duration": 12,
    "start_time": "2022-02-12T16:36:42.279Z"
   },
   {
    "duration": 5,
    "start_time": "2022-02-12T16:36:42.293Z"
   },
   {
    "duration": 14,
    "start_time": "2022-02-12T16:36:42.299Z"
   },
   {
    "duration": 22,
    "start_time": "2022-02-12T16:36:42.315Z"
   },
   {
    "duration": 6,
    "start_time": "2022-02-12T16:36:42.339Z"
   },
   {
    "duration": 2,
    "start_time": "2022-02-12T16:36:42.346Z"
   },
   {
    "duration": 85,
    "start_time": "2022-02-12T16:36:42.350Z"
   },
   {
    "duration": 58,
    "start_time": "2022-02-12T16:36:42.436Z"
   },
   {
    "duration": 3,
    "start_time": "2022-02-12T16:36:42.495Z"
   },
   {
    "duration": 45,
    "start_time": "2022-02-12T16:36:42.499Z"
   },
   {
    "duration": 3,
    "start_time": "2022-02-12T16:36:42.546Z"
   },
   {
    "duration": 30,
    "start_time": "2022-02-12T16:36:42.550Z"
   },
   {
    "duration": 52,
    "start_time": "2022-02-12T16:36:42.582Z"
   },
   {
    "duration": 40,
    "start_time": "2022-02-12T16:36:42.636Z"
   },
   {
    "duration": 11,
    "start_time": "2022-02-12T16:36:42.678Z"
   },
   {
    "duration": 7,
    "start_time": "2022-02-12T16:36:42.691Z"
   },
   {
    "duration": 29,
    "start_time": "2022-02-12T16:36:42.700Z"
   },
   {
    "duration": 14,
    "start_time": "2022-02-12T16:36:42.730Z"
   },
   {
    "duration": 17,
    "start_time": "2022-02-12T16:36:42.745Z"
   },
   {
    "duration": 14,
    "start_time": "2022-02-12T16:36:42.763Z"
   },
   {
    "duration": 13,
    "start_time": "2022-02-12T16:36:42.779Z"
   },
   {
    "duration": 33,
    "start_time": "2022-02-12T16:36:42.795Z"
   },
   {
    "duration": 6,
    "start_time": "2022-02-12T16:36:42.829Z"
   },
   {
    "duration": 4,
    "start_time": "2022-02-12T16:36:42.837Z"
   },
   {
    "duration": 17,
    "start_time": "2022-02-12T16:36:42.843Z"
   },
   {
    "duration": 5,
    "start_time": "2022-02-12T16:36:42.862Z"
   },
   {
    "duration": 5,
    "start_time": "2022-02-12T16:36:42.868Z"
   },
   {
    "duration": 6,
    "start_time": "2022-02-12T16:36:42.875Z"
   },
   {
    "duration": 6,
    "start_time": "2022-02-12T16:36:42.882Z"
   },
   {
    "duration": 8,
    "start_time": "2022-02-12T16:36:42.890Z"
   },
   {
    "duration": 38,
    "start_time": "2022-02-12T16:36:42.899Z"
   },
   {
    "duration": 5,
    "start_time": "2022-02-12T16:36:42.939Z"
   },
   {
    "duration": 66,
    "start_time": "2022-02-12T16:36:42.945Z"
   },
   {
    "duration": 36,
    "start_time": "2022-02-12T16:36:43.013Z"
   },
   {
    "duration": 118,
    "start_time": "2022-02-12T16:36:43.050Z"
   },
   {
    "duration": 33,
    "start_time": "2022-02-12T16:36:43.169Z"
   },
   {
    "duration": 33,
    "start_time": "2022-02-12T16:36:43.203Z"
   },
   {
    "duration": 11,
    "start_time": "2022-02-12T16:36:43.237Z"
   },
   {
    "duration": 26,
    "start_time": "2022-02-12T16:36:43.250Z"
   },
   {
    "duration": 3,
    "start_time": "2022-02-12T16:36:43.278Z"
   },
   {
    "duration": 10,
    "start_time": "2022-02-12T16:36:43.282Z"
   },
   {
    "duration": 8,
    "start_time": "2022-02-12T16:36:43.293Z"
   },
   {
    "duration": 4,
    "start_time": "2022-02-12T16:36:43.303Z"
   },
   {
    "duration": 20,
    "start_time": "2022-02-12T16:36:43.308Z"
   },
   {
    "duration": 6,
    "start_time": "2022-02-12T16:36:43.330Z"
   },
   {
    "duration": 5,
    "start_time": "2022-02-12T16:36:49.052Z"
   },
   {
    "duration": 86,
    "start_time": "2022-02-12T16:36:50.448Z"
   },
   {
    "duration": 4,
    "start_time": "2022-02-12T16:36:51.158Z"
   },
   {
    "duration": 15,
    "start_time": "2022-02-12T16:36:52.304Z"
   },
   {
    "duration": 3,
    "start_time": "2022-02-12T16:36:56.803Z"
   },
   {
    "duration": 3,
    "start_time": "2022-02-12T16:36:57.038Z"
   },
   {
    "duration": 3,
    "start_time": "2022-02-12T16:36:57.276Z"
   },
   {
    "duration": 8,
    "start_time": "2022-02-12T16:36:57.765Z"
   },
   {
    "duration": 5,
    "start_time": "2022-02-12T16:37:13.732Z"
   },
   {
    "duration": 4,
    "start_time": "2022-02-12T16:37:14.442Z"
   },
   {
    "duration": 4,
    "start_time": "2022-02-12T16:39:27.196Z"
   },
   {
    "duration": 5,
    "start_time": "2022-02-12T16:39:27.749Z"
   },
   {
    "duration": 5,
    "start_time": "2022-02-12T16:44:32.140Z"
   },
   {
    "duration": 503,
    "start_time": "2022-02-12T16:45:30.391Z"
   },
   {
    "duration": 494,
    "start_time": "2022-02-12T16:46:48.263Z"
   },
   {
    "duration": 1059,
    "start_time": "2022-02-12T17:13:09.197Z"
   },
   {
    "duration": 260,
    "start_time": "2022-02-12T17:13:10.258Z"
   },
   {
    "duration": 6,
    "start_time": "2022-02-12T17:13:10.520Z"
   },
   {
    "duration": 21,
    "start_time": "2022-02-12T17:13:10.528Z"
   },
   {
    "duration": 9,
    "start_time": "2022-02-12T17:13:10.550Z"
   },
   {
    "duration": 26,
    "start_time": "2022-02-12T17:13:10.561Z"
   },
   {
    "duration": 10,
    "start_time": "2022-02-12T17:13:10.589Z"
   },
   {
    "duration": 14,
    "start_time": "2022-02-12T17:13:10.601Z"
   },
   {
    "duration": 22,
    "start_time": "2022-02-12T17:13:10.616Z"
   },
   {
    "duration": 20,
    "start_time": "2022-02-12T17:13:10.640Z"
   },
   {
    "duration": 3,
    "start_time": "2022-02-12T17:13:10.661Z"
   },
   {
    "duration": 69,
    "start_time": "2022-02-12T17:13:10.701Z"
   },
   {
    "duration": 58,
    "start_time": "2022-02-12T17:13:10.782Z"
   },
   {
    "duration": 3,
    "start_time": "2022-02-12T17:13:10.865Z"
   },
   {
    "duration": 30,
    "start_time": "2022-02-12T17:13:10.958Z"
   },
   {
    "duration": 5,
    "start_time": "2022-02-12T17:13:11.114Z"
   },
   {
    "duration": 32,
    "start_time": "2022-02-12T17:13:11.281Z"
   },
   {
    "duration": 40,
    "start_time": "2022-02-12T17:13:11.449Z"
   },
   {
    "duration": 42,
    "start_time": "2022-02-12T17:13:11.531Z"
   },
   {
    "duration": 13,
    "start_time": "2022-02-12T17:13:11.699Z"
   },
   {
    "duration": 9,
    "start_time": "2022-02-12T17:13:11.780Z"
   },
   {
    "duration": 9,
    "start_time": "2022-02-12T17:13:11.864Z"
   },
   {
    "duration": 12,
    "start_time": "2022-02-12T17:13:11.950Z"
   },
   {
    "duration": 15,
    "start_time": "2022-02-12T17:13:12.117Z"
   },
   {
    "duration": 16,
    "start_time": "2022-02-12T17:13:12.199Z"
   },
   {
    "duration": 13,
    "start_time": "2022-02-12T17:13:12.283Z"
   },
   {
    "duration": 17,
    "start_time": "2022-02-12T17:13:12.363Z"
   },
   {
    "duration": 7,
    "start_time": "2022-02-12T17:13:12.449Z"
   },
   {
    "duration": 4,
    "start_time": "2022-02-12T17:13:12.540Z"
   },
   {
    "duration": 17,
    "start_time": "2022-02-12T17:13:12.616Z"
   },
   {
    "duration": 3,
    "start_time": "2022-02-12T17:13:12.698Z"
   },
   {
    "duration": 4,
    "start_time": "2022-02-12T17:13:12.793Z"
   },
   {
    "duration": 6,
    "start_time": "2022-02-12T17:13:12.869Z"
   },
   {
    "duration": 8,
    "start_time": "2022-02-12T17:13:13.038Z"
   },
   {
    "duration": 10,
    "start_time": "2022-02-12T17:13:13.116Z"
   },
   {
    "duration": 12,
    "start_time": "2022-02-12T17:13:13.202Z"
   },
   {
    "duration": 4,
    "start_time": "2022-02-12T17:13:13.287Z"
   },
   {
    "duration": 71,
    "start_time": "2022-02-12T17:13:13.374Z"
   },
   {
    "duration": 23,
    "start_time": "2022-02-12T17:13:13.532Z"
   },
   {
    "duration": 108,
    "start_time": "2022-02-12T17:13:13.613Z"
   },
   {
    "duration": 33,
    "start_time": "2022-02-12T17:13:13.723Z"
   },
   {
    "duration": 19,
    "start_time": "2022-02-12T17:13:13.784Z"
   },
   {
    "duration": 13,
    "start_time": "2022-02-12T17:13:13.867Z"
   },
   {
    "duration": 23,
    "start_time": "2022-02-12T17:13:13.946Z"
   },
   {
    "duration": 3,
    "start_time": "2022-02-12T17:13:14.040Z"
   },
   {
    "duration": 4,
    "start_time": "2022-02-12T17:13:14.119Z"
   },
   {
    "duration": 7,
    "start_time": "2022-02-12T17:13:14.198Z"
   },
   {
    "duration": 3,
    "start_time": "2022-02-12T17:13:14.365Z"
   },
   {
    "duration": 3,
    "start_time": "2022-02-12T17:13:14.448Z"
   },
   {
    "duration": 3,
    "start_time": "2022-02-12T17:13:14.532Z"
   },
   {
    "duration": 5,
    "start_time": "2022-02-12T17:13:14.698Z"
   },
   {
    "duration": 85,
    "start_time": "2022-02-12T17:13:14.783Z"
   },
   {
    "duration": 3,
    "start_time": "2022-02-12T17:13:14.870Z"
   },
   {
    "duration": 14,
    "start_time": "2022-02-12T17:13:14.948Z"
   },
   {
    "duration": 3,
    "start_time": "2022-02-12T17:13:15.116Z"
   },
   {
    "duration": 3,
    "start_time": "2022-02-12T17:13:15.199Z"
   },
   {
    "duration": 3,
    "start_time": "2022-02-12T17:13:15.281Z"
   },
   {
    "duration": 8,
    "start_time": "2022-02-12T17:13:15.364Z"
   },
   {
    "duration": 5,
    "start_time": "2022-02-12T17:13:15.447Z"
   },
   {
    "duration": 3,
    "start_time": "2022-02-12T17:13:15.531Z"
   },
   {
    "duration": 5,
    "start_time": "2022-02-12T17:13:15.704Z"
   },
   {
    "duration": 4,
    "start_time": "2022-02-12T17:13:15.781Z"
   },
   {
    "duration": 4,
    "start_time": "2022-02-12T17:13:15.865Z"
   },
   {
    "duration": 523,
    "start_time": "2022-02-12T17:13:15.946Z"
   },
   {
    "duration": 533,
    "start_time": "2022-02-12T17:13:16.471Z"
   },
   {
    "duration": 5,
    "start_time": "2022-02-12T17:13:17.006Z"
   },
   {
    "duration": 16,
    "start_time": "2022-02-12T17:13:17.013Z"
   },
   {
    "duration": 8,
    "start_time": "2022-02-12T17:13:17.031Z"
   },
   {
    "duration": 5,
    "start_time": "2022-02-12T17:13:17.041Z"
   },
   {
    "duration": 9,
    "start_time": "2022-02-12T17:13:17.048Z"
   },
   {
    "duration": 5,
    "start_time": "2022-02-12T17:14:29.653Z"
   },
   {
    "duration": 5,
    "start_time": "2022-02-12T17:22:25.760Z"
   },
   {
    "duration": 7,
    "start_time": "2022-02-12T17:22:29.607Z"
   },
   {
    "duration": 5,
    "start_time": "2022-02-12T17:22:30.080Z"
   },
   {
    "duration": 5,
    "start_time": "2022-02-12T17:22:30.618Z"
   },
   {
    "duration": 3,
    "start_time": "2022-02-12T17:22:49.292Z"
   },
   {
    "duration": 285,
    "start_time": "2022-02-12T17:22:49.816Z"
   },
   {
    "duration": 5,
    "start_time": "2022-02-12T17:22:50.103Z"
   },
   {
    "duration": 17,
    "start_time": "2022-02-12T17:22:50.109Z"
   },
   {
    "duration": 9,
    "start_time": "2022-02-12T17:22:50.127Z"
   },
   {
    "duration": 70,
    "start_time": "2022-02-12T17:22:50.207Z"
   },
   {
    "duration": 6,
    "start_time": "2022-02-12T17:22:50.298Z"
   },
   {
    "duration": 8,
    "start_time": "2022-02-12T17:22:50.372Z"
   },
   {
    "duration": 14,
    "start_time": "2022-02-12T17:22:50.457Z"
   },
   {
    "duration": 8,
    "start_time": "2022-02-12T17:22:50.551Z"
   },
   {
    "duration": 2,
    "start_time": "2022-02-12T17:22:50.639Z"
   },
   {
    "duration": 69,
    "start_time": "2022-02-12T17:22:50.790Z"
   },
   {
    "duration": 59,
    "start_time": "2022-02-12T17:22:50.873Z"
   },
   {
    "duration": 3,
    "start_time": "2022-02-12T17:22:50.954Z"
   },
   {
    "duration": 28,
    "start_time": "2022-02-12T17:22:51.040Z"
   },
   {
    "duration": 3,
    "start_time": "2022-02-12T17:22:51.208Z"
   },
   {
    "duration": 30,
    "start_time": "2022-02-12T17:22:51.373Z"
   },
   {
    "duration": 36,
    "start_time": "2022-02-12T17:22:51.539Z"
   },
   {
    "duration": 38,
    "start_time": "2022-02-12T17:22:51.623Z"
   },
   {
    "duration": 13,
    "start_time": "2022-02-12T17:22:51.789Z"
   },
   {
    "duration": 9,
    "start_time": "2022-02-12T17:22:51.871Z"
   },
   {
    "duration": 7,
    "start_time": "2022-02-12T17:22:51.955Z"
   },
   {
    "duration": 13,
    "start_time": "2022-02-12T17:22:52.045Z"
   },
   {
    "duration": 15,
    "start_time": "2022-02-12T17:22:52.217Z"
   },
   {
    "duration": 15,
    "start_time": "2022-02-12T17:22:52.294Z"
   },
   {
    "duration": 13,
    "start_time": "2022-02-12T17:22:52.372Z"
   },
   {
    "duration": 17,
    "start_time": "2022-02-12T17:22:52.459Z"
   },
   {
    "duration": 6,
    "start_time": "2022-02-12T17:22:52.542Z"
   },
   {
    "duration": 4,
    "start_time": "2022-02-12T17:22:52.625Z"
   },
   {
    "duration": 18,
    "start_time": "2022-02-12T17:22:52.708Z"
   },
   {
    "duration": 4,
    "start_time": "2022-02-12T17:22:52.788Z"
   },
   {
    "duration": 4,
    "start_time": "2022-02-12T17:22:52.886Z"
   },
   {
    "duration": 6,
    "start_time": "2022-02-12T17:22:52.955Z"
   },
   {
    "duration": 7,
    "start_time": "2022-02-12T17:22:53.123Z"
   },
   {
    "duration": 10,
    "start_time": "2022-02-12T17:22:53.206Z"
   },
   {
    "duration": 12,
    "start_time": "2022-02-12T17:22:53.288Z"
   },
   {
    "duration": 4,
    "start_time": "2022-02-12T17:22:53.379Z"
   },
   {
    "duration": 72,
    "start_time": "2022-02-12T17:22:53.463Z"
   },
   {
    "duration": 21,
    "start_time": "2022-02-12T17:22:53.630Z"
   },
   {
    "duration": 111,
    "start_time": "2022-02-12T17:22:53.705Z"
   },
   {
    "duration": 35,
    "start_time": "2022-02-12T17:22:53.818Z"
   },
   {
    "duration": 20,
    "start_time": "2022-02-12T17:22:53.871Z"
   },
   {
    "duration": 13,
    "start_time": "2022-02-12T17:22:53.960Z"
   },
   {
    "duration": 24,
    "start_time": "2022-02-12T17:22:54.047Z"
   },
   {
    "duration": 3,
    "start_time": "2022-02-12T17:22:54.127Z"
   },
   {
    "duration": 4,
    "start_time": "2022-02-12T17:22:54.208Z"
   },
   {
    "duration": 8,
    "start_time": "2022-02-12T17:22:54.289Z"
   },
   {
    "duration": 4,
    "start_time": "2022-02-12T17:22:54.455Z"
   },
   {
    "duration": 3,
    "start_time": "2022-02-12T17:22:54.539Z"
   },
   {
    "duration": 3,
    "start_time": "2022-02-12T17:22:54.622Z"
   },
   {
    "duration": 6,
    "start_time": "2022-02-12T17:22:54.790Z"
   },
   {
    "duration": 86,
    "start_time": "2022-02-12T17:22:54.878Z"
   },
   {
    "duration": 4,
    "start_time": "2022-02-12T17:22:54.966Z"
   },
   {
    "duration": 14,
    "start_time": "2022-02-12T17:22:55.043Z"
   },
   {
    "duration": 3,
    "start_time": "2022-02-12T17:22:55.204Z"
   },
   {
    "duration": 2,
    "start_time": "2022-02-12T17:22:55.291Z"
   },
   {
    "duration": 3,
    "start_time": "2022-02-12T17:22:55.373Z"
   },
   {
    "duration": 7,
    "start_time": "2022-02-12T17:22:55.455Z"
   },
   {
    "duration": 5,
    "start_time": "2022-02-12T17:22:55.539Z"
   },
   {
    "duration": 4,
    "start_time": "2022-02-12T17:22:55.621Z"
   },
   {
    "duration": 4,
    "start_time": "2022-02-12T17:22:55.789Z"
   },
   {
    "duration": 4,
    "start_time": "2022-02-12T17:22:55.872Z"
   },
   {
    "duration": 4,
    "start_time": "2022-02-12T17:22:55.958Z"
   },
   {
    "duration": 500,
    "start_time": "2022-02-12T17:22:56.040Z"
   },
   {
    "duration": 516,
    "start_time": "2022-02-12T17:22:56.541Z"
   },
   {
    "duration": 4,
    "start_time": "2022-02-12T17:22:57.059Z"
   },
   {
    "duration": 9,
    "start_time": "2022-02-12T17:22:57.065Z"
   },
   {
    "duration": 9,
    "start_time": "2022-02-12T17:22:57.075Z"
   },
   {
    "duration": 7,
    "start_time": "2022-02-12T17:22:57.085Z"
   },
   {
    "duration": 1015,
    "start_time": "2022-02-12T17:23:05.142Z"
   },
   {
    "duration": 264,
    "start_time": "2022-02-12T17:23:06.159Z"
   },
   {
    "duration": 6,
    "start_time": "2022-02-12T17:23:06.425Z"
   },
   {
    "duration": 16,
    "start_time": "2022-02-12T17:23:06.432Z"
   },
   {
    "duration": 9,
    "start_time": "2022-02-12T17:23:06.449Z"
   },
   {
    "duration": 12,
    "start_time": "2022-02-12T17:23:06.459Z"
   },
   {
    "duration": 5,
    "start_time": "2022-02-12T17:23:06.472Z"
   },
   {
    "duration": 10,
    "start_time": "2022-02-12T17:23:06.479Z"
   },
   {
    "duration": 38,
    "start_time": "2022-02-12T17:23:06.490Z"
   },
   {
    "duration": 6,
    "start_time": "2022-02-12T17:23:06.529Z"
   },
   {
    "duration": 2,
    "start_time": "2022-02-12T17:23:06.537Z"
   },
   {
    "duration": 71,
    "start_time": "2022-02-12T17:23:06.540Z"
   },
   {
    "duration": 73,
    "start_time": "2022-02-12T17:23:06.612Z"
   },
   {
    "duration": 3,
    "start_time": "2022-02-12T17:23:06.687Z"
   },
   {
    "duration": 45,
    "start_time": "2022-02-12T17:23:06.692Z"
   },
   {
    "duration": 4,
    "start_time": "2022-02-12T17:23:06.738Z"
   },
   {
    "duration": 30,
    "start_time": "2022-02-12T17:23:06.744Z"
   },
   {
    "duration": 58,
    "start_time": "2022-02-12T17:23:06.776Z"
   },
   {
    "duration": 41,
    "start_time": "2022-02-12T17:23:06.836Z"
   },
   {
    "duration": 11,
    "start_time": "2022-02-12T17:23:06.878Z"
   },
   {
    "duration": 8,
    "start_time": "2022-02-12T17:23:06.890Z"
   },
   {
    "duration": 28,
    "start_time": "2022-02-12T17:23:06.899Z"
   },
   {
    "duration": 10,
    "start_time": "2022-02-12T17:23:06.930Z"
   },
   {
    "duration": 13,
    "start_time": "2022-02-12T17:23:06.942Z"
   },
   {
    "duration": 14,
    "start_time": "2022-02-12T17:23:06.957Z"
   },
   {
    "duration": 13,
    "start_time": "2022-02-12T17:23:06.973Z"
   },
   {
    "duration": 41,
    "start_time": "2022-02-12T17:23:06.987Z"
   },
   {
    "duration": 7,
    "start_time": "2022-02-12T17:23:07.029Z"
   },
   {
    "duration": 5,
    "start_time": "2022-02-12T17:23:07.037Z"
   },
   {
    "duration": 17,
    "start_time": "2022-02-12T17:23:07.044Z"
   },
   {
    "duration": 4,
    "start_time": "2022-02-12T17:23:07.063Z"
   },
   {
    "duration": 5,
    "start_time": "2022-02-12T17:23:07.068Z"
   },
   {
    "duration": 5,
    "start_time": "2022-02-12T17:23:07.075Z"
   },
   {
    "duration": 7,
    "start_time": "2022-02-12T17:23:07.081Z"
   },
   {
    "duration": 38,
    "start_time": "2022-02-12T17:23:07.089Z"
   },
   {
    "duration": 12,
    "start_time": "2022-02-12T17:23:07.128Z"
   },
   {
    "duration": 5,
    "start_time": "2022-02-12T17:23:07.141Z"
   },
   {
    "duration": 108,
    "start_time": "2022-02-12T17:23:07.147Z"
   },
   {
    "duration": 22,
    "start_time": "2022-02-12T17:23:07.257Z"
   },
   {
    "duration": 114,
    "start_time": "2022-02-12T17:23:07.280Z"
   },
   {
    "duration": 42,
    "start_time": "2022-02-12T17:23:07.395Z"
   },
   {
    "duration": 20,
    "start_time": "2022-02-12T17:23:07.438Z"
   },
   {
    "duration": 11,
    "start_time": "2022-02-12T17:23:07.460Z"
   },
   {
    "duration": 23,
    "start_time": "2022-02-12T17:23:07.472Z"
   },
   {
    "duration": 3,
    "start_time": "2022-02-12T17:23:07.497Z"
   },
   {
    "duration": 27,
    "start_time": "2022-02-12T17:23:07.502Z"
   },
   {
    "duration": 7,
    "start_time": "2022-02-12T17:23:07.531Z"
   },
   {
    "duration": 3,
    "start_time": "2022-02-12T17:23:07.540Z"
   },
   {
    "duration": 5,
    "start_time": "2022-02-12T17:23:07.544Z"
   },
   {
    "duration": 4,
    "start_time": "2022-02-12T17:23:07.550Z"
   },
   {
    "duration": 6,
    "start_time": "2022-02-12T17:23:07.555Z"
   },
   {
    "duration": 118,
    "start_time": "2022-02-12T17:23:07.563Z"
   },
   {
    "duration": 5,
    "start_time": "2022-02-12T17:23:07.683Z"
   },
   {
    "duration": 15,
    "start_time": "2022-02-12T17:23:07.689Z"
   },
   {
    "duration": 22,
    "start_time": "2022-02-12T17:23:07.705Z"
   },
   {
    "duration": 3,
    "start_time": "2022-02-12T17:23:07.728Z"
   },
   {
    "duration": 5,
    "start_time": "2022-02-12T17:23:07.732Z"
   },
   {
    "duration": 8,
    "start_time": "2022-02-12T17:23:07.738Z"
   },
   {
    "duration": 7,
    "start_time": "2022-02-12T17:23:07.747Z"
   },
   {
    "duration": 7,
    "start_time": "2022-02-12T17:23:07.755Z"
   },
   {
    "duration": 5,
    "start_time": "2022-02-12T17:23:07.764Z"
   },
   {
    "duration": 7,
    "start_time": "2022-02-12T17:23:07.770Z"
   },
   {
    "duration": 6,
    "start_time": "2022-02-12T17:23:07.779Z"
   },
   {
    "duration": 521,
    "start_time": "2022-02-12T17:23:07.786Z"
   },
   {
    "duration": 520,
    "start_time": "2022-02-12T17:23:08.308Z"
   },
   {
    "duration": 5,
    "start_time": "2022-02-12T17:23:08.829Z"
   },
   {
    "duration": 10,
    "start_time": "2022-02-12T17:23:08.835Z"
   },
   {
    "duration": 4,
    "start_time": "2022-02-12T17:23:08.849Z"
   },
   {
    "duration": 4,
    "start_time": "2022-02-12T17:23:08.855Z"
   },
   {
    "duration": 1006,
    "start_time": "2022-02-12T17:24:21.968Z"
   },
   {
    "duration": 273,
    "start_time": "2022-02-12T17:24:22.976Z"
   },
   {
    "duration": 6,
    "start_time": "2022-02-12T17:24:25.417Z"
   },
   {
    "duration": 14,
    "start_time": "2022-02-12T17:24:25.628Z"
   },
   {
    "duration": 11,
    "start_time": "2022-02-12T17:24:26.037Z"
   },
   {
    "duration": 15,
    "start_time": "2022-02-12T17:24:26.252Z"
   },
   {
    "duration": 6,
    "start_time": "2022-02-12T17:24:29.523Z"
   },
   {
    "duration": 10,
    "start_time": "2022-02-12T17:24:30.061Z"
   },
   {
    "duration": 12,
    "start_time": "2022-02-12T17:24:32.747Z"
   },
   {
    "duration": 8,
    "start_time": "2022-02-12T17:24:33.325Z"
   },
   {
    "duration": 3,
    "start_time": "2022-02-12T17:24:33.662Z"
   },
   {
    "duration": 77,
    "start_time": "2022-02-12T17:24:34.249Z"
   },
   {
    "duration": 65,
    "start_time": "2022-02-12T17:24:34.594Z"
   },
   {
    "duration": 3,
    "start_time": "2022-02-12T17:24:36.279Z"
   },
   {
    "duration": 31,
    "start_time": "2022-02-12T17:24:36.790Z"
   },
   {
    "duration": 5,
    "start_time": "2022-02-12T17:24:39.561Z"
   },
   {
    "duration": 37,
    "start_time": "2022-02-12T17:24:41.501Z"
   },
   {
    "duration": 50,
    "start_time": "2022-02-12T17:24:44.049Z"
   },
   {
    "duration": 43,
    "start_time": "2022-02-12T17:24:45.513Z"
   },
   {
    "duration": 12,
    "start_time": "2022-02-12T17:28:34.962Z"
   },
   {
    "duration": 10,
    "start_time": "2022-02-12T17:28:35.593Z"
   },
   {
    "duration": 7,
    "start_time": "2022-02-12T17:28:36.448Z"
   },
   {
    "duration": 12,
    "start_time": "2022-02-12T17:28:37.109Z"
   },
   {
    "duration": 14,
    "start_time": "2022-02-12T17:28:38.125Z"
   },
   {
    "duration": 16,
    "start_time": "2022-02-12T17:28:38.637Z"
   },
   {
    "duration": 15,
    "start_time": "2022-02-12T17:28:39.306Z"
   },
   {
    "duration": 17,
    "start_time": "2022-02-12T17:28:39.837Z"
   },
   {
    "duration": 8,
    "start_time": "2022-02-12T17:28:40.430Z"
   },
   {
    "duration": 4,
    "start_time": "2022-02-12T17:28:41.501Z"
   },
   {
    "duration": 17,
    "start_time": "2022-02-12T17:28:46.784Z"
   },
   {
    "duration": 5,
    "start_time": "2022-02-12T17:28:57.821Z"
   },
   {
    "duration": 6,
    "start_time": "2022-02-12T17:28:58.505Z"
   },
   {
    "duration": 6,
    "start_time": "2022-02-12T17:28:59.612Z"
   },
   {
    "duration": 3,
    "start_time": "2022-02-12T17:29:08.115Z"
   },
   {
    "duration": 4,
    "start_time": "2022-02-12T17:29:18.997Z"
   },
   {
    "duration": 7,
    "start_time": "2022-02-12T17:29:20.757Z"
   },
   {
    "duration": 4,
    "start_time": "2022-02-12T17:29:21.360Z"
   },
   {
    "duration": 10,
    "start_time": "2022-02-12T17:29:24.384Z"
   },
   {
    "duration": 12,
    "start_time": "2022-02-12T17:29:26.159Z"
   },
   {
    "duration": 6,
    "start_time": "2022-02-12T17:29:26.934Z"
   },
   {
    "duration": 69,
    "start_time": "2022-02-12T17:29:27.853Z"
   },
   {
    "duration": 25,
    "start_time": "2022-02-12T17:29:31.223Z"
   },
   {
    "duration": 106,
    "start_time": "2022-02-12T17:29:31.882Z"
   },
   {
    "duration": 35,
    "start_time": "2022-02-12T17:29:35.049Z"
   },
   {
    "duration": 21,
    "start_time": "2022-02-12T17:29:37.433Z"
   },
   {
    "duration": 15,
    "start_time": "2022-02-12T17:29:40.153Z"
   },
   {
    "duration": 23,
    "start_time": "2022-02-12T17:29:45.603Z"
   },
   {
    "duration": 4,
    "start_time": "2022-02-12T17:29:47.414Z"
   },
   {
    "duration": 4,
    "start_time": "2022-02-12T17:29:51.862Z"
   },
   {
    "duration": 6,
    "start_time": "2022-02-12T17:29:53.807Z"
   },
   {
    "duration": 3,
    "start_time": "2022-02-12T17:29:57.609Z"
   },
   {
    "duration": 4,
    "start_time": "2022-02-12T17:30:24.702Z"
   },
   {
    "duration": 3,
    "start_time": "2022-02-12T17:30:25.350Z"
   },
   {
    "duration": 5,
    "start_time": "2022-02-12T17:30:26.626Z"
   },
   {
    "duration": 90,
    "start_time": "2022-02-12T17:30:27.795Z"
   },
   {
    "duration": 4,
    "start_time": "2022-02-12T17:30:28.681Z"
   },
   {
    "duration": 13,
    "start_time": "2022-02-12T17:30:29.744Z"
   },
   {
    "duration": 3,
    "start_time": "2022-02-12T17:30:32.343Z"
   },
   {
    "duration": 3,
    "start_time": "2022-02-12T17:30:32.917Z"
   },
   {
    "duration": 4,
    "start_time": "2022-02-12T17:30:33.522Z"
   },
   {
    "duration": 8,
    "start_time": "2022-02-12T17:30:34.056Z"
   },
   {
    "duration": 5,
    "start_time": "2022-02-12T17:30:37.118Z"
   },
   {
    "duration": 4,
    "start_time": "2022-02-12T17:30:37.755Z"
   },
   {
    "duration": 5,
    "start_time": "2022-02-12T17:30:41.342Z"
   },
   {
    "duration": 5,
    "start_time": "2022-02-12T17:30:41.861Z"
   },
   {
    "duration": 4,
    "start_time": "2022-02-12T17:30:42.379Z"
   },
   {
    "duration": 480,
    "start_time": "2022-02-12T17:30:42.972Z"
   },
   {
    "duration": 519,
    "start_time": "2022-02-12T17:30:43.459Z"
   },
   {
    "duration": 5,
    "start_time": "2022-02-12T17:30:45.649Z"
   },
   {
    "duration": 8,
    "start_time": "2022-02-12T17:30:46.672Z"
   },
   {
    "duration": 6,
    "start_time": "2022-02-12T17:30:47.617Z"
   },
   {
    "duration": 5,
    "start_time": "2022-02-12T17:30:48.402Z"
   },
   {
    "duration": 5,
    "start_time": "2022-02-12T17:30:54.600Z"
   },
   {
    "duration": 5,
    "start_time": "2022-02-12T17:30:58.128Z"
   },
   {
    "duration": 6,
    "start_time": "2022-02-12T17:31:01.442Z"
   },
   {
    "duration": 4,
    "start_time": "2022-02-12T17:44:16.429Z"
   },
   {
    "duration": 5,
    "start_time": "2022-02-12T17:58:46.784Z"
   },
   {
    "duration": 8,
    "start_time": "2022-02-12T17:58:48.057Z"
   },
   {
    "duration": 5,
    "start_time": "2022-02-12T17:58:48.449Z"
   },
   {
    "duration": 1085,
    "start_time": "2022-02-12T18:01:38.173Z"
   },
   {
    "duration": 266,
    "start_time": "2022-02-12T18:01:39.260Z"
   },
   {
    "duration": 6,
    "start_time": "2022-02-12T18:01:39.528Z"
   },
   {
    "duration": 15,
    "start_time": "2022-02-12T18:01:39.535Z"
   },
   {
    "duration": 9,
    "start_time": "2022-02-12T18:01:39.552Z"
   },
   {
    "duration": 11,
    "start_time": "2022-02-12T18:01:39.562Z"
   },
   {
    "duration": 5,
    "start_time": "2022-02-12T18:01:39.574Z"
   },
   {
    "duration": 11,
    "start_time": "2022-02-12T18:01:39.580Z"
   },
   {
    "duration": 36,
    "start_time": "2022-02-12T18:01:39.593Z"
   },
   {
    "duration": 7,
    "start_time": "2022-02-12T18:01:39.630Z"
   },
   {
    "duration": 3,
    "start_time": "2022-02-12T18:01:39.638Z"
   },
   {
    "duration": 85,
    "start_time": "2022-02-12T18:01:39.643Z"
   },
   {
    "duration": 61,
    "start_time": "2022-02-12T18:01:39.729Z"
   },
   {
    "duration": 2,
    "start_time": "2022-02-12T18:01:39.792Z"
   },
   {
    "duration": 48,
    "start_time": "2022-02-12T18:01:39.796Z"
   },
   {
    "duration": 3,
    "start_time": "2022-02-12T18:01:39.845Z"
   },
   {
    "duration": 32,
    "start_time": "2022-02-12T18:01:39.850Z"
   },
   {
    "duration": 49,
    "start_time": "2022-02-12T18:01:39.883Z"
   },
   {
    "duration": 41,
    "start_time": "2022-02-12T18:01:39.933Z"
   },
   {
    "duration": 11,
    "start_time": "2022-02-12T18:01:39.976Z"
   },
   {
    "duration": 8,
    "start_time": "2022-02-12T18:01:39.988Z"
   },
   {
    "duration": 30,
    "start_time": "2022-02-12T18:01:39.997Z"
   },
   {
    "duration": 11,
    "start_time": "2022-02-12T18:01:40.028Z"
   },
   {
    "duration": 14,
    "start_time": "2022-02-12T18:01:40.040Z"
   },
   {
    "duration": 15,
    "start_time": "2022-02-12T18:01:40.055Z"
   },
   {
    "duration": 14,
    "start_time": "2022-02-12T18:01:40.071Z"
   },
   {
    "duration": 45,
    "start_time": "2022-02-12T18:01:40.088Z"
   },
   {
    "duration": 7,
    "start_time": "2022-02-12T18:01:40.135Z"
   },
   {
    "duration": 6,
    "start_time": "2022-02-12T18:01:40.143Z"
   },
   {
    "duration": 17,
    "start_time": "2022-02-12T18:01:40.150Z"
   },
   {
    "duration": 5,
    "start_time": "2022-02-12T18:01:40.168Z"
   },
   {
    "duration": 4,
    "start_time": "2022-02-12T18:01:40.175Z"
   },
   {
    "duration": 5,
    "start_time": "2022-02-12T18:01:40.181Z"
   },
   {
    "duration": 7,
    "start_time": "2022-02-12T18:01:40.187Z"
   },
   {
    "duration": 8,
    "start_time": "2022-02-12T18:01:40.195Z"
   },
   {
    "duration": 3,
    "start_time": "2022-02-12T18:01:40.227Z"
   },
   {
    "duration": 10,
    "start_time": "2022-02-12T18:01:40.231Z"
   },
   {
    "duration": 11,
    "start_time": "2022-02-12T18:01:40.243Z"
   },
   {
    "duration": 5,
    "start_time": "2022-02-12T18:01:40.256Z"
   },
   {
    "duration": 90,
    "start_time": "2022-02-12T18:01:40.262Z"
   },
   {
    "duration": 24,
    "start_time": "2022-02-12T18:01:40.353Z"
   },
   {
    "duration": 126,
    "start_time": "2022-02-12T18:01:40.379Z"
   },
   {
    "duration": 43,
    "start_time": "2022-02-12T18:01:40.506Z"
   },
   {
    "duration": 20,
    "start_time": "2022-02-12T18:01:40.551Z"
   },
   {
    "duration": 12,
    "start_time": "2022-02-12T18:01:40.573Z"
   },
   {
    "duration": 47,
    "start_time": "2022-02-12T18:01:40.587Z"
   },
   {
    "duration": 3,
    "start_time": "2022-02-12T18:01:40.636Z"
   },
   {
    "duration": 5,
    "start_time": "2022-02-12T18:01:40.641Z"
   },
   {
    "duration": 7,
    "start_time": "2022-02-12T18:01:40.647Z"
   },
   {
    "duration": 3,
    "start_time": "2022-02-12T18:01:40.656Z"
   },
   {
    "duration": 4,
    "start_time": "2022-02-12T18:01:40.660Z"
   },
   {
    "duration": 5,
    "start_time": "2022-02-12T18:01:40.666Z"
   },
   {
    "duration": 6,
    "start_time": "2022-02-12T18:01:40.672Z"
   },
   {
    "duration": 125,
    "start_time": "2022-02-12T18:01:40.679Z"
   },
   {
    "duration": 4,
    "start_time": "2022-02-12T18:01:40.805Z"
   },
   {
    "duration": 24,
    "start_time": "2022-02-12T18:01:40.811Z"
   },
   {
    "duration": 3,
    "start_time": "2022-02-12T18:01:40.836Z"
   },
   {
    "duration": 5,
    "start_time": "2022-02-12T18:01:40.840Z"
   },
   {
    "duration": 7,
    "start_time": "2022-02-12T18:01:40.847Z"
   },
   {
    "duration": 9,
    "start_time": "2022-02-12T18:01:40.855Z"
   },
   {
    "duration": 4,
    "start_time": "2022-02-12T18:01:40.865Z"
   },
   {
    "duration": 4,
    "start_time": "2022-02-12T18:01:40.870Z"
   },
   {
    "duration": 5,
    "start_time": "2022-02-12T18:01:40.875Z"
   },
   {
    "duration": 4,
    "start_time": "2022-02-12T18:01:40.881Z"
   },
   {
    "duration": 4,
    "start_time": "2022-02-12T18:01:40.886Z"
   },
   {
    "duration": 521,
    "start_time": "2022-02-12T18:01:40.891Z"
   },
   {
    "duration": 523,
    "start_time": "2022-02-12T18:01:41.413Z"
   },
   {
    "duration": 4,
    "start_time": "2022-02-12T18:01:41.938Z"
   },
   {
    "duration": 9,
    "start_time": "2022-02-12T18:01:41.944Z"
   },
   {
    "duration": 6,
    "start_time": "2022-02-12T18:01:41.954Z"
   },
   {
    "duration": 1108,
    "start_time": "2022-02-12T18:21:04.619Z"
   },
   {
    "duration": 277,
    "start_time": "2022-02-12T18:21:07.753Z"
   },
   {
    "duration": 270,
    "start_time": "2022-02-12T18:21:12.323Z"
   },
   {
    "duration": 7,
    "start_time": "2022-02-12T18:21:13.541Z"
   },
   {
    "duration": 15,
    "start_time": "2022-02-12T18:21:13.907Z"
   },
   {
    "duration": 12,
    "start_time": "2022-02-12T18:21:14.442Z"
   },
   {
    "duration": 12,
    "start_time": "2022-02-12T18:21:14.857Z"
   },
   {
    "duration": 6,
    "start_time": "2022-02-12T18:21:15.202Z"
   },
   {
    "duration": 11,
    "start_time": "2022-02-12T18:21:15.560Z"
   },
   {
    "duration": 12,
    "start_time": "2022-02-12T18:21:15.943Z"
   },
   {
    "duration": 7,
    "start_time": "2022-02-12T18:21:21.621Z"
   },
   {
    "duration": 64,
    "start_time": "2022-02-12T18:21:56.346Z"
   },
   {
    "duration": 58,
    "start_time": "2022-02-12T18:21:58.760Z"
   },
   {
    "duration": 3,
    "start_time": "2022-02-12T18:21:59.494Z"
   },
   {
    "duration": 29,
    "start_time": "2022-02-12T18:22:02.024Z"
   },
   {
    "duration": 4,
    "start_time": "2022-02-12T18:22:14.927Z"
   },
   {
    "duration": 41,
    "start_time": "2022-02-12T18:22:16.243Z"
   },
   {
    "duration": 37,
    "start_time": "2022-02-12T18:22:18.378Z"
   },
   {
    "duration": 26,
    "start_time": "2022-02-12T18:22:31.402Z"
   },
   {
    "duration": 31,
    "start_time": "2022-02-12T18:22:32.613Z"
   },
   {
    "duration": 43,
    "start_time": "2022-02-12T18:22:34.319Z"
   },
   {
    "duration": 12,
    "start_time": "2022-02-12T18:22:37.179Z"
   },
   {
    "duration": 9,
    "start_time": "2022-02-12T18:22:37.645Z"
   },
   {
    "duration": 8,
    "start_time": "2022-02-12T18:22:39.564Z"
   },
   {
    "duration": 15,
    "start_time": "2022-02-12T18:22:40.152Z"
   },
   {
    "duration": 15,
    "start_time": "2022-02-12T18:22:55.769Z"
   },
   {
    "duration": 17,
    "start_time": "2022-02-12T18:23:00.865Z"
   },
   {
    "duration": 13,
    "start_time": "2022-02-12T18:23:04.640Z"
   },
   {
    "duration": 17,
    "start_time": "2022-02-12T18:23:11.259Z"
   },
   {
    "duration": 9,
    "start_time": "2022-02-12T18:23:14.517Z"
   },
   {
    "duration": 4,
    "start_time": "2022-02-12T18:23:19.850Z"
   },
   {
    "duration": 18,
    "start_time": "2022-02-12T18:23:20.411Z"
   },
   {
    "duration": 6,
    "start_time": "2022-02-12T18:23:24.844Z"
   },
   {
    "duration": 5,
    "start_time": "2022-02-12T18:23:25.525Z"
   },
   {
    "duration": 6,
    "start_time": "2022-02-12T18:23:29.385Z"
   },
   {
    "duration": 3,
    "start_time": "2022-02-12T18:23:29.958Z"
   },
   {
    "duration": 8,
    "start_time": "2022-02-12T18:23:32.212Z"
   },
   {
    "duration": 3,
    "start_time": "2022-02-12T18:23:32.826Z"
   },
   {
    "duration": 9,
    "start_time": "2022-02-12T18:23:38.401Z"
   },
   {
    "duration": 13,
    "start_time": "2022-02-12T18:23:41.286Z"
   },
   {
    "duration": 4,
    "start_time": "2022-02-12T18:23:51.850Z"
   },
   {
    "duration": 69,
    "start_time": "2022-02-12T18:23:51.937Z"
   },
   {
    "duration": 35,
    "start_time": "2022-02-12T18:24:04.758Z"
   },
   {
    "duration": 104,
    "start_time": "2022-02-12T18:24:10.265Z"
   },
   {
    "duration": 34,
    "start_time": "2022-02-12T18:24:12.412Z"
   },
   {
    "duration": 21,
    "start_time": "2022-02-12T18:24:15.055Z"
   },
   {
    "duration": 13,
    "start_time": "2022-02-12T18:24:17.601Z"
   },
   {
    "duration": 24,
    "start_time": "2022-02-12T18:24:19.241Z"
   },
   {
    "duration": 4,
    "start_time": "2022-02-12T18:24:21.032Z"
   },
   {
    "duration": 3,
    "start_time": "2022-02-12T18:24:21.873Z"
   },
   {
    "duration": 8,
    "start_time": "2022-02-12T18:24:23.425Z"
   },
   {
    "duration": 4,
    "start_time": "2022-02-12T18:24:32.464Z"
   },
   {
    "duration": 4,
    "start_time": "2022-02-12T18:24:35.317Z"
   },
   {
    "duration": 4,
    "start_time": "2022-02-12T18:24:35.638Z"
   },
   {
    "duration": 3,
    "start_time": "2022-02-12T18:24:35.922Z"
   },
   {
    "duration": 5,
    "start_time": "2022-02-12T18:24:36.430Z"
   },
   {
    "duration": 86,
    "start_time": "2022-02-12T18:24:37.008Z"
   },
   {
    "duration": 4,
    "start_time": "2022-02-12T18:24:37.834Z"
   },
   {
    "duration": 15,
    "start_time": "2022-02-12T18:24:39.164Z"
   },
   {
    "duration": 3,
    "start_time": "2022-02-12T18:24:41.896Z"
   },
   {
    "duration": 3,
    "start_time": "2022-02-12T18:24:42.192Z"
   },
   {
    "duration": 4,
    "start_time": "2022-02-12T18:24:42.438Z"
   },
   {
    "duration": 10,
    "start_time": "2022-02-12T18:24:42.701Z"
   },
   {
    "duration": 4,
    "start_time": "2022-02-12T18:24:44.840Z"
   },
   {
    "duration": 4,
    "start_time": "2022-02-12T18:24:45.499Z"
   },
   {
    "duration": 4,
    "start_time": "2022-02-12T18:24:47.114Z"
   },
   {
    "duration": 4,
    "start_time": "2022-02-12T18:24:47.735Z"
   },
   {
    "duration": 4,
    "start_time": "2022-02-12T18:24:48.405Z"
   },
   {
    "duration": 492,
    "start_time": "2022-02-12T18:24:48.935Z"
   },
   {
    "duration": 510,
    "start_time": "2022-02-12T18:24:49.747Z"
   },
   {
    "duration": 5,
    "start_time": "2022-02-12T18:24:51.881Z"
   },
   {
    "duration": 7,
    "start_time": "2022-02-12T18:24:52.682Z"
   },
   {
    "duration": 4,
    "start_time": "2022-02-12T18:24:52.888Z"
   },
   {
    "duration": 1086,
    "start_time": "2022-02-12T19:48:50.259Z"
   },
   {
    "duration": 269,
    "start_time": "2022-02-12T19:48:51.346Z"
   },
   {
    "duration": 6,
    "start_time": "2022-02-12T19:48:51.617Z"
   },
   {
    "duration": 15,
    "start_time": "2022-02-12T19:48:51.625Z"
   },
   {
    "duration": 9,
    "start_time": "2022-02-12T19:48:51.641Z"
   },
   {
    "duration": 15,
    "start_time": "2022-02-12T19:48:51.651Z"
   },
   {
    "duration": 4,
    "start_time": "2022-02-12T19:48:51.668Z"
   },
   {
    "duration": 11,
    "start_time": "2022-02-12T19:48:51.674Z"
   },
   {
    "duration": 11,
    "start_time": "2022-02-12T19:48:51.687Z"
   },
   {
    "duration": 28,
    "start_time": "2022-02-12T19:48:51.700Z"
   },
   {
    "duration": 69,
    "start_time": "2022-02-12T19:48:51.729Z"
   },
   {
    "duration": 72,
    "start_time": "2022-02-12T19:48:51.799Z"
   },
   {
    "duration": 2,
    "start_time": "2022-02-12T19:48:51.873Z"
   },
   {
    "duration": 39,
    "start_time": "2022-02-12T19:48:51.876Z"
   },
   {
    "duration": 3,
    "start_time": "2022-02-12T19:48:51.916Z"
   },
   {
    "duration": 33,
    "start_time": "2022-02-12T19:48:51.921Z"
   },
   {
    "duration": 36,
    "start_time": "2022-02-12T19:48:51.956Z"
   },
   {
    "duration": 61,
    "start_time": "2022-02-12T19:48:51.993Z"
   },
   {
    "duration": 11,
    "start_time": "2022-02-12T19:48:52.055Z"
   },
   {
    "duration": 7,
    "start_time": "2022-02-12T19:48:52.068Z"
   },
   {
    "duration": 11,
    "start_time": "2022-02-12T19:48:52.077Z"
   },
   {
    "duration": 11,
    "start_time": "2022-02-12T19:48:52.089Z"
   },
   {
    "duration": 33,
    "start_time": "2022-02-12T19:48:52.103Z"
   },
   {
    "duration": 15,
    "start_time": "2022-02-12T19:48:52.139Z"
   },
   {
    "duration": 17,
    "start_time": "2022-02-12T19:48:52.155Z"
   },
   {
    "duration": 19,
    "start_time": "2022-02-12T19:48:52.173Z"
   },
   {
    "duration": 6,
    "start_time": "2022-02-12T19:48:52.193Z"
   },
   {
    "duration": 5,
    "start_time": "2022-02-12T19:48:52.201Z"
   },
   {
    "duration": 30,
    "start_time": "2022-02-12T19:48:52.208Z"
   },
   {
    "duration": 4,
    "start_time": "2022-02-12T19:48:52.240Z"
   },
   {
    "duration": 5,
    "start_time": "2022-02-12T19:48:52.246Z"
   },
   {
    "duration": 6,
    "start_time": "2022-02-12T19:48:52.252Z"
   },
   {
    "duration": 6,
    "start_time": "2022-02-12T19:48:52.260Z"
   },
   {
    "duration": 6,
    "start_time": "2022-02-12T19:48:52.268Z"
   },
   {
    "duration": 3,
    "start_time": "2022-02-12T19:48:52.276Z"
   },
   {
    "duration": 10,
    "start_time": "2022-02-12T19:48:52.281Z"
   },
   {
    "duration": 4,
    "start_time": "2022-02-12T19:48:52.293Z"
   },
   {
    "duration": 69,
    "start_time": "2022-02-12T19:48:52.327Z"
   },
   {
    "duration": 37,
    "start_time": "2022-02-12T19:48:52.397Z"
   },
   {
    "duration": 115,
    "start_time": "2022-02-12T19:48:52.435Z"
   },
   {
    "duration": 34,
    "start_time": "2022-02-12T19:48:52.552Z"
   },
   {
    "duration": 21,
    "start_time": "2022-02-12T19:48:52.588Z"
   },
   {
    "duration": 28,
    "start_time": "2022-02-12T19:48:52.610Z"
   },
   {
    "duration": 23,
    "start_time": "2022-02-12T19:48:52.640Z"
   },
   {
    "duration": 4,
    "start_time": "2022-02-12T19:48:52.664Z"
   },
   {
    "duration": 5,
    "start_time": "2022-02-12T19:48:52.669Z"
   },
   {
    "duration": 8,
    "start_time": "2022-02-12T19:48:52.675Z"
   },
   {
    "duration": 4,
    "start_time": "2022-02-12T19:48:52.684Z"
   },
   {
    "duration": 37,
    "start_time": "2022-02-12T19:48:52.690Z"
   },
   {
    "duration": 4,
    "start_time": "2022-02-12T19:48:52.728Z"
   },
   {
    "duration": 5,
    "start_time": "2022-02-12T19:48:52.734Z"
   },
   {
    "duration": 6,
    "start_time": "2022-02-12T19:48:52.740Z"
   },
   {
    "duration": 100,
    "start_time": "2022-02-12T19:48:52.747Z"
   },
   {
    "duration": 3,
    "start_time": "2022-02-12T19:48:52.849Z"
   },
   {
    "duration": 16,
    "start_time": "2022-02-12T19:48:52.854Z"
   },
   {
    "duration": 2,
    "start_time": "2022-02-12T19:48:52.872Z"
   },
   {
    "duration": 6,
    "start_time": "2022-02-12T19:48:52.875Z"
   },
   {
    "duration": 4,
    "start_time": "2022-02-12T19:48:52.883Z"
   },
   {
    "duration": 9,
    "start_time": "2022-02-12T19:48:52.888Z"
   },
   {
    "duration": 4,
    "start_time": "2022-02-12T19:48:52.899Z"
   },
   {
    "duration": 25,
    "start_time": "2022-02-12T19:48:52.904Z"
   },
   {
    "duration": 4,
    "start_time": "2022-02-12T19:48:52.930Z"
   },
   {
    "duration": 5,
    "start_time": "2022-02-12T19:48:52.936Z"
   },
   {
    "duration": 5,
    "start_time": "2022-02-12T19:48:52.942Z"
   },
   {
    "duration": 503,
    "start_time": "2022-02-12T19:48:52.949Z"
   },
   {
    "duration": 506,
    "start_time": "2022-02-12T19:48:53.454Z"
   },
   {
    "duration": 4,
    "start_time": "2022-02-12T19:48:53.962Z"
   },
   {
    "duration": 7,
    "start_time": "2022-02-12T19:48:53.970Z"
   },
   {
    "duration": 5,
    "start_time": "2022-02-12T19:48:53.978Z"
   },
   {
    "duration": 3,
    "start_time": "2022-02-12T19:50:22.516Z"
   },
   {
    "duration": 275,
    "start_time": "2022-02-12T19:50:23.003Z"
   },
   {
    "duration": 6,
    "start_time": "2022-02-12T19:50:23.452Z"
   },
   {
    "duration": 14,
    "start_time": "2022-02-12T19:50:23.655Z"
   },
   {
    "duration": 12,
    "start_time": "2022-02-12T19:50:23.858Z"
   },
   {
    "duration": 13,
    "start_time": "2022-02-12T19:50:24.071Z"
   },
   {
    "duration": 6,
    "start_time": "2022-02-12T19:50:24.243Z"
   },
   {
    "duration": 10,
    "start_time": "2022-02-12T19:50:24.443Z"
   },
   {
    "duration": 14,
    "start_time": "2022-02-12T19:50:24.643Z"
   },
   {
    "duration": 8,
    "start_time": "2022-02-12T19:50:24.972Z"
   },
   {
    "duration": 6,
    "start_time": "2022-02-12T19:56:24.431Z"
   },
   {
    "duration": 6,
    "start_time": "2022-02-12T20:00:32.005Z"
   },
   {
    "duration": 64,
    "start_time": "2022-02-12T20:00:33.063Z"
   },
   {
    "duration": 6,
    "start_time": "2022-02-12T20:01:20.262Z"
   },
   {
    "duration": 6,
    "start_time": "2022-02-12T20:02:11.691Z"
   },
   {
    "duration": 5,
    "start_time": "2022-02-12T20:02:13.487Z"
   },
   {
    "duration": 1011,
    "start_time": "2022-02-13T05:07:58.279Z"
   },
   {
    "duration": 271,
    "start_time": "2022-02-13T05:07:59.292Z"
   },
   {
    "duration": 5,
    "start_time": "2022-02-13T05:07:59.565Z"
   },
   {
    "duration": 17,
    "start_time": "2022-02-13T05:07:59.572Z"
   },
   {
    "duration": 9,
    "start_time": "2022-02-13T05:07:59.591Z"
   },
   {
    "duration": 12,
    "start_time": "2022-02-13T05:07:59.602Z"
   },
   {
    "duration": 6,
    "start_time": "2022-02-13T05:07:59.615Z"
   },
   {
    "duration": 11,
    "start_time": "2022-02-13T05:07:59.623Z"
   },
   {
    "duration": 40,
    "start_time": "2022-02-13T05:07:59.636Z"
   },
   {
    "duration": 7,
    "start_time": "2022-02-13T05:07:59.677Z"
   },
   {
    "duration": 90,
    "start_time": "2022-02-13T05:07:59.686Z"
   },
   {
    "duration": 73,
    "start_time": "2022-02-13T05:07:59.778Z"
   },
   {
    "duration": 2,
    "start_time": "2022-02-13T05:07:59.853Z"
   },
   {
    "duration": 45,
    "start_time": "2022-02-13T05:07:59.857Z"
   },
   {
    "duration": 4,
    "start_time": "2022-02-13T05:07:59.903Z"
   },
   {
    "duration": 35,
    "start_time": "2022-02-13T05:07:59.908Z"
   },
   {
    "duration": 64,
    "start_time": "2022-02-13T05:07:59.945Z"
   },
   {
    "duration": 61,
    "start_time": "2022-02-13T05:08:00.010Z"
   },
   {
    "duration": 13,
    "start_time": "2022-02-13T05:08:00.073Z"
   },
   {
    "duration": 12,
    "start_time": "2022-02-13T05:08:00.088Z"
   },
   {
    "duration": 17,
    "start_time": "2022-02-13T05:08:00.101Z"
   },
   {
    "duration": 22,
    "start_time": "2022-02-13T05:08:00.120Z"
   },
   {
    "duration": 16,
    "start_time": "2022-02-13T05:08:00.145Z"
   },
   {
    "duration": 18,
    "start_time": "2022-02-13T05:08:00.172Z"
   },
   {
    "duration": 15,
    "start_time": "2022-02-13T05:08:00.192Z"
   },
   {
    "duration": 22,
    "start_time": "2022-02-13T05:08:00.209Z"
   },
   {
    "duration": 7,
    "start_time": "2022-02-13T05:08:00.232Z"
   },
   {
    "duration": 6,
    "start_time": "2022-02-13T05:08:00.241Z"
   },
   {
    "duration": 40,
    "start_time": "2022-02-13T05:08:00.248Z"
   },
   {
    "duration": 4,
    "start_time": "2022-02-13T05:08:00.290Z"
   },
   {
    "duration": 8,
    "start_time": "2022-02-13T05:08:00.296Z"
   },
   {
    "duration": 16,
    "start_time": "2022-02-13T05:08:00.305Z"
   },
   {
    "duration": 19,
    "start_time": "2022-02-13T05:08:00.322Z"
   },
   {
    "duration": 11,
    "start_time": "2022-02-13T05:08:00.343Z"
   },
   {
    "duration": 6,
    "start_time": "2022-02-13T05:08:00.356Z"
   },
   {
    "duration": 14,
    "start_time": "2022-02-13T05:08:00.363Z"
   },
   {
    "duration": 7,
    "start_time": "2022-02-13T05:08:00.379Z"
   },
   {
    "duration": 88,
    "start_time": "2022-02-13T05:08:00.387Z"
   },
   {
    "duration": 25,
    "start_time": "2022-02-13T05:08:00.477Z"
   },
   {
    "duration": 115,
    "start_time": "2022-02-13T05:08:00.503Z"
   },
   {
    "duration": 34,
    "start_time": "2022-02-13T05:08:00.620Z"
   },
   {
    "duration": 32,
    "start_time": "2022-02-13T05:08:00.656Z"
   },
   {
    "duration": 21,
    "start_time": "2022-02-13T05:08:00.689Z"
   },
   {
    "duration": 24,
    "start_time": "2022-02-13T05:08:00.712Z"
   },
   {
    "duration": 3,
    "start_time": "2022-02-13T05:08:00.738Z"
   },
   {
    "duration": 21,
    "start_time": "2022-02-13T05:08:00.743Z"
   },
   {
    "duration": 13,
    "start_time": "2022-02-13T05:08:00.765Z"
   },
   {
    "duration": 25,
    "start_time": "2022-02-13T05:08:00.780Z"
   },
   {
    "duration": 10,
    "start_time": "2022-02-13T05:08:00.806Z"
   },
   {
    "duration": 10,
    "start_time": "2022-02-13T05:08:00.817Z"
   },
   {
    "duration": 29,
    "start_time": "2022-02-13T05:08:00.829Z"
   },
   {
    "duration": 19,
    "start_time": "2022-02-13T05:08:00.860Z"
   },
   {
    "duration": 103,
    "start_time": "2022-02-13T05:08:00.880Z"
   },
   {
    "duration": 4,
    "start_time": "2022-02-13T05:08:00.985Z"
   },
   {
    "duration": 24,
    "start_time": "2022-02-13T05:08:00.991Z"
   },
   {
    "duration": 5,
    "start_time": "2022-02-13T05:08:01.017Z"
   },
   {
    "duration": 9,
    "start_time": "2022-02-13T05:08:01.024Z"
   },
   {
    "duration": 9,
    "start_time": "2022-02-13T05:08:01.034Z"
   },
   {
    "duration": 11,
    "start_time": "2022-02-13T05:08:01.045Z"
   },
   {
    "duration": 7,
    "start_time": "2022-02-13T05:08:01.057Z"
   },
   {
    "duration": 13,
    "start_time": "2022-02-13T05:08:01.065Z"
   },
   {
    "duration": 12,
    "start_time": "2022-02-13T05:08:01.079Z"
   },
   {
    "duration": 19,
    "start_time": "2022-02-13T05:08:01.093Z"
   },
   {
    "duration": 17,
    "start_time": "2022-02-13T05:08:01.113Z"
   },
   {
    "duration": 546,
    "start_time": "2022-02-13T05:08:01.131Z"
   },
   {
    "duration": 539,
    "start_time": "2022-02-13T05:08:01.679Z"
   },
   {
    "duration": 6,
    "start_time": "2022-02-13T05:08:02.219Z"
   },
   {
    "duration": 4,
    "start_time": "2022-02-13T05:08:02.229Z"
   },
   {
    "duration": 8,
    "start_time": "2022-02-13T05:08:02.235Z"
   },
   {
    "duration": 27,
    "start_time": "2022-02-13T05:08:02.244Z"
   },
   {
    "duration": 4,
    "start_time": "2022-02-13T05:08:02.273Z"
   },
   {
    "duration": 94,
    "start_time": "2022-02-13T05:10:41.167Z"
   },
   {
    "duration": 4,
    "start_time": "2022-02-13T05:11:56.800Z"
   },
   {
    "duration": 3,
    "start_time": "2022-02-13T05:20:25.700Z"
   },
   {
    "duration": 70,
    "start_time": "2022-02-13T05:24:59.444Z"
   },
   {
    "duration": 1612,
    "start_time": "2022-02-13T13:39:13.490Z"
   },
   {
    "duration": 344,
    "start_time": "2022-02-13T13:39:15.105Z"
   },
   {
    "duration": 12,
    "start_time": "2022-02-13T13:39:15.453Z"
   },
   {
    "duration": 36,
    "start_time": "2022-02-13T13:39:15.469Z"
   },
   {
    "duration": 24,
    "start_time": "2022-02-13T13:39:15.508Z"
   },
   {
    "duration": 26,
    "start_time": "2022-02-13T13:39:15.535Z"
   },
   {
    "duration": 12,
    "start_time": "2022-02-13T13:39:15.564Z"
   },
   {
    "duration": 18,
    "start_time": "2022-02-13T13:39:15.578Z"
   },
   {
    "duration": 21,
    "start_time": "2022-02-13T13:39:15.637Z"
   },
   {
    "duration": 9,
    "start_time": "2022-02-13T13:39:15.661Z"
   },
   {
    "duration": 150,
    "start_time": "2022-02-13T13:39:15.673Z"
   },
   {
    "duration": 108,
    "start_time": "2022-02-13T13:39:15.825Z"
   },
   {
    "duration": 4,
    "start_time": "2022-02-13T13:39:15.935Z"
   },
   {
    "duration": 55,
    "start_time": "2022-02-13T13:39:15.942Z"
   },
   {
    "duration": 4,
    "start_time": "2022-02-13T13:39:16.000Z"
   },
   {
    "duration": 72,
    "start_time": "2022-02-13T13:39:16.007Z"
   },
   {
    "duration": 77,
    "start_time": "2022-02-13T13:39:16.081Z"
   },
   {
    "duration": 81,
    "start_time": "2022-02-13T13:39:16.160Z"
   },
   {
    "duration": 21,
    "start_time": "2022-02-13T13:39:16.243Z"
   },
   {
    "duration": 17,
    "start_time": "2022-02-13T13:39:16.267Z"
   },
   {
    "duration": 48,
    "start_time": "2022-02-13T13:39:16.286Z"
   },
   {
    "duration": 21,
    "start_time": "2022-02-13T13:39:16.337Z"
   },
   {
    "duration": 42,
    "start_time": "2022-02-13T13:39:16.361Z"
   },
   {
    "duration": 57,
    "start_time": "2022-02-13T13:39:16.406Z"
   },
   {
    "duration": 23,
    "start_time": "2022-02-13T13:39:16.466Z"
   },
   {
    "duration": 57,
    "start_time": "2022-02-13T13:39:16.492Z"
   },
   {
    "duration": 12,
    "start_time": "2022-02-13T13:39:16.556Z"
   },
   {
    "duration": 8,
    "start_time": "2022-02-13T13:39:16.572Z"
   },
   {
    "duration": 65,
    "start_time": "2022-02-13T13:39:16.583Z"
   },
   {
    "duration": 8,
    "start_time": "2022-02-13T13:39:16.651Z"
   },
   {
    "duration": 10,
    "start_time": "2022-02-13T13:39:16.662Z"
   },
   {
    "duration": 16,
    "start_time": "2022-02-13T13:39:16.675Z"
   },
   {
    "duration": 38,
    "start_time": "2022-02-13T13:39:16.694Z"
   },
   {
    "duration": 17,
    "start_time": "2022-02-13T13:39:16.736Z"
   },
   {
    "duration": 8,
    "start_time": "2022-02-13T13:39:16.756Z"
   },
   {
    "duration": 19,
    "start_time": "2022-02-13T13:39:16.766Z"
   },
   {
    "duration": 48,
    "start_time": "2022-02-13T13:39:16.788Z"
   },
   {
    "duration": 430,
    "start_time": "2022-02-13T13:39:16.839Z"
   },
   {
    "duration": 43,
    "start_time": "2022-02-13T13:39:17.271Z"
   },
   {
    "duration": 255,
    "start_time": "2022-02-13T13:39:17.316Z"
   },
   {
    "duration": 72,
    "start_time": "2022-02-13T13:39:17.573Z"
   },
   {
    "duration": 59,
    "start_time": "2022-02-13T13:39:17.648Z"
   },
   {
    "duration": 54,
    "start_time": "2022-02-13T13:39:17.710Z"
   },
   {
    "duration": 79,
    "start_time": "2022-02-13T13:39:17.767Z"
   },
   {
    "duration": 6,
    "start_time": "2022-02-13T13:39:17.849Z"
   },
   {
    "duration": 6,
    "start_time": "2022-02-13T13:39:17.858Z"
   },
   {
    "duration": 16,
    "start_time": "2022-02-13T13:39:17.867Z"
   },
   {
    "duration": 6,
    "start_time": "2022-02-13T13:39:17.886Z"
   },
   {
    "duration": 5,
    "start_time": "2022-02-13T13:39:17.934Z"
   },
   {
    "duration": 9,
    "start_time": "2022-02-13T13:39:17.942Z"
   },
   {
    "duration": 10,
    "start_time": "2022-02-13T13:39:17.954Z"
   },
   {
    "duration": 12,
    "start_time": "2022-02-13T13:39:17.967Z"
   },
   {
    "duration": 320,
    "start_time": "2022-02-13T13:39:17.983Z"
   },
   {
    "duration": 7,
    "start_time": "2022-02-13T13:39:18.306Z"
   },
   {
    "duration": 41,
    "start_time": "2022-02-13T13:39:18.315Z"
   },
   {
    "duration": 5,
    "start_time": "2022-02-13T13:39:18.359Z"
   },
   {
    "duration": 7,
    "start_time": "2022-02-13T13:39:18.366Z"
   },
   {
    "duration": 7,
    "start_time": "2022-02-13T13:39:18.376Z"
   },
   {
    "duration": 16,
    "start_time": "2022-02-13T13:39:18.385Z"
   },
   {
    "duration": 8,
    "start_time": "2022-02-13T13:39:18.433Z"
   },
   {
    "duration": 14,
    "start_time": "2022-02-13T13:39:18.443Z"
   },
   {
    "duration": 6,
    "start_time": "2022-02-13T13:39:27.169Z"
   },
   {
    "duration": 22,
    "start_time": "2022-02-13T13:39:37.687Z"
   },
   {
    "duration": 396,
    "start_time": "2022-02-13T13:39:59.560Z"
   },
   {
    "duration": 7,
    "start_time": "2022-02-13T13:40:05.671Z"
   },
   {
    "duration": 6,
    "start_time": "2022-02-13T13:40:06.050Z"
   },
   {
    "duration": 7,
    "start_time": "2022-02-13T13:40:06.279Z"
   },
   {
    "duration": 1010,
    "start_time": "2022-02-13T13:40:07.374Z"
   },
   {
    "duration": 5,
    "start_time": "2022-02-13T13:43:10.771Z"
   },
   {
    "duration": 353,
    "start_time": "2022-02-13T13:43:10.779Z"
   },
   {
    "duration": 9,
    "start_time": "2022-02-13T13:43:11.135Z"
   },
   {
    "duration": 24,
    "start_time": "2022-02-13T13:43:11.147Z"
   },
   {
    "duration": 13,
    "start_time": "2022-02-13T13:43:11.174Z"
   },
   {
    "duration": 45,
    "start_time": "2022-02-13T13:43:11.190Z"
   },
   {
    "duration": 8,
    "start_time": "2022-02-13T13:43:11.238Z"
   },
   {
    "duration": 19,
    "start_time": "2022-02-13T13:43:11.249Z"
   },
   {
    "duration": 24,
    "start_time": "2022-02-13T13:43:11.272Z"
   },
   {
    "duration": 35,
    "start_time": "2022-02-13T13:43:11.300Z"
   },
   {
    "duration": 123,
    "start_time": "2022-02-13T13:43:11.338Z"
   },
   {
    "duration": 120,
    "start_time": "2022-02-13T13:43:11.464Z"
   },
   {
    "duration": 5,
    "start_time": "2022-02-13T13:43:11.587Z"
   },
   {
    "duration": 64,
    "start_time": "2022-02-13T13:43:11.595Z"
   },
   {
    "duration": 5,
    "start_time": "2022-02-13T13:43:11.661Z"
   },
   {
    "duration": 63,
    "start_time": "2022-02-13T13:43:11.669Z"
   },
   {
    "duration": 58,
    "start_time": "2022-02-13T13:43:11.735Z"
   },
   {
    "duration": 67,
    "start_time": "2022-02-13T13:43:30.002Z"
   },
   {
    "duration": 46,
    "start_time": "2022-02-13T13:44:41.688Z"
   },
   {
    "duration": 6,
    "start_time": "2022-02-13T13:45:34.402Z"
   },
   {
    "duration": 343,
    "start_time": "2022-02-13T13:45:34.411Z"
   },
   {
    "duration": 10,
    "start_time": "2022-02-13T13:45:34.758Z"
   },
   {
    "duration": 23,
    "start_time": "2022-02-13T13:45:34.772Z"
   },
   {
    "duration": 16,
    "start_time": "2022-02-13T13:45:34.797Z"
   },
   {
    "duration": 18,
    "start_time": "2022-02-13T13:45:34.832Z"
   },
   {
    "duration": 8,
    "start_time": "2022-02-13T13:45:34.852Z"
   },
   {
    "duration": 12,
    "start_time": "2022-02-13T13:45:34.862Z"
   },
   {
    "duration": 54,
    "start_time": "2022-02-13T13:45:34.878Z"
   },
   {
    "duration": 9,
    "start_time": "2022-02-13T13:45:34.935Z"
   },
   {
    "duration": 121,
    "start_time": "2022-02-13T13:45:34.946Z"
   },
   {
    "duration": 97,
    "start_time": "2022-02-13T13:45:35.069Z"
   },
   {
    "duration": 4,
    "start_time": "2022-02-13T13:45:35.168Z"
   },
   {
    "duration": 58,
    "start_time": "2022-02-13T13:45:35.174Z"
   },
   {
    "duration": 4,
    "start_time": "2022-02-13T13:45:35.234Z"
   },
   {
    "duration": 44,
    "start_time": "2022-02-13T13:45:35.241Z"
   },
   {
    "duration": 81,
    "start_time": "2022-02-13T13:45:35.287Z"
   },
   {
    "duration": 77,
    "start_time": "2022-02-13T13:46:07.990Z"
   },
   {
    "duration": 52,
    "start_time": "2022-02-13T13:46:52.271Z"
   },
   {
    "duration": 66,
    "start_time": "2022-02-13T13:46:57.525Z"
   },
   {
    "duration": 50,
    "start_time": "2022-02-13T13:47:03.779Z"
   },
   {
    "duration": 21,
    "start_time": "2022-02-13T13:47:11.518Z"
   },
   {
    "duration": 15,
    "start_time": "2022-02-13T13:47:11.542Z"
   },
   {
    "duration": 13,
    "start_time": "2022-02-13T13:47:11.559Z"
   },
   {
    "duration": 23,
    "start_time": "2022-02-13T13:47:11.574Z"
   },
   {
    "duration": 29,
    "start_time": "2022-02-13T13:47:11.633Z"
   },
   {
    "duration": 29,
    "start_time": "2022-02-13T13:47:11.664Z"
   },
   {
    "duration": 55,
    "start_time": "2022-02-13T13:47:11.695Z"
   },
   {
    "duration": 35,
    "start_time": "2022-02-13T13:47:11.752Z"
   },
   {
    "duration": 12,
    "start_time": "2022-02-13T13:47:11.790Z"
   },
   {
    "duration": 29,
    "start_time": "2022-02-13T13:47:11.804Z"
   },
   {
    "duration": 37,
    "start_time": "2022-02-13T13:47:11.835Z"
   },
   {
    "duration": 8,
    "start_time": "2022-02-13T13:47:11.875Z"
   },
   {
    "duration": 6,
    "start_time": "2022-02-13T13:47:11.904Z"
   },
   {
    "duration": 9,
    "start_time": "2022-02-13T13:47:11.989Z"
   },
   {
    "duration": 6,
    "start_time": "2022-02-13T13:47:12.082Z"
   },
   {
    "duration": 13,
    "start_time": "2022-02-13T13:47:12.155Z"
   },
   {
    "duration": 5,
    "start_time": "2022-02-13T13:47:12.237Z"
   },
   {
    "duration": 21,
    "start_time": "2022-02-13T13:47:12.407Z"
   },
   {
    "duration": 8,
    "start_time": "2022-02-13T13:47:12.489Z"
   },
   {
    "duration": 165,
    "start_time": "2022-02-13T13:47:12.574Z"
   },
   {
    "duration": 39,
    "start_time": "2022-02-13T13:47:12.742Z"
   },
   {
    "duration": 265,
    "start_time": "2022-02-13T13:47:12.821Z"
   },
   {
    "duration": 96,
    "start_time": "2022-02-13T13:47:13.089Z"
   },
   {
    "duration": 73,
    "start_time": "2022-02-13T13:47:13.188Z"
   },
   {
    "duration": 26,
    "start_time": "2022-02-13T13:47:13.265Z"
   },
   {
    "duration": 87,
    "start_time": "2022-02-13T13:47:13.294Z"
   },
   {
    "duration": 5,
    "start_time": "2022-02-13T13:47:13.383Z"
   },
   {
    "duration": 5,
    "start_time": "2022-02-13T13:47:13.406Z"
   },
   {
    "duration": 14,
    "start_time": "2022-02-13T13:47:14.054Z"
   },
   {
    "duration": 6,
    "start_time": "2022-02-13T13:47:14.629Z"
   },
   {
    "duration": 6,
    "start_time": "2022-02-13T13:49:53.885Z"
   },
   {
    "duration": 356,
    "start_time": "2022-02-13T13:49:53.894Z"
   },
   {
    "duration": 8,
    "start_time": "2022-02-13T13:49:54.253Z"
   },
   {
    "duration": 25,
    "start_time": "2022-02-13T13:49:54.263Z"
   },
   {
    "duration": 15,
    "start_time": "2022-02-13T13:49:54.290Z"
   },
   {
    "duration": 32,
    "start_time": "2022-02-13T13:49:54.307Z"
   },
   {
    "duration": 11,
    "start_time": "2022-02-13T13:49:54.342Z"
   },
   {
    "duration": 17,
    "start_time": "2022-02-13T13:49:54.356Z"
   },
   {
    "duration": 65,
    "start_time": "2022-02-13T13:49:54.377Z"
   },
   {
    "duration": 10,
    "start_time": "2022-02-13T13:49:54.445Z"
   },
   {
    "duration": 113,
    "start_time": "2022-02-13T13:49:54.457Z"
   },
   {
    "duration": 102,
    "start_time": "2022-02-13T13:49:54.573Z"
   },
   {
    "duration": 5,
    "start_time": "2022-02-13T13:49:54.678Z"
   },
   {
    "duration": 65,
    "start_time": "2022-02-13T13:49:54.685Z"
   },
   {
    "duration": 5,
    "start_time": "2022-02-13T13:49:54.752Z"
   },
   {
    "duration": 44,
    "start_time": "2022-02-13T13:49:54.760Z"
   },
   {
    "duration": 76,
    "start_time": "2022-02-13T13:49:54.807Z"
   },
   {
    "duration": 88,
    "start_time": "2022-02-13T13:49:54.885Z"
   },
   {
    "duration": 21,
    "start_time": "2022-02-13T13:49:54.976Z"
   },
   {
    "duration": 36,
    "start_time": "2022-02-13T13:49:55.000Z"
   },
   {
    "duration": 14,
    "start_time": "2022-02-13T13:49:55.039Z"
   },
   {
    "duration": 21,
    "start_time": "2022-02-13T13:49:55.055Z"
   },
   {
    "duration": 63,
    "start_time": "2022-02-13T13:49:55.079Z"
   },
   {
    "duration": 46,
    "start_time": "2022-02-13T13:49:55.145Z"
   },
   {
    "duration": 50,
    "start_time": "2022-02-13T13:49:55.193Z"
   },
   {
    "duration": 32,
    "start_time": "2022-02-13T13:49:55.246Z"
   },
   {
    "duration": 12,
    "start_time": "2022-02-13T13:49:55.284Z"
   },
   {
    "duration": 34,
    "start_time": "2022-02-13T13:49:55.300Z"
   },
   {
    "duration": 36,
    "start_time": "2022-02-13T13:49:55.336Z"
   },
   {
    "duration": 8,
    "start_time": "2022-02-13T13:49:55.374Z"
   },
   {
    "duration": 7,
    "start_time": "2022-02-13T13:49:55.385Z"
   },
   {
    "duration": 41,
    "start_time": "2022-02-13T13:49:55.395Z"
   },
   {
    "duration": 7,
    "start_time": "2022-02-13T13:49:55.440Z"
   },
   {
    "duration": 12,
    "start_time": "2022-02-13T13:49:55.450Z"
   },
   {
    "duration": 7,
    "start_time": "2022-02-13T13:49:55.464Z"
   },
   {
    "duration": 64,
    "start_time": "2022-02-13T13:49:55.474Z"
   },
   {
    "duration": 7,
    "start_time": "2022-02-13T13:49:55.541Z"
   },
   {
    "duration": 180,
    "start_time": "2022-02-13T13:49:55.551Z"
   },
   {
    "duration": 40,
    "start_time": "2022-02-13T13:49:55.734Z"
   },
   {
    "duration": 350,
    "start_time": "2022-02-13T13:49:55.777Z"
   },
   {
    "duration": 102,
    "start_time": "2022-02-13T13:49:56.133Z"
   },
   {
    "duration": 59,
    "start_time": "2022-02-13T13:49:56.238Z"
   },
   {
    "duration": 54,
    "start_time": "2022-02-13T13:49:56.300Z"
   },
   {
    "duration": 48,
    "start_time": "2022-02-13T13:49:56.356Z"
   },
   {
    "duration": 29,
    "start_time": "2022-02-13T13:49:56.406Z"
   },
   {
    "duration": 6,
    "start_time": "2022-02-13T13:49:56.437Z"
   },
   {
    "duration": 12,
    "start_time": "2022-02-13T13:49:56.446Z"
   },
   {
    "duration": 6,
    "start_time": "2022-02-13T13:49:56.460Z"
   },
   {
    "duration": 4,
    "start_time": "2022-02-13T13:49:56.469Z"
   },
   {
    "duration": 5,
    "start_time": "2022-02-13T13:49:56.475Z"
   },
   {
    "duration": 53,
    "start_time": "2022-02-13T13:49:56.482Z"
   },
   {
    "duration": 9,
    "start_time": "2022-02-13T13:49:56.537Z"
   },
   {
    "duration": 23,
    "start_time": "2022-02-13T13:49:56.548Z"
   },
   {
    "duration": 182,
    "start_time": "2022-02-13T13:49:56.573Z"
   },
   {
    "duration": 5,
    "start_time": "2022-02-13T13:49:56.758Z"
   },
   {
    "duration": 27,
    "start_time": "2022-02-13T13:49:59.817Z"
   },
   {
    "duration": 1531,
    "start_time": "2022-02-13T13:51:03.068Z"
   },
   {
    "duration": 380,
    "start_time": "2022-02-13T13:51:04.601Z"
   },
   {
    "duration": 11,
    "start_time": "2022-02-13T13:51:04.984Z"
   },
   {
    "duration": 216,
    "start_time": "2022-02-13T13:51:04.997Z"
   },
   {
    "duration": 103,
    "start_time": "2022-02-13T13:51:05.216Z"
   },
   {
    "duration": 46,
    "start_time": "2022-02-13T13:51:05.322Z"
   },
   {
    "duration": 18,
    "start_time": "2022-02-13T13:51:05.371Z"
   },
   {
    "duration": 36,
    "start_time": "2022-02-13T13:51:05.392Z"
   },
   {
    "duration": 28,
    "start_time": "2022-02-13T13:51:05.432Z"
   },
   {
    "duration": 11,
    "start_time": "2022-02-13T13:51:05.463Z"
   },
   {
    "duration": 133,
    "start_time": "2022-02-13T13:51:05.477Z"
   },
   {
    "duration": 120,
    "start_time": "2022-02-13T13:51:05.613Z"
   },
   {
    "duration": 4,
    "start_time": "2022-02-13T13:51:05.736Z"
   },
   {
    "duration": 89,
    "start_time": "2022-02-13T13:51:05.743Z"
   },
   {
    "duration": 6,
    "start_time": "2022-02-13T13:51:05.835Z"
   },
   {
    "duration": 162,
    "start_time": "2022-02-13T13:51:05.844Z"
   },
   {
    "duration": 169,
    "start_time": "2022-02-13T13:51:06.008Z"
   },
   {
    "duration": 143,
    "start_time": "2022-02-13T13:51:06.180Z"
   },
   {
    "duration": 77,
    "start_time": "2022-02-13T13:51:06.326Z"
   },
   {
    "duration": 27,
    "start_time": "2022-02-13T13:51:06.406Z"
   },
   {
    "duration": 17,
    "start_time": "2022-02-13T13:51:06.436Z"
   },
   {
    "duration": 42,
    "start_time": "2022-02-13T13:51:06.455Z"
   },
   {
    "duration": 57,
    "start_time": "2022-02-13T13:51:06.501Z"
   },
   {
    "duration": 41,
    "start_time": "2022-02-13T13:51:06.561Z"
   },
   {
    "duration": 102,
    "start_time": "2022-02-13T13:51:06.605Z"
   },
   {
    "duration": 184,
    "start_time": "2022-02-13T13:51:06.710Z"
   },
   {
    "duration": 67,
    "start_time": "2022-02-13T13:51:06.901Z"
   },
   {
    "duration": 60,
    "start_time": "2022-02-13T13:51:06.971Z"
   },
   {
    "duration": 71,
    "start_time": "2022-02-13T13:51:07.034Z"
   },
   {
    "duration": 64,
    "start_time": "2022-02-13T13:51:07.108Z"
   },
   {
    "duration": 74,
    "start_time": "2022-02-13T13:51:07.175Z"
   },
   {
    "duration": 71,
    "start_time": "2022-02-13T13:51:07.252Z"
   },
   {
    "duration": 110,
    "start_time": "2022-02-13T13:51:07.326Z"
   },
   {
    "duration": 73,
    "start_time": "2022-02-13T13:51:07.438Z"
   },
   {
    "duration": 71,
    "start_time": "2022-02-13T13:51:07.514Z"
   },
   {
    "duration": 146,
    "start_time": "2022-02-13T13:51:07.588Z"
   },
   {
    "duration": 172,
    "start_time": "2022-02-13T13:51:07.737Z"
   },
   {
    "duration": 272,
    "start_time": "2022-02-13T13:51:07.912Z"
   },
   {
    "duration": 71,
    "start_time": "2022-02-13T13:51:08.187Z"
   },
   {
    "duration": 292,
    "start_time": "2022-02-13T13:51:08.261Z"
   },
   {
    "duration": 82,
    "start_time": "2022-02-13T13:51:08.556Z"
   },
   {
    "duration": 53,
    "start_time": "2022-02-13T13:51:08.641Z"
   },
   {
    "duration": 53,
    "start_time": "2022-02-13T13:51:08.697Z"
   },
   {
    "duration": 191,
    "start_time": "2022-02-13T13:51:08.754Z"
   },
   {
    "duration": 62,
    "start_time": "2022-02-13T13:51:08.948Z"
   },
   {
    "duration": 26,
    "start_time": "2022-02-13T13:51:09.013Z"
   },
   {
    "duration": 69,
    "start_time": "2022-02-13T13:51:09.041Z"
   },
   {
    "duration": 24,
    "start_time": "2022-02-13T13:51:09.113Z"
   },
   {
    "duration": 74,
    "start_time": "2022-02-13T13:51:09.140Z"
   },
   {
    "duration": 61,
    "start_time": "2022-02-13T13:51:09.217Z"
   },
   {
    "duration": 36,
    "start_time": "2022-02-13T13:51:09.281Z"
   },
   {
    "duration": 11,
    "start_time": "2022-02-13T13:51:09.320Z"
   },
   {
    "duration": 13,
    "start_time": "2022-02-13T13:51:09.334Z"
   },
   {
    "duration": 184,
    "start_time": "2022-02-13T13:51:09.349Z"
   },
   {
    "duration": 6,
    "start_time": "2022-02-13T13:51:09.536Z"
   },
   {
    "duration": 39,
    "start_time": "2022-02-13T13:51:09.544Z"
   },
   {
    "duration": 4,
    "start_time": "2022-02-13T13:51:09.585Z"
   },
   {
    "duration": 8,
    "start_time": "2022-02-13T13:51:09.592Z"
   },
   {
    "duration": 30,
    "start_time": "2022-02-13T13:51:09.603Z"
   },
   {
    "duration": 14,
    "start_time": "2022-02-13T13:51:09.636Z"
   },
   {
    "duration": 6,
    "start_time": "2022-02-13T13:51:09.652Z"
   },
   {
    "duration": 15,
    "start_time": "2022-02-13T13:51:09.660Z"
   },
   {
    "duration": 27,
    "start_time": "2022-02-13T13:51:09.678Z"
   },
   {
    "duration": 7,
    "start_time": "2022-02-13T13:51:09.734Z"
   },
   {
    "duration": 14,
    "start_time": "2022-02-13T13:51:09.744Z"
   },
   {
    "duration": 11,
    "start_time": "2022-02-13T13:51:09.761Z"
   },
   {
    "duration": 1735,
    "start_time": "2022-02-13T13:51:09.774Z"
   },
   {
    "duration": 1324,
    "start_time": "2022-02-13T13:51:11.512Z"
   },
   {
    "duration": 10,
    "start_time": "2022-02-13T13:51:12.839Z"
   },
   {
    "duration": 131,
    "start_time": "2022-02-13T13:51:12.851Z"
   },
   {
    "duration": 96,
    "start_time": "2022-02-13T13:51:12.985Z"
   },
   {
    "duration": 127,
    "start_time": "2022-02-13T13:51:13.085Z"
   },
   {
    "duration": 100,
    "start_time": "2022-02-13T13:51:13.215Z"
   },
   {
    "duration": 1536,
    "start_time": "2022-02-13T13:52:18.982Z"
   },
   {
    "duration": 386,
    "start_time": "2022-02-13T13:52:20.521Z"
   },
   {
    "duration": 10,
    "start_time": "2022-02-13T13:52:20.911Z"
   },
   {
    "duration": 96,
    "start_time": "2022-02-13T13:52:20.924Z"
   },
   {
    "duration": 57,
    "start_time": "2022-02-13T13:52:21.022Z"
   },
   {
    "duration": 27,
    "start_time": "2022-02-13T13:52:21.082Z"
   },
   {
    "duration": 12,
    "start_time": "2022-02-13T13:52:21.112Z"
   },
   {
    "duration": 48,
    "start_time": "2022-02-13T13:52:21.129Z"
   },
   {
    "duration": 30,
    "start_time": "2022-02-13T13:52:21.180Z"
   },
   {
    "duration": 11,
    "start_time": "2022-02-13T13:52:21.212Z"
   },
   {
    "duration": 141,
    "start_time": "2022-02-13T13:52:21.226Z"
   },
   {
    "duration": 109,
    "start_time": "2022-02-13T13:52:21.369Z"
   },
   {
    "duration": 5,
    "start_time": "2022-02-13T13:52:21.480Z"
   },
   {
    "duration": 67,
    "start_time": "2022-02-13T13:52:21.487Z"
   },
   {
    "duration": 5,
    "start_time": "2022-02-13T13:52:21.556Z"
   },
   {
    "duration": 53,
    "start_time": "2022-02-13T13:52:21.564Z"
   },
   {
    "duration": 61,
    "start_time": "2022-02-13T13:52:21.633Z"
   },
   {
    "duration": 94,
    "start_time": "2022-02-13T13:52:21.696Z"
   },
   {
    "duration": 21,
    "start_time": "2022-02-13T13:52:21.794Z"
   },
   {
    "duration": 29,
    "start_time": "2022-02-13T13:52:21.818Z"
   },
   {
    "duration": 16,
    "start_time": "2022-02-13T13:52:21.850Z"
   },
   {
    "duration": 22,
    "start_time": "2022-02-13T13:52:21.869Z"
   },
   {
    "duration": 55,
    "start_time": "2022-02-13T13:52:21.899Z"
   },
   {
    "duration": 28,
    "start_time": "2022-02-13T13:52:21.958Z"
   },
   {
    "duration": 58,
    "start_time": "2022-02-13T13:52:21.989Z"
   },
   {
    "duration": 50,
    "start_time": "2022-02-13T13:52:22.050Z"
   },
   {
    "duration": 30,
    "start_time": "2022-02-13T13:52:22.104Z"
   },
   {
    "duration": 9,
    "start_time": "2022-02-13T13:52:22.137Z"
   },
   {
    "duration": 41,
    "start_time": "2022-02-13T13:52:22.148Z"
   },
   {
    "duration": 6,
    "start_time": "2022-02-13T13:52:22.192Z"
   },
   {
    "duration": 35,
    "start_time": "2022-02-13T13:52:22.200Z"
   },
   {
    "duration": 13,
    "start_time": "2022-02-13T13:52:22.238Z"
   },
   {
    "duration": 7,
    "start_time": "2022-02-13T13:52:22.253Z"
   },
   {
    "duration": 17,
    "start_time": "2022-02-13T13:52:22.262Z"
   },
   {
    "duration": 9,
    "start_time": "2022-02-13T13:52:22.282Z"
   },
   {
    "duration": 47,
    "start_time": "2022-02-13T13:52:22.293Z"
   },
   {
    "duration": 6,
    "start_time": "2022-02-13T13:52:22.342Z"
   },
   {
    "duration": 164,
    "start_time": "2022-02-13T13:52:22.350Z"
   },
   {
    "duration": 46,
    "start_time": "2022-02-13T13:52:22.516Z"
   },
   {
    "duration": 261,
    "start_time": "2022-02-13T13:52:22.565Z"
   },
   {
    "duration": 79,
    "start_time": "2022-02-13T13:52:22.832Z"
   },
   {
    "duration": 84,
    "start_time": "2022-02-13T13:52:22.914Z"
   },
   {
    "duration": 121,
    "start_time": "2022-02-13T13:52:23.000Z"
   },
   {
    "duration": 131,
    "start_time": "2022-02-13T13:52:23.125Z"
   },
   {
    "duration": 38,
    "start_time": "2022-02-13T13:52:23.259Z"
   },
   {
    "duration": 81,
    "start_time": "2022-02-13T13:52:23.300Z"
   },
   {
    "duration": 46,
    "start_time": "2022-02-13T13:52:23.384Z"
   },
   {
    "duration": 7,
    "start_time": "2022-02-13T13:52:23.433Z"
   },
   {
    "duration": 11,
    "start_time": "2022-02-13T13:52:23.442Z"
   },
   {
    "duration": 9,
    "start_time": "2022-02-13T13:52:23.456Z"
   },
   {
    "duration": 8,
    "start_time": "2022-02-13T13:52:23.467Z"
   },
   {
    "duration": 8,
    "start_time": "2022-02-13T13:52:23.477Z"
   },
   {
    "duration": 7,
    "start_time": "2022-02-13T13:52:23.488Z"
   },
   {
    "duration": 188,
    "start_time": "2022-02-13T13:52:23.498Z"
   },
   {
    "duration": 6,
    "start_time": "2022-02-13T13:52:23.688Z"
   },
   {
    "duration": 37,
    "start_time": "2022-02-13T13:52:23.696Z"
   },
   {
    "duration": 4,
    "start_time": "2022-02-13T13:52:23.735Z"
   },
   {
    "duration": 10,
    "start_time": "2022-02-13T13:52:23.741Z"
   },
   {
    "duration": 6,
    "start_time": "2022-02-13T13:52:23.754Z"
   },
   {
    "duration": 13,
    "start_time": "2022-02-13T13:52:23.763Z"
   },
   {
    "duration": 6,
    "start_time": "2022-02-13T13:52:23.779Z"
   },
   {
    "duration": 5,
    "start_time": "2022-02-13T13:52:23.787Z"
   },
   {
    "duration": 22,
    "start_time": "2022-02-13T13:52:23.833Z"
   },
   {
    "duration": 11,
    "start_time": "2022-02-13T13:52:23.857Z"
   },
   {
    "duration": 9,
    "start_time": "2022-02-13T13:52:23.871Z"
   },
   {
    "duration": 7,
    "start_time": "2022-02-13T13:52:23.883Z"
   },
   {
    "duration": 942,
    "start_time": "2022-02-13T13:52:23.892Z"
   },
   {
    "duration": 959,
    "start_time": "2022-02-13T13:52:24.840Z"
   },
   {
    "duration": 7,
    "start_time": "2022-02-13T13:52:25.802Z"
   },
   {
    "duration": 23,
    "start_time": "2022-02-13T13:52:25.812Z"
   },
   {
    "duration": 19,
    "start_time": "2022-02-13T13:52:25.838Z"
   },
   {
    "duration": 19,
    "start_time": "2022-02-13T13:52:25.859Z"
   },
   {
    "duration": 9,
    "start_time": "2022-02-13T13:52:25.881Z"
   },
   {
    "duration": 8,
    "start_time": "2022-02-13T14:58:59.018Z"
   },
   {
    "duration": 7,
    "start_time": "2022-02-13T14:58:59.471Z"
   },
   {
    "duration": 12,
    "start_time": "2022-02-13T14:59:07.233Z"
   },
   {
    "duration": 10,
    "start_time": "2022-02-13T14:59:07.810Z"
   },
   {
    "duration": 7,
    "start_time": "2022-02-13T14:59:12.623Z"
   }
  ],
  "kernelspec": {
   "display_name": "Python 3",
   "language": "python",
   "name": "python3"
  },
  "language_info": {
   "codemirror_mode": {
    "name": "ipython",
    "version": 3
   },
   "file_extension": ".py",
   "mimetype": "text/x-python",
   "name": "python",
   "nbconvert_exporter": "python",
   "pygments_lexer": "ipython3",
   "version": "3.8.8"
  },
  "toc": {
   "base_numbering": 1,
   "nav_menu": {},
   "number_sections": true,
   "sideBar": true,
   "skip_h1_title": true,
   "title_cell": "Table of Contents",
   "title_sidebar": "Contents",
   "toc_cell": false,
   "toc_position": {},
   "toc_section_display": true,
   "toc_window_display": false
  }
 },
 "nbformat": 4,
 "nbformat_minor": 2
}
